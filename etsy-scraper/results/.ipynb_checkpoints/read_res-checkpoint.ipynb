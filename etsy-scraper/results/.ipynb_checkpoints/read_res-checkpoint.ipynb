{
 "cells": [
  {
   "cell_type": "markdown",
   "metadata": {},
   "source": [
    "### Etsy"
   ]
  },
  {
   "cell_type": "code",
   "execution_count": 1,
   "metadata": {},
   "outputs": [
    {
     "data": {
      "text/plain": [
       "'c:\\\\Users\\\\tianc\\\\scrapfly-scrapers\\\\etsy-scraper\\\\results'"
      ]
     },
     "execution_count": 1,
     "metadata": {},
     "output_type": "execute_result"
    }
   ],
   "source": [
    "from collections.abc import MutableMapping\n",
    "import json\n",
    "import csv\n",
    "import os \n",
    "import pandas as pd\n",
    "\n",
    "def _write_to_csv(csv_file, files):\n",
    "    headers = ['Name', 'URL', 'SKU', 'Description', 'Category', \n",
    "               'Brand','Rating Value', 'Review Count', 'Price', 'Price Currency', \n",
    "               'Availability', 'Material', 'Review', 'Rate', 'Reviewer', 'Review Date']\n",
    "    \n",
    "    # Write headers to the CSV file\n",
    "    for f in files:\n",
    "        with open(f, 'r', encoding = 'utf-8') as file:\n",
    "            f = json.load(file)\n",
    "            with open(csv_file, mode='a', newline='', encoding='utf-8') as file:\n",
    "                writer = csv.writer(file)\n",
    "                if not os.path.exists(csv_file) or os.stat(csv_file).st_size == 0:\n",
    "                    writer.writerow(headers)\n",
    "                for product in f:\n",
    "                    # For each product, we extract required data, handle missing values with `.get()` method\n",
    "                    url = product.get('url', '')\n",
    "                    name = product.get('name', '')\n",
    "                    sku = product.get('sku', '')\n",
    "                    description = product.get('description', '').replace('\\n', ' ')\n",
    "                    category = product.get('category', '')\n",
    "                    \n",
    "                    brand = product.get('brand', {}).get('name', '')\n",
    "                    \n",
    "                    rating_value = product.get('aggregateRating', {}).get('ratingValue', '')\n",
    "                    total_review_count = product.get('aggregateRating', {}).get('reviewCount', '')\n",
    "\n",
    "                    price = product.get('offers', {}).get('price', '')\n",
    "                    price_currency = product.get('offers', {}).get('priceCurrency', '')\n",
    "                    availability = product.get('offers', {}).get('availability', '')\n",
    "                    \n",
    "                    material = product.get('material', '')\n",
    "                    \n",
    "                    # Handling the first review data\n",
    "                    if 'review' in product and len(product['review']) > 0:\n",
    "                        for item in product['review']:\n",
    "                            review = item.get('reviewBody', '')\n",
    "                            rate = item.get('reviewRating', {}).get('ratingValue', '') \n",
    "                            reviewer = item.get('author', {}).get('name', '') \n",
    "                            review_date = item.get('datePublished', '')\n",
    "                            writer.writerow([name, url, sku, description, category, \n",
    "                            brand, rating_value, total_review_count, price, price_currency, \n",
    "                            availability, material, review, rate, reviewer, review_date])\n",
    "                    else:\n",
    "                        review = rate = reviewer = review_date = ''\n",
    "                        writer.writerow([name, url, sku, description, category, \n",
    "                        brand, rating_value, total_review_count, price, price_currency, \n",
    "                        availability, material, review, rate, reviewer, review_date])\n",
    "                    \n",
    "                    # Write the row for each product\n",
    "\n",
    "\n",
    "    print(f'Data has been successfully written to {csv_file}')\n",
    "\n",
    "%pwd"
   ]
  },
  {
   "cell_type": "code",
   "execution_count": 22,
   "metadata": {},
   "outputs": [
    {
     "name": "stdout",
     "output_type": "stream",
     "text": [
      "C:\\Users\\tianc\\scrapfly-scrapers\\etsy-scraper\\results\n"
     ]
    }
   ],
   "source": [
    "%cd ~/scrapfly-scrapers/etsy-scraper/results/\n",
    "\n",
    "# csv_file = 'etsy_reviews_.csv'\n",
    "\n",
    "# files = ['products_null.json']\n",
    "# _write_to_csv(csv_file, files)\n"
   ]
  },
  {
   "cell_type": "code",
   "execution_count": null,
   "metadata": {},
   "outputs": [],
   "source": [
    "file = pd.read_csv('etsy_reviews_.csv')\n",
    "file = file.dropna(subset = 'Review')\n",
    "# file.to_excel('etsy_r.xlsx')\n",
    "file"
   ]
  },
  {
   "cell_type": "markdown",
   "metadata": {
    "jp-MarkdownHeadingCollapsed": true
   },
   "source": [
    "##### sent with vader"
   ]
  },
  {
   "cell_type": "code",
   "execution_count": 25,
   "metadata": {},
   "outputs": [],
   "source": [
    "from vaderSentiment.vaderSentiment import SentimentIntensityAnalyzer\n",
    "file = file.dropna(subset = 'Review').drop_duplicates().reset_index(drop = True)\n",
    "\n",
    "analyzer = SentimentIntensityAnalyzer()\n",
    "vs = [analyzer.polarity_scores(sentence) for sentence in file['Review']]\n",
    "\n",
    "file[list(vs[0].keys())] = [[v[k] for k in vs[0].keys()] for v in vs]\n",
    "file['sentiment'] = file.compound.apply(lambda x: 'positive' if x >= 0.05 else ('negative' if x <= -0.05 else 'neutral'))\n",
    "\n",
    "file.to_csv('etsy_reviews_w_sentiment.csv', index = False)\n",
    "file.to_excel('etsy_reviews_w_sentiment.xlsx', index = False)"
   ]
  },
  {
   "cell_type": "code",
   "execution_count": 26,
   "metadata": {},
   "outputs": [
    {
     "data": {
      "image/png": "[encoded data removed]",
      "text/plain": [
       "<Figure size 640x480 with 1 Axes>"
      ]
     },
     "metadata": {},
     "output_type": "display_data"
    }
   ],
   "source": [
    "import matplotlib.pyplot as plt\n",
    "fig, ax = plt.subplots()\n",
    "\n",
    "file.sentiment.value_counts().plot(kind='pie', autopct='%1.1f%%', ax=ax,)\n",
    "ax.set_ylabel('')\n",
    "ax.set_title('Sentiment Distribution of Etsy Reviews on California Poppy Products', size = 10)\n",
    "fig.savefig('sentiment_distribution_etsy.png', dpi = 300)"
   ]
  },
  {
   "cell_type": "markdown",
   "metadata": {},
   "source": [
    "### TrustPilot"
   ]
  },
  {
   "cell_type": "code",
   "execution_count": 1,
   "metadata": {},
   "outputs": [],
   "source": [
    "from collections.abc import MutableMapping\n",
    "import json\n",
    "import csv\n",
    "import os \n",
    "import pandas as pd\n",
    "\n",
    "def _write_to_csv(csv_file, files):\n",
    "    headers = ['Company', 'Website', 'Id', 'Source',\n",
    "               'Trust Score (if from TrustPilot)', 'Review Count', 'Review Source','Title', 'Rate', 'Review', 'Likes', 'Reply', 'Reviewer', 'Review Date', 'Total Reviews by Reviewer', \n",
    "               'Language', 'Country Code']\n",
    "    \n",
    "    # Write headers to the CSV file\n",
    "    for i in range(0, len(files), 2):\n",
    "        company = files[i]\n",
    "        reviews = files[i+1]\n",
    "        with open(company, 'r', encoding = 'utf-8') as f1, open(reviews, 'r', encoding = 'utf-8') as f2:    \n",
    "            company = json.load(f1)[0]\n",
    "            reviews = json.load(f2)\n",
    "            with open(csv_file, mode='a', newline='', encoding='utf-8') as file:\n",
    "                writer = csv.writer(file)\n",
    "                if not os.path.exists(csv_file) or os.stat(csv_file).st_size == 0:\n",
    "                    writer.writerow(headers)\n",
    "                Company =  company.get('companyDetails', {}).get('displayName', '')\n",
    "                Website = company.get('companyDetails', {}).get('websiteUrl', '')\n",
    "                Id = company.get('companyDetails', {}).get('id', '')\n",
    "                Source = company.get('pageUrl', '')\n",
    "                Trust_Score = company.get('companyDetails', {}).get('trustScore', '')\n",
    "                Review_Count = company.get('companyDetails', {}).get('numberOfReviews', '')\n",
    "                for r in reviews:\n",
    "                    ReviewSource = r.get('labels', {}).get('verification', {}).get('reviewSourceName', '')\n",
    "                    Title = r.get('title', '')\n",
    "                    Rate = r.get('rating', '')\n",
    "                    Review = r.get('text', '')\n",
    "                    Likes = r.get('likes', '')\n",
    "                    Reply = r.get('reply', '')\n",
    "                    Reviewer = r.get('consumer', {}).get('displayName', '') or r.get('consumer', {}).get('id', '')\n",
    "                    ReviewDate = r.get('dates', {}).get('publishedDate', '')\n",
    "                    TotalReviewsbyReviewer = r.get('consumer', {}).get('numberOfReviews', '')\n",
    "                    Language = r.get('language', '')   \n",
    "                    CountryCode = r.get('consumer', {}).get('countryCode', '') \n",
    "                    writer.writerow([Company, Website, Id, Source, Trust_Score, Review_Count, ReviewSource, \n",
    "                                            Title, Rate, Review, Likes, Reply, Reviewer, ReviewDate, TotalReviewsbyReviewer, \n",
    "                                            Language, CountryCode])\n",
    "                    \n",
    "    print(f'Data has been successfully written to {csv_file}')\n"
   ]
  },
  {
   "cell_type": "code",
   "execution_count": 4,
   "metadata": {},
   "outputs": [
    {
     "name": "stdout",
     "output_type": "stream",
     "text": [
      "C:\\Users\\tianc\\scrapfly-scrapers\\trustpilot-scraper\\results\n",
      "Data has been successfully written to trustpilot_reviews.csv\n"
     ]
    }
   ],
   "source": [
    "%cd  ~/scrapfly-scrapers/trustpilot-scraper/results/\n",
    "\n",
    "csv_file = 'trustpilot_reviews.csv'\n",
    "files = ['companies.json','reviews.json',\n",
    "        'companies_0.json', 'reviews_0.json']\n",
    "\n",
    "\n",
    "_write_to_csv(csv_file, files)"
   ]
  },
  {
   "cell_type": "markdown",
   "metadata": {},
   "source": []
  },
  {
   "cell_type": "code",
   "execution_count": 5,
   "metadata": {},
   "outputs": [
    {
     "data": {
      "text/html": [
       "<div>\n",
       "<style scoped>\n",
       "    .dataframe tbody tr th:only-of-type {\n",
       "        vertical-align: middle;\n",
       "    }\n",
       "\n",
       "    .dataframe tbody tr th {\n",
       "        vertical-align: top;\n",
       "    }\n",
       "\n",
       "    .dataframe thead th {\n",
       "        text-align: right;\n",
       "    }\n",
       "</style>\n",
       "<table border=\"1\" class=\"dataframe\">\n",
       "  <thead>\n",
       "    <tr style=\"text-align: right;\">\n",
       "      <th></th>\n",
       "      <th>Company</th>\n",
       "      <th>Website</th>\n",
       "      <th>Id</th>\n",
       "      <th>Source</th>\n",
       "      <th>Trust Score (if from TrustPilot)</th>\n",
       "      <th>Review Count</th>\n",
       "      <th>Review Source</th>\n",
       "      <th>Title</th>\n",
       "      <th>Rate</th>\n",
       "      <th>Review</th>\n",
       "      <th>Likes</th>\n",
       "      <th>Reply</th>\n",
       "      <th>Reviewer</th>\n",
       "      <th>Review Date</th>\n",
       "      <th>Total Reviews by Reviewer</th>\n",
       "      <th>Language</th>\n",
       "      <th>Country Code</th>\n",
       "    </tr>\n",
       "  </thead>\n",
       "  <tbody>\n",
       "    <tr>\n",
       "      <th>0</th>\n",
       "      <td>Foster Farms</td>\n",
       "      <td>http://fosterfarms.com</td>\n",
       "      <td>64332c1c26e69b18a5e193bb</td>\n",
       "      <td>https://www.trustpilot.com/review/fosterfarms.com</td>\n",
       "      <td>3.7</td>\n",
       "      <td>2</td>\n",
       "      <td>Organic</td>\n",
       "      <td>I love your Foster Farms Jalapeno Cheese Corn ...</td>\n",
       "      <td>5</td>\n",
       "      <td>So cheesy, and so spicy! They make your mouth ...</td>\n",
       "      <td>0</td>\n",
       "      <td>NaN</td>\n",
       "      <td>Alec Heesacker</td>\n",
       "      <td>2024-04-05T23:55:51.000Z</td>\n",
       "      <td>48</td>\n",
       "      <td>en</td>\n",
       "      <td>US</td>\n",
       "    </tr>\n",
       "    <tr>\n",
       "      <th>1</th>\n",
       "      <td>Foster Farms</td>\n",
       "      <td>http://fosterfarms.com</td>\n",
       "      <td>64332c1c26e69b18a5e193bb</td>\n",
       "      <td>https://www.trustpilot.com/review/fosterfarms.com</td>\n",
       "      <td>3.7</td>\n",
       "      <td>2</td>\n",
       "      <td>Organic</td>\n",
       "      <td>Great chicken breasts</td>\n",
       "      <td>2</td>\n",
       "      <td>Great chicken breasts, great product created b...</td>\n",
       "      <td>0</td>\n",
       "      <td>NaN</td>\n",
       "      <td>Malvina</td>\n",
       "      <td>2023-04-09T23:30:04.000Z</td>\n",
       "      <td>7</td>\n",
       "      <td>en</td>\n",
       "      <td>US</td>\n",
       "    </tr>\n",
       "    <tr>\n",
       "      <th>2</th>\n",
       "      <td>Mountain Rose Herbs</td>\n",
       "      <td>http://www.mountainroseherbs.com</td>\n",
       "      <td>56e33ba20000ff00058a1440</td>\n",
       "      <td>https://www.trustpilot.com/review/www.mountain...</td>\n",
       "      <td>4.8</td>\n",
       "      <td>11085</td>\n",
       "      <td>BigCommerce</td>\n",
       "      <td>Top quality</td>\n",
       "      <td>5</td>\n",
       "      <td>Top quality, good service, accurate orders</td>\n",
       "      <td>0</td>\n",
       "      <td>NaN</td>\n",
       "      <td>customer</td>\n",
       "      <td>2024-09-26T17:11:53.000Z</td>\n",
       "      <td>4</td>\n",
       "      <td>en</td>\n",
       "      <td>US</td>\n",
       "    </tr>\n",
       "    <tr>\n",
       "      <th>3</th>\n",
       "      <td>Mountain Rose Herbs</td>\n",
       "      <td>http://www.mountainroseherbs.com</td>\n",
       "      <td>56e33ba20000ff00058a1440</td>\n",
       "      <td>https://www.trustpilot.com/review/www.mountain...</td>\n",
       "      <td>4.8</td>\n",
       "      <td>11085</td>\n",
       "      <td>BigCommerce</td>\n",
       "      <td>Great Products Everytime!</td>\n",
       "      <td>5</td>\n",
       "      <td>I'm never disappointed with what I received fr...</td>\n",
       "      <td>0</td>\n",
       "      <td>NaN</td>\n",
       "      <td>Star</td>\n",
       "      <td>2024-09-26T16:10:16.000Z</td>\n",
       "      <td>1</td>\n",
       "      <td>en</td>\n",
       "      <td>US</td>\n",
       "    </tr>\n",
       "    <tr>\n",
       "      <th>4</th>\n",
       "      <td>Mountain Rose Herbs</td>\n",
       "      <td>http://www.mountainroseherbs.com</td>\n",
       "      <td>56e33ba20000ff00058a1440</td>\n",
       "      <td>https://www.trustpilot.com/review/www.mountain...</td>\n",
       "      <td>4.8</td>\n",
       "      <td>11085</td>\n",
       "      <td>BigCommerce</td>\n",
       "      <td>It takes too long to ship my order</td>\n",
       "      <td>3</td>\n",
       "      <td>It takes too long to ship my order!  several d...</td>\n",
       "      <td>0</td>\n",
       "      <td>NaN</td>\n",
       "      <td>JILL BRASHEAR</td>\n",
       "      <td>2024-09-26T02:41:40.000Z</td>\n",
       "      <td>3</td>\n",
       "      <td>en</td>\n",
       "      <td>US</td>\n",
       "    </tr>\n",
       "  </tbody>\n",
       "</table>\n",
       "</div>"
      ],
      "text/plain": [
       "               Company                           Website  \\\n",
       "0         Foster Farms            http://fosterfarms.com   \n",
       "1         Foster Farms            http://fosterfarms.com   \n",
       "2  Mountain Rose Herbs  http://www.mountainroseherbs.com   \n",
       "3  Mountain Rose Herbs  http://www.mountainroseherbs.com   \n",
       "4  Mountain Rose Herbs  http://www.mountainroseherbs.com   \n",
       "\n",
       "                         Id  \\\n",
       "0  64332c1c26e69b18a5e193bb   \n",
       "1  64332c1c26e69b18a5e193bb   \n",
       "2  56e33ba20000ff00058a1440   \n",
       "3  56e33ba20000ff00058a1440   \n",
       "4  56e33ba20000ff00058a1440   \n",
       "\n",
       "                                              Source  \\\n",
       "0  https://www.trustpilot.com/review/fosterfarms.com   \n",
       "1  https://www.trustpilot.com/review/fosterfarms.com   \n",
       "2  https://www.trustpilot.com/review/www.mountain...   \n",
       "3  https://www.trustpilot.com/review/www.mountain...   \n",
       "4  https://www.trustpilot.com/review/www.mountain...   \n",
       "\n",
       "   Trust Score (if from TrustPilot)  Review Count Review Source  \\\n",
       "0                               3.7             2       Organic   \n",
       "1                               3.7             2       Organic   \n",
       "2                               4.8         11085   BigCommerce   \n",
       "3                               4.8         11085   BigCommerce   \n",
       "4                               4.8         11085   BigCommerce   \n",
       "\n",
       "                                               Title  Rate  \\\n",
       "0  I love your Foster Farms Jalapeno Cheese Corn ...     5   \n",
       "1                              Great chicken breasts     2   \n",
       "2                                        Top quality     5   \n",
       "3                          Great Products Everytime!     5   \n",
       "4                 It takes too long to ship my order     3   \n",
       "\n",
       "                                              Review  Likes Reply  \\\n",
       "0  So cheesy, and so spicy! They make your mouth ...      0   NaN   \n",
       "1  Great chicken breasts, great product created b...      0   NaN   \n",
       "2         Top quality, good service, accurate orders      0   NaN   \n",
       "3  I'm never disappointed with what I received fr...      0   NaN   \n",
       "4  It takes too long to ship my order!  several d...      0   NaN   \n",
       "\n",
       "         Reviewer               Review Date  Total Reviews by Reviewer  \\\n",
       "0  Alec Heesacker  2024-04-05T23:55:51.000Z                         48   \n",
       "1         Malvina  2023-04-09T23:30:04.000Z                          7   \n",
       "2        customer  2024-09-26T17:11:53.000Z                          4   \n",
       "3            Star  2024-09-26T16:10:16.000Z                          1   \n",
       "4   JILL BRASHEAR  2024-09-26T02:41:40.000Z                          3   \n",
       "\n",
       "  Language Country Code  \n",
       "0       en           US  \n",
       "1       en           US  \n",
       "2       en           US  \n",
       "3       en           US  \n",
       "4       en           US  "
      ]
     },
     "execution_count": 5,
     "metadata": {},
     "output_type": "execute_result"
    }
   ],
   "source": [
    "file = pd.read_csv('trustpilot_reviews_.csv')\n",
    "file.head()\n",
    "# file = file.dropna(subset = 'Review')\n",
    "# file.to_excel('trustpilot_reviews.xlsx')\n"
   ]
  },
  {
   "cell_type": "code",
   "execution_count": 16,
   "metadata": {},
   "outputs": [
    {
     "data": {
      "text/plain": [
       "['https://www.amazon.com/Pacific-Herbs-Menopause-Relief-Herb/product-reviews/',\n",
       " '/ref=cm_cr_dp_d_show_all_btm?ie=UTF8&reviewerType=all_reviews']"
      ]
     },
     "execution_count": 16,
     "metadata": {},
     "output_type": "execute_result"
    }
   ],
   "source": [
    "url = 'https://www.amazon.com/Pacific-Herbs-Menopause-Relief-Herb/product-reviews/B00CXXTIVE/ref=cm_cr_dp_d_show_all_btm?ie=UTF8&reviewerType=all_reviews'\n",
    "ASIN = url.split(\"/product-reviews/\")[1].split(\"/\")[0]\n",
    "url.split(f'{ASIN}')"
   ]
  },
  {
   "cell_type": "code",
   "execution_count": null,
   "metadata": {},
   "outputs": [],
   "source": [
    "total_pages = 10\n",
    "_reviews_per_page = 20\n",
    "for page in range(2, total_pages + 1):\n",
    "    url = f\"https://www.amazon.com/Pacific-Herbs-Menopause-Relief-Herb/product-reviews/{ASIN}/ref=cm_cr_getr_d_paging_btm_next_{page}?pageNumber={page}&pageSize={_reviews_per_page}\"\n",
    "    print(url)"
   ]
  },
  {
   "cell_type": "markdown",
   "metadata": {},
   "source": [
    "### Amazon"
   ]
  },
  {
   "cell_type": "code",
   "execution_count": 1,
   "metadata": {},
   "outputs": [],
   "source": [
    "from collections.abc import MutableMapping\n",
    "import json\n",
    "import csv\n",
    "import os\n",
    "import pandas as pd\n",
    "\n",
    "def _write_to_csv(csv_file, files):\n",
    "    # Updated headers to match the data order\n",
    "    # headers = [\n",
    "    #     'asin', 'brand', 'name', 'description', 'features', 'stars', \n",
    "    #     'rating_count', 'review_title', 'review_rating', \n",
    "    #     'review_location_and_date', 'verified', 'review_body', 'images'\n",
    "    # ]\n",
    "    headers = [\n",
    "        'asin', 'name', 'ingredients'\n",
    "    ]\n",
    "\n",
    "    # Write headers to the CSV file\n",
    "    for f in files:\n",
    "        with open(f, 'r', encoding='utf-8') as file:\n",
    "            f = json.load(file)\n",
    "            with open(csv_file, mode='a', newline='', encoding='utf-8') as file:\n",
    "                writer = csv.writer(file)\n",
    "                \n",
    "                # Write headers only if the file is empty\n",
    "                if not os.path.exists(csv_file) or os.stat(csv_file).st_size == 0:\n",
    "                    writer.writerow(headers)\n",
    "\n",
    "                for product in f:\n",
    "                    asin = product.get('asin', '')\n",
    "                    # brand = product.get('brand', '')\n",
    "                    name = product.get('name', '')\n",
    "                    # description = product.get('description', '')\n",
    "                    # features = ' | '.join(product.get('features', []))  # Join features into a single string\n",
    "                    # stars = product.get('stars', '')  # Extract stars\n",
    "                    # rating_count = product.get('rating_count', '')  # Extract rating count\n",
    "                    \n",
    "                    # # Handling the review information\n",
    "                    # review_title = product.get('title', '')\n",
    "                    # review_rating = product.get('rating', '')\n",
    "                    # review_date = product.get('location_and_date', '')\n",
    "                    # verified = product.get('verified', '')\n",
    "                    # review_text = product.get('text', '')\n",
    "\n",
    "                    # extract ingredients for quality analysis\n",
    "                    ingredients = product.get('ingredients', '') \n",
    "                    \n",
    "                    # Join image URLs into a single string\n",
    "                    # images = ' | '.join(product.get('images', []))\n",
    "\n",
    "                    # Write row to CSV, with order matching the headers|\n",
    "                    # writer.writerow([asin, brand, name, description, features, stars, \n",
    "                    #                  rating_count, review_title, review_rating,\n",
    "                    #                  review_date, verified, review_text, image|s])\n",
    "                    writer.writerow([asin, name, ingredients])\n",
    "\n",
    "    print(f'Data has been successfully written to {csv_file}')\n"
   ]
  },
  {
   "cell_type": "code",
   "execution_count": 2,
   "metadata": {},
   "outputs": [
    {
     "name": "stdout",
     "output_type": "stream",
     "text": [
      "[Errno 2] No such file or directory: '$SCRATCH/scrapfly-scrapers/amazon-scraper/results/'\n",
      "/scratch/tl2546/scrapfly-scrapers/etsy-scraper/results\n"
     ]
    }
   ],
   "source": [
    "%cd  ~/scrapfly-scrapers/amazon-scraper/results/\n",
    "\n",
    "# csv_file = 'Amazon_reviews_california_poppy_products.csv'\n",
    "\n",
    "# files = ['search_california_poppy_drink_products.json']\n",
    "# _write_to_csv(csv_file, files)\n"
   ]
  },
  {
   "cell_type": "code",
   "execution_count": null,
   "metadata": {},
   "outputs": [],
   "source": [
    "file = pd.read_csv('Amazon_reviews_w_sentiment.csv')\n",
    "# file = file.drop_duplicates(subset = 'asin').reset_index(drop = True)\n",
    "file.head()\n",
    "# file = file[file.brand == 'Pacific Herbs']\n",
    "# file.to_excel('Amazon_reviews.xlsx', index_label='asin')\n",
    "\n"
   ]
  },
  {
   "cell_type": "markdown",
   "metadata": {},
   "source": [
    "#### sent with vader"
   ]
  },
  {
   "cell_type": "code",
   "execution_count": 5,
   "metadata": {},
   "outputs": [],
   "source": [
    "from vaderSentiment.vaderSentiment import SentimentIntensityAnalyzer\n",
    "file = file.dropna(subset = 'review_body').drop_duplicates().reset_index(drop = True)\n",
    "\n",
    "analyzer = SentimentIntensityAnalyzer()\n",
    "vs = [analyzer.polarity_scores(sentence) for sentence in file['review_body']]\n",
    "\n",
    "file[list(vs[0].keys())] = [[v[k] for k in vs[0].keys()] for v in vs]\n",
    "file['sentiment'] = file.compound.apply(lambda x: 'positive' if x >= 0.05 else ('negative' if x <= -0.05 else 'neutral'))\n",
    "\n",
    "file.to_csv('Amazon_reviews_w_sentiment.csv', mode='a', index=False, header=False)\n",
    "# file.to_excel('Amazon_reviews_w_sentiment.xlsx', index = False)"
   ]
  },
  {
   "cell_type": "code",
   "execution_count": 3,
   "metadata": {},
   "outputs": [],
   "source": [
    "file = pd.read_csv('Amazon_reviews_w_sentiment.csv')\n",
    "file = file.drop_duplicates().reset_index(drop = True)\n",
    "file.to_csv('Amazon_reviews_w_sentiment.csv', index = False)\n",
    "file.to_excel('Amazon_reviews_w_sentiment.xlsx', index = False)"
   ]
  },
  {
   "cell_type": "code",
   "execution_count": 20,
   "metadata": {},
   "outputs": [
    {
     "data": {
      "image/png": "[encoded data removed]",
      "text/plain": [
       "<Figure size 640x480 with 1 Axes>"
      ]
     },
     "metadata": {},
     "output_type": "display_data"
    }
   ],
   "source": [
    "import matplotlib.pyplot as plt\n",
    "fig, ax = plt.subplots()\n",
    "\n",
    "file.sentiment.value_counts().plot(kind='pie', autopct='%1.1f%%', ax=ax,)\n",
    "ax.set_ylabel('')\n",
    "ax.set_title('Sentiment Distribution of Amazon Reviews on California Poppy Products', size = 10)\n",
    "fig.savefig('sentiment_distribution.png', dpi = 300)"
   ]
  },
  {
   "cell_type": "markdown",
   "metadata": {},
   "source": [
    "#### sent w/ Transformers"
   ]
  },
  {
   "cell_type": "code",
   "execution_count": 3,
   "metadata": {},
   "outputs": [],
   "source": [
    "from transformers import AutoTokenizer\n",
    "from transformers import RobertaTokenizer\n",
    "tokenizer = RobertaTokenizer.from_pretrained('roberta-base')\n",
    "from transformers import AutoModelForSequenceClassification\n",
    "from datasets import Dataset, load_dataset\n",
    "import torch\n",
    "import torch.nn as nn\n",
    "from torch.nn import functional as F\n",
    "from torch.utils.data import DataLoader\n",
    "from tqdm import tqdm\n",
    "import evaluate\n",
    "import numpy as np\n",
    "import matplotlib.pyplot as plt\n",
    "import seaborn as sns\n",
    "import os \n",
    "import text_cleaning\n",
    "import random\n",
    "import pandas as pd\n",
    "from collections import Counter\n",
    "import pickle\n",
    "import joblib\n",
    "import csv\n",
    "import json\n",
    "from copy import deepcopy \n",
    "import warnings\n",
    "import sklearn.exceptions\n",
    "warnings.filterwarnings('ignore', category=DeprecationWarning)\n",
    "warnings.filterwarnings('ignore', category=UserWarning)\n",
    "warnings.filterwarnings('ignore', category=FutureWarning)\n",
    "warnings.filterwarnings(\"ignore\", category=sklearn.exceptions.UndefinedMetricWarning)\n",
    "\n",
    "violet = '#702b9d'\n",
    "RANDOM_SEED = 3001\n",
    "batch_size = 8\n",
    "device = torch.device(\"cuda:0\" if torch.cuda.is_available() else \"cpu\")\n",
    "\n",
    "def tokenize_function(examples):\n",
    "    tok = tokenizer(examples[\"text\"], padding='max_length', truncation=True, \n",
    "                    max_length = 512,\n",
    "                    return_tensors=\"pt\")\n",
    "    examples['text'] = tok['input_ids']\n",
    "    return examples \n",
    "\n",
    "tokenizer = RobertaTokenizer.from_pretrained('roberta-base')"
   ]
  },
  {
   "cell_type": "code",
   "execution_count": 4,
   "metadata": {},
   "outputs": [
    {
     "name": "stdout",
     "output_type": "stream",
     "text": [
      "/scratch/tl2546/scrapfly-scrapers/amazon-scraper\n"
     ]
    }
   ],
   "source": [
    "%cd ../../amazon-scraper/"
   ]
  },
  {
   "cell_type": "code",
   "execution_count": 5,
   "metadata": {},
   "outputs": [
    {
     "data": {
      "application/vnd.jupyter.widget-view+json": {
       "model_id": "c885a062a29c42638059e2db4535b6dc",
       "version_major": 2,
       "version_minor": 0
      },
      "text/plain": [
       "Map:   0%|          | 0/1839 [00:00<?, ? examples/s]"
      ]
     },
     "metadata": {},
     "output_type": "display_data"
    }
   ],
   "source": [
    "## preprocess, tokenize, loader\n",
    "amazon_reviews = Dataset.from_csv('results/Amazon_reviews_w_sentiment.csv')\n",
    "\n",
    "amazon_reviews_ = amazon_reviews.map(lambda x: text_cleaning.text_cleaning(x, map_label = False))\n",
    "amazon_reviews_ = amazon_reviews_.map(tokenize_function, batched = True, load_from_cache_file = False)\n",
    "amazon_reviews_.set_format('torch')"
   ]
  },
  {
   "cell_type": "code",
   "execution_count": 6,
   "metadata": {},
   "outputs": [],
   "source": [
    "def do_infer(infer_data, output_dir):\n",
    "\n",
    "    model = AutoModelForSequenceClassification.from_pretrained(\"cardiffnlp/twitter-roberta-base-sentiment-latest\")      \n",
    "    model.to(device)\n",
    "    model.eval()\n",
    "    \n",
    "    headers = list(amazon_reviews_.features)[:-1] + ['pred']\n",
    "    \n",
    "    output_file = output_dir + '/preds.csv'    \n",
    "    with torch.no_grad():\n",
    "        with open(output_file, mode='a', newline='', encoding='utf-8') as file:\n",
    "                writer = csv.writer(file)\n",
    "                writer.writerow(headers)\n",
    "                for i in tqdm(range(0, len(infer_data), batch_size)):\n",
    "                    batch = infer_data[i:i + batch_size]\n",
    "                    input = torch.tensor(batch[\"text\"]).to(device)\n",
    "                    \n",
    "                    outputs = model(input)\n",
    "                    logits = outputs.logits\n",
    "                    predictions = torch.argmax(logits, dim=-1)\n",
    "                    \n",
    "                    for j in range(predictions.shape[0]):\n",
    "                        row = [batch[h][j] for h in headers[:-1]] + [['negative', 'neutral', 'positive'][predictions[j]]]\n",
    "                        writer.writerow(row)\n",
    "    print('inference completed ...')\n",
    "    return "
   ]
  },
  {
   "cell_type": "code",
   "execution_count": 7,
   "metadata": {},
   "outputs": [
    {
     "name": "stderr",
     "output_type": "stream",
     "text": [
      "Some weights of the model checkpoint at cardiffnlp/twitter-roberta-base-sentiment-latest were not used when initializing RobertaForSequenceClassification: ['roberta.pooler.dense.bias', 'roberta.pooler.dense.weight']\n",
      "- This IS expected if you are initializing RobertaForSequenceClassification from the checkpoint of a model trained on another task or with another architecture (e.g. initializing a BertForSequenceClassification model from a BertForPreTraining model).\n",
      "- This IS NOT expected if you are initializing RobertaForSequenceClassification from the checkpoint of a model that you expect to be exactly identical (initializing a BertForSequenceClassification model from a BertForSequenceClassification model).\n",
      "  0%|          | 0/230 [00:00<?, ?it/s]We strongly recommend passing in an `attention_mask` since your input_ids may be padded. See https://huggingface.co/docs/transformers/troubleshooting#incorrect-output-when-padding-tokens-arent-masked.\n",
      "100%|██████████| 230/230 [00:21<00:00, 10.62it/s]"
     ]
    },
    {
     "name": "stdout",
     "output_type": "stream",
     "text": [
      "inference completed ...\n"
     ]
    },
    {
     "name": "stderr",
     "output_type": "stream",
     "text": [
      "\n"
     ]
    }
   ],
   "source": [
    "do_infer(amazon_reviews_, os.getcwd())"
   ]
  },
  {
   "cell_type": "markdown",
   "metadata": {},
   "source": [
    "##### effective within 24 hrs"
   ]
  },
  {
   "cell_type": "code",
   "execution_count": 4,
   "metadata": {},
   "outputs": [],
   "source": [
    "import re\n",
    "effectiveness_pattern = r'\\b(?:immediat\\w*|fast\\w*|\\b\\w*hour\\w*\\b|same day|instant\\w*|overnight|rapid\\w*|quick\\w*|prompt\\w*|within\\w*\\s+\\d+\\s*hour\\w*|same\\s+night|one\\s+day|short\\w*\\s+time|quick\\s+relief|in\\s+no\\s+time|in\\s+a\\s+few\\s+hours|next\\s+day|first\\s+use|immediat\\w+\\s+result\\w*|effective\\s+right\\s+away|almost\\s+instantly)\\b'\n",
    "\n",
    "def extract_effectiveness_keywords(text):\n",
    "    if pd.isna(text):\n",
    "        return []\n",
    "    return re.findall(effectiveness_pattern, text, flags=re.IGNORECASE)\n",
    "\n",
    "\n",
    "file['effectiveness_keywords_in_review'] = (file.review_title.apply(extract_effectiveness_keywords) +\n",
    "                                             file.review_body.apply(extract_effectiveness_keywords))\n",
    "file['effectiveness_mentioned'] = file.effectiveness_keywords_in_review.apply(lambda x: len(x) > 0)"
   ]
  },
  {
   "cell_type": "code",
   "execution_count": 5,
   "metadata": {},
   "outputs": [
    {
     "data": {
      "application/vnd.plotly.v1+json": {
       "config": {
        "plotlyServerURL": "https://plotly.com"
       },
       "data": [
        {
         "alignmentgroup": "True",
         "bingroup": "x",
         "histnorm": "probability",
         "hovertemplate": "effectiveness_mentioned=%{x}<br>probability=%{y}<extra></extra>",
         "legendgroup": "",
         "marker": {
          "color": "#636efa",
          "pattern": {
           "shape": ""
          }
         },
         "name": "",
         "offsetgroup": "",
         "orientation": "v",
         "showlegend": false,
         "type": "histogram",
         "x": [
          0,
          0.2,
          0.2,
          0,
          0.4,
          0.1,
          0,
          0.2,
          0.1,
          0.3,
          0.1,
          0.3,
          0.2,
          0.3,
          0.1,
          0.6666666666666666,
          0.1,
          0.2,
          0,
          0.4,
          0,
          0.2,
          0.2,
          0.1,
          0.1,
          0,
          0.1,
          0.2,
          0.2,
          0.3,
          0.2,
          0.4,
          0.3,
          0.2,
          0,
          0.3,
          0,
          0.1,
          0.375,
          0.1,
          0.2,
          0.1,
          0.2,
          0,
          0.2,
          0,
          0.3,
          0.1,
          0.2,
          0,
          0.1,
          0,
          0,
          0,
          0,
          0,
          0,
          0.25,
          0.1,
          0.1111111111111111,
          0,
          0.2,
          0,
          0,
          0,
          0,
          0.1,
          0.2,
          0.1,
          0.1,
          0,
          0.42857142857142855,
          0,
          0.5,
          0,
          0,
          0.1,
          0,
          0,
          0,
          0.1,
          0,
          0,
          0.1,
          0,
          0.1,
          0,
          0.1,
          0.1,
          0,
          1,
          0,
          0,
          0,
          0.2,
          0.1,
          0.1,
          0.1,
          0.1111111111111111,
          0.2,
          0,
          1,
          0.2,
          0,
          0.3,
          0.3333333333333333,
          0,
          0,
          0.2,
          0.2,
          0.2,
          0.2,
          0,
          0,
          0,
          0,
          0.2,
          0.2,
          0.1,
          0.3,
          0.6,
          0.1,
          0.2,
          0,
          0.1,
          0.1,
          0,
          0,
          0,
          0.1111111111111111,
          0,
          0,
          0,
          0.25,
          0.1,
          0,
          0,
          0,
          0.2,
          0.2,
          0,
          0.2,
          0,
          0.1,
          0.3,
          0.3,
          0,
          0.1,
          0,
          0.2,
          0,
          0.16666666666666666,
          0.1,
          0.5555555555555556,
          0.2,
          0.2,
          0.1,
          0.1,
          0.1,
          0.1,
          0,
          0,
          0.1,
          0.2,
          0.3,
          0.1,
          0,
          0.1,
          0.1,
          0,
          0.1,
          0,
          0.125,
          0.1,
          0,
          0,
          0,
          0.1,
          0,
          0.1,
          0,
          0,
          0,
          0,
          0,
          0.1,
          0.1,
          0.1,
          0,
          0.3,
          0,
          0.3,
          0.6,
          0.3,
          0.1,
          0.1,
          0.2,
          0.1,
          0.1,
          0.1,
          0,
          0.2,
          0,
          0.1,
          0.5,
          0,
          0.2,
          0
         ],
         "xaxis": "x",
         "yaxis": "y"
        }
       ],
       "layout": {
        "bargap": 0.1,
        "barmode": "relative",
        "height": 400,
        "legend": {
         "tracegroupgap": 0
        },
        "margin": {
         "t": 60
        },
        "template": {
         "data": {
          "bar": [
           {
            "error_x": {
             "color": "#2a3f5f"
            },
            "error_y": {
             "color": "#2a3f5f"
            },
            "marker": {
             "line": {
              "color": "#E5ECF6",
              "width": 0.5
             },
             "pattern": {
              "fillmode": "overlay",
              "size": 10,
              "solidity": 0.2
             }
            },
            "type": "bar"
           }
          ],
          "barpolar": [
           {
            "marker": {
             "line": {
              "color": "#E5ECF6",
              "width": 0.5
             },
             "pattern": {
              "fillmode": "overlay",
              "size": 10,
              "solidity": 0.2
             }
            },
            "type": "barpolar"
           }
          ],
          "carpet": [
           {
            "aaxis": {
             "endlinecolor": "#2a3f5f",
             "gridcolor": "white",
             "linecolor": "white",
             "minorgridcolor": "white",
             "startlinecolor": "#2a3f5f"
            },
            "baxis": {
             "endlinecolor": "#2a3f5f",
             "gridcolor": "white",
             "linecolor": "white",
             "minorgridcolor": "white",
             "startlinecolor": "#2a3f5f"
            },
            "type": "carpet"
           }
          ],
          "choropleth": [
           {
            "colorbar": {
             "outlinewidth": 0,
             "ticks": ""
            },
            "type": "choropleth"
           }
          ],
          "contour": [
           {
            "colorbar": {
             "outlinewidth": 0,
             "ticks": ""
            },
            "colorscale": [
             [
              0,
              "#0d0887"
             ],
             [
              0.1111111111111111,
              "#46039f"
             ],
             [
              0.2222222222222222,
              "#7201a8"
             ],
             [
              0.3333333333333333,
              "#9c179e"
             ],
             [
              0.4444444444444444,
              "#bd3786"
             ],
             [
              0.5555555555555556,
              "#d8576b"
             ],
             [
              0.6666666666666666,
              "#ed7953"
             ],
             [
              0.7777777777777778,
              "#fb9f3a"
             ],
             [
              0.8888888888888888,
              "#fdca26"
             ],
             [
              1,
              "#f0f921"
             ]
            ],
            "type": "contour"
           }
          ],
          "contourcarpet": [
           {
            "colorbar": {
             "outlinewidth": 0,
             "ticks": ""
            },
            "type": "contourcarpet"
           }
          ],
          "heatmap": [
           {
            "colorbar": {
             "outlinewidth": 0,
             "ticks": ""
            },
            "colorscale": [
             [
              0,
              "#0d0887"
             ],
             [
              0.1111111111111111,
              "#46039f"
             ],
             [
              0.2222222222222222,
              "#7201a8"
             ],
             [
              0.3333333333333333,
              "#9c179e"
             ],
             [
              0.4444444444444444,
              "#bd3786"
             ],
             [
              0.5555555555555556,
              "#d8576b"
             ],
             [
              0.6666666666666666,
              "#ed7953"
             ],
             [
              0.7777777777777778,
              "#fb9f3a"
             ],
             [
              0.8888888888888888,
              "#fdca26"
             ],
             [
              1,
              "#f0f921"
             ]
            ],
            "type": "heatmap"
           }
          ],
          "heatmapgl": [
           {
            "colorbar": {
             "outlinewidth": 0,
             "ticks": ""
            },
            "colorscale": [
             [
              0,
              "#0d0887"
             ],
             [
              0.1111111111111111,
              "#46039f"
             ],
             [
              0.2222222222222222,
              "#7201a8"
             ],
             [
              0.3333333333333333,
              "#9c179e"
             ],
             [
              0.4444444444444444,
              "#bd3786"
             ],
             [
              0.5555555555555556,
              "#d8576b"
             ],
             [
              0.6666666666666666,
              "#ed7953"
             ],
             [
              0.7777777777777778,
              "#fb9f3a"
             ],
             [
              0.8888888888888888,
              "#fdca26"
             ],
             [
              1,
              "#f0f921"
             ]
            ],
            "type": "heatmapgl"
           }
          ],
          "histogram": [
           {
            "marker": {
             "pattern": {
              "fillmode": "overlay",
              "size": 10,
              "solidity": 0.2
             }
            },
            "type": "histogram"
           }
          ],
          "histogram2d": [
           {
            "colorbar": {
             "outlinewidth": 0,
             "ticks": ""
            },
            "colorscale": [
             [
              0,
              "#0d0887"
             ],
             [
              0.1111111111111111,
              "#46039f"
             ],
             [
              0.2222222222222222,
              "#7201a8"
             ],
             [
              0.3333333333333333,
              "#9c179e"
             ],
             [
              0.4444444444444444,
              "#bd3786"
             ],
             [
              0.5555555555555556,
              "#d8576b"
             ],
             [
              0.6666666666666666,
              "#ed7953"
             ],
             [
              0.7777777777777778,
              "#fb9f3a"
             ],
             [
              0.8888888888888888,
              "#fdca26"
             ],
             [
              1,
              "#f0f921"
             ]
            ],
            "type": "histogram2d"
           }
          ],
          "histogram2dcontour": [
           {
            "colorbar": {
             "outlinewidth": 0,
             "ticks": ""
            },
            "colorscale": [
             [
              0,
              "#0d0887"
             ],
             [
              0.1111111111111111,
              "#46039f"
             ],
             [
              0.2222222222222222,
              "#7201a8"
             ],
             [
              0.3333333333333333,
              "#9c179e"
             ],
             [
              0.4444444444444444,
              "#bd3786"
             ],
             [
              0.5555555555555556,
              "#d8576b"
             ],
             [
              0.6666666666666666,
              "#ed7953"
             ],
             [
              0.7777777777777778,
              "#fb9f3a"
             ],
             [
              0.8888888888888888,
              "#fdca26"
             ],
             [
              1,
              "#f0f921"
             ]
            ],
            "type": "histogram2dcontour"
           }
          ],
          "mesh3d": [
           {
            "colorbar": {
             "outlinewidth": 0,
             "ticks": ""
            },
            "type": "mesh3d"
           }
          ],
          "parcoords": [
           {
            "line": {
             "colorbar": {
              "outlinewidth": 0,
              "ticks": ""
             }
            },
            "type": "parcoords"
           }
          ],
          "pie": [
           {
            "automargin": true,
            "type": "pie"
           }
          ],
          "scatter": [
           {
            "fillpattern": {
             "fillmode": "overlay",
             "size": 10,
             "solidity": 0.2
            },
            "type": "scatter"
           }
          ],
          "scatter3d": [
           {
            "line": {
             "colorbar": {
              "outlinewidth": 0,
              "ticks": ""
             }
            },
            "marker": {
             "colorbar": {
              "outlinewidth": 0,
              "ticks": ""
             }
            },
            "type": "scatter3d"
           }
          ],
          "scattercarpet": [
           {
            "marker": {
             "colorbar": {
              "outlinewidth": 0,
              "ticks": ""
             }
            },
            "type": "scattercarpet"
           }
          ],
          "scattergeo": [
           {
            "marker": {
             "colorbar": {
              "outlinewidth": 0,
              "ticks": ""
             }
            },
            "type": "scattergeo"
           }
          ],
          "scattergl": [
           {
            "marker": {
             "colorbar": {
              "outlinewidth": 0,
              "ticks": ""
             }
            },
            "type": "scattergl"
           }
          ],
          "scattermapbox": [
           {
            "marker": {
             "colorbar": {
              "outlinewidth": 0,
              "ticks": ""
             }
            },
            "type": "scattermapbox"
           }
          ],
          "scatterpolar": [
           {
            "marker": {
             "colorbar": {
              "outlinewidth": 0,
              "ticks": ""
             }
            },
            "type": "scatterpolar"
           }
          ],
          "scatterpolargl": [
           {
            "marker": {
             "colorbar": {
              "outlinewidth": 0,
              "ticks": ""
             }
            },
            "type": "scatterpolargl"
           }
          ],
          "scatterternary": [
           {
            "marker": {
             "colorbar": {
              "outlinewidth": 0,
              "ticks": ""
             }
            },
            "type": "scatterternary"
           }
          ],
          "surface": [
           {
            "colorbar": {
             "outlinewidth": 0,
             "ticks": ""
            },
            "colorscale": [
             [
              0,
              "#0d0887"
             ],
             [
              0.1111111111111111,
              "#46039f"
             ],
             [
              0.2222222222222222,
              "#7201a8"
             ],
             [
              0.3333333333333333,
              "#9c179e"
             ],
             [
              0.4444444444444444,
              "#bd3786"
             ],
             [
              0.5555555555555556,
              "#d8576b"
             ],
             [
              0.6666666666666666,
              "#ed7953"
             ],
             [
              0.7777777777777778,
              "#fb9f3a"
             ],
             [
              0.8888888888888888,
              "#fdca26"
             ],
             [
              1,
              "#f0f921"
             ]
            ],
            "type": "surface"
           }
          ],
          "table": [
           {
            "cells": {
             "fill": {
              "color": "#EBF0F8"
             },
             "line": {
              "color": "white"
             }
            },
            "header": {
             "fill": {
              "color": "#C8D4E3"
             },
             "line": {
              "color": "white"
             }
            },
            "type": "table"
           }
          ]
         },
         "layout": {
          "annotationdefaults": {
           "arrowcolor": "#2a3f5f",
           "arrowhead": 0,
           "arrowwidth": 1
          },
          "autotypenumbers": "strict",
          "coloraxis": {
           "colorbar": {
            "outlinewidth": 0,
            "ticks": ""
           }
          },
          "colorscale": {
           "diverging": [
            [
             0,
             "#8e0152"
            ],
            [
             0.1,
             "#c51b7d"
            ],
            [
             0.2,
             "#de77ae"
            ],
            [
             0.3,
             "#f1b6da"
            ],
            [
             0.4,
             "#fde0ef"
            ],
            [
             0.5,
             "#f7f7f7"
            ],
            [
             0.6,
             "#e6f5d0"
            ],
            [
             0.7,
             "#b8e186"
            ],
            [
             0.8,
             "#7fbc41"
            ],
            [
             0.9,
             "#4d9221"
            ],
            [
             1,
             "#276419"
            ]
           ],
           "sequential": [
            [
             0,
             "#0d0887"
            ],
            [
             0.1111111111111111,
             "#46039f"
            ],
            [
             0.2222222222222222,
             "#7201a8"
            ],
            [
             0.3333333333333333,
             "#9c179e"
            ],
            [
             0.4444444444444444,
             "#bd3786"
            ],
            [
             0.5555555555555556,
             "#d8576b"
            ],
            [
             0.6666666666666666,
             "#ed7953"
            ],
            [
             0.7777777777777778,
             "#fb9f3a"
            ],
            [
             0.8888888888888888,
             "#fdca26"
            ],
            [
             1,
             "#f0f921"
            ]
           ],
           "sequentialminus": [
            [
             0,
             "#0d0887"
            ],
            [
             0.1111111111111111,
             "#46039f"
            ],
            [
             0.2222222222222222,
             "#7201a8"
            ],
            [
             0.3333333333333333,
             "#9c179e"
            ],
            [
             0.4444444444444444,
             "#bd3786"
            ],
            [
             0.5555555555555556,
             "#d8576b"
            ],
            [
             0.6666666666666666,
             "#ed7953"
            ],
            [
             0.7777777777777778,
             "#fb9f3a"
            ],
            [
             0.8888888888888888,
             "#fdca26"
            ],
            [
             1,
             "#f0f921"
            ]
           ]
          },
          "colorway": [
           "#636efa",
           "#EF553B",
           "#00cc96",
           "#ab63fa",
           "#FFA15A",
           "#19d3f3",
           "#FF6692",
           "#B6E880",
           "#FF97FF",
           "#FECB52"
          ],
          "font": {
           "color": "#2a3f5f"
          },
          "geo": {
           "bgcolor": "white",
           "lakecolor": "white",
           "landcolor": "#E5ECF6",
           "showlakes": true,
           "showland": true,
           "subunitcolor": "white"
          },
          "hoverlabel": {
           "align": "left"
          },
          "hovermode": "closest",
          "mapbox": {
           "style": "light"
          },
          "paper_bgcolor": "white",
          "plot_bgcolor": "#E5ECF6",
          "polar": {
           "angularaxis": {
            "gridcolor": "white",
            "linecolor": "white",
            "ticks": ""
           },
           "bgcolor": "#E5ECF6",
           "radialaxis": {
            "gridcolor": "white",
            "linecolor": "white",
            "ticks": ""
           }
          },
          "scene": {
           "xaxis": {
            "backgroundcolor": "#E5ECF6",
            "gridcolor": "white",
            "gridwidth": 2,
            "linecolor": "white",
            "showbackground": true,
            "ticks": "",
            "zerolinecolor": "white"
           },
           "yaxis": {
            "backgroundcolor": "#E5ECF6",
            "gridcolor": "white",
            "gridwidth": 2,
            "linecolor": "white",
            "showbackground": true,
            "ticks": "",
            "zerolinecolor": "white"
           },
           "zaxis": {
            "backgroundcolor": "#E5ECF6",
            "gridcolor": "white",
            "gridwidth": 2,
            "linecolor": "white",
            "showbackground": true,
            "ticks": "",
            "zerolinecolor": "white"
           }
          },
          "shapedefaults": {
           "line": {
            "color": "#2a3f5f"
           }
          },
          "ternary": {
           "aaxis": {
            "gridcolor": "white",
            "linecolor": "white",
            "ticks": ""
           },
           "baxis": {
            "gridcolor": "white",
            "linecolor": "white",
            "ticks": ""
           },
           "bgcolor": "#E5ECF6",
           "caxis": {
            "gridcolor": "white",
            "linecolor": "white",
            "ticks": ""
           }
          },
          "title": {
           "x": 0.05
          },
          "xaxis": {
           "automargin": true,
           "gridcolor": "white",
           "linecolor": "white",
           "ticks": "",
           "title": {
            "standoff": 15
           },
           "zerolinecolor": "white",
           "zerolinewidth": 2
          },
          "yaxis": {
           "automargin": true,
           "gridcolor": "white",
           "linecolor": "white",
           "ticks": "",
           "title": {
            "standoff": 15
           },
           "zerolinecolor": "white",
           "zerolinewidth": 2
          }
         }
        },
        "title": {
         "text": "Effectiveness Mentioned in Amazon Reviews",
         "x": 0.5
        },
        "width": 800,
        "xaxis": {
         "anchor": "y",
         "domain": [
          0,
          1
         ],
         "title": {
          "text": "Effectiveness Mentioned"
         }
        },
        "yaxis": {
         "anchor": "x",
         "domain": [
          0,
          1
         ],
         "title": {
          "text": "probability"
         }
        }
       }
      }
     },
     "metadata": {},
     "output_type": "display_data"
    }
   ],
   "source": [
    "import plotly.express as px\n",
    "\n",
    "file_w_effect = file.groupby('asin').agg({'review_body':len, 'effectiveness_mentioned': 'mean'}).reset_index()\n",
    "\n",
    "fig = px.histogram(file_w_effect, x=\"effectiveness_mentioned\", \n",
    "                   histnorm='probability',)\n",
    "\n",
    "fig.update_layout(\n",
    "    title_text='Effectiveness Mentioned in Amazon Reviews',\n",
    "    title_x=0.5,  # Center the title\n",
    "    bargap=0.1,\n",
    "    height=400,\n",
    "    width=800,\n",
    "\n",
    ")\n",
    "\n",
    "fig.update_xaxes(title_text='Effectiveness Mentioned',)\n",
    "\n",
    "fig.show()\n",
    "\n",
    "fig.write_image('effectiveness_mentioned.png',)"
   ]
  },
  {
   "cell_type": "code",
   "execution_count": 11,
   "metadata": {},
   "outputs": [],
   "source": [
    "import chart_studio\n",
    "import chart_studio.plotly as py\n",
    "import chart_studio.tools as tls\n",
    "import os\n",
    "\n",
    "user_name, api_key = os.getenv(\"plotly_name\"), os.getenv(\"plotly_api\")\n",
    "# Replace these with your actual username and API key\n",
    "chart_studio.tools.set_credentials_file(username= user_name, api_key=api_key)\n",
    "\n",
    "py.plot(fig, filename='effectiveness_mentioned.html', auto_open=True)"
   ]
  },
  {
   "cell_type": "code",
   "execution_count": 5,
   "metadata": {},
   "outputs": [],
   "source": [
    "effectiveness_flags = pd.get_dummies(file.effectiveness_keywords_in_review.explode().str.strip(), prefix='', prefix_sep='').groupby(level=0).max()\n",
    "effectiveness_dict = dict(zip(effectiveness_flags.columns, effectiveness_flags.sum(axis = 0)))\n",
    "\n",
    "with open('effectiveness_dict.json', 'w') as f:\n",
    "    json.dump(effectiveness_dict, f, indent = 4)\n",
    "\n",
    "effectiveness_df = pd.DataFrame(index = effectiveness_dict.keys(), data = effectiveness_dict.values(), columns = ['count']).sort_values('count', ascending = False)"
   ]
  },
  {
   "cell_type": "code",
   "execution_count": 15,
   "metadata": {},
   "outputs": [
    {
     "data": {
      "application/vnd.plotly.v1+json": {
       "config": {
        "plotlyServerURL": "https://plotly.com"
       },
       "data": [
        {
         "alignmentgroup": "True",
         "hovertemplate": "variable=count<br>index=%{x}<br>value=%{y}<extra></extra>",
         "legendgroup": "count",
         "marker": {
          "color": "#636efa",
          "pattern": {
           "shape": ""
          }
         },
         "name": "count",
         "offsetgroup": "count",
         "orientation": "v",
         "showlegend": true,
         "textposition": "auto",
         "type": "bar",
         "x": [
          "hours",
          "hour",
          "quickly",
          "next day",
          "fast",
          "faster",
          "immediately",
          "quick",
          "Fast",
          "instantly",
          "immediate",
          "overnight",
          "one day",
          "instant",
          "quicker",
          "promptly",
          "in a few hours",
          "instantaneously",
          "same day",
          "Immediately",
          "Prompt",
          "Quick",
          "Immediate",
          "Hour",
          "Hours",
          "4hours",
          "Faster",
          "QUICKLY",
          "Next day",
          "Instant",
          "fasting",
          "almost instantly",
          "Short Time",
          "first use",
          "Quickly",
          "instantaneous",
          "hourand",
          "prompting",
          "prompt",
          "rapid",
          "rapide",
          "rapidement",
          "within 24 hours"
         ],
         "xaxis": "x",
         "y": [
          58,
          35,
          34,
          30,
          24,
          22,
          19,
          14,
          9,
          8,
          5,
          5,
          5,
          4,
          4,
          3,
          3,
          2,
          2,
          2,
          2,
          2,
          1,
          1,
          1,
          1,
          1,
          1,
          1,
          1,
          1,
          1,
          1,
          1,
          1,
          1,
          1,
          1,
          1,
          1,
          1,
          1,
          1
         ],
         "yaxis": "y"
        }
       ],
       "layout": {
        "bargap": 0.1,
        "barmode": "relative",
        "height": 400,
        "legend": {
         "title": {
          "text": "variable"
         },
         "tracegroupgap": 0
        },
        "margin": {
         "t": 60
        },
        "template": {
         "data": {
          "bar": [
           {
            "error_x": {
             "color": "#2a3f5f"
            },
            "error_y": {
             "color": "#2a3f5f"
            },
            "marker": {
             "line": {
              "color": "#E5ECF6",
              "width": 0.5
             },
             "pattern": {
              "fillmode": "overlay",
              "size": 10,
              "solidity": 0.2
             }
            },
            "type": "bar"
           }
          ],
          "barpolar": [
           {
            "marker": {
             "line": {
              "color": "#E5ECF6",
              "width": 0.5
             },
             "pattern": {
              "fillmode": "overlay",
              "size": 10,
              "solidity": 0.2
             }
            },
            "type": "barpolar"
           }
          ],
          "carpet": [
           {
            "aaxis": {
             "endlinecolor": "#2a3f5f",
             "gridcolor": "white",
             "linecolor": "white",
             "minorgridcolor": "white",
             "startlinecolor": "#2a3f5f"
            },
            "baxis": {
             "endlinecolor": "#2a3f5f",
             "gridcolor": "white",
             "linecolor": "white",
             "minorgridcolor": "white",
             "startlinecolor": "#2a3f5f"
            },
            "type": "carpet"
           }
          ],
          "choropleth": [
           {
            "colorbar": {
             "outlinewidth": 0,
             "ticks": ""
            },
            "type": "choropleth"
           }
          ],
          "contour": [
           {
            "colorbar": {
             "outlinewidth": 0,
             "ticks": ""
            },
            "colorscale": [
             [
              0,
              "#0d0887"
             ],
             [
              0.1111111111111111,
              "#46039f"
             ],
             [
              0.2222222222222222,
              "#7201a8"
             ],
             [
              0.3333333333333333,
              "#9c179e"
             ],
             [
              0.4444444444444444,
              "#bd3786"
             ],
             [
              0.5555555555555556,
              "#d8576b"
             ],
             [
              0.6666666666666666,
              "#ed7953"
             ],
             [
              0.7777777777777778,
              "#fb9f3a"
             ],
             [
              0.8888888888888888,
              "#fdca26"
             ],
             [
              1,
              "#f0f921"
             ]
            ],
            "type": "contour"
           }
          ],
          "contourcarpet": [
           {
            "colorbar": {
             "outlinewidth": 0,
             "ticks": ""
            },
            "type": "contourcarpet"
           }
          ],
          "heatmap": [
           {
            "colorbar": {
             "outlinewidth": 0,
             "ticks": ""
            },
            "colorscale": [
             [
              0,
              "#0d0887"
             ],
             [
              0.1111111111111111,
              "#46039f"
             ],
             [
              0.2222222222222222,
              "#7201a8"
             ],
             [
              0.3333333333333333,
              "#9c179e"
             ],
             [
              0.4444444444444444,
              "#bd3786"
             ],
             [
              0.5555555555555556,
              "#d8576b"
             ],
             [
              0.6666666666666666,
              "#ed7953"
             ],
             [
              0.7777777777777778,
              "#fb9f3a"
             ],
             [
              0.8888888888888888,
              "#fdca26"
             ],
             [
              1,
              "#f0f921"
             ]
            ],
            "type": "heatmap"
           }
          ],
          "heatmapgl": [
           {
            "colorbar": {
             "outlinewidth": 0,
             "ticks": ""
            },
            "colorscale": [
             [
              0,
              "#0d0887"
             ],
             [
              0.1111111111111111,
              "#46039f"
             ],
             [
              0.2222222222222222,
              "#7201a8"
             ],
             [
              0.3333333333333333,
              "#9c179e"
             ],
             [
              0.4444444444444444,
              "#bd3786"
             ],
             [
              0.5555555555555556,
              "#d8576b"
             ],
             [
              0.6666666666666666,
              "#ed7953"
             ],
             [
              0.7777777777777778,
              "#fb9f3a"
             ],
             [
              0.8888888888888888,
              "#fdca26"
             ],
             [
              1,
              "#f0f921"
             ]
            ],
            "type": "heatmapgl"
           }
          ],
          "histogram": [
           {
            "marker": {
             "pattern": {
              "fillmode": "overlay",
              "size": 10,
              "solidity": 0.2
             }
            },
            "type": "histogram"
           }
          ],
          "histogram2d": [
           {
            "colorbar": {
             "outlinewidth": 0,
             "ticks": ""
            },
            "colorscale": [
             [
              0,
              "#0d0887"
             ],
             [
              0.1111111111111111,
              "#46039f"
             ],
             [
              0.2222222222222222,
              "#7201a8"
             ],
             [
              0.3333333333333333,
              "#9c179e"
             ],
             [
              0.4444444444444444,
              "#bd3786"
             ],
             [
              0.5555555555555556,
              "#d8576b"
             ],
             [
              0.6666666666666666,
              "#ed7953"
             ],
             [
              0.7777777777777778,
              "#fb9f3a"
             ],
             [
              0.8888888888888888,
              "#fdca26"
             ],
             [
              1,
              "#f0f921"
             ]
            ],
            "type": "histogram2d"
           }
          ],
          "histogram2dcontour": [
           {
            "colorbar": {
             "outlinewidth": 0,
             "ticks": ""
            },
            "colorscale": [
             [
              0,
              "#0d0887"
             ],
             [
              0.1111111111111111,
              "#46039f"
             ],
             [
              0.2222222222222222,
              "#7201a8"
             ],
             [
              0.3333333333333333,
              "#9c179e"
             ],
             [
              0.4444444444444444,
              "#bd3786"
             ],
             [
              0.5555555555555556,
              "#d8576b"
             ],
             [
              0.6666666666666666,
              "#ed7953"
             ],
             [
              0.7777777777777778,
              "#fb9f3a"
             ],
             [
              0.8888888888888888,
              "#fdca26"
             ],
             [
              1,
              "#f0f921"
             ]
            ],
            "type": "histogram2dcontour"
           }
          ],
          "mesh3d": [
           {
            "colorbar": {
             "outlinewidth": 0,
             "ticks": ""
            },
            "type": "mesh3d"
           }
          ],
          "parcoords": [
           {
            "line": {
             "colorbar": {
              "outlinewidth": 0,
              "ticks": ""
             }
            },
            "type": "parcoords"
           }
          ],
          "pie": [
           {
            "automargin": true,
            "type": "pie"
           }
          ],
          "scatter": [
           {
            "fillpattern": {
             "fillmode": "overlay",
             "size": 10,
             "solidity": 0.2
            },
            "type": "scatter"
           }
          ],
          "scatter3d": [
           {
            "line": {
             "colorbar": {
              "outlinewidth": 0,
              "ticks": ""
             }
            },
            "marker": {
             "colorbar": {
              "outlinewidth": 0,
              "ticks": ""
             }
            },
            "type": "scatter3d"
           }
          ],
          "scattercarpet": [
           {
            "marker": {
             "colorbar": {
              "outlinewidth": 0,
              "ticks": ""
             }
            },
            "type": "scattercarpet"
           }
          ],
          "scattergeo": [
           {
            "marker": {
             "colorbar": {
              "outlinewidth": 0,
              "ticks": ""
             }
            },
            "type": "scattergeo"
           }
          ],
          "scattergl": [
           {
            "marker": {
             "colorbar": {
              "outlinewidth": 0,
              "ticks": ""
             }
            },
            "type": "scattergl"
           }
          ],
          "scattermapbox": [
           {
            "marker": {
             "colorbar": {
              "outlinewidth": 0,
              "ticks": ""
             }
            },
            "type": "scattermapbox"
           }
          ],
          "scatterpolar": [
           {
            "marker": {
             "colorbar": {
              "outlinewidth": 0,
              "ticks": ""
             }
            },
            "type": "scatterpolar"
           }
          ],
          "scatterpolargl": [
           {
            "marker": {
             "colorbar": {
              "outlinewidth": 0,
              "ticks": ""
             }
            },
            "type": "scatterpolargl"
           }
          ],
          "scatterternary": [
           {
            "marker": {
             "colorbar": {
              "outlinewidth": 0,
              "ticks": ""
             }
            },
            "type": "scatterternary"
           }
          ],
          "surface": [
           {
            "colorbar": {
             "outlinewidth": 0,
             "ticks": ""
            },
            "colorscale": [
             [
              0,
              "#0d0887"
             ],
             [
              0.1111111111111111,
              "#46039f"
             ],
             [
              0.2222222222222222,
              "#7201a8"
             ],
             [
              0.3333333333333333,
              "#9c179e"
             ],
             [
              0.4444444444444444,
              "#bd3786"
             ],
             [
              0.5555555555555556,
              "#d8576b"
             ],
             [
              0.6666666666666666,
              "#ed7953"
             ],
             [
              0.7777777777777778,
              "#fb9f3a"
             ],
             [
              0.8888888888888888,
              "#fdca26"
             ],
             [
              1,
              "#f0f921"
             ]
            ],
            "type": "surface"
           }
          ],
          "table": [
           {
            "cells": {
             "fill": {
              "color": "#EBF0F8"
             },
             "line": {
              "color": "white"
             }
            },
            "header": {
             "fill": {
              "color": "#C8D4E3"
             },
             "line": {
              "color": "white"
             }
            },
            "type": "table"
           }
          ]
         },
         "layout": {
          "annotationdefaults": {
           "arrowcolor": "#2a3f5f",
           "arrowhead": 0,
           "arrowwidth": 1
          },
          "autotypenumbers": "strict",
          "coloraxis": {
           "colorbar": {
            "outlinewidth": 0,
            "ticks": ""
           }
          },
          "colorscale": {
           "diverging": [
            [
             0,
             "#8e0152"
            ],
            [
             0.1,
             "#c51b7d"
            ],
            [
             0.2,
             "#de77ae"
            ],
            [
             0.3,
             "#f1b6da"
            ],
            [
             0.4,
             "#fde0ef"
            ],
            [
             0.5,
             "#f7f7f7"
            ],
            [
             0.6,
             "#e6f5d0"
            ],
            [
             0.7,
             "#b8e186"
            ],
            [
             0.8,
             "#7fbc41"
            ],
            [
             0.9,
             "#4d9221"
            ],
            [
             1,
             "#276419"
            ]
           ],
           "sequential": [
            [
             0,
             "#0d0887"
            ],
            [
             0.1111111111111111,
             "#46039f"
            ],
            [
             0.2222222222222222,
             "#7201a8"
            ],
            [
             0.3333333333333333,
             "#9c179e"
            ],
            [
             0.4444444444444444,
             "#bd3786"
            ],
            [
             0.5555555555555556,
             "#d8576b"
            ],
            [
             0.6666666666666666,
             "#ed7953"
            ],
            [
             0.7777777777777778,
             "#fb9f3a"
            ],
            [
             0.8888888888888888,
             "#fdca26"
            ],
            [
             1,
             "#f0f921"
            ]
           ],
           "sequentialminus": [
            [
             0,
             "#0d0887"
            ],
            [
             0.1111111111111111,
             "#46039f"
            ],
            [
             0.2222222222222222,
             "#7201a8"
            ],
            [
             0.3333333333333333,
             "#9c179e"
            ],
            [
             0.4444444444444444,
             "#bd3786"
            ],
            [
             0.5555555555555556,
             "#d8576b"
            ],
            [
             0.6666666666666666,
             "#ed7953"
            ],
            [
             0.7777777777777778,
             "#fb9f3a"
            ],
            [
             0.8888888888888888,
             "#fdca26"
            ],
            [
             1,
             "#f0f921"
            ]
           ]
          },
          "colorway": [
           "#636efa",
           "#EF553B",
           "#00cc96",
           "#ab63fa",
           "#FFA15A",
           "#19d3f3",
           "#FF6692",
           "#B6E880",
           "#FF97FF",
           "#FECB52"
          ],
          "font": {
           "color": "#2a3f5f"
          },
          "geo": {
           "bgcolor": "white",
           "lakecolor": "white",
           "landcolor": "#E5ECF6",
           "showlakes": true,
           "showland": true,
           "subunitcolor": "white"
          },
          "hoverlabel": {
           "align": "left"
          },
          "hovermode": "closest",
          "mapbox": {
           "style": "light"
          },
          "paper_bgcolor": "white",
          "plot_bgcolor": "#E5ECF6",
          "polar": {
           "angularaxis": {
            "gridcolor": "white",
            "linecolor": "white",
            "ticks": ""
           },
           "bgcolor": "#E5ECF6",
           "radialaxis": {
            "gridcolor": "white",
            "linecolor": "white",
            "ticks": ""
           }
          },
          "scene": {
           "xaxis": {
            "backgroundcolor": "#E5ECF6",
            "gridcolor": "white",
            "gridwidth": 2,
            "linecolor": "white",
            "showbackground": true,
            "ticks": "",
            "zerolinecolor": "white"
           },
           "yaxis": {
            "backgroundcolor": "#E5ECF6",
            "gridcolor": "white",
            "gridwidth": 2,
            "linecolor": "white",
            "showbackground": true,
            "ticks": "",
            "zerolinecolor": "white"
           },
           "zaxis": {
            "backgroundcolor": "#E5ECF6",
            "gridcolor": "white",
            "gridwidth": 2,
            "linecolor": "white",
            "showbackground": true,
            "ticks": "",
            "zerolinecolor": "white"
           }
          },
          "shapedefaults": {
           "line": {
            "color": "#2a3f5f"
           }
          },
          "ternary": {
           "aaxis": {
            "gridcolor": "white",
            "linecolor": "white",
            "ticks": ""
           },
           "baxis": {
            "gridcolor": "white",
            "linecolor": "white",
            "ticks": ""
           },
           "bgcolor": "#E5ECF6",
           "caxis": {
            "gridcolor": "white",
            "linecolor": "white",
            "ticks": ""
           }
          },
          "title": {
           "x": 0.05
          },
          "xaxis": {
           "automargin": true,
           "gridcolor": "white",
           "linecolor": "white",
           "ticks": "",
           "title": {
            "standoff": 15
           },
           "zerolinecolor": "white",
           "zerolinewidth": 2
          },
          "yaxis": {
           "automargin": true,
           "gridcolor": "white",
           "linecolor": "white",
           "ticks": "",
           "title": {
            "standoff": 15
           },
           "zerolinecolor": "white",
           "zerolinewidth": 2
          }
         }
        },
        "title": {
         "text": "Effectiveness Keywords Frequency in Amazon Reviews",
         "x": 0.5
        },
        "width": 800,
        "xaxis": {
         "anchor": "y",
         "domain": [
          0,
          1
         ],
         "tickangle": -45,
         "tickfont": {
          "size": 10
         },
         "title": {
          "text": "Effectiveness Keywords"
         }
        },
        "yaxis": {
         "anchor": "x",
         "domain": [
          0,
          1
         ],
         "title": {
          "text": "Frequency"
         }
        }
       }
      }
     },
     "metadata": {},
     "output_type": "display_data"
    },
    {
     "data": {
      "text/plain": [
       "'https://plotly.com/~tl2546/9/'"
      ]
     },
     "execution_count": 15,
     "metadata": {},
     "output_type": "execute_result"
    }
   ],
   "source": [
    "import plotly.express as px\n",
    "import chart_studio\n",
    "import chart_studio.plotly as py\n",
    "import chart_studio.tools as tls\n",
    "import os\n",
    "\n",
    "fig = px.bar(effectiveness_df)\n",
    "\n",
    "fig.update_layout(\n",
    "    title_text='Effectiveness Keywords Frequency in Amazon Reviews',\n",
    "    title_x=0.5,  # Center the title\n",
    "    bargap=0.1,\n",
    "    height=400,\n",
    "    width=800,\n",
    "    xaxis=dict(\n",
    "        tickangle=-45,\n",
    "        tickfont=dict(\n",
    "            size=10,\n",
    "        ))\n",
    "\n",
    ")\n",
    "\n",
    "fig.update_xaxes(title_text='Effectiveness Keywords',)\n",
    "fig.update_yaxes(title_text='Frequency')\n",
    "\n",
    "fig.show()\n",
    "\n",
    "# fig.write_image('effectiveness_mentioned.png',)\n",
    "\n",
    "\n",
    "\n",
    "user_name, api_key = os.getenv(\"plotly_name\"), os.getenv(\"plotly_api\")\n",
    "# Replace these with your actual username and API key\n",
    "chart_studio.tools.set_credentials_file(username= user_name, api_key=api_key)\n",
    "\n",
    "py.plot(fig, filename='effectiveness_frequency.html', auto_open=True)"
   ]
  },
  {
   "cell_type": "markdown",
   "metadata": {},
   "source": [
    "##### ingredients analysis"
   ]
  },
  {
   "cell_type": "code",
   "execution_count": 5,
   "metadata": {},
   "outputs": [],
   "source": [
    "file.ingredients = file.ingredients.str.lower()\n",
    "file.ingredients = file.ingredients.apply(lambda x: str(x).split('(')[0].lstrip() if x else None)\n",
    "\n",
    "ingredient_flags = pd.get_dummies(file.ingredients.str.split('[,]').explode().str.strip(), prefix='', prefix_sep='').groupby(level=0).max()\n",
    "file_w_ingredients = pd.concat([file, ingredient_flags], axis = 1).dropna()\n",
    "\n",
    "to_drop = [i for i in ingredient_flags.columns if 'california poppy' in i or not i]\n",
    "\n",
    "file_w_ingredients = file_w_ingredients.drop(columns = to_drop)\n",
    "file_w_ingredients.to_excel('Amazon_reviews_w_ingredients.xlsx', index = False)"
   ]
  },
  {
   "cell_type": "code",
   "execution_count": 6,
   "metadata": {},
   "outputs": [
    {
     "data": {
      "text/html": [
       "<div>\n",
       "<style scoped>\n",
       "    .dataframe tbody tr th:only-of-type {\n",
       "        vertical-align: middle;\n",
       "    }\n",
       "\n",
       "    .dataframe tbody tr th {\n",
       "        vertical-align: top;\n",
       "    }\n",
       "\n",
       "    .dataframe thead th {\n",
       "        text-align: right;\n",
       "    }\n",
       "</style>\n",
       "<table border=\"1\" class=\"dataframe\">\n",
       "  <thead>\n",
       "    <tr style=\"text-align: right;\">\n",
       "      <th></th>\n",
       "      <th>asin</th>\n",
       "      <th>name</th>\n",
       "      <th>ingredients</th>\n",
       "      <th>a base of pure vegetable glycerine and distilled water.</th>\n",
       "      <th>active ingredients: rhodiola rosea extract 500mg other ingredients: veggie capsule</th>\n",
       "      <th>additional ingredients: vegetable stearate</th>\n",
       "      <th>alcohol</th>\n",
       "      <th>and tart cherry fruit</th>\n",
       "      <th>anise seed</th>\n",
       "      <th>ashwagandha 250mg</th>\n",
       "      <th>...</th>\n",
       "      <th>turkey tail 250mg</th>\n",
       "      <th>usp grade vegetable glycerin and purified water</th>\n",
       "      <th>valerian</th>\n",
       "      <th>valerian root</th>\n",
       "      <th>valeriana officinalis</th>\n",
       "      <th>vegetable cellulose</th>\n",
       "      <th>vegetable glycerin</th>\n",
       "      <th>vitamin c</th>\n",
       "      <th>water</th>\n",
       "      <th>whole plant</th>\n",
       "    </tr>\n",
       "  </thead>\n",
       "  <tbody>\n",
       "    <tr>\n",
       "      <th>0</th>\n",
       "      <td>B00K6L4UV8</td>\n",
       "      <td>Organic California Poppy Herb C/S</td>\n",
       "      <td>nan</td>\n",
       "      <td>False</td>\n",
       "      <td>False</td>\n",
       "      <td>False</td>\n",
       "      <td>False</td>\n",
       "      <td>False</td>\n",
       "      <td>False</td>\n",
       "      <td>False</td>\n",
       "      <td>...</td>\n",
       "      <td>False</td>\n",
       "      <td>False</td>\n",
       "      <td>False</td>\n",
       "      <td>False</td>\n",
       "      <td>False</td>\n",
       "      <td>False</td>\n",
       "      <td>False</td>\n",
       "      <td>False</td>\n",
       "      <td>False</td>\n",
       "      <td>False</td>\n",
       "    </tr>\n",
       "    <tr>\n",
       "      <th>1</th>\n",
       "      <td>B0BRQT7576</td>\n",
       "      <td>Pure California Poppy Tea - Natural California...</td>\n",
       "      <td>nan</td>\n",
       "      <td>False</td>\n",
       "      <td>False</td>\n",
       "      <td>False</td>\n",
       "      <td>False</td>\n",
       "      <td>False</td>\n",
       "      <td>False</td>\n",
       "      <td>False</td>\n",
       "      <td>...</td>\n",
       "      <td>False</td>\n",
       "      <td>False</td>\n",
       "      <td>False</td>\n",
       "      <td>False</td>\n",
       "      <td>False</td>\n",
       "      <td>False</td>\n",
       "      <td>False</td>\n",
       "      <td>False</td>\n",
       "      <td>False</td>\n",
       "      <td>False</td>\n",
       "    </tr>\n",
       "    <tr>\n",
       "      <th>2</th>\n",
       "      <td>B09RWBLB5T</td>\n",
       "      <td>Nelson's Tea - California Poppy - Cut &amp; Sifted...</td>\n",
       "      <td>nan</td>\n",
       "      <td>False</td>\n",
       "      <td>False</td>\n",
       "      <td>False</td>\n",
       "      <td>False</td>\n",
       "      <td>False</td>\n",
       "      <td>False</td>\n",
       "      <td>False</td>\n",
       "      <td>...</td>\n",
       "      <td>False</td>\n",
       "      <td>False</td>\n",
       "      <td>False</td>\n",
       "      <td>False</td>\n",
       "      <td>False</td>\n",
       "      <td>False</td>\n",
       "      <td>False</td>\n",
       "      <td>False</td>\n",
       "      <td>False</td>\n",
       "      <td>False</td>\n",
       "    </tr>\n",
       "    <tr>\n",
       "      <th>4</th>\n",
       "      <td>B008668JL2</td>\n",
       "      <td>Bio Nutrition California Poppy Vegi-Caps, 60 C...</td>\n",
       "      <td>california poppy seed 500 mg **,additional ing...</td>\n",
       "      <td>False</td>\n",
       "      <td>False</td>\n",
       "      <td>True</td>\n",
       "      <td>False</td>\n",
       "      <td>False</td>\n",
       "      <td>False</td>\n",
       "      <td>False</td>\n",
       "      <td>...</td>\n",
       "      <td>False</td>\n",
       "      <td>False</td>\n",
       "      <td>False</td>\n",
       "      <td>False</td>\n",
       "      <td>False</td>\n",
       "      <td>True</td>\n",
       "      <td>False</td>\n",
       "      <td>False</td>\n",
       "      <td>False</td>\n",
       "      <td>False</td>\n",
       "    </tr>\n",
       "    <tr>\n",
       "      <th>5</th>\n",
       "      <td>B07PTBPL7W</td>\n",
       "      <td>California Poppy Tea Herb Organic 4 Ounce</td>\n",
       "      <td>nan</td>\n",
       "      <td>False</td>\n",
       "      <td>False</td>\n",
       "      <td>False</td>\n",
       "      <td>False</td>\n",
       "      <td>False</td>\n",
       "      <td>False</td>\n",
       "      <td>False</td>\n",
       "      <td>...</td>\n",
       "      <td>False</td>\n",
       "      <td>False</td>\n",
       "      <td>False</td>\n",
       "      <td>False</td>\n",
       "      <td>False</td>\n",
       "      <td>False</td>\n",
       "      <td>False</td>\n",
       "      <td>False</td>\n",
       "      <td>False</td>\n",
       "      <td>False</td>\n",
       "    </tr>\n",
       "  </tbody>\n",
       "</table>\n",
       "<p>5 rows × 123 columns</p>\n",
       "</div>"
      ],
      "text/plain": [
       "         asin                                               name  \\\n",
       "0  B00K6L4UV8                  Organic California Poppy Herb C/S   \n",
       "1  B0BRQT7576  Pure California Poppy Tea - Natural California...   \n",
       "2  B09RWBLB5T  Nelson's Tea - California Poppy - Cut & Sifted...   \n",
       "4  B008668JL2  Bio Nutrition California Poppy Vegi-Caps, 60 C...   \n",
       "5  B07PTBPL7W          California Poppy Tea Herb Organic 4 Ounce   \n",
       "\n",
       "                                         ingredients  \\\n",
       "0                                                nan   \n",
       "1                                                nan   \n",
       "2                                                nan   \n",
       "4  california poppy seed 500 mg **,additional ing...   \n",
       "5                                                nan   \n",
       "\n",
       "   a base of pure vegetable glycerine and distilled water.  \\\n",
       "0                                              False         \n",
       "1                                              False         \n",
       "2                                              False         \n",
       "4                                              False         \n",
       "5                                              False         \n",
       "\n",
       "   active ingredients: rhodiola rosea extract 500mg other ingredients: veggie capsule  \\\n",
       "0                                              False                                    \n",
       "1                                              False                                    \n",
       "2                                              False                                    \n",
       "4                                              False                                    \n",
       "5                                              False                                    \n",
       "\n",
       "   additional ingredients: vegetable stearate  alcohol  and tart cherry fruit  \\\n",
       "0                                       False    False                  False   \n",
       "1                                       False    False                  False   \n",
       "2                                       False    False                  False   \n",
       "4                                        True    False                  False   \n",
       "5                                       False    False                  False   \n",
       "\n",
       "   anise seed  ashwagandha 250mg  ...  turkey tail 250mg  \\\n",
       "0       False              False  ...              False   \n",
       "1       False              False  ...              False   \n",
       "2       False              False  ...              False   \n",
       "4       False              False  ...              False   \n",
       "5       False              False  ...              False   \n",
       "\n",
       "   usp grade vegetable glycerin and purified water  valerian  valerian root  \\\n",
       "0                                            False     False          False   \n",
       "1                                            False     False          False   \n",
       "2                                            False     False          False   \n",
       "4                                            False     False          False   \n",
       "5                                            False     False          False   \n",
       "\n",
       "   valeriana officinalis  vegetable cellulose  vegetable glycerin  vitamin c  \\\n",
       "0                  False                False               False      False   \n",
       "1                  False                False               False      False   \n",
       "2                  False                False               False      False   \n",
       "4                  False                 True               False      False   \n",
       "5                  False                False               False      False   \n",
       "\n",
       "   water  whole plant  \n",
       "0  False        False  \n",
       "1  False        False  \n",
       "2  False        False  \n",
       "4  False        False  \n",
       "5  False        False  \n",
       "\n",
       "[5 rows x 123 columns]"
      ]
     },
     "execution_count": 6,
     "metadata": {},
     "output_type": "execute_result"
    }
   ],
   "source": [
    "file_w_ingredients.head()"
   ]
  },
  {
   "cell_type": "code",
   "execution_count": 28,
   "metadata": {},
   "outputs": [],
   "source": [
    "from collections import defaultdict\n",
    "import json\n",
    "ingredient_list = ingredient_flags.drop(columns = to_drop).columns\n",
    "ingredient_dict = defaultdict(list)\n",
    "\n",
    "for ingredient in ingredient_list:\n",
    "    ingredient_dict[ingredient] = list(set(file_w_ingredients.groupby(ingredient)['name'].apply(list)[True]))\n",
    "\n",
    "with open('ingredient_dict.json', 'w') as f:\n",
    "    json.dump(ingredient_dict, f, indent = 4)\n"
   ]
  },
  {
   "cell_type": "code",
   "execution_count": 29,
   "metadata": {},
   "outputs": [],
   "source": [
    "for key in ingredient_dict.keys():\n",
    "    ingredient_dict[key] = ingredient_dict[key][0]\n",
    "\n",
    "pd.DataFrame.from_dict(ingredient_dict, orient = 'index', columns=['products']).to_excel('ingredient_dict.xlsx')"
   ]
  },
  {
   "cell_type": "markdown",
   "metadata": {},
   "source": [
    "##### safety concerns"
   ]
  },
  {
   "cell_type": "code",
   "execution_count": null,
   "metadata": {},
   "outputs": [
    {
     "data": {
      "application/vnd.plotly.v1+json": {
       "config": {
        "plotlyServerURL": "https://plotly.com"
       },
       "data": [
        {
         "alignmentgroup": "True",
         "bingroup": "x",
         "histnorm": "probability",
         "hovertemplate": "safety_mentioned=%{x}<br>probability=%{y}<extra></extra>",
         "legendgroup": "",
         "marker": {
          "color": "#636efa",
          "pattern": {
           "shape": ""
          }
         },
         "name": "",
         "offsetgroup": "",
         "orientation": "v",
         "showlegend": false,
         "type": "histogram",
         "x": [
          0,
          0,
          0.1,
          0,
          0,
          0.1,
          0,
          0,
          0,
          0.1,
          0,
          0,
          0.1,
          0,
          0,
          0,
          0,
          0,
          0,
          0,
          0,
          0,
          0,
          0,
          0,
          0,
          0,
          0,
          0,
          0,
          0,
          0.8,
          0,
          0,
          0,
          0,
          0,
          0,
          0,
          0,
          0,
          0,
          0,
          0,
          0,
          0,
          0,
          0.2,
          0.2,
          0,
          0.1,
          0,
          0,
          0,
          0,
          0,
          0,
          0,
          0,
          0,
          0.3333333333333333,
          0,
          0,
          0,
          0,
          0,
          0,
          0,
          0,
          0,
          0,
          0,
          0,
          0,
          0,
          0,
          0.1,
          0.1,
          0.16666666666666666,
          0,
          0,
          0,
          0,
          0,
          0,
          0,
          0.1,
          0,
          0,
          0,
          0,
          0,
          0,
          0,
          0,
          0,
          0,
          0,
          0,
          0,
          0,
          0,
          0,
          0,
          0,
          0.3333333333333333,
          0,
          0,
          0,
          0,
          0.1,
          0,
          0,
          0,
          0,
          0,
          0,
          0,
          0,
          0,
          0,
          0,
          0,
          0,
          0,
          0,
          0,
          0,
          0,
          0,
          0,
          0,
          0,
          0,
          0,
          0,
          0,
          0,
          0,
          0,
          0,
          0,
          0,
          0,
          0,
          0,
          0,
          0,
          0,
          0,
          0,
          0,
          0,
          0,
          0.1,
          0,
          0.1,
          0,
          0,
          0,
          0,
          0,
          0,
          0,
          0.1,
          0,
          0,
          0,
          0,
          0,
          0,
          0,
          0.125,
          0,
          0,
          0,
          0,
          0,
          0,
          0,
          0,
          0,
          0,
          0,
          0,
          0,
          0,
          0,
          0,
          0,
          0,
          0,
          0.1,
          0,
          0,
          0,
          0.2,
          0.1,
          0,
          0.1,
          0,
          0,
          0,
          0,
          0,
          0,
          0.2,
          0
         ],
         "xaxis": "x",
         "yaxis": "y"
        }
       ],
       "layout": {
        "bargap": 0.1,
        "barmode": "relative",
        "height": 400,
        "legend": {
         "tracegroupgap": 0
        },
        "margin": {
         "t": 60
        },
        "template": {
         "data": {
          "bar": [
           {
            "error_x": {
             "color": "#2a3f5f"
            },
            "error_y": {
             "color": "#2a3f5f"
            },
            "marker": {
             "line": {
              "color": "#E5ECF6",
              "width": 0.5
             },
             "pattern": {
              "fillmode": "overlay",
              "size": 10,
              "solidity": 0.2
             }
            },
            "type": "bar"
           }
          ],
          "barpolar": [
           {
            "marker": {
             "line": {
              "color": "#E5ECF6",
              "width": 0.5
             },
             "pattern": {
              "fillmode": "overlay",
              "size": 10,
              "solidity": 0.2
             }
            },
            "type": "barpolar"
           }
          ],
          "carpet": [
           {
            "aaxis": {
             "endlinecolor": "#2a3f5f",
             "gridcolor": "white",
             "linecolor": "white",
             "minorgridcolor": "white",
             "startlinecolor": "#2a3f5f"
            },
            "baxis": {
             "endlinecolor": "#2a3f5f",
             "gridcolor": "white",
             "linecolor": "white",
             "minorgridcolor": "white",
             "startlinecolor": "#2a3f5f"
            },
            "type": "carpet"
           }
          ],
          "choropleth": [
           {
            "colorbar": {
             "outlinewidth": 0,
             "ticks": ""
            },
            "type": "choropleth"
           }
          ],
          "contour": [
           {
            "colorbar": {
             "outlinewidth": 0,
             "ticks": ""
            },
            "colorscale": [
             [
              0,
              "#0d0887"
             ],
             [
              0.1111111111111111,
              "#46039f"
             ],
             [
              0.2222222222222222,
              "#7201a8"
             ],
             [
              0.3333333333333333,
              "#9c179e"
             ],
             [
              0.4444444444444444,
              "#bd3786"
             ],
             [
              0.5555555555555556,
              "#d8576b"
             ],
             [
              0.6666666666666666,
              "#ed7953"
             ],
             [
              0.7777777777777778,
              "#fb9f3a"
             ],
             [
              0.8888888888888888,
              "#fdca26"
             ],
             [
              1,
              "#f0f921"
             ]
            ],
            "type": "contour"
           }
          ],
          "contourcarpet": [
           {
            "colorbar": {
             "outlinewidth": 0,
             "ticks": ""
            },
            "type": "contourcarpet"
           }
          ],
          "heatmap": [
           {
            "colorbar": {
             "outlinewidth": 0,
             "ticks": ""
            },
            "colorscale": [
             [
              0,
              "#0d0887"
             ],
             [
              0.1111111111111111,
              "#46039f"
             ],
             [
              0.2222222222222222,
              "#7201a8"
             ],
             [
              0.3333333333333333,
              "#9c179e"
             ],
             [
              0.4444444444444444,
              "#bd3786"
             ],
             [
              0.5555555555555556,
              "#d8576b"
             ],
             [
              0.6666666666666666,
              "#ed7953"
             ],
             [
              0.7777777777777778,
              "#fb9f3a"
             ],
             [
              0.8888888888888888,
              "#fdca26"
             ],
             [
              1,
              "#f0f921"
             ]
            ],
            "type": "heatmap"
           }
          ],
          "heatmapgl": [
           {
            "colorbar": {
             "outlinewidth": 0,
             "ticks": ""
            },
            "colorscale": [
             [
              0,
              "#0d0887"
             ],
             [
              0.1111111111111111,
              "#46039f"
             ],
             [
              0.2222222222222222,
              "#7201a8"
             ],
             [
              0.3333333333333333,
              "#9c179e"
             ],
             [
              0.4444444444444444,
              "#bd3786"
             ],
             [
              0.5555555555555556,
              "#d8576b"
             ],
             [
              0.6666666666666666,
              "#ed7953"
             ],
             [
              0.7777777777777778,
              "#fb9f3a"
             ],
             [
              0.8888888888888888,
              "#fdca26"
             ],
             [
              1,
              "#f0f921"
             ]
            ],
            "type": "heatmapgl"
           }
          ],
          "histogram": [
           {
            "marker": {
             "pattern": {
              "fillmode": "overlay",
              "size": 10,
              "solidity": 0.2
             }
            },
            "type": "histogram"
           }
          ],
          "histogram2d": [
           {
            "colorbar": {
             "outlinewidth": 0,
             "ticks": ""
            },
            "colorscale": [
             [
              0,
              "#0d0887"
             ],
             [
              0.1111111111111111,
              "#46039f"
             ],
             [
              0.2222222222222222,
              "#7201a8"
             ],
             [
              0.3333333333333333,
              "#9c179e"
             ],
             [
              0.4444444444444444,
              "#bd3786"
             ],
             [
              0.5555555555555556,
              "#d8576b"
             ],
             [
              0.6666666666666666,
              "#ed7953"
             ],
             [
              0.7777777777777778,
              "#fb9f3a"
             ],
             [
              0.8888888888888888,
              "#fdca26"
             ],
             [
              1,
              "#f0f921"
             ]
            ],
            "type": "histogram2d"
           }
          ],
          "histogram2dcontour": [
           {
            "colorbar": {
             "outlinewidth": 0,
             "ticks": ""
            },
            "colorscale": [
             [
              0,
              "#0d0887"
             ],
             [
              0.1111111111111111,
              "#46039f"
             ],
             [
              0.2222222222222222,
              "#7201a8"
             ],
             [
              0.3333333333333333,
              "#9c179e"
             ],
             [
              0.4444444444444444,
              "#bd3786"
             ],
             [
              0.5555555555555556,
              "#d8576b"
             ],
             [
              0.6666666666666666,
              "#ed7953"
             ],
             [
              0.7777777777777778,
              "#fb9f3a"
             ],
             [
              0.8888888888888888,
              "#fdca26"
             ],
             [
              1,
              "#f0f921"
             ]
            ],
            "type": "histogram2dcontour"
           }
          ],
          "mesh3d": [
           {
            "colorbar": {
             "outlinewidth": 0,
             "ticks": ""
            },
            "type": "mesh3d"
           }
          ],
          "parcoords": [
           {
            "line": {
             "colorbar": {
              "outlinewidth": 0,
              "ticks": ""
             }
            },
            "type": "parcoords"
           }
          ],
          "pie": [
           {
            "automargin": true,
            "type": "pie"
           }
          ],
          "scatter": [
           {
            "fillpattern": {
             "fillmode": "overlay",
             "size": 10,
             "solidity": 0.2
            },
            "type": "scatter"
           }
          ],
          "scatter3d": [
           {
            "line": {
             "colorbar": {
              "outlinewidth": 0,
              "ticks": ""
             }
            },
            "marker": {
             "colorbar": {
              "outlinewidth": 0,
              "ticks": ""
             }
            },
            "type": "scatter3d"
           }
          ],
          "scattercarpet": [
           {
            "marker": {
             "colorbar": {
              "outlinewidth": 0,
              "ticks": ""
             }
            },
            "type": "scattercarpet"
           }
          ],
          "scattergeo": [
           {
            "marker": {
             "colorbar": {
              "outlinewidth": 0,
              "ticks": ""
             }
            },
            "type": "scattergeo"
           }
          ],
          "scattergl": [
           {
            "marker": {
             "colorbar": {
              "outlinewidth": 0,
              "ticks": ""
             }
            },
            "type": "scattergl"
           }
          ],
          "scattermapbox": [
           {
            "marker": {
             "colorbar": {
              "outlinewidth": 0,
              "ticks": ""
             }
            },
            "type": "scattermapbox"
           }
          ],
          "scatterpolar": [
           {
            "marker": {
             "colorbar": {
              "outlinewidth": 0,
              "ticks": ""
             }
            },
            "type": "scatterpolar"
           }
          ],
          "scatterpolargl": [
           {
            "marker": {
             "colorbar": {
              "outlinewidth": 0,
              "ticks": ""
             }
            },
            "type": "scatterpolargl"
           }
          ],
          "scatterternary": [
           {
            "marker": {
             "colorbar": {
              "outlinewidth": 0,
              "ticks": ""
             }
            },
            "type": "scatterternary"
           }
          ],
          "surface": [
           {
            "colorbar": {
             "outlinewidth": 0,
             "ticks": ""
            },
            "colorscale": [
             [
              0,
              "#0d0887"
             ],
             [
              0.1111111111111111,
              "#46039f"
             ],
             [
              0.2222222222222222,
              "#7201a8"
             ],
             [
              0.3333333333333333,
              "#9c179e"
             ],
             [
              0.4444444444444444,
              "#bd3786"
             ],
             [
              0.5555555555555556,
              "#d8576b"
             ],
             [
              0.6666666666666666,
              "#ed7953"
             ],
             [
              0.7777777777777778,
              "#fb9f3a"
             ],
             [
              0.8888888888888888,
              "#fdca26"
             ],
             [
              1,
              "#f0f921"
             ]
            ],
            "type": "surface"
           }
          ],
          "table": [
           {
            "cells": {
             "fill": {
              "color": "#EBF0F8"
             },
             "line": {
              "color": "white"
             }
            },
            "header": {
             "fill": {
              "color": "#C8D4E3"
             },
             "line": {
              "color": "white"
             }
            },
            "type": "table"
           }
          ]
         },
         "layout": {
          "annotationdefaults": {
           "arrowcolor": "#2a3f5f",
           "arrowhead": 0,
           "arrowwidth": 1
          },
          "autotypenumbers": "strict",
          "coloraxis": {
           "colorbar": {
            "outlinewidth": 0,
            "ticks": ""
           }
          },
          "colorscale": {
           "diverging": [
            [
             0,
             "#8e0152"
            ],
            [
             0.1,
             "#c51b7d"
            ],
            [
             0.2,
             "#de77ae"
            ],
            [
             0.3,
             "#f1b6da"
            ],
            [
             0.4,
             "#fde0ef"
            ],
            [
             0.5,
             "#f7f7f7"
            ],
            [
             0.6,
             "#e6f5d0"
            ],
            [
             0.7,
             "#b8e186"
            ],
            [
             0.8,
             "#7fbc41"
            ],
            [
             0.9,
             "#4d9221"
            ],
            [
             1,
             "#276419"
            ]
           ],
           "sequential": [
            [
             0,
             "#0d0887"
            ],
            [
             0.1111111111111111,
             "#46039f"
            ],
            [
             0.2222222222222222,
             "#7201a8"
            ],
            [
             0.3333333333333333,
             "#9c179e"
            ],
            [
             0.4444444444444444,
             "#bd3786"
            ],
            [
             0.5555555555555556,
             "#d8576b"
            ],
            [
             0.6666666666666666,
             "#ed7953"
            ],
            [
             0.7777777777777778,
             "#fb9f3a"
            ],
            [
             0.8888888888888888,
             "#fdca26"
            ],
            [
             1,
             "#f0f921"
            ]
           ],
           "sequentialminus": [
            [
             0,
             "#0d0887"
            ],
            [
             0.1111111111111111,
             "#46039f"
            ],
            [
             0.2222222222222222,
             "#7201a8"
            ],
            [
             0.3333333333333333,
             "#9c179e"
            ],
            [
             0.4444444444444444,
             "#bd3786"
            ],
            [
             0.5555555555555556,
             "#d8576b"
            ],
            [
             0.6666666666666666,
             "#ed7953"
            ],
            [
             0.7777777777777778,
             "#fb9f3a"
            ],
            [
             0.8888888888888888,
             "#fdca26"
            ],
            [
             1,
             "#f0f921"
            ]
           ]
          },
          "colorway": [
           "#636efa",
           "#EF553B",
           "#00cc96",
           "#ab63fa",
           "#FFA15A",
           "#19d3f3",
           "#FF6692",
           "#B6E880",
           "#FF97FF",
           "#FECB52"
          ],
          "font": {
           "color": "#2a3f5f"
          },
          "geo": {
           "bgcolor": "white",
           "lakecolor": "white",
           "landcolor": "#E5ECF6",
           "showlakes": true,
           "showland": true,
           "subunitcolor": "white"
          },
          "hoverlabel": {
           "align": "left"
          },
          "hovermode": "closest",
          "mapbox": {
           "style": "light"
          },
          "paper_bgcolor": "white",
          "plot_bgcolor": "#E5ECF6",
          "polar": {
           "angularaxis": {
            "gridcolor": "white",
            "linecolor": "white",
            "ticks": ""
           },
           "bgcolor": "#E5ECF6",
           "radialaxis": {
            "gridcolor": "white",
            "linecolor": "white",
            "ticks": ""
           }
          },
          "scene": {
           "xaxis": {
            "backgroundcolor": "#E5ECF6",
            "gridcolor": "white",
            "gridwidth": 2,
            "linecolor": "white",
            "showbackground": true,
            "ticks": "",
            "zerolinecolor": "white"
           },
           "yaxis": {
            "backgroundcolor": "#E5ECF6",
            "gridcolor": "white",
            "gridwidth": 2,
            "linecolor": "white",
            "showbackground": true,
            "ticks": "",
            "zerolinecolor": "white"
           },
           "zaxis": {
            "backgroundcolor": "#E5ECF6",
            "gridcolor": "white",
            "gridwidth": 2,
            "linecolor": "white",
            "showbackground": true,
            "ticks": "",
            "zerolinecolor": "white"
           }
          },
          "shapedefaults": {
           "line": {
            "color": "#2a3f5f"
           }
          },
          "ternary": {
           "aaxis": {
            "gridcolor": "white",
            "linecolor": "white",
            "ticks": ""
           },
           "baxis": {
            "gridcolor": "white",
            "linecolor": "white",
            "ticks": ""
           },
           "bgcolor": "#E5ECF6",
           "caxis": {
            "gridcolor": "white",
            "linecolor": "white",
            "ticks": ""
           }
          },
          "title": {
           "x": 0.05
          },
          "xaxis": {
           "automargin": true,
           "gridcolor": "white",
           "linecolor": "white",
           "ticks": "",
           "title": {
            "standoff": 15
           },
           "zerolinecolor": "white",
           "zerolinewidth": 2
          },
          "yaxis": {
           "automargin": true,
           "gridcolor": "white",
           "linecolor": "white",
           "ticks": "",
           "title": {
            "standoff": 15
           },
           "zerolinecolor": "white",
           "zerolinewidth": 2
          }
         }
        },
        "title": {
         "text": "Safety Mentioned in Amazon Reviews",
         "x": 0.5
        },
        "width": 800,
        "xaxis": {
         "anchor": "y",
         "domain": [
          0,
          1
         ],
         "title": {
          "text": "Safety Mentioned"
         }
        },
        "yaxis": {
         "anchor": "x",
         "domain": [
          0,
          1
         ],
         "title": {
          "text": "probability"
         }
        }
       }
      }
     },
     "metadata": {},
     "output_type": "display_data"
    },
    {
     "data": {
      "application/vnd.plotly.v1+json": {
       "config": {
        "plotlyServerURL": "https://plotly.com"
       },
       "data": [
        {
         "alignmentgroup": "True",
         "hovertemplate": "variable=count<br>index=%{x}<br>value=%{y}<extra></extra>",
         "legendgroup": "count",
         "marker": {
          "color": "#636efa",
          "pattern": {
           "shape": ""
          }
         },
         "name": "count",
         "offsetgroup": "count",
         "orientation": "v",
         "showlegend": true,
         "textposition": "auto",
         "type": "bar",
         "x": [
          "allergies",
          "allergy",
          "safe",
          "allergic",
          "safely",
          "concern",
          "safety",
          "allergens",
          "Allergies",
          "concerns",
          "concerned",
          "Allergic",
          "allergen",
          "Allergode",
          "safer",
          "safest",
          "side effect"
         ],
         "xaxis": "x",
         "y": [
          10,
          7,
          6,
          5,
          4,
          3,
          2,
          2,
          2,
          2,
          2,
          1,
          1,
          1,
          1,
          1,
          1
         ],
         "yaxis": "y"
        }
       ],
       "layout": {
        "bargap": 0.1,
        "barmode": "relative",
        "height": 400,
        "legend": {
         "title": {
          "text": "variable"
         },
         "tracegroupgap": 0
        },
        "margin": {
         "t": 60
        },
        "template": {
         "data": {
          "bar": [
           {
            "error_x": {
             "color": "#2a3f5f"
            },
            "error_y": {
             "color": "#2a3f5f"
            },
            "marker": {
             "line": {
              "color": "#E5ECF6",
              "width": 0.5
             },
             "pattern": {
              "fillmode": "overlay",
              "size": 10,
              "solidity": 0.2
             }
            },
            "type": "bar"
           }
          ],
          "barpolar": [
           {
            "marker": {
             "line": {
              "color": "#E5ECF6",
              "width": 0.5
             },
             "pattern": {
              "fillmode": "overlay",
              "size": 10,
              "solidity": 0.2
             }
            },
            "type": "barpolar"
           }
          ],
          "carpet": [
           {
            "aaxis": {
             "endlinecolor": "#2a3f5f",
             "gridcolor": "white",
             "linecolor": "white",
             "minorgridcolor": "white",
             "startlinecolor": "#2a3f5f"
            },
            "baxis": {
             "endlinecolor": "#2a3f5f",
             "gridcolor": "white",
             "linecolor": "white",
             "minorgridcolor": "white",
             "startlinecolor": "#2a3f5f"
            },
            "type": "carpet"
           }
          ],
          "choropleth": [
           {
            "colorbar": {
             "outlinewidth": 0,
             "ticks": ""
            },
            "type": "choropleth"
           }
          ],
          "contour": [
           {
            "colorbar": {
             "outlinewidth": 0,
             "ticks": ""
            },
            "colorscale": [
             [
              0,
              "#0d0887"
             ],
             [
              0.1111111111111111,
              "#46039f"
             ],
             [
              0.2222222222222222,
              "#7201a8"
             ],
             [
              0.3333333333333333,
              "#9c179e"
             ],
             [
              0.4444444444444444,
              "#bd3786"
             ],
             [
              0.5555555555555556,
              "#d8576b"
             ],
             [
              0.6666666666666666,
              "#ed7953"
             ],
             [
              0.7777777777777778,
              "#fb9f3a"
             ],
             [
              0.8888888888888888,
              "#fdca26"
             ],
             [
              1,
              "#f0f921"
             ]
            ],
            "type": "contour"
           }
          ],
          "contourcarpet": [
           {
            "colorbar": {
             "outlinewidth": 0,
             "ticks": ""
            },
            "type": "contourcarpet"
           }
          ],
          "heatmap": [
           {
            "colorbar": {
             "outlinewidth": 0,
             "ticks": ""
            },
            "colorscale": [
             [
              0,
              "#0d0887"
             ],
             [
              0.1111111111111111,
              "#46039f"
             ],
             [
              0.2222222222222222,
              "#7201a8"
             ],
             [
              0.3333333333333333,
              "#9c179e"
             ],
             [
              0.4444444444444444,
              "#bd3786"
             ],
             [
              0.5555555555555556,
              "#d8576b"
             ],
             [
              0.6666666666666666,
              "#ed7953"
             ],
             [
              0.7777777777777778,
              "#fb9f3a"
             ],
             [
              0.8888888888888888,
              "#fdca26"
             ],
             [
              1,
              "#f0f921"
             ]
            ],
            "type": "heatmap"
           }
          ],
          "heatmapgl": [
           {
            "colorbar": {
             "outlinewidth": 0,
             "ticks": ""
            },
            "colorscale": [
             [
              0,
              "#0d0887"
             ],
             [
              0.1111111111111111,
              "#46039f"
             ],
             [
              0.2222222222222222,
              "#7201a8"
             ],
             [
              0.3333333333333333,
              "#9c179e"
             ],
             [
              0.4444444444444444,
              "#bd3786"
             ],
             [
              0.5555555555555556,
              "#d8576b"
             ],
             [
              0.6666666666666666,
              "#ed7953"
             ],
             [
              0.7777777777777778,
              "#fb9f3a"
             ],
             [
              0.8888888888888888,
              "#fdca26"
             ],
             [
              1,
              "#f0f921"
             ]
            ],
            "type": "heatmapgl"
           }
          ],
          "histogram": [
           {
            "marker": {
             "pattern": {
              "fillmode": "overlay",
              "size": 10,
              "solidity": 0.2
             }
            },
            "type": "histogram"
           }
          ],
          "histogram2d": [
           {
            "colorbar": {
             "outlinewidth": 0,
             "ticks": ""
            },
            "colorscale": [
             [
              0,
              "#0d0887"
             ],
             [
              0.1111111111111111,
              "#46039f"
             ],
             [
              0.2222222222222222,
              "#7201a8"
             ],
             [
              0.3333333333333333,
              "#9c179e"
             ],
             [
              0.4444444444444444,
              "#bd3786"
             ],
             [
              0.5555555555555556,
              "#d8576b"
             ],
             [
              0.6666666666666666,
              "#ed7953"
             ],
             [
              0.7777777777777778,
              "#fb9f3a"
             ],
             [
              0.8888888888888888,
              "#fdca26"
             ],
             [
              1,
              "#f0f921"
             ]
            ],
            "type": "histogram2d"
           }
          ],
          "histogram2dcontour": [
           {
            "colorbar": {
             "outlinewidth": 0,
             "ticks": ""
            },
            "colorscale": [
             [
              0,
              "#0d0887"
             ],
             [
              0.1111111111111111,
              "#46039f"
             ],
             [
              0.2222222222222222,
              "#7201a8"
             ],
             [
              0.3333333333333333,
              "#9c179e"
             ],
             [
              0.4444444444444444,
              "#bd3786"
             ],
             [
              0.5555555555555556,
              "#d8576b"
             ],
             [
              0.6666666666666666,
              "#ed7953"
             ],
             [
              0.7777777777777778,
              "#fb9f3a"
             ],
             [
              0.8888888888888888,
              "#fdca26"
             ],
             [
              1,
              "#f0f921"
             ]
            ],
            "type": "histogram2dcontour"
           }
          ],
          "mesh3d": [
           {
            "colorbar": {
             "outlinewidth": 0,
             "ticks": ""
            },
            "type": "mesh3d"
           }
          ],
          "parcoords": [
           {
            "line": {
             "colorbar": {
              "outlinewidth": 0,
              "ticks": ""
             }
            },
            "type": "parcoords"
           }
          ],
          "pie": [
           {
            "automargin": true,
            "type": "pie"
           }
          ],
          "scatter": [
           {
            "fillpattern": {
             "fillmode": "overlay",
             "size": 10,
             "solidity": 0.2
            },
            "type": "scatter"
           }
          ],
          "scatter3d": [
           {
            "line": {
             "colorbar": {
              "outlinewidth": 0,
              "ticks": ""
             }
            },
            "marker": {
             "colorbar": {
              "outlinewidth": 0,
              "ticks": ""
             }
            },
            "type": "scatter3d"
           }
          ],
          "scattercarpet": [
           {
            "marker": {
             "colorbar": {
              "outlinewidth": 0,
              "ticks": ""
             }
            },
            "type": "scattercarpet"
           }
          ],
          "scattergeo": [
           {
            "marker": {
             "colorbar": {
              "outlinewidth": 0,
              "ticks": ""
             }
            },
            "type": "scattergeo"
           }
          ],
          "scattergl": [
           {
            "marker": {
             "colorbar": {
              "outlinewidth": 0,
              "ticks": ""
             }
            },
            "type": "scattergl"
           }
          ],
          "scattermapbox": [
           {
            "marker": {
             "colorbar": {
              "outlinewidth": 0,
              "ticks": ""
             }
            },
            "type": "scattermapbox"
           }
          ],
          "scatterpolar": [
           {
            "marker": {
             "colorbar": {
              "outlinewidth": 0,
              "ticks": ""
             }
            },
            "type": "scatterpolar"
           }
          ],
          "scatterpolargl": [
           {
            "marker": {
             "colorbar": {
              "outlinewidth": 0,
              "ticks": ""
             }
            },
            "type": "scatterpolargl"
           }
          ],
          "scatterternary": [
           {
            "marker": {
             "colorbar": {
              "outlinewidth": 0,
              "ticks": ""
             }
            },
            "type": "scatterternary"
           }
          ],
          "surface": [
           {
            "colorbar": {
             "outlinewidth": 0,
             "ticks": ""
            },
            "colorscale": [
             [
              0,
              "#0d0887"
             ],
             [
              0.1111111111111111,
              "#46039f"
             ],
             [
              0.2222222222222222,
              "#7201a8"
             ],
             [
              0.3333333333333333,
              "#9c179e"
             ],
             [
              0.4444444444444444,
              "#bd3786"
             ],
             [
              0.5555555555555556,
              "#d8576b"
             ],
             [
              0.6666666666666666,
              "#ed7953"
             ],
             [
              0.7777777777777778,
              "#fb9f3a"
             ],
             [
              0.8888888888888888,
              "#fdca26"
             ],
             [
              1,
              "#f0f921"
             ]
            ],
            "type": "surface"
           }
          ],
          "table": [
           {
            "cells": {
             "fill": {
              "color": "#EBF0F8"
             },
             "line": {
              "color": "white"
             }
            },
            "header": {
             "fill": {
              "color": "#C8D4E3"
             },
             "line": {
              "color": "white"
             }
            },
            "type": "table"
           }
          ]
         },
         "layout": {
          "annotationdefaults": {
           "arrowcolor": "#2a3f5f",
           "arrowhead": 0,
           "arrowwidth": 1
          },
          "autotypenumbers": "strict",
          "coloraxis": {
           "colorbar": {
            "outlinewidth": 0,
            "ticks": ""
           }
          },
          "colorscale": {
           "diverging": [
            [
             0,
             "#8e0152"
            ],
            [
             0.1,
             "#c51b7d"
            ],
            [
             0.2,
             "#de77ae"
            ],
            [
             0.3,
             "#f1b6da"
            ],
            [
             0.4,
             "#fde0ef"
            ],
            [
             0.5,
             "#f7f7f7"
            ],
            [
             0.6,
             "#e6f5d0"
            ],
            [
             0.7,
             "#b8e186"
            ],
            [
             0.8,
             "#7fbc41"
            ],
            [
             0.9,
             "#4d9221"
            ],
            [
             1,
             "#276419"
            ]
           ],
           "sequential": [
            [
             0,
             "#0d0887"
            ],
            [
             0.1111111111111111,
             "#46039f"
            ],
            [
             0.2222222222222222,
             "#7201a8"
            ],
            [
             0.3333333333333333,
             "#9c179e"
            ],
            [
             0.4444444444444444,
             "#bd3786"
            ],
            [
             0.5555555555555556,
             "#d8576b"
            ],
            [
             0.6666666666666666,
             "#ed7953"
            ],
            [
             0.7777777777777778,
             "#fb9f3a"
            ],
            [
             0.8888888888888888,
             "#fdca26"
            ],
            [
             1,
             "#f0f921"
            ]
           ],
           "sequentialminus": [
            [
             0,
             "#0d0887"
            ],
            [
             0.1111111111111111,
             "#46039f"
            ],
            [
             0.2222222222222222,
             "#7201a8"
            ],
            [
             0.3333333333333333,
             "#9c179e"
            ],
            [
             0.4444444444444444,
             "#bd3786"
            ],
            [
             0.5555555555555556,
             "#d8576b"
            ],
            [
             0.6666666666666666,
             "#ed7953"
            ],
            [
             0.7777777777777778,
             "#fb9f3a"
            ],
            [
             0.8888888888888888,
             "#fdca26"
            ],
            [
             1,
             "#f0f921"
            ]
           ]
          },
          "colorway": [
           "#636efa",
           "#EF553B",
           "#00cc96",
           "#ab63fa",
           "#FFA15A",
           "#19d3f3",
           "#FF6692",
           "#B6E880",
           "#FF97FF",
           "#FECB52"
          ],
          "font": {
           "color": "#2a3f5f"
          },
          "geo": {
           "bgcolor": "white",
           "lakecolor": "white",
           "landcolor": "#E5ECF6",
           "showlakes": true,
           "showland": true,
           "subunitcolor": "white"
          },
          "hoverlabel": {
           "align": "left"
          },
          "hovermode": "closest",
          "mapbox": {
           "style": "light"
          },
          "paper_bgcolor": "white",
          "plot_bgcolor": "#E5ECF6",
          "polar": {
           "angularaxis": {
            "gridcolor": "white",
            "linecolor": "white",
            "ticks": ""
           },
           "bgcolor": "#E5ECF6",
           "radialaxis": {
            "gridcolor": "white",
            "linecolor": "white",
            "ticks": ""
           }
          },
          "scene": {
           "xaxis": {
            "backgroundcolor": "#E5ECF6",
            "gridcolor": "white",
            "gridwidth": 2,
            "linecolor": "white",
            "showbackground": true,
            "ticks": "",
            "zerolinecolor": "white"
           },
           "yaxis": {
            "backgroundcolor": "#E5ECF6",
            "gridcolor": "white",
            "gridwidth": 2,
            "linecolor": "white",
            "showbackground": true,
            "ticks": "",
            "zerolinecolor": "white"
           },
           "zaxis": {
            "backgroundcolor": "#E5ECF6",
            "gridcolor": "white",
            "gridwidth": 2,
            "linecolor": "white",
            "showbackground": true,
            "ticks": "",
            "zerolinecolor": "white"
           }
          },
          "shapedefaults": {
           "line": {
            "color": "#2a3f5f"
           }
          },
          "ternary": {
           "aaxis": {
            "gridcolor": "white",
            "linecolor": "white",
            "ticks": ""
           },
           "baxis": {
            "gridcolor": "white",
            "linecolor": "white",
            "ticks": ""
           },
           "bgcolor": "#E5ECF6",
           "caxis": {
            "gridcolor": "white",
            "linecolor": "white",
            "ticks": ""
           }
          },
          "title": {
           "x": 0.05
          },
          "xaxis": {
           "automargin": true,
           "gridcolor": "white",
           "linecolor": "white",
           "ticks": "",
           "title": {
            "standoff": 15
           },
           "zerolinecolor": "white",
           "zerolinewidth": 2
          },
          "yaxis": {
           "automargin": true,
           "gridcolor": "white",
           "linecolor": "white",
           "ticks": "",
           "title": {
            "standoff": 15
           },
           "zerolinecolor": "white",
           "zerolinewidth": 2
          }
         }
        },
        "title": {
         "text": "Safety Keywords Frequency in Amazon Reviews",
         "x": 0.5
        },
        "width": 800,
        "xaxis": {
         "anchor": "y",
         "domain": [
          0,
          1
         ],
         "tickangle": -45,
         "tickfont": {
          "size": 10
         },
         "title": {
          "text": "Safety Keywords"
         }
        },
        "yaxis": {
         "anchor": "x",
         "domain": [
          0,
          1
         ],
         "title": {
          "text": "Frequency"
         }
        }
       }
      }
     },
     "metadata": {},
     "output_type": "display_data"
    },
    {
     "data": {
      "text/plain": [
       "'https://plotly.com/~tl2546/14/'"
      ]
     },
     "execution_count": 9,
     "metadata": {},
     "output_type": "execute_result"
    }
   ],
   "source": [
    "import re\n",
    "import plotly.express as px\n",
    "import pandas as pd\n",
    "import json\n",
    "import chart_studio\n",
    "import chart_studio.plotly as py\n",
    "import chart_studio.tools as tls\n",
    "import os\n",
    "\n",
    "# Define the safety-related keyword pattern\n",
    "safety_pattern = r'\\b(?:safe\\w*|side\\s+effect|concern\\w*|allerg\\w*)\\b'\n",
    "\n",
    "def extract_safety_keywords(text):\n",
    "    if pd.isna(text):\n",
    "        return []\n",
    "    return re.findall(safety_pattern, text, flags=re.IGNORECASE)\n",
    "\n",
    "# Extract and process safety keywords\n",
    "file['safety_keywords_in_review'] = (file.review_title.apply(extract_safety_keywords) +\n",
    "                                     file.review_body.apply(extract_safety_keywords))\n",
    "file['safety_mentioned'] = file.safety_keywords_in_review.apply(lambda x: len(x) > 0)\n",
    "\n",
    "# Group by ASIN and calculate the average mention of safety keywords\n",
    "file_w_safety = file.groupby('asin').agg({'review_body':len, 'safety_mentioned': 'mean'}).reset_index()\n",
    "\n",
    "# Plot histogram for safety mentions\n",
    "fig = px.histogram(file_w_safety, x=\"safety_mentioned\", histnorm='probability')\n",
    "\n",
    "fig.update_layout(\n",
    "    title_text='Safety Mentioned in Amazon Reviews',\n",
    "    title_x=0.5,  # Center the title\n",
    "    bargap=0.1,\n",
    "    height=400,\n",
    "    width=800,\n",
    ")\n",
    "\n",
    "fig.update_xaxes(title_text='Safety Mentioned')\n",
    "\n",
    "fig.show()\n",
    "\n",
    "fig.write_image('safety_mentioned.png')\n",
    "\n",
    "# Upload to Plotly\n",
    "user_name, api_key = os.getenv(\"plotly_name\"), os.getenv(\"plotly_api\")\n",
    "chart_studio.tools.set_credentials_file(username=user_name, api_key=api_key)\n",
    "\n",
    "py.plot(fig, filename='safety_mentioned.html', auto_open=True)\n",
    "\n",
    "# Generate a dictionary of safety keyword frequencies\n",
    "safety_flags = pd.get_dummies(file.safety_keywords_in_review.explode().str.strip(), prefix='', prefix_sep='').groupby(level=0).max()\n",
    "safety_dict = dict(zip(safety_flags.columns, safety_flags.sum(axis=0)))\n",
    "\n",
    "# Save safety keyword frequency as JSON\n",
    "with open('safety_dict.json', 'w') as f:\n",
    "    json.dump(safety_dict, f, indent=4)\n",
    "\n",
    "# Convert dictionary to DataFrame for plotting\n",
    "safety_df = pd.DataFrame(index=safety_dict.keys(), data=safety_dict.values(), columns=['count']).sort_values('count', ascending=False)\n",
    "\n",
    "# Plot safety keyword frequency bar chart\n",
    "fig = px.bar(safety_df)\n",
    "\n",
    "fig.update_layout(\n",
    "    title_text='Safety Keywords Frequency in Amazon Reviews',\n",
    "    title_x=0.5,  # Center the title\n",
    "    bargap=0.1,\n",
    "    height=400,\n",
    "    width=800,\n",
    "    xaxis=dict(\n",
    "        tickangle=-45,\n",
    "        tickfont=dict(size=10)\n",
    "    )\n",
    ")\n",
    "\n",
    "fig.update_xaxes(title_text='Safety Keywords')\n",
    "fig.update_yaxes(title_text='Frequency')\n",
    "\n",
    "fig.show()\n",
    "\n",
    "# Save to Plotly\n",
    "py.plot(fig, filename='safety_frequency.html', auto_open=True)\n"
   ]
  },
  {
   "cell_type": "code",
   "execution_count": null,
   "metadata": {},
   "outputs": [],
   "source": []
  },
  {
   "cell_type": "markdown",
   "metadata": {},
   "source": [
    "### Walmart"
   ]
  },
  {
   "cell_type": "code",
   "execution_count": 1,
   "metadata": {},
   "outputs": [],
   "source": [
    "import json\n",
    "import json\n",
    "import csv\n",
    "import os\n",
    "import pandas as pd\n",
    "\n",
    "def _write_to_csv(csv_file, files):\n",
    "    headers = [\n",
    "        'product_name', 'sku', 'description', 'brand', 'rating_value', 'review_count', 'image_url', 'product_url',\n",
    "        'customer_name', 'review_date', 'star_rating', 'review_title', 'review_text']\n",
    "\n",
    "    for f in files:\n",
    "        with open(f, 'r', encoding = 'utf-8') as file:\n",
    "            f = json.load(file)\n",
    "            with open(csv_file, mode='a', newline='', encoding='utf-8') as file:\n",
    "                writer = csv.writer(file)\n",
    "                if not os.path.exists(csv_file) or os.stat(csv_file).st_size == 0:\n",
    "                    writer.writerow(headers)\n",
    "\n",
    "                for entry in f:\n",
    "                    product_info = entry['product']\n",
    "                    product_name = product_info['name']\n",
    "                    sku = product_info['sku']\n",
    "                    description = product_info['description']\n",
    "                    brand = product_info['brand']['name']\n",
    "                   \n",
    "                    rating_value = product_info.get('aggregateRating', {}).get('ratingValue', '')\n",
    "                    review_count = product_info.get('aggregateRating', {}).get('reviewCount','')\n",
    "                    image_url = product_info['image']\n",
    "                    product_url = product_info['offers']['url']\n",
    "\n",
    "\n",
    "                    # Add each review along with the product details\n",
    "                    for review in entry['product_reviews']:\n",
    "                        customer_name = review['customer_name']\n",
    "                        review_date = review['review_date']\n",
    "                        star_rating = review['star_rating']\n",
    "                        review_title = review['review_title']\n",
    "                        review_text = review['review_text']\n",
    "\n",
    "                        writer.writerow([product_name, sku, description, brand, rating_value, review_count, image_url, product_url,\n",
    "                                            customer_name, review_date, star_rating, review_title, review_text])\n",
    "                    \n",
    "    print(f'Data has been successfully written to {csv_file}')\n"
   ]
  },
  {
   "cell_type": "code",
   "execution_count": 2,
   "metadata": {},
   "outputs": [
    {
     "name": "stdout",
     "output_type": "stream",
     "text": [
      "C:\\Users\\tianc\\scrapfly-scrapers\\walmart-scraper\\results\n",
      "Data has been successfully written to Walmart_reviews_california_poppy.csv\n"
     ]
    }
   ],
   "source": [
    "%cd  ~/scrapfly-scrapers/walmart-scraper/results/\n",
    "\n",
    "csv_file = 'Walmart_reviews_california_poppy.csv'\n",
    "\n",
    "files = ['Walmart_product_and_reviews_california_poppy.json']\n",
    "_write_to_csv(csv_file, files)"
   ]
  },
  {
   "cell_type": "code",
   "execution_count": 5,
   "metadata": {},
   "outputs": [
    {
     "data": {
      "text/html": [
       "<div>\n",
       "<style scoped>\n",
       "    .dataframe tbody tr th:only-of-type {\n",
       "        vertical-align: middle;\n",
       "    }\n",
       "\n",
       "    .dataframe tbody tr th {\n",
       "        vertical-align: top;\n",
       "    }\n",
       "\n",
       "    .dataframe thead th {\n",
       "        text-align: right;\n",
       "    }\n",
       "</style>\n",
       "<table border=\"1\" class=\"dataframe\">\n",
       "  <thead>\n",
       "    <tr style=\"text-align: right;\">\n",
       "      <th></th>\n",
       "      <th>product_name</th>\n",
       "      <th>sku</th>\n",
       "      <th>description</th>\n",
       "      <th>brand</th>\n",
       "      <th>rating_value</th>\n",
       "      <th>review_count</th>\n",
       "      <th>image_url</th>\n",
       "      <th>product_url</th>\n",
       "      <th>customer_name</th>\n",
       "      <th>review_date</th>\n",
       "      <th>star_rating</th>\n",
       "      <th>review_title</th>\n",
       "      <th>review_text</th>\n",
       "    </tr>\n",
       "  </thead>\n",
       "  <tbody>\n",
       "    <tr>\n",
       "      <th>0</th>\n",
       "      <td>Ferry-Morse 340MG California Poppy Mission Bel...</td>\n",
       "      <td>379839788</td>\n",
       "      <td>Grow vibrant annual flowers with Ferry-Morse C...</td>\n",
       "      <td>Ferry-Morse</td>\n",
       "      <td>4.3</td>\n",
       "      <td>19</td>\n",
       "      <td>https://i5.walmartimages.com/seo/Ferry-Morse-4...</td>\n",
       "      <td>https://www.walmart.com/ip/Ferry-Morse-400MG-C...</td>\n",
       "      <td>nora9851</td>\n",
       "      <td>Aug 7, 2024</td>\n",
       "      <td>5 out of 5 stars review</td>\n",
       "      <td>Easy seed starter</td>\n",
       "      <td>[This review was collected as part of a promot...</td>\n",
       "    </tr>\n",
       "    <tr>\n",
       "      <th>1</th>\n",
       "      <td>Ferry-Morse 340MG California Poppy Mission Bel...</td>\n",
       "      <td>379839788</td>\n",
       "      <td>Grow vibrant annual flowers with Ferry-Morse C...</td>\n",
       "      <td>Ferry-Morse</td>\n",
       "      <td>4.3</td>\n",
       "      <td>19</td>\n",
       "      <td>https://i5.walmartimages.com/seo/Ferry-Morse-4...</td>\n",
       "      <td>https://www.walmart.com/ip/Ferry-Morse-400MG-C...</td>\n",
       "      <td>kelleyt</td>\n",
       "      <td>Jul 27, 2024</td>\n",
       "      <td>5 out of 5 stars review</td>\n",
       "      <td>Simple Planting</td>\n",
       "      <td>[This review was collected as part of a promot...</td>\n",
       "    </tr>\n",
       "    <tr>\n",
       "      <th>2</th>\n",
       "      <td>Ferry-Morse 340MG California Poppy Mission Bel...</td>\n",
       "      <td>379839788</td>\n",
       "      <td>Grow vibrant annual flowers with Ferry-Morse C...</td>\n",
       "      <td>Ferry-Morse</td>\n",
       "      <td>4.3</td>\n",
       "      <td>19</td>\n",
       "      <td>https://i5.walmartimages.com/seo/Ferry-Morse-4...</td>\n",
       "      <td>https://www.walmart.com/ip/Ferry-Morse-400MG-C...</td>\n",
       "      <td>redheadedgurrl</td>\n",
       "      <td>Jun 16, 2024</td>\n",
       "      <td>5 out of 5 stars review</td>\n",
       "      <td>Easy to grow</td>\n",
       "      <td>[This review was collected as part of a promot...</td>\n",
       "    </tr>\n",
       "    <tr>\n",
       "      <th>3</th>\n",
       "      <td>Ferry-Morse 340MG California Poppy Mission Bel...</td>\n",
       "      <td>379839788</td>\n",
       "      <td>Grow vibrant annual flowers with Ferry-Morse C...</td>\n",
       "      <td>Ferry-Morse</td>\n",
       "      <td>4.3</td>\n",
       "      <td>19</td>\n",
       "      <td>https://i5.walmartimages.com/seo/Ferry-Morse-4...</td>\n",
       "      <td>https://www.walmart.com/ip/Ferry-Morse-400MG-C...</td>\n",
       "      <td>bobbies21</td>\n",
       "      <td>Jun 17, 2024</td>\n",
       "      <td>5 out of 5 stars review</td>\n",
       "      <td>Planted</td>\n",
       "      <td>[This review was collected as part of a promot...</td>\n",
       "    </tr>\n",
       "    <tr>\n",
       "      <th>4</th>\n",
       "      <td>Ferry-Morse 340MG California Poppy Mission Bel...</td>\n",
       "      <td>379839788</td>\n",
       "      <td>Grow vibrant annual flowers with Ferry-Morse C...</td>\n",
       "      <td>Ferry-Morse</td>\n",
       "      <td>4.3</td>\n",
       "      <td>19</td>\n",
       "      <td>https://i5.walmartimages.com/seo/Ferry-Morse-4...</td>\n",
       "      <td>https://www.walmart.com/ip/Ferry-Morse-400MG-C...</td>\n",
       "      <td>calowe</td>\n",
       "      <td>Jun 18, 2024</td>\n",
       "      <td>5 out of 5 stars review</td>\n",
       "      <td>Flowers!</td>\n",
       "      <td>[This review was collected as part of a promot...</td>\n",
       "    </tr>\n",
       "  </tbody>\n",
       "</table>\n",
       "</div>"
      ],
      "text/plain": [
       "                                        product_name        sku  \\\n",
       "0  Ferry-Morse 340MG California Poppy Mission Bel...  379839788   \n",
       "1  Ferry-Morse 340MG California Poppy Mission Bel...  379839788   \n",
       "2  Ferry-Morse 340MG California Poppy Mission Bel...  379839788   \n",
       "3  Ferry-Morse 340MG California Poppy Mission Bel...  379839788   \n",
       "4  Ferry-Morse 340MG California Poppy Mission Bel...  379839788   \n",
       "\n",
       "                                         description        brand  \\\n",
       "0  Grow vibrant annual flowers with Ferry-Morse C...  Ferry-Morse   \n",
       "1  Grow vibrant annual flowers with Ferry-Morse C...  Ferry-Morse   \n",
       "2  Grow vibrant annual flowers with Ferry-Morse C...  Ferry-Morse   \n",
       "3  Grow vibrant annual flowers with Ferry-Morse C...  Ferry-Morse   \n",
       "4  Grow vibrant annual flowers with Ferry-Morse C...  Ferry-Morse   \n",
       "\n",
       "   rating_value  review_count  \\\n",
       "0           4.3            19   \n",
       "1           4.3            19   \n",
       "2           4.3            19   \n",
       "3           4.3            19   \n",
       "4           4.3            19   \n",
       "\n",
       "                                           image_url  \\\n",
       "0  https://i5.walmartimages.com/seo/Ferry-Morse-4...   \n",
       "1  https://i5.walmartimages.com/seo/Ferry-Morse-4...   \n",
       "2  https://i5.walmartimages.com/seo/Ferry-Morse-4...   \n",
       "3  https://i5.walmartimages.com/seo/Ferry-Morse-4...   \n",
       "4  https://i5.walmartimages.com/seo/Ferry-Morse-4...   \n",
       "\n",
       "                                         product_url   customer_name  \\\n",
       "0  https://www.walmart.com/ip/Ferry-Morse-400MG-C...        nora9851   \n",
       "1  https://www.walmart.com/ip/Ferry-Morse-400MG-C...         kelleyt   \n",
       "2  https://www.walmart.com/ip/Ferry-Morse-400MG-C...  redheadedgurrl   \n",
       "3  https://www.walmart.com/ip/Ferry-Morse-400MG-C...       bobbies21   \n",
       "4  https://www.walmart.com/ip/Ferry-Morse-400MG-C...          calowe   \n",
       "\n",
       "    review_date              star_rating       review_title  \\\n",
       "0   Aug 7, 2024  5 out of 5 stars review  Easy seed starter   \n",
       "1  Jul 27, 2024  5 out of 5 stars review    Simple Planting   \n",
       "2  Jun 16, 2024  5 out of 5 stars review       Easy to grow   \n",
       "3  Jun 17, 2024  5 out of 5 stars review            Planted   \n",
       "4  Jun 18, 2024  5 out of 5 stars review           Flowers!   \n",
       "\n",
       "                                         review_text  \n",
       "0  [This review was collected as part of a promot...  \n",
       "1  [This review was collected as part of a promot...  \n",
       "2  [This review was collected as part of a promot...  \n",
       "3  [This review was collected as part of a promot...  \n",
       "4  [This review was collected as part of a promot...  "
      ]
     },
     "execution_count": 5,
     "metadata": {},
     "output_type": "execute_result"
    }
   ],
   "source": [
    "file = pd.read_csv('Walmart_reviews_California_poppy.csv')\n",
    "file.head()\n",
    "# file = file[file.brand == 'Pacific Herbs']\n",
    "# file.to_excel('Amazon_reviews.xlsx', index_label='asin')\n",
    "\n"
   ]
  },
  {
   "cell_type": "markdown",
   "metadata": {},
   "source": [
    "##### sent with vader"
   ]
  },
  {
   "cell_type": "code",
   "execution_count": 11,
   "metadata": {},
   "outputs": [],
   "source": [
    "from vaderSentiment.vaderSentiment import SentimentIntensityAnalyzer\n",
    "file = file.dropna(subset = 'review_text').drop_duplicates(subset='review_text').reset_index(drop = True)\n",
    "analyzer = SentimentIntensityAnalyzer()\n",
    "vs = [analyzer.polarity_scores(sentence) for sentence in file['review_text']]\n",
    "\n",
    "file[list(vs[0].keys())] = [[v[k] for k in vs[0].keys()] for v in vs]\n",
    "file['sentiment'] = file.compound.apply(lambda x: 'positive' if x >= 0.05 else ('negative' if x <= -0.05 else 'neutral'))\n",
    "\n",
    "file.to_csv('Walmart_reviews_w_sentiment.csv', mode='a', index=False, header=True)\n",
    "file.to_excel('Walmart_reviews_w_sentiment.xlsx', index = False)"
   ]
  },
  {
   "cell_type": "code",
   "execution_count": 12,
   "metadata": {},
   "outputs": [
    {
     "data": {
      "image/png": "[encoded data removed]",
      "text/plain": [
       "<Figure size 640x480 with 1 Axes>"
      ]
     },
     "metadata": {},
     "output_type": "display_data"
    }
   ],
   "source": [
    "import matplotlib.pyplot as plt\n",
    "fig, ax = plt.subplots()\n",
    "\n",
    "file.sentiment.value_counts().plot(kind='pie', autopct='%1.1f%%', ax=ax,)\n",
    "ax.set_ylabel('')\n",
    "ax.set_title('Sentiment Distribution of Walmart Reviews on California Poppy Products', size = 10)\n",
    "fig.savefig('sentiment_distribution.png', dpi = 300)"
   ]
  },
  {
   "cell_type": "markdown",
   "metadata": {},
   "source": [
    "### iherb"
   ]
  },
  {
   "cell_type": "code",
   "execution_count": 2,
   "metadata": {},
   "outputs": [
    {
     "name": "stdout",
     "output_type": "stream",
     "text": [
      "C:\\Users\\tianc\\scrapfly-scrapers\\iherb-scraper\\results\n"
     ]
    }
   ],
   "source": [
    "%cd ~/scrapfly-scrapers/iherb-scraper/results/\n",
    "import pandas as pd\n",
    "\n",
    "files = []\n",
    "for kw in ['tea', 'tincture', 'supplement', 'drink']:\n",
    "    search = pd.read_json(f'search_{kw}.json')\n",
    "    product = pd.read_json(f'search_{kw}_products.json')\n",
    "    review = pd.read_json(f'search_{kw}_reviews.json')\n",
    "\n",
    "\n",
    "    search.url = search.apply(lambda x: x.url if x.url.startswith('https://www.iherb.com') else '/pr/'.join(x.review_url.split('/r/')), axis = 1)\n",
    "\n",
    "    file = review.merge(search, on = 'review_url').merge(product, on = 'url')\n",
    "    file.drop(columns = ['rating_value', 'review_count'], inplace = True)\n",
    "\n",
    "    column_order = [\n",
    "        'name', 'price', 'sku', 'description', 'direction', 'ingredients', 'warnings', \n",
    "        'disclaimer', 'info_table', 'url', 'avg_rating', 'total_reviews', 'review_url', \n",
    "        'title', 'rating', 'text', 'location_and_date', 'verified', 'rewarded'\n",
    "    ]\n",
    "\n",
    "    file = file[column_order]\n",
    "    file.drop_duplicates(subset = ['text', 'location_and_date'],)\n",
    "    files += [file]\n"
   ]
  },
  {
   "cell_type": "code",
   "execution_count": 12,
   "metadata": {},
   "outputs": [],
   "source": [
    "comb_file = pd.concat(files)\n",
    "comb_file = comb_file.reset_index().drop(columns = 'index')\n",
    "comb_file.to_csv('iherb_reviews.csv', index = False)\n",
    "comb_file.to_excel('iherb_reviews.xlsx', index = False)\n"
   ]
  },
  {
   "cell_type": "code",
   "execution_count": null,
   "metadata": {},
   "outputs": [],
   "source": []
  }
 ],
 "metadata": {
  "kernelspec": {
   "display_name": "Python 3 (ipykernel)",
   "language": "python",
   "name": "python3"
  },
  "language_info": {
   "codemirror_mode": {
    "name": "ipython",
    "version": 3
   },
   "file_extension": ".py",
   "mimetype": "text/x-python",
   "name": "python",
   "nbconvert_exporter": "python",
   "pygments_lexer": "ipython3",
   "version": "3.11.7"
  }
 },
 "nbformat": 4,
 "nbformat_minor": 4
}
