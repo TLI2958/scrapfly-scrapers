{
 "cells": [
  {
   "cell_type": "markdown",
   "metadata": {},
   "source": [
    "### Etsy"
   ]
  },
  {
   "cell_type": "code",
   "execution_count": 2,
   "metadata": {},
   "outputs": [
    {
     "data": {
      "text/plain": [
       "'c:\\\\Users\\\\tianc\\\\scrapfly-scrapers\\\\etsy-scraper\\\\results'"
      ]
     },
     "execution_count": 2,
     "metadata": {},
     "output_type": "execute_result"
    }
   ],
   "source": [
    "from collections.abc import MutableMapping\n",
    "import json\n",
    "import csv\n",
    "import os \n",
    "import pandas as pd\n",
    "\n",
    "def _write_to_csv(csv_file, files):\n",
    "    headers = ['Name', 'URL', 'SKU', 'Description', 'Category', \n",
    "               'Brand','Rating Value', 'Review Count', 'Price', 'Price Currency', \n",
    "               'Availability', 'Material', 'Review', 'Rate', 'Reviewer', 'Review Date']\n",
    "    \n",
    "    # Write headers to the CSV file\n",
    "    for f in files:\n",
    "        with open(f, 'r', encoding = 'utf-8') as file:\n",
    "            f = json.load(file)\n",
    "            with open(csv_file, mode='a', newline='', encoding='utf-8') as file:\n",
    "                writer = csv.writer(file)\n",
    "                if not os.path.exists(csv_file) or os.stat(csv_file).st_size == 0:\n",
    "                    writer.writerow(headers)\n",
    "                for product in f:\n",
    "                    # For each product, we extract required data, handle missing values with `.get()` method\n",
    "                    url = product.get('url', '')\n",
    "                    name = product.get('name', '')\n",
    "                    sku = product.get('sku', '')\n",
    "                    description = product.get('description', '').replace('\\n', ' ')\n",
    "                    category = product.get('category', '')\n",
    "                    \n",
    "                    brand = product.get('brand', {}).get('name', '')\n",
    "                    \n",
    "                    rating_value = product.get('aggregateRating', {}).get('ratingValue', '')\n",
    "                    total_review_count = product.get('aggregateRating', {}).get('reviewCount', '')\n",
    "\n",
    "                    price = product.get('offers', {}).get('price', '')\n",
    "                    price_currency = product.get('offers', {}).get('priceCurrency', '')\n",
    "                    availability = product.get('offers', {}).get('availability', '')\n",
    "                    \n",
    "                    material = product.get('material', '')\n",
    "                    \n",
    "                    # Handling the first review data\n",
    "                    if 'review' in product and len(product['review']) > 0:\n",
    "                        for item in product['review']:\n",
    "                            review = item.get('reviewBody', '')\n",
    "                            rate = item.get('reviewRating', {}).get('ratingValue', '') \n",
    "                            reviewer = item.get('author', {}).get('name', '') \n",
    "                            review_date = item.get('datePublished', '')\n",
    "                            writer.writerow([name, url, sku, description, category, \n",
    "                            brand, rating_value, total_review_count, price, price_currency, \n",
    "                            availability, material, review, rate, reviewer, review_date])\n",
    "                    else:\n",
    "                        review = rate = reviewer = review_date = ''\n",
    "                        writer.writerow([name, url, sku, description, category, \n",
    "                        brand, rating_value, total_review_count, price, price_currency, \n",
    "                        availability, material, review, rate, reviewer, review_date])\n",
    "                    \n",
    "                    # Write the row for each product\n",
    "\n",
    "\n",
    "    print(f'Data has been successfully written to {csv_file}')\n",
    "\n",
    "%pwd"
   ]
  },
  {
   "cell_type": "code",
   "execution_count": 3,
   "metadata": {},
   "outputs": [
    {
     "name": "stdout",
     "output_type": "stream",
     "text": [
      "C:\\Users\\tianc\\scrapfly-scrapers\\etsy-scraper\\results\n"
     ]
    }
   ],
   "source": [
    "%cd ~/scrapfly-scrapers/etsy-scraper/results/\n",
    "\n",
    "# csv_file = 'etsy_reviews_.csv'\n",
    "\n",
    "# files = ['products_null.json']\n",
    "# _write_to_csv(csv_file, files)\n"
   ]
  },
  {
   "cell_type": "code",
   "execution_count": 30,
   "metadata": {},
   "outputs": [
    {
     "data": {
      "text/html": [
       "<div>\n",
       "<style scoped>\n",
       "    .dataframe tbody tr th:only-of-type {\n",
       "        vertical-align: middle;\n",
       "    }\n",
       "\n",
       "    .dataframe tbody tr th {\n",
       "        vertical-align: top;\n",
       "    }\n",
       "\n",
       "    .dataframe thead th {\n",
       "        text-align: right;\n",
       "    }\n",
       "</style>\n",
       "<table border=\"1\" class=\"dataframe\">\n",
       "  <thead>\n",
       "    <tr style=\"text-align: right;\">\n",
       "      <th></th>\n",
       "      <th>Name</th>\n",
       "      <th>URL</th>\n",
       "      <th>SKU</th>\n",
       "      <th>Description</th>\n",
       "      <th>Category</th>\n",
       "      <th>Brand</th>\n",
       "      <th>Rating Value</th>\n",
       "      <th>Review Count</th>\n",
       "      <th>Price</th>\n",
       "      <th>Price Currency</th>\n",
       "      <th>...</th>\n",
       "      <th>Review</th>\n",
       "      <th>Rate</th>\n",
       "      <th>Reviewer</th>\n",
       "      <th>Review Date</th>\n",
       "      <th>neg</th>\n",
       "      <th>neu</th>\n",
       "      <th>pos</th>\n",
       "      <th>compound</th>\n",
       "      <th>sentiment</th>\n",
       "      <th>pred</th>\n",
       "    </tr>\n",
       "  </thead>\n",
       "  <tbody>\n",
       "    <tr>\n",
       "      <th>0</th>\n",
       "      <td>Herbal Sleep Tea | Relaxation Tea | Loose Leaf...</td>\n",
       "      <td>https://www.etsy.com/listing/1460562572/herbal...</td>\n",
       "      <td>1460562572</td>\n",
       "      <td>Are you having trouble falling asleep? Do you ...</td>\n",
       "      <td>Home &amp; Living &lt; Food &amp; Drink &lt; Coffee &amp; Tea &lt; Tea</td>\n",
       "      <td>SwedeeBird</td>\n",
       "      <td>4.7</td>\n",
       "      <td>28.0</td>\n",
       "      <td>19.95</td>\n",
       "      <td>USD</td>\n",
       "      <td>...</td>\n",
       "      <td>One of my favorite teas from the collection Se...</td>\n",
       "      <td>5.0</td>\n",
       "      <td>jennsok2177</td>\n",
       "      <td>2023-09-05</td>\n",
       "      <td>0.035</td>\n",
       "      <td>0.550</td>\n",
       "      <td>0.415</td>\n",
       "      <td>0.9563</td>\n",
       "      <td>positive</td>\n",
       "      <td>positive</td>\n",
       "    </tr>\n",
       "    <tr>\n",
       "      <th>1</th>\n",
       "      <td>Passion Flower Leaf Organic Dried Cut, Passifl...</td>\n",
       "      <td>https://www.etsy.com/listing/1502837456/passio...</td>\n",
       "      <td>1502837456</td>\n",
       "      <td>🜃 Type: Organic Passion flower Herb 🜃 Process:...</td>\n",
       "      <td>Home &amp; Living &lt; Food &amp; Drink &lt; Herbs, Spices &amp;...</td>\n",
       "      <td>ShopEarthFolk</td>\n",
       "      <td>4.8</td>\n",
       "      <td>3441.0</td>\n",
       "      <td>NaN</td>\n",
       "      <td>USD</td>\n",
       "      <td>...</td>\n",
       "      <td>First time ordering from this company good qua...</td>\n",
       "      <td>5.0</td>\n",
       "      <td>Jan Amsler</td>\n",
       "      <td>2024-06-13</td>\n",
       "      <td>0.000</td>\n",
       "      <td>0.588</td>\n",
       "      <td>0.412</td>\n",
       "      <td>0.7906</td>\n",
       "      <td>positive</td>\n",
       "      <td>positive</td>\n",
       "    </tr>\n",
       "    <tr>\n",
       "      <th>2</th>\n",
       "      <td>Organic Valerian Root, 1lb C/S | Tea | Valeria...</td>\n",
       "      <td>https://www.etsy.com/listing/953560672/organic...</td>\n",
       "      <td>953560672</td>\n",
       "      <td>Type: Organic Valerian Root. Color: Brown.  Pr...</td>\n",
       "      <td>Home &amp; Living &lt; Food &amp; Drink &lt; Herbs, Spices &amp;...</td>\n",
       "      <td>ShellyKongoHerbs</td>\n",
       "      <td>4.7</td>\n",
       "      <td>7747.0</td>\n",
       "      <td>NaN</td>\n",
       "      <td>USD</td>\n",
       "      <td>...</td>\n",
       "      <td>It works great will buy again</td>\n",
       "      <td>5.0</td>\n",
       "      <td>Gayle</td>\n",
       "      <td>2024-09-10</td>\n",
       "      <td>0.000</td>\n",
       "      <td>1.000</td>\n",
       "      <td>0.000</td>\n",
       "      <td>0.0000</td>\n",
       "      <td>neutral</td>\n",
       "      <td>positive</td>\n",
       "    </tr>\n",
       "    <tr>\n",
       "      <th>3</th>\n",
       "      <td>Organic Valerian Root, 1lb C/S | Tea | Valeria...</td>\n",
       "      <td>https://www.etsy.com/listing/953560672/organic...</td>\n",
       "      <td>953560672</td>\n",
       "      <td>Type: Organic Valerian Root. Color: Brown.  Pr...</td>\n",
       "      <td>Home &amp; Living &lt; Food &amp; Drink &lt; Herbs, Spices &amp;...</td>\n",
       "      <td>ShellyKongoHerbs</td>\n",
       "      <td>4.7</td>\n",
       "      <td>7747.0</td>\n",
       "      <td>NaN</td>\n",
       "      <td>USD</td>\n",
       "      <td>...</td>\n",
       "      <td>It works great will buy again</td>\n",
       "      <td>4.0</td>\n",
       "      <td>Gayle</td>\n",
       "      <td>2024-09-10</td>\n",
       "      <td>0.000</td>\n",
       "      <td>1.000</td>\n",
       "      <td>0.000</td>\n",
       "      <td>0.0000</td>\n",
       "      <td>neutral</td>\n",
       "      <td>positive</td>\n",
       "    </tr>\n",
       "    <tr>\n",
       "      <th>4</th>\n",
       "      <td>Organic Valerian Root, 1lb C/S | Tea | Valeria...</td>\n",
       "      <td>https://www.etsy.com/listing/953560672/organic...</td>\n",
       "      <td>953560672</td>\n",
       "      <td>Type: Organic Valerian Root. Color: Brown.  Pr...</td>\n",
       "      <td>Home &amp; Living &lt; Food &amp; Drink &lt; Herbs, Spices &amp;...</td>\n",
       "      <td>ShellyKongoHerbs</td>\n",
       "      <td>4.7</td>\n",
       "      <td>7747.0</td>\n",
       "      <td>NaN</td>\n",
       "      <td>USD</td>\n",
       "      <td>...</td>\n",
       "      <td>Awesome stuff great for sleeping tea Super sto...</td>\n",
       "      <td>5.0</td>\n",
       "      <td>Christopher</td>\n",
       "      <td>2024-07-09</td>\n",
       "      <td>0.000</td>\n",
       "      <td>0.366</td>\n",
       "      <td>0.634</td>\n",
       "      <td>0.9201</td>\n",
       "      <td>positive</td>\n",
       "      <td>positive</td>\n",
       "    </tr>\n",
       "  </tbody>\n",
       "</table>\n",
       "<p>5 rows × 22 columns</p>\n",
       "</div>"
      ],
      "text/plain": [
       "                                                Name  \\\n",
       "0  Herbal Sleep Tea | Relaxation Tea | Loose Leaf...   \n",
       "1  Passion Flower Leaf Organic Dried Cut, Passifl...   \n",
       "2  Organic Valerian Root, 1lb C/S | Tea | Valeria...   \n",
       "3  Organic Valerian Root, 1lb C/S | Tea | Valeria...   \n",
       "4  Organic Valerian Root, 1lb C/S | Tea | Valeria...   \n",
       "\n",
       "                                                 URL         SKU  \\\n",
       "0  https://www.etsy.com/listing/1460562572/herbal...  1460562572   \n",
       "1  https://www.etsy.com/listing/1502837456/passio...  1502837456   \n",
       "2  https://www.etsy.com/listing/953560672/organic...   953560672   \n",
       "3  https://www.etsy.com/listing/953560672/organic...   953560672   \n",
       "4  https://www.etsy.com/listing/953560672/organic...   953560672   \n",
       "\n",
       "                                         Description  \\\n",
       "0  Are you having trouble falling asleep? Do you ...   \n",
       "1  🜃 Type: Organic Passion flower Herb 🜃 Process:...   \n",
       "2  Type: Organic Valerian Root. Color: Brown.  Pr...   \n",
       "3  Type: Organic Valerian Root. Color: Brown.  Pr...   \n",
       "4  Type: Organic Valerian Root. Color: Brown.  Pr...   \n",
       "\n",
       "                                            Category             Brand  \\\n",
       "0  Home & Living < Food & Drink < Coffee & Tea < Tea        SwedeeBird   \n",
       "1  Home & Living < Food & Drink < Herbs, Spices &...     ShopEarthFolk   \n",
       "2  Home & Living < Food & Drink < Herbs, Spices &...  ShellyKongoHerbs   \n",
       "3  Home & Living < Food & Drink < Herbs, Spices &...  ShellyKongoHerbs   \n",
       "4  Home & Living < Food & Drink < Herbs, Spices &...  ShellyKongoHerbs   \n",
       "\n",
       "   Rating Value  Review Count  Price Price Currency  ...  \\\n",
       "0           4.7          28.0  19.95            USD  ...   \n",
       "1           4.8        3441.0    NaN            USD  ...   \n",
       "2           4.7        7747.0    NaN            USD  ...   \n",
       "3           4.7        7747.0    NaN            USD  ...   \n",
       "4           4.7        7747.0    NaN            USD  ...   \n",
       "\n",
       "                                              Review Rate     Reviewer  \\\n",
       "0  One of my favorite teas from the collection Se...  5.0  jennsok2177   \n",
       "1  First time ordering from this company good qua...  5.0   Jan Amsler   \n",
       "2                      It works great will buy again  5.0        Gayle   \n",
       "3                      It works great will buy again  4.0        Gayle   \n",
       "4  Awesome stuff great for sleeping tea Super sto...  5.0  Christopher   \n",
       "\n",
       "   Review Date    neg    neu    pos  compound  sentiment      pred  \n",
       "0   2023-09-05  0.035  0.550  0.415    0.9563   positive  positive  \n",
       "1   2024-06-13  0.000  0.588  0.412    0.7906   positive  positive  \n",
       "2   2024-09-10  0.000  1.000  0.000    0.0000    neutral  positive  \n",
       "3   2024-09-10  0.000  1.000  0.000    0.0000    neutral  positive  \n",
       "4   2024-07-09  0.000  0.366  0.634    0.9201   positive  positive  \n",
       "\n",
       "[5 rows x 22 columns]"
      ]
     },
     "execution_count": 30,
     "metadata": {},
     "output_type": "execute_result"
    }
   ],
   "source": [
    "file = pd.read_excel('etsy_reviews_w_sentiment.xlsx')\n",
    "file.head()\n",
    "# file = file.drop_duplicates(subset = ['name', 'title','text']).reset_index(drop = True)\n",
    "# file.to_csv('etsy_reviews_w_sentiment.csv', index = False)\n",
    "# file.to_excel('etsy_reviews_w_sentiment.xlsx', index = False)"
   ]
  },
  {
   "cell_type": "code",
   "execution_count": 26,
   "metadata": {},
   "outputs": [],
   "source": [
    "temp = file.groupby('Name').agg({'Brand':'first', 'Rating Value':'mean', 'Review Count':'first'}).reset_index()\n",
    "temp = temp.groupby('Brand').agg({'Rating Value':'mean', 'Review Count':'sum'}).sort_values(by = 'Rating Value', ascending = False).head(10).reset_index()"
   ]
  },
  {
   "cell_type": "code",
   "execution_count": 33,
   "metadata": {},
   "outputs": [],
   "source": [
    "ratings = []\n",
    "sent = []\n",
    "for b in temp.Brand:\n",
    "    ct = file[file.Brand == b].groupby('Name').agg({'Rating Value': 'first'}).reset_index()['Rating Value'].value_counts().reset_index()\n",
    "    ratings.append(ct.to_dict('records'))\n",
    "    s = file[file.Brand == b].sentiment.value_counts()/file[file.Brand == b].shape[0]\n",
    "    sent.append(s.reset_index().to_dict('records'))\n",
    "\n",
    "temp['ratings'] = ratings\n",
    "temp['sent_breakdown'] = sent"
   ]
  },
  {
   "cell_type": "markdown",
   "metadata": {
    "jp-MarkdownHeadingCollapsed": true
   },
   "source": [
    "##### sent with vader"
   ]
  },
  {
   "cell_type": "code",
   "execution_count": 25,
   "metadata": {},
   "outputs": [],
   "source": [
    "from vaderSentiment.vaderSentiment import SentimentIntensityAnalyzer\n",
    "file = file.dropna(subset = 'Review').drop_duplicates().reset_index(drop = True)\n",
    "\n",
    "analyzer = SentimentIntensityAnalyzer()\n",
    "vs = [analyzer.polarity_scores(sentence) for sentence in file['Review']]\n",
    "\n",
    "file[list(vs[0].keys())] = [[v[k] for k in vs[0].keys()] for v in vs]\n",
    "file['sentiment'] = file.compound.apply(lambda x: 'positive' if x >= 0.05 else ('negative' if x <= -0.05 else 'neutral'))\n",
    "\n",
    "file.to_csv('etsy_reviews_w_sentiment.csv', index = False)\n",
    "file.to_excel('etsy_reviews_w_sentiment.xlsx', index = False)"
   ]
  },
  {
   "cell_type": "code",
   "execution_count": 9,
   "metadata": {},
   "outputs": [
    {
     "data": {
      "image/png": "[encoded data removed]",
      "text/plain": [
       "<Figure size 640x480 with 1 Axes>"
      ]
     },
     "metadata": {},
     "output_type": "display_data"
    }
   ],
   "source": [
    "import matplotlib.pyplot as plt\n",
    "fig, ax = plt.subplots()\n",
    "\n",
    "file.pred.value_counts().plot(kind='pie', autopct='%1.1f%%', ax=ax,)\n",
    "ax.set_ylabel('')\n",
    "ax.set_title('Sentiment Distribution of Etsy Reviews on California Poppy Products', size = 10)\n",
    "fig.savefig('sentiment_distribution_etsy_transformer.png', dpi = 300)"
   ]
  },
  {
   "cell_type": "markdown",
   "metadata": {},
   "source": [
    "### TrustPilot"
   ]
  },
  {
   "cell_type": "code",
   "execution_count": 1,
   "metadata": {},
   "outputs": [],
   "source": [
    "from collections.abc import MutableMapping\n",
    "import json\n",
    "import csv\n",
    "import os \n",
    "import pandas as pd\n",
    "\n",
    "def _write_to_csv(csv_file, files):\n",
    "    headers = ['Company', 'Website', 'Id', 'Source',\n",
    "               'Trust Score (if from TrustPilot)', 'Review Count', 'Review Source','Title', 'Rate', 'Review', 'Likes', 'Reply', 'Reviewer', 'Review Date', 'Total Reviews by Reviewer', \n",
    "               'Language', 'Country Code']\n",
    "    \n",
    "    # Write headers to the CSV file\n",
    "    for i in range(0, len(files), 2):\n",
    "        company = files[i]\n",
    "        reviews = files[i+1]\n",
    "        with open(company, 'r', encoding = 'utf-8') as f1, open(reviews, 'r', encoding = 'utf-8') as f2:    \n",
    "            company = json.load(f1)[0]\n",
    "            reviews = json.load(f2)\n",
    "            with open(csv_file, mode='a', newline='', encoding='utf-8') as file:\n",
    "                writer = csv.writer(file)\n",
    "                if not os.path.exists(csv_file) or os.stat(csv_file).st_size == 0:\n",
    "                    writer.writerow(headers)\n",
    "                Company =  company.get('companyDetails', {}).get('displayName', '')\n",
    "                Website = company.get('companyDetails', {}).get('websiteUrl', '')\n",
    "                Id = company.get('companyDetails', {}).get('id', '')\n",
    "                Source = company.get('pageUrl', '')\n",
    "                Trust_Score = company.get('companyDetails', {}).get('trustScore', '')\n",
    "                Review_Count = company.get('companyDetails', {}).get('numberOfReviews', '')\n",
    "                for r in reviews:\n",
    "                    ReviewSource = r.get('labels', {}).get('verification', {}).get('reviewSourceName', '')\n",
    "                    Title = r.get('title', '')\n",
    "                    Rate = r.get('rating', '')\n",
    "                    Review = r.get('text', '')\n",
    "                    Likes = r.get('likes', '')\n",
    "                    Reply = r.get('reply', '')\n",
    "                    Reviewer = r.get('consumer', {}).get('displayName', '') or r.get('consumer', {}).get('id', '')\n",
    "                    ReviewDate = r.get('dates', {}).get('publishedDate', '')\n",
    "                    TotalReviewsbyReviewer = r.get('consumer', {}).get('numberOfReviews', '')\n",
    "                    Language = r.get('language', '')   \n",
    "                    CountryCode = r.get('consumer', {}).get('countryCode', '') \n",
    "                    writer.writerow([Company, Website, Id, Source, Trust_Score, Review_Count, ReviewSource, \n",
    "                                            Title, Rate, Review, Likes, Reply, Reviewer, ReviewDate, TotalReviewsbyReviewer, \n",
    "                                            Language, CountryCode])\n",
    "                    \n",
    "    print(f'Data has been successfully written to {csv_file}')\n"
   ]
  },
  {
   "cell_type": "code",
   "execution_count": 4,
   "metadata": {},
   "outputs": [
    {
     "name": "stdout",
     "output_type": "stream",
     "text": [
      "C:\\Users\\tianc\\scrapfly-scrapers\\trustpilot-scraper\\results\n",
      "Data has been successfully written to trustpilot_reviews.csv\n"
     ]
    }
   ],
   "source": [
    "%cd  ~/scrapfly-scrapers/trustpilot-scraper/results/\n",
    "\n",
    "csv_file = 'trustpilot_reviews.csv'\n",
    "files = ['companies.json','reviews.json',\n",
    "        'companies_0.json', 'reviews_0.json']\n",
    "\n",
    "\n",
    "_write_to_csv(csv_file, files)"
   ]
  },
  {
   "cell_type": "code",
   "execution_count": 5,
   "metadata": {},
   "outputs": [
    {
     "data": {
      "text/html": [
       "<div>\n",
       "<style scoped>\n",
       "    .dataframe tbody tr th:only-of-type {\n",
       "        vertical-align: middle;\n",
       "    }\n",
       "\n",
       "    .dataframe tbody tr th {\n",
       "        vertical-align: top;\n",
       "    }\n",
       "\n",
       "    .dataframe thead th {\n",
       "        text-align: right;\n",
       "    }\n",
       "</style>\n",
       "<table border=\"1\" class=\"dataframe\">\n",
       "  <thead>\n",
       "    <tr style=\"text-align: right;\">\n",
       "      <th></th>\n",
       "      <th>Company</th>\n",
       "      <th>Website</th>\n",
       "      <th>Id</th>\n",
       "      <th>Source</th>\n",
       "      <th>Trust Score (if from TrustPilot)</th>\n",
       "      <th>Review Count</th>\n",
       "      <th>Review Source</th>\n",
       "      <th>Title</th>\n",
       "      <th>Rate</th>\n",
       "      <th>Review</th>\n",
       "      <th>Likes</th>\n",
       "      <th>Reply</th>\n",
       "      <th>Reviewer</th>\n",
       "      <th>Review Date</th>\n",
       "      <th>Total Reviews by Reviewer</th>\n",
       "      <th>Language</th>\n",
       "      <th>Country Code</th>\n",
       "    </tr>\n",
       "  </thead>\n",
       "  <tbody>\n",
       "    <tr>\n",
       "      <th>0</th>\n",
       "      <td>Foster Farms</td>\n",
       "      <td>http://fosterfarms.com</td>\n",
       "      <td>64332c1c26e69b18a5e193bb</td>\n",
       "      <td>https://www.trustpilot.com/review/fosterfarms.com</td>\n",
       "      <td>3.7</td>\n",
       "      <td>2</td>\n",
       "      <td>Organic</td>\n",
       "      <td>I love your Foster Farms Jalapeno Cheese Corn ...</td>\n",
       "      <td>5</td>\n",
       "      <td>So cheesy, and so spicy! They make your mouth ...</td>\n",
       "      <td>0</td>\n",
       "      <td>NaN</td>\n",
       "      <td>Alec Heesacker</td>\n",
       "      <td>2024-04-05T23:55:51.000Z</td>\n",
       "      <td>48</td>\n",
       "      <td>en</td>\n",
       "      <td>US</td>\n",
       "    </tr>\n",
       "    <tr>\n",
       "      <th>1</th>\n",
       "      <td>Foster Farms</td>\n",
       "      <td>http://fosterfarms.com</td>\n",
       "      <td>64332c1c26e69b18a5e193bb</td>\n",
       "      <td>https://www.trustpilot.com/review/fosterfarms.com</td>\n",
       "      <td>3.7</td>\n",
       "      <td>2</td>\n",
       "      <td>Organic</td>\n",
       "      <td>Great chicken breasts</td>\n",
       "      <td>2</td>\n",
       "      <td>Great chicken breasts, great product created b...</td>\n",
       "      <td>0</td>\n",
       "      <td>NaN</td>\n",
       "      <td>Malvina</td>\n",
       "      <td>2023-04-09T23:30:04.000Z</td>\n",
       "      <td>7</td>\n",
       "      <td>en</td>\n",
       "      <td>US</td>\n",
       "    </tr>\n",
       "    <tr>\n",
       "      <th>2</th>\n",
       "      <td>Mountain Rose Herbs</td>\n",
       "      <td>http://www.mountainroseherbs.com</td>\n",
       "      <td>56e33ba20000ff00058a1440</td>\n",
       "      <td>https://www.trustpilot.com/review/www.mountain...</td>\n",
       "      <td>4.8</td>\n",
       "      <td>11085</td>\n",
       "      <td>BigCommerce</td>\n",
       "      <td>Top quality</td>\n",
       "      <td>5</td>\n",
       "      <td>Top quality, good service, accurate orders</td>\n",
       "      <td>0</td>\n",
       "      <td>NaN</td>\n",
       "      <td>customer</td>\n",
       "      <td>2024-09-26T17:11:53.000Z</td>\n",
       "      <td>4</td>\n",
       "      <td>en</td>\n",
       "      <td>US</td>\n",
       "    </tr>\n",
       "    <tr>\n",
       "      <th>3</th>\n",
       "      <td>Mountain Rose Herbs</td>\n",
       "      <td>http://www.mountainroseherbs.com</td>\n",
       "      <td>56e33ba20000ff00058a1440</td>\n",
       "      <td>https://www.trustpilot.com/review/www.mountain...</td>\n",
       "      <td>4.8</td>\n",
       "      <td>11085</td>\n",
       "      <td>BigCommerce</td>\n",
       "      <td>Great Products Everytime!</td>\n",
       "      <td>5</td>\n",
       "      <td>I'm never disappointed with what I received fr...</td>\n",
       "      <td>0</td>\n",
       "      <td>NaN</td>\n",
       "      <td>Star</td>\n",
       "      <td>2024-09-26T16:10:16.000Z</td>\n",
       "      <td>1</td>\n",
       "      <td>en</td>\n",
       "      <td>US</td>\n",
       "    </tr>\n",
       "    <tr>\n",
       "      <th>4</th>\n",
       "      <td>Mountain Rose Herbs</td>\n",
       "      <td>http://www.mountainroseherbs.com</td>\n",
       "      <td>56e33ba20000ff00058a1440</td>\n",
       "      <td>https://www.trustpilot.com/review/www.mountain...</td>\n",
       "      <td>4.8</td>\n",
       "      <td>11085</td>\n",
       "      <td>BigCommerce</td>\n",
       "      <td>It takes too long to ship my order</td>\n",
       "      <td>3</td>\n",
       "      <td>It takes too long to ship my order!  several d...</td>\n",
       "      <td>0</td>\n",
       "      <td>NaN</td>\n",
       "      <td>JILL BRASHEAR</td>\n",
       "      <td>2024-09-26T02:41:40.000Z</td>\n",
       "      <td>3</td>\n",
       "      <td>en</td>\n",
       "      <td>US</td>\n",
       "    </tr>\n",
       "  </tbody>\n",
       "</table>\n",
       "</div>"
      ],
      "text/plain": [
       "               Company                           Website  \\\n",
       "0         Foster Farms            http://fosterfarms.com   \n",
       "1         Foster Farms            http://fosterfarms.com   \n",
       "2  Mountain Rose Herbs  http://www.mountainroseherbs.com   \n",
       "3  Mountain Rose Herbs  http://www.mountainroseherbs.com   \n",
       "4  Mountain Rose Herbs  http://www.mountainroseherbs.com   \n",
       "\n",
       "                         Id  \\\n",
       "0  64332c1c26e69b18a5e193bb   \n",
       "1  64332c1c26e69b18a5e193bb   \n",
       "2  56e33ba20000ff00058a1440   \n",
       "3  56e33ba20000ff00058a1440   \n",
       "4  56e33ba20000ff00058a1440   \n",
       "\n",
       "                                              Source  \\\n",
       "0  https://www.trustpilot.com/review/fosterfarms.com   \n",
       "1  https://www.trustpilot.com/review/fosterfarms.com   \n",
       "2  https://www.trustpilot.com/review/www.mountain...   \n",
       "3  https://www.trustpilot.com/review/www.mountain...   \n",
       "4  https://www.trustpilot.com/review/www.mountain...   \n",
       "\n",
       "   Trust Score (if from TrustPilot)  Review Count Review Source  \\\n",
       "0                               3.7             2       Organic   \n",
       "1                               3.7             2       Organic   \n",
       "2                               4.8         11085   BigCommerce   \n",
       "3                               4.8         11085   BigCommerce   \n",
       "4                               4.8         11085   BigCommerce   \n",
       "\n",
       "                                               Title  Rate  \\\n",
       "0  I love your Foster Farms Jalapeno Cheese Corn ...     5   \n",
       "1                              Great chicken breasts     2   \n",
       "2                                        Top quality     5   \n",
       "3                          Great Products Everytime!     5   \n",
       "4                 It takes too long to ship my order     3   \n",
       "\n",
       "                                              Review  Likes Reply  \\\n",
       "0  So cheesy, and so spicy! They make your mouth ...      0   NaN   \n",
       "1  Great chicken breasts, great product created b...      0   NaN   \n",
       "2         Top quality, good service, accurate orders      0   NaN   \n",
       "3  I'm never disappointed with what I received fr...      0   NaN   \n",
       "4  It takes too long to ship my order!  several d...      0   NaN   \n",
       "\n",
       "         Reviewer               Review Date  Total Reviews by Reviewer  \\\n",
       "0  Alec Heesacker  2024-04-05T23:55:51.000Z                         48   \n",
       "1         Malvina  2023-04-09T23:30:04.000Z                          7   \n",
       "2        customer  2024-09-26T17:11:53.000Z                          4   \n",
       "3            Star  2024-09-26T16:10:16.000Z                          1   \n",
       "4   JILL BRASHEAR  2024-09-26T02:41:40.000Z                          3   \n",
       "\n",
       "  Language Country Code  \n",
       "0       en           US  \n",
       "1       en           US  \n",
       "2       en           US  \n",
       "3       en           US  \n",
       "4       en           US  "
      ]
     },
     "execution_count": 5,
     "metadata": {},
     "output_type": "execute_result"
    }
   ],
   "source": [
    "file = pd.read_csv('trustpilot_reviews_.csv')\n",
    "file.head()\n",
    "# file = file.dropna(subset = 'Review')\n",
    "# file.to_excel('trustpilot_reviews.xlsx')\n"
   ]
  },
  {
   "cell_type": "code",
   "execution_count": 16,
   "metadata": {},
   "outputs": [
    {
     "data": {
      "text/plain": [
       "['https://www.amazon.com/Pacific-Herbs-Menopause-Relief-Herb/product-reviews/',\n",
       " '/ref=cm_cr_dp_d_show_all_btm?ie=UTF8&reviewerType=all_reviews']"
      ]
     },
     "execution_count": 16,
     "metadata": {},
     "output_type": "execute_result"
    }
   ],
   "source": [
    "url = 'https://www.amazon.com/Pacific-Herbs-Menopause-Relief-Herb/product-reviews/B00CXXTIVE/ref=cm_cr_dp_d_show_all_btm?ie=UTF8&reviewerType=all_reviews'\n",
    "ASIN = url.split(\"/product-reviews/\")[1].split(\"/\")[0]\n",
    "url.split(f'{ASIN}')"
   ]
  },
  {
   "cell_type": "code",
   "execution_count": null,
   "metadata": {},
   "outputs": [],
   "source": [
    "total_pages = 10\n",
    "_reviews_per_page = 20\n",
    "for page in range(2, total_pages + 1):\n",
    "    url = f\"https://www.amazon.com/Pacific-Herbs-Menopause-Relief-Herb/product-reviews/{ASIN}/ref=cm_cr_getr_d_paging_btm_next_{page}?pageNumber={page}&pageSize={_reviews_per_page}\"\n",
    "    print(url)"
   ]
  },
  {
   "cell_type": "markdown",
   "metadata": {},
   "source": [
    "### Amazon"
   ]
  },
  {
   "cell_type": "code",
   "execution_count": 1,
   "metadata": {},
   "outputs": [],
   "source": [
    "from collections.abc import MutableMapping\n",
    "import json\n",
    "import csv\n",
    "import os\n",
    "import pandas as pd\n",
    "\n",
    "def _write_to_csv(csv_file, files):\n",
    "    # Updated headers to match the data order\n",
    "    # headers = [\n",
    "    #     'asin', 'brand', 'name', 'description', 'features', 'stars', \n",
    "    #     'rating_count', 'review_title', 'review_rating', \n",
    "    #     'review_location_and_date', 'verified', 'review_body', 'images'\n",
    "    # ]\n",
    "    headers = [\n",
    "        'asin', 'name', 'brand', 'description', 'features',\n",
    "        'stars', 'rating_count', \n",
    "        'info_table','ingredients'\n",
    "    ]\n",
    "\n",
    "    # Write headers to the CSV file\n",
    "    for f in files:\n",
    "        with open(f, 'r', encoding='utf-8') as file:\n",
    "            f = json.load(file)\n",
    "            with open(csv_file, mode='a', newline='', encoding='utf-8') as file:\n",
    "                writer = csv.writer(file)\n",
    "                \n",
    "                # Write headers only if the file is empty\n",
    "                if not os.path.exists(csv_file) or os.stat(csv_file).st_size == 0:\n",
    "                    writer.writerow(headers)\n",
    "\n",
    "                for product in f:\n",
    "                    asin = product.get('asin', '')\n",
    "                    brand = product.get('brand', '')\n",
    "                    name = product.get('name', '')\n",
    "                    description = product.get('description', '')\n",
    "                    features = ' | '.join(product.get('features', []))  # Join features into a single string\n",
    "                    stars = product.get('stars', '')  # Extract stars\n",
    "                    rating_count = product.get('rating_count', '')  # Extract rating count\n",
    "                    \n",
    "                    # # Handling the review information\n",
    "                    # review_title = product.get('title', '')\n",
    "                    # review_rating = product.get('rating', '')\n",
    "                    # review_date = product.get('location_and_date', '')\n",
    "                    # verified = product.get('verified', '')\n",
    "                    # review_text = product.get('text', '')\n",
    "\n",
    "                    # extract ingredients for quality analysis\n",
    "                    ingredients = product.get('ingredients', '') \n",
    "                    \n",
    "                    # Join image URLs into a single string\n",
    "                    # images = ' | '.join(product.get('images', []))\n",
    "\n",
    "                    # Write row to CSV, with order matching the headers|\n",
    "                    writer.writerow([asin, name, brand, description, features, stars, \n",
    "                                     rating_count, ingredients]) \n",
    "                                    #  review_title, review_rating,\n",
    "                                    #  review_date, verified, review_text, images])\n",
    "                    # writer.writerow([asin, name, ingredients])\n",
    "\n",
    "    print(f'Data has been successfully written to {csv_file}')\n"
   ]
  },
  {
   "cell_type": "code",
   "execution_count": 2,
   "metadata": {},
   "outputs": [
    {
     "name": "stdout",
     "output_type": "stream",
     "text": [
      "C:\\Users\\tianc\\scrapfly-scrapers\\amazon-scraper\\results\n"
     ]
    }
   ],
   "source": [
    "%cd  ~/scrapfly-scrapers/amazon-scraper/results/\n",
    "\n",
    "# csv_file = 'Amazon_reviews_california_poppy_products_only.csv'\n",
    "\n",
    "# files = ['search_california_poppy_tea_products_only.json', \n",
    "#          'search_california_poppy_tincture_products_only.json',\n",
    "#          'search_california_poppy_drink_products_only.json',\n",
    "#          'search_california_poppy_supplement_products_only.json']\n",
    "# _write_to_csv(csv_file, files)\n"
   ]
  },
  {
   "cell_type": "code",
   "execution_count": 3,
   "metadata": {},
   "outputs": [],
   "source": [
    "file = pd.read_csv('Amazon_reviews_california_poppy_products_only.csv')\n",
    "reviews = pd.read_excel('Amazon_reviews_w_sentiment.xlsx', index_col=0)\n",
    "# file.drop_duplicates(subset = ['asin'], inplace=True)\n",
    "# file.to_csv('Amazon_reviews_california_poppy_products_only.csv', index = False)\n",
    "# file = file[file.brand == 'Pacific Herbs']\n",
    "# file.to_excel('Amazon_reviews.xlsx', index_label='asin')"
   ]
  },
  {
   "cell_type": "code",
   "execution_count": 4,
   "metadata": {},
   "outputs": [],
   "source": [
    "file.brand = file.brand.apply(lambda x: x.split('Store')[0].split('Visit the')[-1].strip() if x.startswith('Visit the') else x.split(':')[-1].strip() if x.startswith('Brand') else x)\n",
    "comb = file.merge(reviews.reset_index(), on = 'asin', how = 'inner')\n",
    "comb['brand'] = comb.brand_x\n",
    "comb.stars_x = comb.stars_x.apply(lambda x: float(x.split(' out of')[0]))\n",
    "comb.rating_count_x = comb.rating_count_x.apply(lambda x: int(x.split(' global')[0].replace(',','')))\n",
    "comb.drop(columns = ['brand_x','brand_y', 'stars_y', 'rating_count_y'], inplace = True)"
   ]
  },
  {
   "cell_type": "markdown",
   "metadata": {},
   "source": []
  },
  {
   "cell_type": "code",
   "execution_count": 36,
   "metadata": {},
   "outputs": [
    {
     "data": {
      "text/html": [
       "<div>\n",
       "<style scoped>\n",
       "    .dataframe tbody tr th:only-of-type {\n",
       "        vertical-align: middle;\n",
       "    }\n",
       "\n",
       "    .dataframe tbody tr th {\n",
       "        vertical-align: top;\n",
       "    }\n",
       "\n",
       "    .dataframe thead th {\n",
       "        text-align: right;\n",
       "    }\n",
       "</style>\n",
       "<table border=\"1\" class=\"dataframe\">\n",
       "  <thead>\n",
       "    <tr style=\"text-align: right;\">\n",
       "      <th></th>\n",
       "      <th>brand</th>\n",
       "      <th>stars_x</th>\n",
       "      <th>rating_count_x</th>\n",
       "    </tr>\n",
       "  </thead>\n",
       "  <tbody>\n",
       "    <tr>\n",
       "      <th>0</th>\n",
       "      <td>EnjoyGevity</td>\n",
       "      <td>5.00</td>\n",
       "      <td>4</td>\n",
       "    </tr>\n",
       "    <tr>\n",
       "      <th>1</th>\n",
       "      <td>Akshit</td>\n",
       "      <td>4.80</td>\n",
       "      <td>10</td>\n",
       "    </tr>\n",
       "    <tr>\n",
       "      <th>2</th>\n",
       "      <td>Alivio Vital</td>\n",
       "      <td>4.70</td>\n",
       "      <td>35</td>\n",
       "    </tr>\n",
       "    <tr>\n",
       "      <th>3</th>\n",
       "      <td>Yogi</td>\n",
       "      <td>4.70</td>\n",
       "      <td>61206</td>\n",
       "    </tr>\n",
       "    <tr>\n",
       "      <th>4</th>\n",
       "      <td>Rishi Tea</td>\n",
       "      <td>4.70</td>\n",
       "      <td>1114</td>\n",
       "    </tr>\n",
       "    <tr>\n",
       "      <th>5</th>\n",
       "      <td>Standard Process Inc.</td>\n",
       "      <td>4.65</td>\n",
       "      <td>2509</td>\n",
       "    </tr>\n",
       "    <tr>\n",
       "      <th>6</th>\n",
       "      <td>Eelicious</td>\n",
       "      <td>4.60</td>\n",
       "      <td>48</td>\n",
       "    </tr>\n",
       "    <tr>\n",
       "      <th>7</th>\n",
       "      <td>Buddha Teas</td>\n",
       "      <td>4.60</td>\n",
       "      <td>5873</td>\n",
       "    </tr>\n",
       "    <tr>\n",
       "      <th>8</th>\n",
       "      <td>The Republic of Tea</td>\n",
       "      <td>4.60</td>\n",
       "      <td>2229</td>\n",
       "    </tr>\n",
       "    <tr>\n",
       "      <th>9</th>\n",
       "      <td>Tiesta Tea</td>\n",
       "      <td>4.60</td>\n",
       "      <td>26690</td>\n",
       "    </tr>\n",
       "  </tbody>\n",
       "</table>\n",
       "</div>"
      ],
      "text/plain": [
       "                   brand  stars_x  rating_count_x\n",
       "0            EnjoyGevity     5.00               4\n",
       "1                 Akshit     4.80              10\n",
       "2           Alivio Vital     4.70              35\n",
       "3                   Yogi     4.70           61206\n",
       "4              Rishi Tea     4.70            1114\n",
       "5  Standard Process Inc.     4.65            2509\n",
       "6              Eelicious     4.60              48\n",
       "7            Buddha Teas     4.60            5873\n",
       "8    The Republic of Tea     4.60            2229\n",
       "9             Tiesta Tea     4.60           26690"
      ]
     },
     "execution_count": 36,
     "metadata": {},
     "output_type": "execute_result"
    }
   ],
   "source": [
    "temp = comb.groupby('asin').agg({'brand':'first', 'stars_x':'first', 'rating_count_x':'first'}).reset_index()\n",
    "temp = temp.groupby('brand').agg({'stars_x':'mean', 'rating_count_x':'sum'}).sort_values('stars_x', ascending = False).reset_index()\n",
    "temp.head(10)"
   ]
  },
  {
   "cell_type": "code",
   "execution_count": 22,
   "metadata": {},
   "outputs": [
    {
     "name": "stdout",
     "output_type": "stream",
     "text": [
      "[{'sentiment': 'positive', 'count': 1.0}]\n",
      "[{'sentiment': 'positive', 'count': 1.0}]\n",
      "[{'sentiment': 'positive', 'count': 1.0}]\n",
      "[{'sentiment': 'positive', 'count': 1.0}]\n",
      "[{'sentiment': 'positive', 'count': 1.0}]\n",
      "[{'sentiment': 'positive', 'count': 0.8}, {'sentiment': 'neutral', 'count': 0.1}, {'sentiment': 'negative', 'count': 0.1}]\n",
      "[{'sentiment': 'positive', 'count': 1.0}]\n",
      "[{'sentiment': 'positive', 'count': 0.77}, {'sentiment': 'neutral', 'count': 0.17}, {'sentiment': 'negative', 'count': 0.07}]\n",
      "[{'sentiment': 'positive', 'count': 0.95}, {'sentiment': 'neutral', 'count': 0.05}]\n",
      "[{'sentiment': 'positive', 'count': 0.95}, {'sentiment': 'negative', 'count': 0.05}]\n"
     ]
    }
   ],
   "source": [
    "ratings = []\n",
    "sent = []\n",
    "for b in temp.brand:\n",
    "    ct = comb[comb.brand == b].groupby('asin').agg({'stars_x': 'first'}).reset_index().stars_x.value_counts().reset_index()\n",
    "    ratings.append(ct.to_dict('records'))\n",
    "    s = round(comb[comb.brand == b].sentiment.value_counts()/comb[comb.brand == b].shape[0], 2)\n",
    "    sent.append(s.reset_index().to_dict('records'))\n",
    "\n",
    "temp['ratings'] = ratings\n",
    "temp['sent_breakdown'] = sent\n",
    "\n",
    "for i in range(10):\n",
    "    print(temp.sent_breakdown[i])  "
   ]
  },
  {
   "cell_type": "markdown",
   "metadata": {},
   "source": [
    "#### <font color = '#8900e9'> **match USLD** </font>"
   ]
  },
  {
   "cell_type": "code",
   "execution_count": 5,
   "metadata": {},
   "outputs": [],
   "source": [
    "usld = pd.read_csv('~/scrapfly-scrapers/iherb-scraper/results/california_poppy_usld.csv')\n",
    "\n",
    "for col in usld.columns:\n",
    "    usld[col] = usld[col].apply(lambda x: x.strip(\"[]\"))\n",
    "    usld[col] = usld[col].apply(lambda x: x.replace(\"'\", \"\"))\n",
    "\n",
    "col = ['netContents', 'claims', 'allIngredients']\n",
    "def strip_all(x):\n",
    "    return x.strip(\" {} \")\n",
    "\n",
    "def str2dict(x):\n",
    "    try:\n",
    "        sub_entries = x.strip(' {} ').split('},')\n",
    "        parsed_list = []\n",
    "        for sub in sub_entries:\n",
    "            sub_dict = {}\n",
    "            for pair in sub.split(','):\n",
    "                try:\n",
    "                    key, value = map(strip_all, pair.split(':', 1))  # only split the first colon\n",
    "                    sub_dict[key] = value\n",
    "                except ValueError:\n",
    "                    pass  \n",
    "            parsed_list.append(sub_dict)\n",
    "        return parsed_list\n",
    "    except AttributeError:\n",
    "        return []\n",
    "    \n",
    "for c in col:\n",
    "    usld[c] = usld[c].apply(str2dict)\n",
    "\n",
    "usld.to_csv('california_poppy_usld_cleaned.csv', index = False)"
   ]
  },
  {
   "cell_type": "code",
   "execution_count": 6,
   "metadata": {},
   "outputs": [
    {
     "data": {
      "text/html": [
       "<div>\n",
       "<style scoped>\n",
       "    .dataframe tbody tr th:only-of-type {\n",
       "        vertical-align: middle;\n",
       "    }\n",
       "\n",
       "    .dataframe tbody tr th {\n",
       "        vertical-align: top;\n",
       "    }\n",
       "\n",
       "    .dataframe thead th {\n",
       "        text-align: right;\n",
       "    }\n",
       "</style>\n",
       "<table border=\"1\" class=\"dataframe\">\n",
       "  <thead>\n",
       "    <tr style=\"text-align: right;\">\n",
       "      <th></th>\n",
       "      <th>brand</th>\n",
       "      <th>stars_x</th>\n",
       "      <th>rating_count_x</th>\n",
       "    </tr>\n",
       "  </thead>\n",
       "  <tbody>\n",
       "    <tr>\n",
       "      <th>0</th>\n",
       "      <td>Gaia Herbs</td>\n",
       "      <td>4.500000</td>\n",
       "      <td>3538</td>\n",
       "    </tr>\n",
       "    <tr>\n",
       "      <th>1</th>\n",
       "      <td>Traditional Medicinals</td>\n",
       "      <td>4.400000</td>\n",
       "      <td>14041</td>\n",
       "    </tr>\n",
       "    <tr>\n",
       "      <th>2</th>\n",
       "      <td>Herb Pharm</td>\n",
       "      <td>4.344444</td>\n",
       "      <td>11299</td>\n",
       "    </tr>\n",
       "    <tr>\n",
       "      <th>3</th>\n",
       "      <td>Herbs Etc.</td>\n",
       "      <td>4.300000</td>\n",
       "      <td>143</td>\n",
       "    </tr>\n",
       "    <tr>\n",
       "      <th>4</th>\n",
       "      <td>Bio Nutrition</td>\n",
       "      <td>4.166667</td>\n",
       "      <td>477</td>\n",
       "    </tr>\n",
       "    <tr>\n",
       "      <th>5</th>\n",
       "      <td>Hawaii Pharm</td>\n",
       "      <td>3.975000</td>\n",
       "      <td>1165</td>\n",
       "    </tr>\n",
       "    <tr>\n",
       "      <th>6</th>\n",
       "      <td>Cedar Bear Naturales</td>\n",
       "      <td>3.900000</td>\n",
       "      <td>9</td>\n",
       "    </tr>\n",
       "    <tr>\n",
       "      <th>7</th>\n",
       "      <td>Herbalist &amp; Alchemist</td>\n",
       "      <td>3.800000</td>\n",
       "      <td>12</td>\n",
       "    </tr>\n",
       "  </tbody>\n",
       "</table>\n",
       "</div>"
      ],
      "text/plain": [
       "                    brand   stars_x  rating_count_x\n",
       "0              Gaia Herbs  4.500000            3538\n",
       "1  Traditional Medicinals  4.400000           14041\n",
       "2              Herb Pharm  4.344444           11299\n",
       "3              Herbs Etc.  4.300000             143\n",
       "4           Bio Nutrition  4.166667             477\n",
       "5            Hawaii Pharm  3.975000            1165\n",
       "6    Cedar Bear Naturales  3.900000               9\n",
       "7   Herbalist & Alchemist  3.800000              12"
      ]
     },
     "execution_count": 6,
     "metadata": {},
     "output_type": "execute_result"
    }
   ],
   "source": [
    "brands = usld[usld.offMarket == '0'].brandName.unique()\n",
    "brands = '|'.join(brands)\n",
    "\n",
    "comb_v = comb[comb.brand.str.contains(brands)]\n",
    "temp = comb_v.groupby('asin').agg({'brand':'first', 'stars_x':'first', 'rating_count_x':'first'}).reset_index()\n",
    "temp = temp.groupby('brand').agg({'stars_x':'mean', 'rating_count_x':'sum'}).sort_values('stars_x', ascending = False).reset_index()\n",
    "temp.head(10)"
   ]
  },
  {
   "cell_type": "code",
   "execution_count": 11,
   "metadata": {},
   "outputs": [
    {
     "name": "stdout",
     "output_type": "stream",
     "text": [
      "[{'stars_x': 4.5, 'count': 2}, {'stars_x': 4.7, 'count': 1}, {'stars_x': 4.2, 'count': 1}, {'stars_x': 4.6, 'count': 1}]\n",
      "[{'sentiment': 'positive', 'count': 0.82}, {'sentiment': 'negative', 'count': 0.1}, {'sentiment': 'neutral', 'count': 0.08}]\n",
      "[{'stars_x': 4.4, 'count': 1}]\n",
      "[{'sentiment': 'positive', 'count': 1.0}]\n",
      "[{'stars_x': 4.5, 'count': 4}, {'stars_x': 4.3, 'count': 2}, {'stars_x': 4.4, 'count': 1}, {'stars_x': 4.1, 'count': 1}, {'stars_x': 4.0, 'count': 1}]\n",
      "[{'sentiment': 'positive', 'count': 0.79}, {'sentiment': 'negative', 'count': 0.17}, {'sentiment': 'neutral', 'count': 0.04}]\n",
      "[{'stars_x': 4.3, 'count': 1}]\n",
      "[{'sentiment': 'positive', 'count': 1.0}]\n",
      "[{'stars_x': 4.1, 'count': 1}, {'stars_x': 4.0, 'count': 1}, {'stars_x': 4.4, 'count': 1}]\n",
      "[{'sentiment': 'positive', 'count': 0.48}, {'sentiment': 'negative', 'count': 0.35}, {'sentiment': 'neutral', 'count': 0.16}]\n",
      "[{'stars_x': 3.6, 'count': 3}, {'stars_x': 3.4, 'count': 2}, {'stars_x': 4.3, 'count': 2}, {'stars_x': 4.2, 'count': 2}, {'stars_x': 4.5, 'count': 2}, {'stars_x': 5.0, 'count': 1}, {'stars_x': 2.9, 'count': 1}, {'stars_x': 4.0, 'count': 1}, {'stars_x': 3.2, 'count': 1}, {'stars_x': 3.9, 'count': 1}, {'stars_x': 4.1, 'count': 1}, {'stars_x': 3.8, 'count': 1}, {'stars_x': 4.6, 'count': 1}, {'stars_x': 4.4, 'count': 1}]\n",
      "[{'sentiment': 'positive', 'count': 0.73}, {'sentiment': 'negative', 'count': 0.22}, {'sentiment': 'neutral', 'count': 0.05}]\n",
      "[{'stars_x': 3.6, 'count': 1}, {'stars_x': 4.2, 'count': 1}]\n",
      "[{'sentiment': 'positive', 'count': 0.67}, {'sentiment': 'negative', 'count': 0.33}]\n",
      "[{'stars_x': 3.8, 'count': 1}]\n",
      "[{'sentiment': 'positive', 'count': 0.6}, {'sentiment': 'negative', 'count': 0.2}, {'sentiment': 'neutral', 'count': 0.2}]\n"
     ]
    }
   ],
   "source": [
    "ratings = []\n",
    "sent = []\n",
    "for b in temp.head(10).brand.to_list():\n",
    "    ct = comb[comb.brand == b].groupby('asin').agg({'stars_x': 'first'}).reset_index().stars_x.value_counts().reset_index()\n",
    "    ratings.append(ct.to_dict('records'))\n",
    "    s = round(comb[comb.brand == b].sentiment.value_counts()/comb[comb.brand == b].shape[0], 2)\n",
    "    sent.append(s.reset_index().to_dict('records'))\n",
    "\n",
    "temp['ratings'] = ratings\n",
    "temp['sent_breakdown'] = sent\n",
    "\n",
    "for i in range(len(temp)):\n",
    "    print(temp.ratings[i])\n",
    "    print(temp.sent_breakdown[i])  "
   ]
  },
  {
   "cell_type": "code",
   "execution_count": 70,
   "metadata": {},
   "outputs": [
    {
     "name": "stdout",
     "output_type": "stream",
     "text": [
      "Gaia Herbs\n"
     ]
    },
    {
     "data": {
      "text/html": [
       "<div>\n",
       "<style scoped>\n",
       "    .dataframe tbody tr th:only-of-type {\n",
       "        vertical-align: middle;\n",
       "    }\n",
       "\n",
       "    .dataframe tbody tr th {\n",
       "        vertical-align: top;\n",
       "    }\n",
       "\n",
       "    .dataframe thead th {\n",
       "        text-align: right;\n",
       "    }\n",
       "</style>\n",
       "<table border=\"1\" class=\"dataframe\">\n",
       "  <thead>\n",
       "    <tr style=\"text-align: right;\">\n",
       "      <th></th>\n",
       "      <th>_id</th>\n",
       "      <th>fullName</th>\n",
       "      <th>brandName</th>\n",
       "      <th>langualCode</th>\n",
       "      <th>langualCodeDescription</th>\n",
       "      <th>allIngredients</th>\n",
       "      <th>netContents</th>\n",
       "      <th>claims</th>\n",
       "      <th>offMarket</th>\n",
       "    </tr>\n",
       "  </thead>\n",
       "  <tbody>\n",
       "    <tr>\n",
       "      <th>33</th>\n",
       "      <td>209487</td>\n",
       "      <td>California Poppy</td>\n",
       "      <td>Gaia Herbs</td>\n",
       "      <td>E0165, A1306</td>\n",
       "      <td>Liquid, Botanical</td>\n",
       "      <td>[{'ingredientGroup': 'California Poppy', 'note...</td>\n",
       "      <td>[{'unit': 'fl. Oz.', 'quantity': '4', 'display...</td>\n",
       "      <td>[{'langualCodeDescription': 'All Other', 'lang...</td>\n",
       "      <td>0</td>\n",
       "    </tr>\n",
       "    <tr>\n",
       "      <th>34</th>\n",
       "      <td>209511</td>\n",
       "      <td>California Poppy</td>\n",
       "      <td>Gaia Herbs</td>\n",
       "      <td>E0165, A1306</td>\n",
       "      <td>Liquid, Botanical</td>\n",
       "      <td>[{'ingredientGroup': 'California Poppy', 'note...</td>\n",
       "      <td>[{'unit': 'fl. Oz.', 'quantity': '1', 'display...</td>\n",
       "      <td>[{'langualCodeDescription': 'All Other', 'lang...</td>\n",
       "      <td>0</td>\n",
       "    </tr>\n",
       "  </tbody>\n",
       "</table>\n",
       "</div>"
      ],
      "text/plain": [
       "       _id          fullName   brandName   langualCode langualCodeDescription  \\\n",
       "33  209487  California Poppy  Gaia Herbs  E0165, A1306      Liquid, Botanical   \n",
       "34  209511  California Poppy  Gaia Herbs  E0165, A1306      Liquid, Botanical   \n",
       "\n",
       "                                       allIngredients  \\\n",
       "33  [{'ingredientGroup': 'California Poppy', 'note...   \n",
       "34  [{'ingredientGroup': 'California Poppy', 'note...   \n",
       "\n",
       "                                          netContents  \\\n",
       "33  [{'unit': 'fl. Oz.', 'quantity': '4', 'display...   \n",
       "34  [{'unit': 'fl. Oz.', 'quantity': '1', 'display...   \n",
       "\n",
       "                                               claims offMarket  \n",
       "33  [{'langualCodeDescription': 'All Other', 'lang...         0  \n",
       "34  [{'langualCodeDescription': 'All Other', 'lang...         0  "
      ]
     },
     "metadata": {},
     "output_type": "display_data"
    },
    {
     "name": "stdout",
     "output_type": "stream",
     "text": [
      "Traditional Medicinals\n"
     ]
    },
    {
     "data": {
      "text/html": [
       "<div>\n",
       "<style scoped>\n",
       "    .dataframe tbody tr th:only-of-type {\n",
       "        vertical-align: middle;\n",
       "    }\n",
       "\n",
       "    .dataframe tbody tr th {\n",
       "        vertical-align: top;\n",
       "    }\n",
       "\n",
       "    .dataframe thead th {\n",
       "        text-align: right;\n",
       "    }\n",
       "</style>\n",
       "<table border=\"1\" class=\"dataframe\">\n",
       "  <thead>\n",
       "    <tr style=\"text-align: right;\">\n",
       "      <th></th>\n",
       "      <th>_id</th>\n",
       "      <th>fullName</th>\n",
       "      <th>brandName</th>\n",
       "      <th>langualCode</th>\n",
       "      <th>langualCodeDescription</th>\n",
       "      <th>allIngredients</th>\n",
       "      <th>netContents</th>\n",
       "      <th>claims</th>\n",
       "      <th>offMarket</th>\n",
       "    </tr>\n",
       "  </thead>\n",
       "  <tbody>\n",
       "  </tbody>\n",
       "</table>\n",
       "</div>"
      ],
      "text/plain": [
       "Empty DataFrame\n",
       "Columns: [_id, fullName, brandName, langualCode, langualCodeDescription, allIngredients, netContents, claims, offMarket]\n",
       "Index: []"
      ]
     },
     "metadata": {},
     "output_type": "display_data"
    },
    {
     "name": "stdout",
     "output_type": "stream",
     "text": [
      "Herb Pharm\n"
     ]
    },
    {
     "data": {
      "text/html": [
       "<div>\n",
       "<style scoped>\n",
       "    .dataframe tbody tr th:only-of-type {\n",
       "        vertical-align: middle;\n",
       "    }\n",
       "\n",
       "    .dataframe tbody tr th {\n",
       "        vertical-align: top;\n",
       "    }\n",
       "\n",
       "    .dataframe thead th {\n",
       "        text-align: right;\n",
       "    }\n",
       "</style>\n",
       "<table border=\"1\" class=\"dataframe\">\n",
       "  <thead>\n",
       "    <tr style=\"text-align: right;\">\n",
       "      <th></th>\n",
       "      <th>_id</th>\n",
       "      <th>fullName</th>\n",
       "      <th>brandName</th>\n",
       "      <th>langualCode</th>\n",
       "      <th>langualCodeDescription</th>\n",
       "      <th>allIngredients</th>\n",
       "      <th>netContents</th>\n",
       "      <th>claims</th>\n",
       "      <th>offMarket</th>\n",
       "    </tr>\n",
       "  </thead>\n",
       "  <tbody>\n",
       "    <tr>\n",
       "      <th>3</th>\n",
       "      <td>203399</td>\n",
       "      <td>California Poppy</td>\n",
       "      <td>Herb Pharm</td>\n",
       "      <td>E0165, A1306</td>\n",
       "      <td>Liquid, Botanical</td>\n",
       "      <td>[{'ingredientGroup': 'California Poppy', 'note...</td>\n",
       "      <td>[{'unit': 'fl. Oz.', 'quantity': '4', 'display...</td>\n",
       "      <td>[{'langualCodeDescription': 'All Other', 'lang...</td>\n",
       "      <td>0</td>\n",
       "    </tr>\n",
       "    <tr>\n",
       "      <th>4</th>\n",
       "      <td>203940</td>\n",
       "      <td>California Poppy</td>\n",
       "      <td>Herb Pharm</td>\n",
       "      <td>E0165, A1306</td>\n",
       "      <td>Liquid, Botanical</td>\n",
       "      <td>[{'ingredientGroup': 'California Poppy', 'note...</td>\n",
       "      <td>[{'unit': 'fl. Oz.', 'quantity': '1', 'display...</td>\n",
       "      <td>[{'langualCodeDescription': 'All Other', 'lang...</td>\n",
       "      <td>0</td>\n",
       "    </tr>\n",
       "  </tbody>\n",
       "</table>\n",
       "</div>"
      ],
      "text/plain": [
       "      _id          fullName   brandName   langualCode langualCodeDescription  \\\n",
       "3  203399  California Poppy  Herb Pharm  E0165, A1306      Liquid, Botanical   \n",
       "4  203940  California Poppy  Herb Pharm  E0165, A1306      Liquid, Botanical   \n",
       "\n",
       "                                      allIngredients  \\\n",
       "3  [{'ingredientGroup': 'California Poppy', 'note...   \n",
       "4  [{'ingredientGroup': 'California Poppy', 'note...   \n",
       "\n",
       "                                         netContents  \\\n",
       "3  [{'unit': 'fl. Oz.', 'quantity': '4', 'display...   \n",
       "4  [{'unit': 'fl. Oz.', 'quantity': '1', 'display...   \n",
       "\n",
       "                                              claims offMarket  \n",
       "3  [{'langualCodeDescription': 'All Other', 'lang...         0  \n",
       "4  [{'langualCodeDescription': 'All Other', 'lang...         0  "
      ]
     },
     "metadata": {},
     "output_type": "display_data"
    },
    {
     "name": "stdout",
     "output_type": "stream",
     "text": [
      "Herbs Etc.\n"
     ]
    },
    {
     "data": {
      "text/html": [
       "<div>\n",
       "<style scoped>\n",
       "    .dataframe tbody tr th:only-of-type {\n",
       "        vertical-align: middle;\n",
       "    }\n",
       "\n",
       "    .dataframe tbody tr th {\n",
       "        vertical-align: top;\n",
       "    }\n",
       "\n",
       "    .dataframe thead th {\n",
       "        text-align: right;\n",
       "    }\n",
       "</style>\n",
       "<table border=\"1\" class=\"dataframe\">\n",
       "  <thead>\n",
       "    <tr style=\"text-align: right;\">\n",
       "      <th></th>\n",
       "      <th>_id</th>\n",
       "      <th>fullName</th>\n",
       "      <th>brandName</th>\n",
       "      <th>langualCode</th>\n",
       "      <th>langualCodeDescription</th>\n",
       "      <th>allIngredients</th>\n",
       "      <th>netContents</th>\n",
       "      <th>claims</th>\n",
       "      <th>offMarket</th>\n",
       "    </tr>\n",
       "  </thead>\n",
       "  <tbody>\n",
       "    <tr>\n",
       "      <th>17</th>\n",
       "      <td>50195</td>\n",
       "      <td>California Poppy</td>\n",
       "      <td>Herbs Etc.</td>\n",
       "      <td>E0165, A1306</td>\n",
       "      <td>Liquid, Botanical</td>\n",
       "      <td>[{'ingredientGroup': 'California Poppy', 'note...</td>\n",
       "      <td>[{'unit': 'Fluid Ounce(s)', 'quantity': '8', '...</td>\n",
       "      <td>[{'langualCodeDescription': 'No Claim', 'langu...</td>\n",
       "      <td>0</td>\n",
       "    </tr>\n",
       "  </tbody>\n",
       "</table>\n",
       "</div>"
      ],
      "text/plain": [
       "      _id          fullName   brandName   langualCode langualCodeDescription  \\\n",
       "17  50195  California Poppy  Herbs Etc.  E0165, A1306      Liquid, Botanical   \n",
       "\n",
       "                                       allIngredients  \\\n",
       "17  [{'ingredientGroup': 'California Poppy', 'note...   \n",
       "\n",
       "                                          netContents  \\\n",
       "17  [{'unit': 'Fluid Ounce(s)', 'quantity': '8', '...   \n",
       "\n",
       "                                               claims offMarket  \n",
       "17  [{'langualCodeDescription': 'No Claim', 'langu...         0  "
      ]
     },
     "metadata": {},
     "output_type": "display_data"
    },
    {
     "name": "stdout",
     "output_type": "stream",
     "text": [
      "Bio Nutrition\n"
     ]
    },
    {
     "data": {
      "text/html": [
       "<div>\n",
       "<style scoped>\n",
       "    .dataframe tbody tr th:only-of-type {\n",
       "        vertical-align: middle;\n",
       "    }\n",
       "\n",
       "    .dataframe tbody tr th {\n",
       "        vertical-align: top;\n",
       "    }\n",
       "\n",
       "    .dataframe thead th {\n",
       "        text-align: right;\n",
       "    }\n",
       "</style>\n",
       "<table border=\"1\" class=\"dataframe\">\n",
       "  <thead>\n",
       "    <tr style=\"text-align: right;\">\n",
       "      <th></th>\n",
       "      <th>_id</th>\n",
       "      <th>fullName</th>\n",
       "      <th>brandName</th>\n",
       "      <th>langualCode</th>\n",
       "      <th>langualCodeDescription</th>\n",
       "      <th>allIngredients</th>\n",
       "      <th>netContents</th>\n",
       "      <th>claims</th>\n",
       "      <th>offMarket</th>\n",
       "    </tr>\n",
       "  </thead>\n",
       "  <tbody>\n",
       "    <tr>\n",
       "      <th>2</th>\n",
       "      <td>200561</td>\n",
       "      <td>California Poppy Seed</td>\n",
       "      <td>Bio Nutrition</td>\n",
       "      <td>E0159, A1306</td>\n",
       "      <td>Capsule, Botanical</td>\n",
       "      <td>[{'ingredientGroup': 'California Poppy', 'note...</td>\n",
       "      <td>[{'unit': 'Vegetarian Capsule(s)', 'quantity':...</td>\n",
       "      <td>[{'langualCodeDescription': 'All Other', 'lang...</td>\n",
       "      <td>0</td>\n",
       "    </tr>\n",
       "  </tbody>\n",
       "</table>\n",
       "</div>"
      ],
      "text/plain": [
       "      _id               fullName      brandName   langualCode  \\\n",
       "2  200561  California Poppy Seed  Bio Nutrition  E0159, A1306   \n",
       "\n",
       "  langualCodeDescription                                     allIngredients  \\\n",
       "2     Capsule, Botanical  [{'ingredientGroup': 'California Poppy', 'note...   \n",
       "\n",
       "                                         netContents  \\\n",
       "2  [{'unit': 'Vegetarian Capsule(s)', 'quantity':...   \n",
       "\n",
       "                                              claims offMarket  \n",
       "2  [{'langualCodeDescription': 'All Other', 'lang...         0  "
      ]
     },
     "metadata": {},
     "output_type": "display_data"
    },
    {
     "name": "stdout",
     "output_type": "stream",
     "text": [
      "Hawaii Pharm\n"
     ]
    },
    {
     "data": {
      "text/html": [
       "<div>\n",
       "<style scoped>\n",
       "    .dataframe tbody tr th:only-of-type {\n",
       "        vertical-align: middle;\n",
       "    }\n",
       "\n",
       "    .dataframe tbody tr th {\n",
       "        vertical-align: top;\n",
       "    }\n",
       "\n",
       "    .dataframe thead th {\n",
       "        text-align: right;\n",
       "    }\n",
       "</style>\n",
       "<table border=\"1\" class=\"dataframe\">\n",
       "  <thead>\n",
       "    <tr style=\"text-align: right;\">\n",
       "      <th></th>\n",
       "      <th>_id</th>\n",
       "      <th>fullName</th>\n",
       "      <th>brandName</th>\n",
       "      <th>langualCode</th>\n",
       "      <th>langualCodeDescription</th>\n",
       "      <th>allIngredients</th>\n",
       "      <th>netContents</th>\n",
       "      <th>claims</th>\n",
       "      <th>offMarket</th>\n",
       "    </tr>\n",
       "  </thead>\n",
       "  <tbody>\n",
       "    <tr>\n",
       "      <th>25</th>\n",
       "      <td>237306</td>\n",
       "      <td>California Poppy</td>\n",
       "      <td>Hawaii Pharm</td>\n",
       "      <td>E0165, A1306</td>\n",
       "      <td>Liquid, Botanical</td>\n",
       "      <td>[{'ingredientGroup': 'California Poppy', 'note...</td>\n",
       "      <td>[{'unit': 'Fluid Ounce(s)', 'quantity': '4', '...</td>\n",
       "      <td>[{'langualCodeDescription': 'All Other', 'lang...</td>\n",
       "      <td>0</td>\n",
       "    </tr>\n",
       "    <tr>\n",
       "      <th>35</th>\n",
       "      <td>237946</td>\n",
       "      <td>California Poppy</td>\n",
       "      <td>Hawaii Pharm</td>\n",
       "      <td>E0165, A1306</td>\n",
       "      <td>Liquid, Botanical</td>\n",
       "      <td>[{'ingredientGroup': 'California Poppy', 'note...</td>\n",
       "      <td>[{'unit': 'Fluid Ounce(s)', 'quantity': '4', '...</td>\n",
       "      <td>[{'langualCodeDescription': 'All Other', 'lang...</td>\n",
       "      <td>0</td>\n",
       "    </tr>\n",
       "  </tbody>\n",
       "</table>\n",
       "</div>"
      ],
      "text/plain": [
       "       _id          fullName     brandName   langualCode  \\\n",
       "25  237306  California Poppy  Hawaii Pharm  E0165, A1306   \n",
       "35  237946  California Poppy  Hawaii Pharm  E0165, A1306   \n",
       "\n",
       "   langualCodeDescription                                     allIngredients  \\\n",
       "25      Liquid, Botanical  [{'ingredientGroup': 'California Poppy', 'note...   \n",
       "35      Liquid, Botanical  [{'ingredientGroup': 'California Poppy', 'note...   \n",
       "\n",
       "                                          netContents  \\\n",
       "25  [{'unit': 'Fluid Ounce(s)', 'quantity': '4', '...   \n",
       "35  [{'unit': 'Fluid Ounce(s)', 'quantity': '4', '...   \n",
       "\n",
       "                                               claims offMarket  \n",
       "25  [{'langualCodeDescription': 'All Other', 'lang...         0  \n",
       "35  [{'langualCodeDescription': 'All Other', 'lang...         0  "
      ]
     },
     "metadata": {},
     "output_type": "display_data"
    },
    {
     "name": "stdout",
     "output_type": "stream",
     "text": [
      "Cedar Bear Naturales\n"
     ]
    },
    {
     "data": {
      "text/html": [
       "<div>\n",
       "<style scoped>\n",
       "    .dataframe tbody tr th:only-of-type {\n",
       "        vertical-align: middle;\n",
       "    }\n",
       "\n",
       "    .dataframe tbody tr th {\n",
       "        vertical-align: top;\n",
       "    }\n",
       "\n",
       "    .dataframe thead th {\n",
       "        text-align: right;\n",
       "    }\n",
       "</style>\n",
       "<table border=\"1\" class=\"dataframe\">\n",
       "  <thead>\n",
       "    <tr style=\"text-align: right;\">\n",
       "      <th></th>\n",
       "      <th>_id</th>\n",
       "      <th>fullName</th>\n",
       "      <th>brandName</th>\n",
       "      <th>langualCode</th>\n",
       "      <th>langualCodeDescription</th>\n",
       "      <th>allIngredients</th>\n",
       "      <th>netContents</th>\n",
       "      <th>claims</th>\n",
       "      <th>offMarket</th>\n",
       "    </tr>\n",
       "  </thead>\n",
       "  <tbody>\n",
       "    <tr>\n",
       "      <th>45</th>\n",
       "      <td>237002</td>\n",
       "      <td>California Poppy Flower</td>\n",
       "      <td>Cedar Bear</td>\n",
       "      <td>E0165, A1306</td>\n",
       "      <td>Liquid, Botanical</td>\n",
       "      <td>[{'ingredientGroup': 'Proprietary Blend (Herb/...</td>\n",
       "      <td>[{'unit': 'mL', 'quantity': '60', 'display': '...</td>\n",
       "      <td>[{'langualCodeDescription': 'All Other', 'lang...</td>\n",
       "      <td>0</td>\n",
       "    </tr>\n",
       "    <tr>\n",
       "      <th>47</th>\n",
       "      <td>236991</td>\n",
       "      <td>California Poppy Flower</td>\n",
       "      <td>Cedar Bear</td>\n",
       "      <td>E0165, A1306</td>\n",
       "      <td>Liquid, Botanical</td>\n",
       "      <td>[{'ingredientGroup': 'Proprietary Blend (Herb/...</td>\n",
       "      <td>[{'unit': 'mL', 'quantity': '30', 'display': '...</td>\n",
       "      <td>[{'langualCodeDescription': 'All Other', 'lang...</td>\n",
       "      <td>0</td>\n",
       "    </tr>\n",
       "  </tbody>\n",
       "</table>\n",
       "</div>"
      ],
      "text/plain": [
       "       _id                 fullName   brandName   langualCode  \\\n",
       "45  237002  California Poppy Flower  Cedar Bear  E0165, A1306   \n",
       "47  236991  California Poppy Flower  Cedar Bear  E0165, A1306   \n",
       "\n",
       "   langualCodeDescription                                     allIngredients  \\\n",
       "45      Liquid, Botanical  [{'ingredientGroup': 'Proprietary Blend (Herb/...   \n",
       "47      Liquid, Botanical  [{'ingredientGroup': 'Proprietary Blend (Herb/...   \n",
       "\n",
       "                                          netContents  \\\n",
       "45  [{'unit': 'mL', 'quantity': '60', 'display': '...   \n",
       "47  [{'unit': 'mL', 'quantity': '30', 'display': '...   \n",
       "\n",
       "                                               claims offMarket  \n",
       "45  [{'langualCodeDescription': 'All Other', 'lang...         0  \n",
       "47  [{'langualCodeDescription': 'All Other', 'lang...         0  "
      ]
     },
     "metadata": {},
     "output_type": "display_data"
    },
    {
     "name": "stdout",
     "output_type": "stream",
     "text": [
      "Herbalist & Alchemist\n"
     ]
    },
    {
     "data": {
      "text/html": [
       "<div>\n",
       "<style scoped>\n",
       "    .dataframe tbody tr th:only-of-type {\n",
       "        vertical-align: middle;\n",
       "    }\n",
       "\n",
       "    .dataframe tbody tr th {\n",
       "        vertical-align: top;\n",
       "    }\n",
       "\n",
       "    .dataframe thead th {\n",
       "        text-align: right;\n",
       "    }\n",
       "</style>\n",
       "<table border=\"1\" class=\"dataframe\">\n",
       "  <thead>\n",
       "    <tr style=\"text-align: right;\">\n",
       "      <th></th>\n",
       "      <th>_id</th>\n",
       "      <th>fullName</th>\n",
       "      <th>brandName</th>\n",
       "      <th>langualCode</th>\n",
       "      <th>langualCodeDescription</th>\n",
       "      <th>allIngredients</th>\n",
       "      <th>netContents</th>\n",
       "      <th>claims</th>\n",
       "      <th>offMarket</th>\n",
       "    </tr>\n",
       "  </thead>\n",
       "  <tbody>\n",
       "    <tr>\n",
       "      <th>24</th>\n",
       "      <td>173913</td>\n",
       "      <td>California Poppy</td>\n",
       "      <td>Herbalist &amp; Alchemist</td>\n",
       "      <td>E0165, A1306</td>\n",
       "      <td>Liquid, Botanical</td>\n",
       "      <td>[{'ingredientGroup': 'California Poppy', 'note...</td>\n",
       "      <td>[{'unit': 'fl. Oz.', 'quantity': '2', 'display...</td>\n",
       "      <td>[{'langualCodeDescription': 'All Other', 'lang...</td>\n",
       "      <td>0</td>\n",
       "    </tr>\n",
       "  </tbody>\n",
       "</table>\n",
       "</div>"
      ],
      "text/plain": [
       "       _id          fullName              brandName   langualCode  \\\n",
       "24  173913  California Poppy  Herbalist & Alchemist  E0165, A1306   \n",
       "\n",
       "   langualCodeDescription                                     allIngredients  \\\n",
       "24      Liquid, Botanical  [{'ingredientGroup': 'California Poppy', 'note...   \n",
       "\n",
       "                                          netContents  \\\n",
       "24  [{'unit': 'fl. Oz.', 'quantity': '2', 'display...   \n",
       "\n",
       "                                               claims offMarket  \n",
       "24  [{'langualCodeDescription': 'All Other', 'lang...         0  "
      ]
     },
     "metadata": {},
     "output_type": "display_data"
    }
   ],
   "source": [
    "brand = temp.head(10).brand.to_list()\n",
    "for b in brand:\n",
    "    print(b)\n",
    "    display(usld[(usld.offMarket == '0') & (usld.brandName.apply(lambda x: x.strip() in b.strip())) & (usld.fullName.str.contains('California Poppy'))].head(2))"
   ]
  },
  {
   "cell_type": "markdown",
   "metadata": {},
   "source": [
    "#### sent with vader"
   ]
  },
  {
   "cell_type": "code",
   "execution_count": 38,
   "metadata": {},
   "outputs": [],
   "source": [
    "from vaderSentiment.vaderSentiment import SentimentIntensityAnalyzer\n",
    "file = file.dropna(subset = 'review_body').drop_duplicates().reset_index(drop = True)\n",
    "\n",
    "analyzer = SentimentIntensityAnalyzer()\n",
    "vs = [analyzer.polarity_scores(sentence) for sentence in file['review_body']]\n",
    "\n",
    "file[list(vs[0].keys())] = [[v[k] for k in vs[0].keys()] for v in vs]\n",
    "file['sentiment'] = file.compound.apply(lambda x: 'positive' if x >= 0.05 else ('negative' if x <= -0.05 else 'neutral'))\n",
    "\n",
    "file.to_csv('Amazon_reviews_w_sentiment.csv', index=False, header=False)\n",
    "# file.to_excel('Amazon_reviews_w_sentiment.xlsx', index = False)"
   ]
  },
  {
   "cell_type": "code",
   "execution_count": 3,
   "metadata": {},
   "outputs": [],
   "source": [
    "file = pd.read_csv('Amazon_reviews_w_sentiment.csv')\n",
    "file = file.drop_duplicates().reset_index(drop = True)\n",
    "file.to_csv('Amazon_reviews_w_sentiment.csv', index = False)\n",
    "file.to_excel('Amazon_reviews_w_sentiment.xlsx', index = False)"
   ]
  },
  {
   "cell_type": "code",
   "execution_count": 40,
   "metadata": {},
   "outputs": [
    {
     "data": {
      "image/png": "[encoded data removed]",
      "text/plain": [
       "<Figure size 640x480 with 1 Axes>"
      ]
     },
     "metadata": {},
     "output_type": "display_data"
    }
   ],
   "source": [
    "import matplotlib.pyplot as plt\n",
    "fig, ax = plt.subplots()\n",
    "\n",
    "file.sentiment.value_counts().plot(kind='pie', autopct='%1.1f%%', ax=ax,)\n",
    "ax.set_ylabel('')\n",
    "ax.set_title('Sentiment Distribution of Amazon Reviews on California Poppy Products', size = 10)\n",
    "fig.savefig('sentiment_distribution_Amazon_vader.png', dpi = 300)"
   ]
  },
  {
   "cell_type": "markdown",
   "metadata": {},
   "source": [
    "#### sent w/ Transformers"
   ]
  },
  {
   "cell_type": "code",
   "execution_count": 3,
   "metadata": {},
   "outputs": [],
   "source": [
    "from transformers import AutoTokenizer\n",
    "from transformers import RobertaTokenizer\n",
    "tokenizer = RobertaTokenizer.from_pretrained('roberta-base')\n",
    "from transformers import AutoModelForSequenceClassification\n",
    "from datasets import Dataset, load_dataset\n",
    "import torch\n",
    "import torch.nn as nn\n",
    "from torch.nn import functional as F\n",
    "from torch.utils.data import DataLoader\n",
    "from tqdm import tqdm\n",
    "import evaluate\n",
    "import numpy as np\n",
    "import matplotlib.pyplot as plt\n",
    "import seaborn as sns\n",
    "import os \n",
    "import text_cleaning\n",
    "import random\n",
    "import pandas as pd\n",
    "from collections import Counter\n",
    "import pickle\n",
    "import joblib\n",
    "import csv\n",
    "import json\n",
    "from copy import deepcopy \n",
    "import warnings\n",
    "import sklearn.exceptions\n",
    "warnings.filterwarnings('ignore', category=DeprecationWarning)\n",
    "warnings.filterwarnings('ignore', category=UserWarning)\n",
    "warnings.filterwarnings('ignore', category=FutureWarning)\n",
    "warnings.filterwarnings(\"ignore\", category=sklearn.exceptions.UndefinedMetricWarning)\n",
    "\n",
    "violet = '#702b9d'\n",
    "RANDOM_SEED = 3001\n",
    "batch_size = 8\n",
    "device = torch.device(\"cuda:0\" if torch.cuda.is_available() else \"cpu\")\n",
    "\n",
    "def tokenize_function(examples):\n",
    "    tok = tokenizer(examples[\"text\"], padding='max_length', truncation=True, \n",
    "                    max_length = 512,\n",
    "                    return_tensors=\"pt\")\n",
    "    examples['text'] = tok['input_ids']\n",
    "    return examples \n",
    "\n",
    "tokenizer = RobertaTokenizer.from_pretrained('roberta-base')"
   ]
  },
  {
   "cell_type": "code",
   "execution_count": 4,
   "metadata": {},
   "outputs": [
    {
     "name": "stdout",
     "output_type": "stream",
     "text": [
      "/scratch/tl2546/scrapfly-scrapers/amazon-scraper\n"
     ]
    }
   ],
   "source": [
    "%cd ../../amazon-scraper/"
   ]
  },
  {
   "cell_type": "code",
   "execution_count": 5,
   "metadata": {},
   "outputs": [
    {
     "data": {
      "application/vnd.jupyter.widget-view+json": {
       "model_id": "c885a062a29c42638059e2db4535b6dc",
       "version_major": 2,
       "version_minor": 0
      },
      "text/plain": [
       "Map:   0%|          | 0/1839 [00:00<?, ? examples/s]"
      ]
     },
     "metadata": {},
     "output_type": "display_data"
    }
   ],
   "source": [
    "## preprocess, tokenize, loader\n",
    "amazon_reviews = Dataset.from_csv('results/Amazon_reviews_w_sentiment.csv')\n",
    "\n",
    "amazon_reviews_ = amazon_reviews.map(lambda x: text_cleaning.text_cleaning(x, map_label = False))\n",
    "amazon_reviews_ = amazon_reviews_.map(tokenize_function, batched = True, load_from_cache_file = False)\n",
    "amazon_reviews_.set_format('torch')"
   ]
  },
  {
   "cell_type": "code",
   "execution_count": 14,
   "metadata": {},
   "outputs": [],
   "source": [
    "def do_infer(infer_data, output_dir):\n",
    "\n",
    "    model = AutoModelForSequenceClassification.from_pretrained(\"cardiffnlp/twitter-roberta-base-sentiment-latest\")      \n",
    "    model.to(device)\n",
    "    model.eval()\n",
    "    \n",
    "    headers = list(amazon_reviews_.features)[:-1] + ['pred']\n",
    "    \n",
    "    output_file = output_dir + '/preds.csv'    \n",
    "    with torch.no_grad():\n",
    "        with open(output_file, mode='a', newline='', encoding='utf-8') as file:\n",
    "                writer = csv.writer(file)\n",
    "                writer.writerow(headers)\n",
    "                for i in tqdm(range(0, len(infer_data), batch_size)):\n",
    "                    batch = infer_data[i:i + batch_size]\n",
    "                    input = torch.tensor(batch[\"text\"]).to(device)\n",
    "                    \n",
    "                    outputs = model(input)\n",
    "                    logits = outputs.logits\n",
    "                    predictions = torch.argmax(logits, dim=-1)\n",
    "                    \n",
    "                    for j in range(predictions.shape[0]):\n",
    "                        row = [batch[h][j] for h in headers[:-1]] + [['negative', 'neutral', 'positive'][predictions[j].item()]]\n",
    "                        writer.writerow(row)\n",
    "    print('inference completed ...')\n",
    "    return "
   ]
  },
  {
   "cell_type": "code",
   "execution_count": 15,
   "metadata": {},
   "outputs": [
    {
     "name": "stderr",
     "output_type": "stream",
     "text": [
      "Some weights of the model checkpoint at cardiffnlp/twitter-roberta-base-sentiment-latest were not used when initializing RobertaForSequenceClassification: ['roberta.pooler.dense.bias', 'roberta.pooler.dense.weight']\n",
      "- This IS expected if you are initializing RobertaForSequenceClassification from the checkpoint of a model trained on another task or with another architecture (e.g. initializing a BertForSequenceClassification model from a BertForPreTraining model).\n",
      "- This IS NOT expected if you are initializing RobertaForSequenceClassification from the checkpoint of a model that you expect to be exactly identical (initializing a BertForSequenceClassification model from a BertForSequenceClassification model).\n",
      "100%|██████████| 230/230 [00:18<00:00, 12.29it/s]"
     ]
    },
    {
     "name": "stdout",
     "output_type": "stream",
     "text": [
      "inference completed ...\n"
     ]
    },
    {
     "name": "stderr",
     "output_type": "stream",
     "text": [
      "\n"
     ]
    }
   ],
   "source": [
    "do_infer(amazon_reviews_, os.getcwd())"
   ]
  },
  {
   "cell_type": "markdown",
   "metadata": {},
   "source": [
    "##### effective within 24 hrs"
   ]
  },
  {
   "cell_type": "code",
   "execution_count": 4,
   "metadata": {},
   "outputs": [],
   "source": [
    "import re\n",
    "effectiveness_pattern = r'\\b(?:immediat\\w*|fast\\w*|\\b\\w*hour\\w*\\b|same day|instant\\w*|overnight|rapid\\w*|quick\\w*|prompt\\w*|within\\w*\\s+\\d+\\s*hour\\w*|same\\s+night|one\\s+day|short\\w*\\s+time|quick\\s+relief|in\\s+no\\s+time|in\\s+a\\s+few\\s+hours|next\\s+day|first\\s+use|immediat\\w+\\s+result\\w*|effective\\s+right\\s+away|almost\\s+instantly)\\b'\n",
    "\n",
    "def extract_effectiveness_keywords(text):\n",
    "    if pd.isna(text):\n",
    "        return []\n",
    "    return re.findall(effectiveness_pattern, text, flags=re.IGNORECASE)\n",
    "\n",
    "\n",
    "file['effectiveness_keywords_in_review'] = (file.review_title.apply(extract_effectiveness_keywords) +\n",
    "                                             file.review_body.apply(extract_effectiveness_keywords))\n",
    "file['effectiveness_mentioned'] = file.effectiveness_keywords_in_review.apply(lambda x: len(x) > 0)"
   ]
  },
  {
   "cell_type": "code",
   "execution_count": null,
   "metadata": {},
   "outputs": [],
   "source": [
    "import plotly.express as px\n",
    "\n",
    "file_w_effect = file.groupby('asin').agg({'review_body':len, 'effectiveness_mentioned': 'mean'}).reset_index()\n",
    "\n",
    "fig = px.histogram(file_w_effect, x=\"effectiveness_mentioned\", \n",
    "                   histnorm='probability',)\n",
    "\n",
    "fig.update_layout(\n",
    "    title_text='Effectiveness Mentioned in Amazon Reviews',\n",
    "    title_x=0.5,  # Center the title\n",
    "    bargap=0.1,\n",
    "    height=400,\n",
    "    width=800,\n",
    "\n",
    ")\n",
    "\n",
    "fig.update_xaxes(title_text='Effectiveness Mentioned',)\n",
    "\n",
    "fig.show()\n",
    "\n",
    "fig.write_image('effectiveness_mentioned.png',)"
   ]
  },
  {
   "cell_type": "code",
   "execution_count": 11,
   "metadata": {},
   "outputs": [],
   "source": [
    "import chart_studio\n",
    "import chart_studio.plotly as py\n",
    "import chart_studio.tools as tls\n",
    "import os\n",
    "\n",
    "user_name, api_key = os.getenv(\"plotly_name\"), os.getenv(\"plotly_api\")\n",
    "# Replace these with your actual username and API key\n",
    "chart_studio.tools.set_credentials_file(username= user_name, api_key=api_key)\n",
    "\n",
    "py.plot(fig, filename='effectiveness_mentioned.html', auto_open=True)"
   ]
  },
  {
   "cell_type": "code",
   "execution_count": 5,
   "metadata": {},
   "outputs": [],
   "source": [
    "effectiveness_flags = pd.get_dummies(file.effectiveness_keywords_in_review.explode().str.strip(), prefix='', prefix_sep='').groupby(level=0).max()\n",
    "effectiveness_dict = dict(zip(effectiveness_flags.columns, effectiveness_flags.sum(axis = 0)))\n",
    "\n",
    "with open('effectiveness_dict.json', 'w') as f:\n",
    "    json.dump(effectiveness_dict, f, indent = 4)\n",
    "\n",
    "effectiveness_df = pd.DataFrame(index = effectiveness_dict.keys(), data = effectiveness_dict.values(), columns = ['count']).sort_values('count', ascending = False)"
   ]
  },
  {
   "cell_type": "code",
   "execution_count": 15,
   "metadata": {},
   "outputs": [
    {
     "data": {
      "application/vnd.plotly.v1+json": {
       "config": {
        "plotlyServerURL": "https://plotly.com"
       },
       "data": [
        {
         "alignmentgroup": "True",
         "hovertemplate": "variable=count<br>index=%{x}<br>value=%{y}<extra></extra>",
         "legendgroup": "count",
         "marker": {
          "color": "#636efa",
          "pattern": {
           "shape": ""
          }
         },
         "name": "count",
         "offsetgroup": "count",
         "orientation": "v",
         "showlegend": true,
         "textposition": "auto",
         "type": "bar",
         "x": [
          "hours",
          "hour",
          "quickly",
          "next day",
          "fast",
          "faster",
          "immediately",
          "quick",
          "Fast",
          "instantly",
          "immediate",
          "overnight",
          "one day",
          "instant",
          "quicker",
          "promptly",
          "in a few hours",
          "instantaneously",
          "same day",
          "Immediately",
          "Prompt",
          "Quick",
          "Immediate",
          "Hour",
          "Hours",
          "4hours",
          "Faster",
          "QUICKLY",
          "Next day",
          "Instant",
          "fasting",
          "almost instantly",
          "Short Time",
          "first use",
          "Quickly",
          "instantaneous",
          "hourand",
          "prompting",
          "prompt",
          "rapid",
          "rapide",
          "rapidement",
          "within 24 hours"
         ],
         "xaxis": "x",
         "y": [
          58,
          35,
          34,
          30,
          24,
          22,
          19,
          14,
          9,
          8,
          5,
          5,
          5,
          4,
          4,
          3,
          3,
          2,
          2,
          2,
          2,
          2,
          1,
          1,
          1,
          1,
          1,
          1,
          1,
          1,
          1,
          1,
          1,
          1,
          1,
          1,
          1,
          1,
          1,
          1,
          1,
          1,
          1
         ],
         "yaxis": "y"
        }
       ],
       "layout": {
        "bargap": 0.1,
        "barmode": "relative",
        "height": 400,
        "legend": {
         "title": {
          "text": "variable"
         },
         "tracegroupgap": 0
        },
        "margin": {
         "t": 60
        },
        "template": {
         "data": {
          "bar": [
           {
            "error_x": {
             "color": "#2a3f5f"
            },
            "error_y": {
             "color": "#2a3f5f"
            },
            "marker": {
             "line": {
              "color": "#E5ECF6",
              "width": 0.5
             },
             "pattern": {
              "fillmode": "overlay",
              "size": 10,
              "solidity": 0.2
             }
            },
            "type": "bar"
           }
          ],
          "barpolar": [
           {
            "marker": {
             "line": {
              "color": "#E5ECF6",
              "width": 0.5
             },
             "pattern": {
              "fillmode": "overlay",
              "size": 10,
              "solidity": 0.2
             }
            },
            "type": "barpolar"
           }
          ],
          "carpet": [
           {
            "aaxis": {
             "endlinecolor": "#2a3f5f",
             "gridcolor": "white",
             "linecolor": "white",
             "minorgridcolor": "white",
             "startlinecolor": "#2a3f5f"
            },
            "baxis": {
             "endlinecolor": "#2a3f5f",
             "gridcolor": "white",
             "linecolor": "white",
             "minorgridcolor": "white",
             "startlinecolor": "#2a3f5f"
            },
            "type": "carpet"
           }
          ],
          "choropleth": [
           {
            "colorbar": {
             "outlinewidth": 0,
             "ticks": ""
            },
            "type": "choropleth"
           }
          ],
          "contour": [
           {
            "colorbar": {
             "outlinewidth": 0,
             "ticks": ""
            },
            "colorscale": [
             [
              0,
              "#0d0887"
             ],
             [
              0.1111111111111111,
              "#46039f"
             ],
             [
              0.2222222222222222,
              "#7201a8"
             ],
             [
              0.3333333333333333,
              "#9c179e"
             ],
             [
              0.4444444444444444,
              "#bd3786"
             ],
             [
              0.5555555555555556,
              "#d8576b"
             ],
             [
              0.6666666666666666,
              "#ed7953"
             ],
             [
              0.7777777777777778,
              "#fb9f3a"
             ],
             [
              0.8888888888888888,
              "#fdca26"
             ],
             [
              1,
              "#f0f921"
             ]
            ],
            "type": "contour"
           }
          ],
          "contourcarpet": [
           {
            "colorbar": {
             "outlinewidth": 0,
             "ticks": ""
            },
            "type": "contourcarpet"
           }
          ],
          "heatmap": [
           {
            "colorbar": {
             "outlinewidth": 0,
             "ticks": ""
            },
            "colorscale": [
             [
              0,
              "#0d0887"
             ],
             [
              0.1111111111111111,
              "#46039f"
             ],
             [
              0.2222222222222222,
              "#7201a8"
             ],
             [
              0.3333333333333333,
              "#9c179e"
             ],
             [
              0.4444444444444444,
              "#bd3786"
             ],
             [
              0.5555555555555556,
              "#d8576b"
             ],
             [
              0.6666666666666666,
              "#ed7953"
             ],
             [
              0.7777777777777778,
              "#fb9f3a"
             ],
             [
              0.8888888888888888,
              "#fdca26"
             ],
             [
              1,
              "#f0f921"
             ]
            ],
            "type": "heatmap"
           }
          ],
          "heatmapgl": [
           {
            "colorbar": {
             "outlinewidth": 0,
             "ticks": ""
            },
            "colorscale": [
             [
              0,
              "#0d0887"
             ],
             [
              0.1111111111111111,
              "#46039f"
             ],
             [
              0.2222222222222222,
              "#7201a8"
             ],
             [
              0.3333333333333333,
              "#9c179e"
             ],
             [
              0.4444444444444444,
              "#bd3786"
             ],
             [
              0.5555555555555556,
              "#d8576b"
             ],
             [
              0.6666666666666666,
              "#ed7953"
             ],
             [
              0.7777777777777778,
              "#fb9f3a"
             ],
             [
              0.8888888888888888,
              "#fdca26"
             ],
             [
              1,
              "#f0f921"
             ]
            ],
            "type": "heatmapgl"
           }
          ],
          "histogram": [
           {
            "marker": {
             "pattern": {
              "fillmode": "overlay",
              "size": 10,
              "solidity": 0.2
             }
            },
            "type": "histogram"
           }
          ],
          "histogram2d": [
           {
            "colorbar": {
             "outlinewidth": 0,
             "ticks": ""
            },
            "colorscale": [
             [
              0,
              "#0d0887"
             ],
             [
              0.1111111111111111,
              "#46039f"
             ],
             [
              0.2222222222222222,
              "#7201a8"
             ],
             [
              0.3333333333333333,
              "#9c179e"
             ],
             [
              0.4444444444444444,
              "#bd3786"
             ],
             [
              0.5555555555555556,
              "#d8576b"
             ],
             [
              0.6666666666666666,
              "#ed7953"
             ],
             [
              0.7777777777777778,
              "#fb9f3a"
             ],
             [
              0.8888888888888888,
              "#fdca26"
             ],
             [
              1,
              "#f0f921"
             ]
            ],
            "type": "histogram2d"
           }
          ],
          "histogram2dcontour": [
           {
            "colorbar": {
             "outlinewidth": 0,
             "ticks": ""
            },
            "colorscale": [
             [
              0,
              "#0d0887"
             ],
             [
              0.1111111111111111,
              "#46039f"
             ],
             [
              0.2222222222222222,
              "#7201a8"
             ],
             [
              0.3333333333333333,
              "#9c179e"
             ],
             [
              0.4444444444444444,
              "#bd3786"
             ],
             [
              0.5555555555555556,
              "#d8576b"
             ],
             [
              0.6666666666666666,
              "#ed7953"
             ],
             [
              0.7777777777777778,
              "#fb9f3a"
             ],
             [
              0.8888888888888888,
              "#fdca26"
             ],
             [
              1,
              "#f0f921"
             ]
            ],
            "type": "histogram2dcontour"
           }
          ],
          "mesh3d": [
           {
            "colorbar": {
             "outlinewidth": 0,
             "ticks": ""
            },
            "type": "mesh3d"
           }
          ],
          "parcoords": [
           {
            "line": {
             "colorbar": {
              "outlinewidth": 0,
              "ticks": ""
             }
            },
            "type": "parcoords"
           }
          ],
          "pie": [
           {
            "automargin": true,
            "type": "pie"
           }
          ],
          "scatter": [
           {
            "fillpattern": {
             "fillmode": "overlay",
             "size": 10,
             "solidity": 0.2
            },
            "type": "scatter"
           }
          ],
          "scatter3d": [
           {
            "line": {
             "colorbar": {
              "outlinewidth": 0,
              "ticks": ""
             }
            },
            "marker": {
             "colorbar": {
              "outlinewidth": 0,
              "ticks": ""
             }
            },
            "type": "scatter3d"
           }
          ],
          "scattercarpet": [
           {
            "marker": {
             "colorbar": {
              "outlinewidth": 0,
              "ticks": ""
             }
            },
            "type": "scattercarpet"
           }
          ],
          "scattergeo": [
           {
            "marker": {
             "colorbar": {
              "outlinewidth": 0,
              "ticks": ""
             }
            },
            "type": "scattergeo"
           }
          ],
          "scattergl": [
           {
            "marker": {
             "colorbar": {
              "outlinewidth": 0,
              "ticks": ""
             }
            },
            "type": "scattergl"
           }
          ],
          "scattermapbox": [
           {
            "marker": {
             "colorbar": {
              "outlinewidth": 0,
              "ticks": ""
             }
            },
            "type": "scattermapbox"
           }
          ],
          "scatterpolar": [
           {
            "marker": {
             "colorbar": {
              "outlinewidth": 0,
              "ticks": ""
             }
            },
            "type": "scatterpolar"
           }
          ],
          "scatterpolargl": [
           {
            "marker": {
             "colorbar": {
              "outlinewidth": 0,
              "ticks": ""
             }
            },
            "type": "scatterpolargl"
           }
          ],
          "scatterternary": [
           {
            "marker": {
             "colorbar": {
              "outlinewidth": 0,
              "ticks": ""
             }
            },
            "type": "scatterternary"
           }
          ],
          "surface": [
           {
            "colorbar": {
             "outlinewidth": 0,
             "ticks": ""
            },
            "colorscale": [
             [
              0,
              "#0d0887"
             ],
             [
              0.1111111111111111,
              "#46039f"
             ],
             [
              0.2222222222222222,
              "#7201a8"
             ],
             [
              0.3333333333333333,
              "#9c179e"
             ],
             [
              0.4444444444444444,
              "#bd3786"
             ],
             [
              0.5555555555555556,
              "#d8576b"
             ],
             [
              0.6666666666666666,
              "#ed7953"
             ],
             [
              0.7777777777777778,
              "#fb9f3a"
             ],
             [
              0.8888888888888888,
              "#fdca26"
             ],
             [
              1,
              "#f0f921"
             ]
            ],
            "type": "surface"
           }
          ],
          "table": [
           {
            "cells": {
             "fill": {
              "color": "#EBF0F8"
             },
             "line": {
              "color": "white"
             }
            },
            "header": {
             "fill": {
              "color": "#C8D4E3"
             },
             "line": {
              "color": "white"
             }
            },
            "type": "table"
           }
          ]
         },
         "layout": {
          "annotationdefaults": {
           "arrowcolor": "#2a3f5f",
           "arrowhead": 0,
           "arrowwidth": 1
          },
          "autotypenumbers": "strict",
          "coloraxis": {
           "colorbar": {
            "outlinewidth": 0,
            "ticks": ""
           }
          },
          "colorscale": {
           "diverging": [
            [
             0,
             "#8e0152"
            ],
            [
             0.1,
             "#c51b7d"
            ],
            [
             0.2,
             "#de77ae"
            ],
            [
             0.3,
             "#f1b6da"
            ],
            [
             0.4,
             "#fde0ef"
            ],
            [
             0.5,
             "#f7f7f7"
            ],
            [
             0.6,
             "#e6f5d0"
            ],
            [
             0.7,
             "#b8e186"
            ],
            [
             0.8,
             "#7fbc41"
            ],
            [
             0.9,
             "#4d9221"
            ],
            [
             1,
             "#276419"
            ]
           ],
           "sequential": [
            [
             0,
             "#0d0887"
            ],
            [
             0.1111111111111111,
             "#46039f"
            ],
            [
             0.2222222222222222,
             "#7201a8"
            ],
            [
             0.3333333333333333,
             "#9c179e"
            ],
            [
             0.4444444444444444,
             "#bd3786"
            ],
            [
             0.5555555555555556,
             "#d8576b"
            ],
            [
             0.6666666666666666,
             "#ed7953"
            ],
            [
             0.7777777777777778,
             "#fb9f3a"
            ],
            [
             0.8888888888888888,
             "#fdca26"
            ],
            [
             1,
             "#f0f921"
            ]
           ],
           "sequentialminus": [
            [
             0,
             "#0d0887"
            ],
            [
             0.1111111111111111,
             "#46039f"
            ],
            [
             0.2222222222222222,
             "#7201a8"
            ],
            [
             0.3333333333333333,
             "#9c179e"
            ],
            [
             0.4444444444444444,
             "#bd3786"
            ],
            [
             0.5555555555555556,
             "#d8576b"
            ],
            [
             0.6666666666666666,
             "#ed7953"
            ],
            [
             0.7777777777777778,
             "#fb9f3a"
            ],
            [
             0.8888888888888888,
             "#fdca26"
            ],
            [
             1,
             "#f0f921"
            ]
           ]
          },
          "colorway": [
           "#636efa",
           "#EF553B",
           "#00cc96",
           "#ab63fa",
           "#FFA15A",
           "#19d3f3",
           "#FF6692",
           "#B6E880",
           "#FF97FF",
           "#FECB52"
          ],
          "font": {
           "color": "#2a3f5f"
          },
          "geo": {
           "bgcolor": "white",
           "lakecolor": "white",
           "landcolor": "#E5ECF6",
           "showlakes": true,
           "showland": true,
           "subunitcolor": "white"
          },
          "hoverlabel": {
           "align": "left"
          },
          "hovermode": "closest",
          "mapbox": {
           "style": "light"
          },
          "paper_bgcolor": "white",
          "plot_bgcolor": "#E5ECF6",
          "polar": {
           "angularaxis": {
            "gridcolor": "white",
            "linecolor": "white",
            "ticks": ""
           },
           "bgcolor": "#E5ECF6",
           "radialaxis": {
            "gridcolor": "white",
            "linecolor": "white",
            "ticks": ""
           }
          },
          "scene": {
           "xaxis": {
            "backgroundcolor": "#E5ECF6",
            "gridcolor": "white",
            "gridwidth": 2,
            "linecolor": "white",
            "showbackground": true,
            "ticks": "",
            "zerolinecolor": "white"
           },
           "yaxis": {
            "backgroundcolor": "#E5ECF6",
            "gridcolor": "white",
            "gridwidth": 2,
            "linecolor": "white",
            "showbackground": true,
            "ticks": "",
            "zerolinecolor": "white"
           },
           "zaxis": {
            "backgroundcolor": "#E5ECF6",
            "gridcolor": "white",
            "gridwidth": 2,
            "linecolor": "white",
            "showbackground": true,
            "ticks": "",
            "zerolinecolor": "white"
           }
          },
          "shapedefaults": {
           "line": {
            "color": "#2a3f5f"
           }
          },
          "ternary": {
           "aaxis": {
            "gridcolor": "white",
            "linecolor": "white",
            "ticks": ""
           },
           "baxis": {
            "gridcolor": "white",
            "linecolor": "white",
            "ticks": ""
           },
           "bgcolor": "#E5ECF6",
           "caxis": {
            "gridcolor": "white",
            "linecolor": "white",
            "ticks": ""
           }
          },
          "title": {
           "x": 0.05
          },
          "xaxis": {
           "automargin": true,
           "gridcolor": "white",
           "linecolor": "white",
           "ticks": "",
           "title": {
            "standoff": 15
           },
           "zerolinecolor": "white",
           "zerolinewidth": 2
          },
          "yaxis": {
           "automargin": true,
           "gridcolor": "white",
           "linecolor": "white",
           "ticks": "",
           "title": {
            "standoff": 15
           },
           "zerolinecolor": "white",
           "zerolinewidth": 2
          }
         }
        },
        "title": {
         "text": "Effectiveness Keywords Frequency in Amazon Reviews",
         "x": 0.5
        },
        "width": 800,
        "xaxis": {
         "anchor": "y",
         "domain": [
          0,
          1
         ],
         "tickangle": -45,
         "tickfont": {
          "size": 10
         },
         "title": {
          "text": "Effectiveness Keywords"
         }
        },
        "yaxis": {
         "anchor": "x",
         "domain": [
          0,
          1
         ],
         "title": {
          "text": "Frequency"
         }
        }
       }
      }
     },
     "metadata": {},
     "output_type": "display_data"
    },
    {
     "data": {
      "text/plain": [
       "'https://plotly.com/~tl2546/9/'"
      ]
     },
     "execution_count": 15,
     "metadata": {},
     "output_type": "execute_result"
    }
   ],
   "source": [
    "import plotly.express as px\n",
    "import chart_studio\n",
    "import chart_studio.plotly as py\n",
    "import chart_studio.tools as tls\n",
    "import os\n",
    "\n",
    "fig = px.bar(effectiveness_df)\n",
    "\n",
    "fig.update_layout(\n",
    "    title_text='Effectiveness Keywords Frequency in Amazon Reviews',\n",
    "    title_x=0.5,  # Center the title\n",
    "    bargap=0.1,\n",
    "    height=400,\n",
    "    width=800,\n",
    "    xaxis=dict(\n",
    "        tickangle=-45,\n",
    "        tickfont=dict(\n",
    "            size=10,\n",
    "        ))\n",
    "\n",
    ")\n",
    "\n",
    "fig.update_xaxes(title_text='Effectiveness Keywords',)\n",
    "fig.update_yaxes(title_text='Frequency')\n",
    "\n",
    "fig.show()\n",
    "\n",
    "# fig.write_image('effectiveness_mentioned.png',)\n",
    "\n",
    "\n",
    "\n",
    "user_name, api_key = os.getenv(\"plotly_name\"), os.getenv(\"plotly_api\")\n",
    "# Replace these with your actual username and API key\n",
    "chart_studio.tools.set_credentials_file(username= user_name, api_key=api_key)\n",
    "\n",
    "py.plot(fig, filename='effectiveness_frequency.html', auto_open=True)"
   ]
  },
  {
   "cell_type": "markdown",
   "metadata": {},
   "source": [
    "##### ingredients analysis"
   ]
  },
  {
   "cell_type": "code",
   "execution_count": 5,
   "metadata": {},
   "outputs": [],
   "source": [
    "file.ingredients = file.ingredients.str.lower()\n",
    "file.ingredients = file.ingredients.apply(lambda x: str(x).split('(')[0].lstrip() if x else None)\n",
    "\n",
    "ingredient_flags = pd.get_dummies(file.ingredients.str.split('[,]').explode().str.strip(), prefix='', prefix_sep='').groupby(level=0).max()\n",
    "file_w_ingredients = pd.concat([file, ingredient_flags], axis = 1).dropna()\n",
    "\n",
    "to_drop = [i for i in ingredient_flags.columns if 'california poppy' in i or not i]\n",
    "\n",
    "file_w_ingredients = file_w_ingredients.drop(columns = to_drop)\n",
    "file_w_ingredients.to_excel('Amazon_reviews_w_ingredients.xlsx', index = False)"
   ]
  },
  {
   "cell_type": "code",
   "execution_count": 6,
   "metadata": {},
   "outputs": [
    {
     "data": {
      "text/html": [
       "<div>\n",
       "<style scoped>\n",
       "    .dataframe tbody tr th:only-of-type {\n",
       "        vertical-align: middle;\n",
       "    }\n",
       "\n",
       "    .dataframe tbody tr th {\n",
       "        vertical-align: top;\n",
       "    }\n",
       "\n",
       "    .dataframe thead th {\n",
       "        text-align: right;\n",
       "    }\n",
       "</style>\n",
       "<table border=\"1\" class=\"dataframe\">\n",
       "  <thead>\n",
       "    <tr style=\"text-align: right;\">\n",
       "      <th></th>\n",
       "      <th>asin</th>\n",
       "      <th>name</th>\n",
       "      <th>ingredients</th>\n",
       "      <th>a base of pure vegetable glycerine and distilled water.</th>\n",
       "      <th>active ingredients: rhodiola rosea extract 500mg other ingredients: veggie capsule</th>\n",
       "      <th>additional ingredients: vegetable stearate</th>\n",
       "      <th>alcohol</th>\n",
       "      <th>and tart cherry fruit</th>\n",
       "      <th>anise seed</th>\n",
       "      <th>ashwagandha 250mg</th>\n",
       "      <th>...</th>\n",
       "      <th>turkey tail 250mg</th>\n",
       "      <th>usp grade vegetable glycerin and purified water</th>\n",
       "      <th>valerian</th>\n",
       "      <th>valerian root</th>\n",
       "      <th>valeriana officinalis</th>\n",
       "      <th>vegetable cellulose</th>\n",
       "      <th>vegetable glycerin</th>\n",
       "      <th>vitamin c</th>\n",
       "      <th>water</th>\n",
       "      <th>whole plant</th>\n",
       "    </tr>\n",
       "  </thead>\n",
       "  <tbody>\n",
       "    <tr>\n",
       "      <th>0</th>\n",
       "      <td>B00K6L4UV8</td>\n",
       "      <td>Organic California Poppy Herb C/S</td>\n",
       "      <td>nan</td>\n",
       "      <td>False</td>\n",
       "      <td>False</td>\n",
       "      <td>False</td>\n",
       "      <td>False</td>\n",
       "      <td>False</td>\n",
       "      <td>False</td>\n",
       "      <td>False</td>\n",
       "      <td>...</td>\n",
       "      <td>False</td>\n",
       "      <td>False</td>\n",
       "      <td>False</td>\n",
       "      <td>False</td>\n",
       "      <td>False</td>\n",
       "      <td>False</td>\n",
       "      <td>False</td>\n",
       "      <td>False</td>\n",
       "      <td>False</td>\n",
       "      <td>False</td>\n",
       "    </tr>\n",
       "    <tr>\n",
       "      <th>1</th>\n",
       "      <td>B0BRQT7576</td>\n",
       "      <td>Pure California Poppy Tea - Natural California...</td>\n",
       "      <td>nan</td>\n",
       "      <td>False</td>\n",
       "      <td>False</td>\n",
       "      <td>False</td>\n",
       "      <td>False</td>\n",
       "      <td>False</td>\n",
       "      <td>False</td>\n",
       "      <td>False</td>\n",
       "      <td>...</td>\n",
       "      <td>False</td>\n",
       "      <td>False</td>\n",
       "      <td>False</td>\n",
       "      <td>False</td>\n",
       "      <td>False</td>\n",
       "      <td>False</td>\n",
       "      <td>False</td>\n",
       "      <td>False</td>\n",
       "      <td>False</td>\n",
       "      <td>False</td>\n",
       "    </tr>\n",
       "    <tr>\n",
       "      <th>2</th>\n",
       "      <td>B09RWBLB5T</td>\n",
       "      <td>Nelson's Tea - California Poppy - Cut &amp; Sifted...</td>\n",
       "      <td>nan</td>\n",
       "      <td>False</td>\n",
       "      <td>False</td>\n",
       "      <td>False</td>\n",
       "      <td>False</td>\n",
       "      <td>False</td>\n",
       "      <td>False</td>\n",
       "      <td>False</td>\n",
       "      <td>...</td>\n",
       "      <td>False</td>\n",
       "      <td>False</td>\n",
       "      <td>False</td>\n",
       "      <td>False</td>\n",
       "      <td>False</td>\n",
       "      <td>False</td>\n",
       "      <td>False</td>\n",
       "      <td>False</td>\n",
       "      <td>False</td>\n",
       "      <td>False</td>\n",
       "    </tr>\n",
       "    <tr>\n",
       "      <th>4</th>\n",
       "      <td>B008668JL2</td>\n",
       "      <td>Bio Nutrition California Poppy Vegi-Caps, 60 C...</td>\n",
       "      <td>california poppy seed 500 mg **,additional ing...</td>\n",
       "      <td>False</td>\n",
       "      <td>False</td>\n",
       "      <td>True</td>\n",
       "      <td>False</td>\n",
       "      <td>False</td>\n",
       "      <td>False</td>\n",
       "      <td>False</td>\n",
       "      <td>...</td>\n",
       "      <td>False</td>\n",
       "      <td>False</td>\n",
       "      <td>False</td>\n",
       "      <td>False</td>\n",
       "      <td>False</td>\n",
       "      <td>True</td>\n",
       "      <td>False</td>\n",
       "      <td>False</td>\n",
       "      <td>False</td>\n",
       "      <td>False</td>\n",
       "    </tr>\n",
       "    <tr>\n",
       "      <th>5</th>\n",
       "      <td>B07PTBPL7W</td>\n",
       "      <td>California Poppy Tea Herb Organic 4 Ounce</td>\n",
       "      <td>nan</td>\n",
       "      <td>False</td>\n",
       "      <td>False</td>\n",
       "      <td>False</td>\n",
       "      <td>False</td>\n",
       "      <td>False</td>\n",
       "      <td>False</td>\n",
       "      <td>False</td>\n",
       "      <td>...</td>\n",
       "      <td>False</td>\n",
       "      <td>False</td>\n",
       "      <td>False</td>\n",
       "      <td>False</td>\n",
       "      <td>False</td>\n",
       "      <td>False</td>\n",
       "      <td>False</td>\n",
       "      <td>False</td>\n",
       "      <td>False</td>\n",
       "      <td>False</td>\n",
       "    </tr>\n",
       "  </tbody>\n",
       "</table>\n",
       "<p>5 rows × 123 columns</p>\n",
       "</div>"
      ],
      "text/plain": [
       "         asin                                               name  \\\n",
       "0  B00K6L4UV8                  Organic California Poppy Herb C/S   \n",
       "1  B0BRQT7576  Pure California Poppy Tea - Natural California...   \n",
       "2  B09RWBLB5T  Nelson's Tea - California Poppy - Cut & Sifted...   \n",
       "4  B008668JL2  Bio Nutrition California Poppy Vegi-Caps, 60 C...   \n",
       "5  B07PTBPL7W          California Poppy Tea Herb Organic 4 Ounce   \n",
       "\n",
       "                                         ingredients  \\\n",
       "0                                                nan   \n",
       "1                                                nan   \n",
       "2                                                nan   \n",
       "4  california poppy seed 500 mg **,additional ing...   \n",
       "5                                                nan   \n",
       "\n",
       "   a base of pure vegetable glycerine and distilled water.  \\\n",
       "0                                              False         \n",
       "1                                              False         \n",
       "2                                              False         \n",
       "4                                              False         \n",
       "5                                              False         \n",
       "\n",
       "   active ingredients: rhodiola rosea extract 500mg other ingredients: veggie capsule  \\\n",
       "0                                              False                                    \n",
       "1                                              False                                    \n",
       "2                                              False                                    \n",
       "4                                              False                                    \n",
       "5                                              False                                    \n",
       "\n",
       "   additional ingredients: vegetable stearate  alcohol  and tart cherry fruit  \\\n",
       "0                                       False    False                  False   \n",
       "1                                       False    False                  False   \n",
       "2                                       False    False                  False   \n",
       "4                                        True    False                  False   \n",
       "5                                       False    False                  False   \n",
       "\n",
       "   anise seed  ashwagandha 250mg  ...  turkey tail 250mg  \\\n",
       "0       False              False  ...              False   \n",
       "1       False              False  ...              False   \n",
       "2       False              False  ...              False   \n",
       "4       False              False  ...              False   \n",
       "5       False              False  ...              False   \n",
       "\n",
       "   usp grade vegetable glycerin and purified water  valerian  valerian root  \\\n",
       "0                                            False     False          False   \n",
       "1                                            False     False          False   \n",
       "2                                            False     False          False   \n",
       "4                                            False     False          False   \n",
       "5                                            False     False          False   \n",
       "\n",
       "   valeriana officinalis  vegetable cellulose  vegetable glycerin  vitamin c  \\\n",
       "0                  False                False               False      False   \n",
       "1                  False                False               False      False   \n",
       "2                  False                False               False      False   \n",
       "4                  False                 True               False      False   \n",
       "5                  False                False               False      False   \n",
       "\n",
       "   water  whole plant  \n",
       "0  False        False  \n",
       "1  False        False  \n",
       "2  False        False  \n",
       "4  False        False  \n",
       "5  False        False  \n",
       "\n",
       "[5 rows x 123 columns]"
      ]
     },
     "execution_count": 6,
     "metadata": {},
     "output_type": "execute_result"
    }
   ],
   "source": [
    "file_w_ingredients.head()"
   ]
  },
  {
   "cell_type": "code",
   "execution_count": 28,
   "metadata": {},
   "outputs": [],
   "source": [
    "from collections import defaultdict\n",
    "import json\n",
    "ingredient_list = ingredient_flags.drop(columns = to_drop).columns\n",
    "ingredient_dict = defaultdict(list)\n",
    "\n",
    "for ingredient in ingredient_list:\n",
    "    ingredient_dict[ingredient] = list(set(file_w_ingredients.groupby(ingredient)['name'].apply(list)[True]))\n",
    "\n",
    "with open('ingredient_dict.json', 'w') as f:\n",
    "    json.dump(ingredient_dict, f, indent = 4)\n"
   ]
  },
  {
   "cell_type": "code",
   "execution_count": 29,
   "metadata": {},
   "outputs": [],
   "source": [
    "for key in ingredient_dict.keys():\n",
    "    ingredient_dict[key] = ingredient_dict[key][0]\n",
    "\n",
    "pd.DataFrame.from_dict(ingredient_dict, orient = 'index', columns=['products']).to_excel('ingredient_dict.xlsx')"
   ]
  },
  {
   "cell_type": "markdown",
   "metadata": {},
   "source": [
    "##### safety concerns"
   ]
  },
  {
   "cell_type": "code",
   "execution_count": null,
   "metadata": {},
   "outputs": [
    {
     "data": {
      "application/vnd.plotly.v1+json": {
       "config": {
        "plotlyServerURL": "https://plotly.com"
       },
       "data": [
        {
         "alignmentgroup": "True",
         "bingroup": "x",
         "histnorm": "probability",
         "hovertemplate": "safety_mentioned=%{x}<br>probability=%{y}<extra></extra>",
         "legendgroup": "",
         "marker": {
          "color": "#636efa",
          "pattern": {
           "shape": ""
          }
         },
         "name": "",
         "offsetgroup": "",
         "orientation": "v",
         "showlegend": false,
         "type": "histogram",
         "x": [
          0,
          0,
          0.1,
          0,
          0,
          0.1,
          0,
          0,
          0,
          0.1,
          0,
          0,
          0.1,
          0,
          0,
          0,
          0,
          0,
          0,
          0,
          0,
          0,
          0,
          0,
          0,
          0,
          0,
          0,
          0,
          0,
          0,
          0.8,
          0,
          0,
          0,
          0,
          0,
          0,
          0,
          0,
          0,
          0,
          0,
          0,
          0,
          0,
          0,
          0.2,
          0.2,
          0,
          0.1,
          0,
          0,
          0,
          0,
          0,
          0,
          0,
          0,
          0,
          0.3333333333333333,
          0,
          0,
          0,
          0,
          0,
          0,
          0,
          0,
          0,
          0,
          0,
          0,
          0,
          0,
          0,
          0.1,
          0.1,
          0.16666666666666666,
          0,
          0,
          0,
          0,
          0,
          0,
          0,
          0.1,
          0,
          0,
          0,
          0,
          0,
          0,
          0,
          0,
          0,
          0,
          0,
          0,
          0,
          0,
          0,
          0,
          0,
          0,
          0.3333333333333333,
          0,
          0,
          0,
          0,
          0.1,
          0,
          0,
          0,
          0,
          0,
          0,
          0,
          0,
          0,
          0,
          0,
          0,
          0,
          0,
          0,
          0,
          0,
          0,
          0,
          0,
          0,
          0,
          0,
          0,
          0,
          0,
          0,
          0,
          0,
          0,
          0,
          0,
          0,
          0,
          0,
          0,
          0,
          0,
          0,
          0,
          0,
          0,
          0,
          0.1,
          0,
          0.1,
          0,
          0,
          0,
          0,
          0,
          0,
          0,
          0.1,
          0,
          0,
          0,
          0,
          0,
          0,
          0,
          0.125,
          0,
          0,
          0,
          0,
          0,
          0,
          0,
          0,
          0,
          0,
          0,
          0,
          0,
          0,
          0,
          0,
          0,
          0,
          0,
          0.1,
          0,
          0,
          0,
          0.2,
          0.1,
          0,
          0.1,
          0,
          0,
          0,
          0,
          0,
          0,
          0.2,
          0
         ],
         "xaxis": "x",
         "yaxis": "y"
        }
       ],
       "layout": {
        "bargap": 0.1,
        "barmode": "relative",
        "height": 400,
        "legend": {
         "tracegroupgap": 0
        },
        "margin": {
         "t": 60
        },
        "template": {
         "data": {
          "bar": [
           {
            "error_x": {
             "color": "#2a3f5f"
            },
            "error_y": {
             "color": "#2a3f5f"
            },
            "marker": {
             "line": {
              "color": "#E5ECF6",
              "width": 0.5
             },
             "pattern": {
              "fillmode": "overlay",
              "size": 10,
              "solidity": 0.2
             }
            },
            "type": "bar"
           }
          ],
          "barpolar": [
           {
            "marker": {
             "line": {
              "color": "#E5ECF6",
              "width": 0.5
             },
             "pattern": {
              "fillmode": "overlay",
              "size": 10,
              "solidity": 0.2
             }
            },
            "type": "barpolar"
           }
          ],
          "carpet": [
           {
            "aaxis": {
             "endlinecolor": "#2a3f5f",
             "gridcolor": "white",
             "linecolor": "white",
             "minorgridcolor": "white",
             "startlinecolor": "#2a3f5f"
            },
            "baxis": {
             "endlinecolor": "#2a3f5f",
             "gridcolor": "white",
             "linecolor": "white",
             "minorgridcolor": "white",
             "startlinecolor": "#2a3f5f"
            },
            "type": "carpet"
           }
          ],
          "choropleth": [
           {
            "colorbar": {
             "outlinewidth": 0,
             "ticks": ""
            },
            "type": "choropleth"
           }
          ],
          "contour": [
           {
            "colorbar": {
             "outlinewidth": 0,
             "ticks": ""
            },
            "colorscale": [
             [
              0,
              "#0d0887"
             ],
             [
              0.1111111111111111,
              "#46039f"
             ],
             [
              0.2222222222222222,
              "#7201a8"
             ],
             [
              0.3333333333333333,
              "#9c179e"
             ],
             [
              0.4444444444444444,
              "#bd3786"
             ],
             [
              0.5555555555555556,
              "#d8576b"
             ],
             [
              0.6666666666666666,
              "#ed7953"
             ],
             [
              0.7777777777777778,
              "#fb9f3a"
             ],
             [
              0.8888888888888888,
              "#fdca26"
             ],
             [
              1,
              "#f0f921"
             ]
            ],
            "type": "contour"
           }
          ],
          "contourcarpet": [
           {
            "colorbar": {
             "outlinewidth": 0,
             "ticks": ""
            },
            "type": "contourcarpet"
           }
          ],
          "heatmap": [
           {
            "colorbar": {
             "outlinewidth": 0,
             "ticks": ""
            },
            "colorscale": [
             [
              0,
              "#0d0887"
             ],
             [
              0.1111111111111111,
              "#46039f"
             ],
             [
              0.2222222222222222,
              "#7201a8"
             ],
             [
              0.3333333333333333,
              "#9c179e"
             ],
             [
              0.4444444444444444,
              "#bd3786"
             ],
             [
              0.5555555555555556,
              "#d8576b"
             ],
             [
              0.6666666666666666,
              "#ed7953"
             ],
             [
              0.7777777777777778,
              "#fb9f3a"
             ],
             [
              0.8888888888888888,
              "#fdca26"
             ],
             [
              1,
              "#f0f921"
             ]
            ],
            "type": "heatmap"
           }
          ],
          "heatmapgl": [
           {
            "colorbar": {
             "outlinewidth": 0,
             "ticks": ""
            },
            "colorscale": [
             [
              0,
              "#0d0887"
             ],
             [
              0.1111111111111111,
              "#46039f"
             ],
             [
              0.2222222222222222,
              "#7201a8"
             ],
             [
              0.3333333333333333,
              "#9c179e"
             ],
             [
              0.4444444444444444,
              "#bd3786"
             ],
             [
              0.5555555555555556,
              "#d8576b"
             ],
             [
              0.6666666666666666,
              "#ed7953"
             ],
             [
              0.7777777777777778,
              "#fb9f3a"
             ],
             [
              0.8888888888888888,
              "#fdca26"
             ],
             [
              1,
              "#f0f921"
             ]
            ],
            "type": "heatmapgl"
           }
          ],
          "histogram": [
           {
            "marker": {
             "pattern": {
              "fillmode": "overlay",
              "size": 10,
              "solidity": 0.2
             }
            },
            "type": "histogram"
           }
          ],
          "histogram2d": [
           {
            "colorbar": {
             "outlinewidth": 0,
             "ticks": ""
            },
            "colorscale": [
             [
              0,
              "#0d0887"
             ],
             [
              0.1111111111111111,
              "#46039f"
             ],
             [
              0.2222222222222222,
              "#7201a8"
             ],
             [
              0.3333333333333333,
              "#9c179e"
             ],
             [
              0.4444444444444444,
              "#bd3786"
             ],
             [
              0.5555555555555556,
              "#d8576b"
             ],
             [
              0.6666666666666666,
              "#ed7953"
             ],
             [
              0.7777777777777778,
              "#fb9f3a"
             ],
             [
              0.8888888888888888,
              "#fdca26"
             ],
             [
              1,
              "#f0f921"
             ]
            ],
            "type": "histogram2d"
           }
          ],
          "histogram2dcontour": [
           {
            "colorbar": {
             "outlinewidth": 0,
             "ticks": ""
            },
            "colorscale": [
             [
              0,
              "#0d0887"
             ],
             [
              0.1111111111111111,
              "#46039f"
             ],
             [
              0.2222222222222222,
              "#7201a8"
             ],
             [
              0.3333333333333333,
              "#9c179e"
             ],
             [
              0.4444444444444444,
              "#bd3786"
             ],
             [
              0.5555555555555556,
              "#d8576b"
             ],
             [
              0.6666666666666666,
              "#ed7953"
             ],
             [
              0.7777777777777778,
              "#fb9f3a"
             ],
             [
              0.8888888888888888,
              "#fdca26"
             ],
             [
              1,
              "#f0f921"
             ]
            ],
            "type": "histogram2dcontour"
           }
          ],
          "mesh3d": [
           {
            "colorbar": {
             "outlinewidth": 0,
             "ticks": ""
            },
            "type": "mesh3d"
           }
          ],
          "parcoords": [
           {
            "line": {
             "colorbar": {
              "outlinewidth": 0,
              "ticks": ""
             }
            },
            "type": "parcoords"
           }
          ],
          "pie": [
           {
            "automargin": true,
            "type": "pie"
           }
          ],
          "scatter": [
           {
            "fillpattern": {
             "fillmode": "overlay",
             "size": 10,
             "solidity": 0.2
            },
            "type": "scatter"
           }
          ],
          "scatter3d": [
           {
            "line": {
             "colorbar": {
              "outlinewidth": 0,
              "ticks": ""
             }
            },
            "marker": {
             "colorbar": {
              "outlinewidth": 0,
              "ticks": ""
             }
            },
            "type": "scatter3d"
           }
          ],
          "scattercarpet": [
           {
            "marker": {
             "colorbar": {
              "outlinewidth": 0,
              "ticks": ""
             }
            },
            "type": "scattercarpet"
           }
          ],
          "scattergeo": [
           {
            "marker": {
             "colorbar": {
              "outlinewidth": 0,
              "ticks": ""
             }
            },
            "type": "scattergeo"
           }
          ],
          "scattergl": [
           {
            "marker": {
             "colorbar": {
              "outlinewidth": 0,
              "ticks": ""
             }
            },
            "type": "scattergl"
           }
          ],
          "scattermapbox": [
           {
            "marker": {
             "colorbar": {
              "outlinewidth": 0,
              "ticks": ""
             }
            },
            "type": "scattermapbox"
           }
          ],
          "scatterpolar": [
           {
            "marker": {
             "colorbar": {
              "outlinewidth": 0,
              "ticks": ""
             }
            },
            "type": "scatterpolar"
           }
          ],
          "scatterpolargl": [
           {
            "marker": {
             "colorbar": {
              "outlinewidth": 0,
              "ticks": ""
             }
            },
            "type": "scatterpolargl"
           }
          ],
          "scatterternary": [
           {
            "marker": {
             "colorbar": {
              "outlinewidth": 0,
              "ticks": ""
             }
            },
            "type": "scatterternary"
           }
          ],
          "surface": [
           {
            "colorbar": {
             "outlinewidth": 0,
             "ticks": ""
            },
            "colorscale": [
             [
              0,
              "#0d0887"
             ],
             [
              0.1111111111111111,
              "#46039f"
             ],
             [
              0.2222222222222222,
              "#7201a8"
             ],
             [
              0.3333333333333333,
              "#9c179e"
             ],
             [
              0.4444444444444444,
              "#bd3786"
             ],
             [
              0.5555555555555556,
              "#d8576b"
             ],
             [
              0.6666666666666666,
              "#ed7953"
             ],
             [
              0.7777777777777778,
              "#fb9f3a"
             ],
             [
              0.8888888888888888,
              "#fdca26"
             ],
             [
              1,
              "#f0f921"
             ]
            ],
            "type": "surface"
           }
          ],
          "table": [
           {
            "cells": {
             "fill": {
              "color": "#EBF0F8"
             },
             "line": {
              "color": "white"
             }
            },
            "header": {
             "fill": {
              "color": "#C8D4E3"
             },
             "line": {
              "color": "white"
             }
            },
            "type": "table"
           }
          ]
         },
         "layout": {
          "annotationdefaults": {
           "arrowcolor": "#2a3f5f",
           "arrowhead": 0,
           "arrowwidth": 1
          },
          "autotypenumbers": "strict",
          "coloraxis": {
           "colorbar": {
            "outlinewidth": 0,
            "ticks": ""
           }
          },
          "colorscale": {
           "diverging": [
            [
             0,
             "#8e0152"
            ],
            [
             0.1,
             "#c51b7d"
            ],
            [
             0.2,
             "#de77ae"
            ],
            [
             0.3,
             "#f1b6da"
            ],
            [
             0.4,
             "#fde0ef"
            ],
            [
             0.5,
             "#f7f7f7"
            ],
            [
             0.6,
             "#e6f5d0"
            ],
            [
             0.7,
             "#b8e186"
            ],
            [
             0.8,
             "#7fbc41"
            ],
            [
             0.9,
             "#4d9221"
            ],
            [
             1,
             "#276419"
            ]
           ],
           "sequential": [
            [
             0,
             "#0d0887"
            ],
            [
             0.1111111111111111,
             "#46039f"
            ],
            [
             0.2222222222222222,
             "#7201a8"
            ],
            [
             0.3333333333333333,
             "#9c179e"
            ],
            [
             0.4444444444444444,
             "#bd3786"
            ],
            [
             0.5555555555555556,
             "#d8576b"
            ],
            [
             0.6666666666666666,
             "#ed7953"
            ],
            [
             0.7777777777777778,
             "#fb9f3a"
            ],
            [
             0.8888888888888888,
             "#fdca26"
            ],
            [
             1,
             "#f0f921"
            ]
           ],
           "sequentialminus": [
            [
             0,
             "#0d0887"
            ],
            [
             0.1111111111111111,
             "#46039f"
            ],
            [
             0.2222222222222222,
             "#7201a8"
            ],
            [
             0.3333333333333333,
             "#9c179e"
            ],
            [
             0.4444444444444444,
             "#bd3786"
            ],
            [
             0.5555555555555556,
             "#d8576b"
            ],
            [
             0.6666666666666666,
             "#ed7953"
            ],
            [
             0.7777777777777778,
             "#fb9f3a"
            ],
            [
             0.8888888888888888,
             "#fdca26"
            ],
            [
             1,
             "#f0f921"
            ]
           ]
          },
          "colorway": [
           "#636efa",
           "#EF553B",
           "#00cc96",
           "#ab63fa",
           "#FFA15A",
           "#19d3f3",
           "#FF6692",
           "#B6E880",
           "#FF97FF",
           "#FECB52"
          ],
          "font": {
           "color": "#2a3f5f"
          },
          "geo": {
           "bgcolor": "white",
           "lakecolor": "white",
           "landcolor": "#E5ECF6",
           "showlakes": true,
           "showland": true,
           "subunitcolor": "white"
          },
          "hoverlabel": {
           "align": "left"
          },
          "hovermode": "closest",
          "mapbox": {
           "style": "light"
          },
          "paper_bgcolor": "white",
          "plot_bgcolor": "#E5ECF6",
          "polar": {
           "angularaxis": {
            "gridcolor": "white",
            "linecolor": "white",
            "ticks": ""
           },
           "bgcolor": "#E5ECF6",
           "radialaxis": {
            "gridcolor": "white",
            "linecolor": "white",
            "ticks": ""
           }
          },
          "scene": {
           "xaxis": {
            "backgroundcolor": "#E5ECF6",
            "gridcolor": "white",
            "gridwidth": 2,
            "linecolor": "white",
            "showbackground": true,
            "ticks": "",
            "zerolinecolor": "white"
           },
           "yaxis": {
            "backgroundcolor": "#E5ECF6",
            "gridcolor": "white",
            "gridwidth": 2,
            "linecolor": "white",
            "showbackground": true,
            "ticks": "",
            "zerolinecolor": "white"
           },
           "zaxis": {
            "backgroundcolor": "#E5ECF6",
            "gridcolor": "white",
            "gridwidth": 2,
            "linecolor": "white",
            "showbackground": true,
            "ticks": "",
            "zerolinecolor": "white"
           }
          },
          "shapedefaults": {
           "line": {
            "color": "#2a3f5f"
           }
          },
          "ternary": {
           "aaxis": {
            "gridcolor": "white",
            "linecolor": "white",
            "ticks": ""
           },
           "baxis": {
            "gridcolor": "white",
            "linecolor": "white",
            "ticks": ""
           },
           "bgcolor": "#E5ECF6",
           "caxis": {
            "gridcolor": "white",
            "linecolor": "white",
            "ticks": ""
           }
          },
          "title": {
           "x": 0.05
          },
          "xaxis": {
           "automargin": true,
           "gridcolor": "white",
           "linecolor": "white",
           "ticks": "",
           "title": {
            "standoff": 15
           },
           "zerolinecolor": "white",
           "zerolinewidth": 2
          },
          "yaxis": {
           "automargin": true,
           "gridcolor": "white",
           "linecolor": "white",
           "ticks": "",
           "title": {
            "standoff": 15
           },
           "zerolinecolor": "white",
           "zerolinewidth": 2
          }
         }
        },
        "title": {
         "text": "Safety Mentioned in Amazon Reviews",
         "x": 0.5
        },
        "width": 800,
        "xaxis": {
         "anchor": "y",
         "domain": [
          0,
          1
         ],
         "title": {
          "text": "Safety Mentioned"
         }
        },
        "yaxis": {
         "anchor": "x",
         "domain": [
          0,
          1
         ],
         "title": {
          "text": "probability"
         }
        }
       }
      }
     },
     "metadata": {},
     "output_type": "display_data"
    },
    {
     "data": {
      "application/vnd.plotly.v1+json": {
       "config": {
        "plotlyServerURL": "https://plotly.com"
       },
       "data": [
        {
         "alignmentgroup": "True",
         "hovertemplate": "variable=count<br>index=%{x}<br>value=%{y}<extra></extra>",
         "legendgroup": "count",
         "marker": {
          "color": "#636efa",
          "pattern": {
           "shape": ""
          }
         },
         "name": "count",
         "offsetgroup": "count",
         "orientation": "v",
         "showlegend": true,
         "textposition": "auto",
         "type": "bar",
         "x": [
          "allergies",
          "allergy",
          "safe",
          "allergic",
          "safely",
          "concern",
          "safety",
          "allergens",
          "Allergies",
          "concerns",
          "concerned",
          "Allergic",
          "allergen",
          "Allergode",
          "safer",
          "safest",
          "side effect"
         ],
         "xaxis": "x",
         "y": [
          10,
          7,
          6,
          5,
          4,
          3,
          2,
          2,
          2,
          2,
          2,
          1,
          1,
          1,
          1,
          1,
          1
         ],
         "yaxis": "y"
        }
       ],
       "layout": {
        "bargap": 0.1,
        "barmode": "relative",
        "height": 400,
        "legend": {
         "title": {
          "text": "variable"
         },
         "tracegroupgap": 0
        },
        "margin": {
         "t": 60
        },
        "template": {
         "data": {
          "bar": [
           {
            "error_x": {
             "color": "#2a3f5f"
            },
            "error_y": {
             "color": "#2a3f5f"
            },
            "marker": {
             "line": {
              "color": "#E5ECF6",
              "width": 0.5
             },
             "pattern": {
              "fillmode": "overlay",
              "size": 10,
              "solidity": 0.2
             }
            },
            "type": "bar"
           }
          ],
          "barpolar": [
           {
            "marker": {
             "line": {
              "color": "#E5ECF6",
              "width": 0.5
             },
             "pattern": {
              "fillmode": "overlay",
              "size": 10,
              "solidity": 0.2
             }
            },
            "type": "barpolar"
           }
          ],
          "carpet": [
           {
            "aaxis": {
             "endlinecolor": "#2a3f5f",
             "gridcolor": "white",
             "linecolor": "white",
             "minorgridcolor": "white",
             "startlinecolor": "#2a3f5f"
            },
            "baxis": {
             "endlinecolor": "#2a3f5f",
             "gridcolor": "white",
             "linecolor": "white",
             "minorgridcolor": "white",
             "startlinecolor": "#2a3f5f"
            },
            "type": "carpet"
           }
          ],
          "choropleth": [
           {
            "colorbar": {
             "outlinewidth": 0,
             "ticks": ""
            },
            "type": "choropleth"
           }
          ],
          "contour": [
           {
            "colorbar": {
             "outlinewidth": 0,
             "ticks": ""
            },
            "colorscale": [
             [
              0,
              "#0d0887"
             ],
             [
              0.1111111111111111,
              "#46039f"
             ],
             [
              0.2222222222222222,
              "#7201a8"
             ],
             [
              0.3333333333333333,
              "#9c179e"
             ],
             [
              0.4444444444444444,
              "#bd3786"
             ],
             [
              0.5555555555555556,
              "#d8576b"
             ],
             [
              0.6666666666666666,
              "#ed7953"
             ],
             [
              0.7777777777777778,
              "#fb9f3a"
             ],
             [
              0.8888888888888888,
              "#fdca26"
             ],
             [
              1,
              "#f0f921"
             ]
            ],
            "type": "contour"
           }
          ],
          "contourcarpet": [
           {
            "colorbar": {
             "outlinewidth": 0,
             "ticks": ""
            },
            "type": "contourcarpet"
           }
          ],
          "heatmap": [
           {
            "colorbar": {
             "outlinewidth": 0,
             "ticks": ""
            },
            "colorscale": [
             [
              0,
              "#0d0887"
             ],
             [
              0.1111111111111111,
              "#46039f"
             ],
             [
              0.2222222222222222,
              "#7201a8"
             ],
             [
              0.3333333333333333,
              "#9c179e"
             ],
             [
              0.4444444444444444,
              "#bd3786"
             ],
             [
              0.5555555555555556,
              "#d8576b"
             ],
             [
              0.6666666666666666,
              "#ed7953"
             ],
             [
              0.7777777777777778,
              "#fb9f3a"
             ],
             [
              0.8888888888888888,
              "#fdca26"
             ],
             [
              1,
              "#f0f921"
             ]
            ],
            "type": "heatmap"
           }
          ],
          "heatmapgl": [
           {
            "colorbar": {
             "outlinewidth": 0,
             "ticks": ""
            },
            "colorscale": [
             [
              0,
              "#0d0887"
             ],
             [
              0.1111111111111111,
              "#46039f"
             ],
             [
              0.2222222222222222,
              "#7201a8"
             ],
             [
              0.3333333333333333,
              "#9c179e"
             ],
             [
              0.4444444444444444,
              "#bd3786"
             ],
             [
              0.5555555555555556,
              "#d8576b"
             ],
             [
              0.6666666666666666,
              "#ed7953"
             ],
             [
              0.7777777777777778,
              "#fb9f3a"
             ],
             [
              0.8888888888888888,
              "#fdca26"
             ],
             [
              1,
              "#f0f921"
             ]
            ],
            "type": "heatmapgl"
           }
          ],
          "histogram": [
           {
            "marker": {
             "pattern": {
              "fillmode": "overlay",
              "size": 10,
              "solidity": 0.2
             }
            },
            "type": "histogram"
           }
          ],
          "histogram2d": [
           {
            "colorbar": {
             "outlinewidth": 0,
             "ticks": ""
            },
            "colorscale": [
             [
              0,
              "#0d0887"
             ],
             [
              0.1111111111111111,
              "#46039f"
             ],
             [
              0.2222222222222222,
              "#7201a8"
             ],
             [
              0.3333333333333333,
              "#9c179e"
             ],
             [
              0.4444444444444444,
              "#bd3786"
             ],
             [
              0.5555555555555556,
              "#d8576b"
             ],
             [
              0.6666666666666666,
              "#ed7953"
             ],
             [
              0.7777777777777778,
              "#fb9f3a"
             ],
             [
              0.8888888888888888,
              "#fdca26"
             ],
             [
              1,
              "#f0f921"
             ]
            ],
            "type": "histogram2d"
           }
          ],
          "histogram2dcontour": [
           {
            "colorbar": {
             "outlinewidth": 0,
             "ticks": ""
            },
            "colorscale": [
             [
              0,
              "#0d0887"
             ],
             [
              0.1111111111111111,
              "#46039f"
             ],
             [
              0.2222222222222222,
              "#7201a8"
             ],
             [
              0.3333333333333333,
              "#9c179e"
             ],
             [
              0.4444444444444444,
              "#bd3786"
             ],
             [
              0.5555555555555556,
              "#d8576b"
             ],
             [
              0.6666666666666666,
              "#ed7953"
             ],
             [
              0.7777777777777778,
              "#fb9f3a"
             ],
             [
              0.8888888888888888,
              "#fdca26"
             ],
             [
              1,
              "#f0f921"
             ]
            ],
            "type": "histogram2dcontour"
           }
          ],
          "mesh3d": [
           {
            "colorbar": {
             "outlinewidth": 0,
             "ticks": ""
            },
            "type": "mesh3d"
           }
          ],
          "parcoords": [
           {
            "line": {
             "colorbar": {
              "outlinewidth": 0,
              "ticks": ""
             }
            },
            "type": "parcoords"
           }
          ],
          "pie": [
           {
            "automargin": true,
            "type": "pie"
           }
          ],
          "scatter": [
           {
            "fillpattern": {
             "fillmode": "overlay",
             "size": 10,
             "solidity": 0.2
            },
            "type": "scatter"
           }
          ],
          "scatter3d": [
           {
            "line": {
             "colorbar": {
              "outlinewidth": 0,
              "ticks": ""
             }
            },
            "marker": {
             "colorbar": {
              "outlinewidth": 0,
              "ticks": ""
             }
            },
            "type": "scatter3d"
           }
          ],
          "scattercarpet": [
           {
            "marker": {
             "colorbar": {
              "outlinewidth": 0,
              "ticks": ""
             }
            },
            "type": "scattercarpet"
           }
          ],
          "scattergeo": [
           {
            "marker": {
             "colorbar": {
              "outlinewidth": 0,
              "ticks": ""
             }
            },
            "type": "scattergeo"
           }
          ],
          "scattergl": [
           {
            "marker": {
             "colorbar": {
              "outlinewidth": 0,
              "ticks": ""
             }
            },
            "type": "scattergl"
           }
          ],
          "scattermapbox": [
           {
            "marker": {
             "colorbar": {
              "outlinewidth": 0,
              "ticks": ""
             }
            },
            "type": "scattermapbox"
           }
          ],
          "scatterpolar": [
           {
            "marker": {
             "colorbar": {
              "outlinewidth": 0,
              "ticks": ""
             }
            },
            "type": "scatterpolar"
           }
          ],
          "scatterpolargl": [
           {
            "marker": {
             "colorbar": {
              "outlinewidth": 0,
              "ticks": ""
             }
            },
            "type": "scatterpolargl"
           }
          ],
          "scatterternary": [
           {
            "marker": {
             "colorbar": {
              "outlinewidth": 0,
              "ticks": ""
             }
            },
            "type": "scatterternary"
           }
          ],
          "surface": [
           {
            "colorbar": {
             "outlinewidth": 0,
             "ticks": ""
            },
            "colorscale": [
             [
              0,
              "#0d0887"
             ],
             [
              0.1111111111111111,
              "#46039f"
             ],
             [
              0.2222222222222222,
              "#7201a8"
             ],
             [
              0.3333333333333333,
              "#9c179e"
             ],
             [
              0.4444444444444444,
              "#bd3786"
             ],
             [
              0.5555555555555556,
              "#d8576b"
             ],
             [
              0.6666666666666666,
              "#ed7953"
             ],
             [
              0.7777777777777778,
              "#fb9f3a"
             ],
             [
              0.8888888888888888,
              "#fdca26"
             ],
             [
              1,
              "#f0f921"
             ]
            ],
            "type": "surface"
           }
          ],
          "table": [
           {
            "cells": {
             "fill": {
              "color": "#EBF0F8"
             },
             "line": {
              "color": "white"
             }
            },
            "header": {
             "fill": {
              "color": "#C8D4E3"
             },
             "line": {
              "color": "white"
             }
            },
            "type": "table"
           }
          ]
         },
         "layout": {
          "annotationdefaults": {
           "arrowcolor": "#2a3f5f",
           "arrowhead": 0,
           "arrowwidth": 1
          },
          "autotypenumbers": "strict",
          "coloraxis": {
           "colorbar": {
            "outlinewidth": 0,
            "ticks": ""
           }
          },
          "colorscale": {
           "diverging": [
            [
             0,
             "#8e0152"
            ],
            [
             0.1,
             "#c51b7d"
            ],
            [
             0.2,
             "#de77ae"
            ],
            [
             0.3,
             "#f1b6da"
            ],
            [
             0.4,
             "#fde0ef"
            ],
            [
             0.5,
             "#f7f7f7"
            ],
            [
             0.6,
             "#e6f5d0"
            ],
            [
             0.7,
             "#b8e186"
            ],
            [
             0.8,
             "#7fbc41"
            ],
            [
             0.9,
             "#4d9221"
            ],
            [
             1,
             "#276419"
            ]
           ],
           "sequential": [
            [
             0,
             "#0d0887"
            ],
            [
             0.1111111111111111,
             "#46039f"
            ],
            [
             0.2222222222222222,
             "#7201a8"
            ],
            [
             0.3333333333333333,
             "#9c179e"
            ],
            [
             0.4444444444444444,
             "#bd3786"
            ],
            [
             0.5555555555555556,
             "#d8576b"
            ],
            [
             0.6666666666666666,
             "#ed7953"
            ],
            [
             0.7777777777777778,
             "#fb9f3a"
            ],
            [
             0.8888888888888888,
             "#fdca26"
            ],
            [
             1,
             "#f0f921"
            ]
           ],
           "sequentialminus": [
            [
             0,
             "#0d0887"
            ],
            [
             0.1111111111111111,
             "#46039f"
            ],
            [
             0.2222222222222222,
             "#7201a8"
            ],
            [
             0.3333333333333333,
             "#9c179e"
            ],
            [
             0.4444444444444444,
             "#bd3786"
            ],
            [
             0.5555555555555556,
             "#d8576b"
            ],
            [
             0.6666666666666666,
             "#ed7953"
            ],
            [
             0.7777777777777778,
             "#fb9f3a"
            ],
            [
             0.8888888888888888,
             "#fdca26"
            ],
            [
             1,
             "#f0f921"
            ]
           ]
          },
          "colorway": [
           "#636efa",
           "#EF553B",
           "#00cc96",
           "#ab63fa",
           "#FFA15A",
           "#19d3f3",
           "#FF6692",
           "#B6E880",
           "#FF97FF",
           "#FECB52"
          ],
          "font": {
           "color": "#2a3f5f"
          },
          "geo": {
           "bgcolor": "white",
           "lakecolor": "white",
           "landcolor": "#E5ECF6",
           "showlakes": true,
           "showland": true,
           "subunitcolor": "white"
          },
          "hoverlabel": {
           "align": "left"
          },
          "hovermode": "closest",
          "mapbox": {
           "style": "light"
          },
          "paper_bgcolor": "white",
          "plot_bgcolor": "#E5ECF6",
          "polar": {
           "angularaxis": {
            "gridcolor": "white",
            "linecolor": "white",
            "ticks": ""
           },
           "bgcolor": "#E5ECF6",
           "radialaxis": {
            "gridcolor": "white",
            "linecolor": "white",
            "ticks": ""
           }
          },
          "scene": {
           "xaxis": {
            "backgroundcolor": "#E5ECF6",
            "gridcolor": "white",
            "gridwidth": 2,
            "linecolor": "white",
            "showbackground": true,
            "ticks": "",
            "zerolinecolor": "white"
           },
           "yaxis": {
            "backgroundcolor": "#E5ECF6",
            "gridcolor": "white",
            "gridwidth": 2,
            "linecolor": "white",
            "showbackground": true,
            "ticks": "",
            "zerolinecolor": "white"
           },
           "zaxis": {
            "backgroundcolor": "#E5ECF6",
            "gridcolor": "white",
            "gridwidth": 2,
            "linecolor": "white",
            "showbackground": true,
            "ticks": "",
            "zerolinecolor": "white"
           }
          },
          "shapedefaults": {
           "line": {
            "color": "#2a3f5f"
           }
          },
          "ternary": {
           "aaxis": {
            "gridcolor": "white",
            "linecolor": "white",
            "ticks": ""
           },
           "baxis": {
            "gridcolor": "white",
            "linecolor": "white",
            "ticks": ""
           },
           "bgcolor": "#E5ECF6",
           "caxis": {
            "gridcolor": "white",
            "linecolor": "white",
            "ticks": ""
           }
          },
          "title": {
           "x": 0.05
          },
          "xaxis": {
           "automargin": true,
           "gridcolor": "white",
           "linecolor": "white",
           "ticks": "",
           "title": {
            "standoff": 15
           },
           "zerolinecolor": "white",
           "zerolinewidth": 2
          },
          "yaxis": {
           "automargin": true,
           "gridcolor": "white",
           "linecolor": "white",
           "ticks": "",
           "title": {
            "standoff": 15
           },
           "zerolinecolor": "white",
           "zerolinewidth": 2
          }
         }
        },
        "title": {
         "text": "Safety Keywords Frequency in Amazon Reviews",
         "x": 0.5
        },
        "width": 800,
        "xaxis": {
         "anchor": "y",
         "domain": [
          0,
          1
         ],
         "tickangle": -45,
         "tickfont": {
          "size": 10
         },
         "title": {
          "text": "Safety Keywords"
         }
        },
        "yaxis": {
         "anchor": "x",
         "domain": [
          0,
          1
         ],
         "title": {
          "text": "Frequency"
         }
        }
       }
      }
     },
     "metadata": {},
     "output_type": "display_data"
    },
    {
     "data": {
      "text/plain": [
       "'https://plotly.com/~tl2546/14/'"
      ]
     },
     "execution_count": 9,
     "metadata": {},
     "output_type": "execute_result"
    }
   ],
   "source": [
    "import re\n",
    "import plotly.express as px\n",
    "import pandas as pd\n",
    "import json\n",
    "import chart_studio\n",
    "import chart_studio.plotly as py\n",
    "import chart_studio.tools as tls\n",
    "import os\n",
    "\n",
    "# Define the safety-related keyword pattern\n",
    "safety_pattern = r'\\b(?:safe\\w*|side\\s+effect|concern\\w*|allerg\\w*)\\b'\n",
    "\n",
    "def extract_safety_keywords(text):\n",
    "    if pd.isna(text):\n",
    "        return []\n",
    "    return re.findall(safety_pattern, text, flags=re.IGNORECASE)\n",
    "\n",
    "# Extract and process safety keywords\n",
    "file['safety_keywords_in_review'] = (file.review_title.apply(extract_safety_keywords) +\n",
    "                                     file.review_body.apply(extract_safety_keywords))\n",
    "file['safety_mentioned'] = file.safety_keywords_in_review.apply(lambda x: len(x) > 0)\n",
    "\n",
    "# Group by ASIN and calculate the average mention of safety keywords\n",
    "file_w_safety = file.groupby('asin').agg({'review_body':len, 'safety_mentioned': 'mean'}).reset_index()\n",
    "\n",
    "# Plot histogram for safety mentions\n",
    "fig = px.histogram(file_w_safety, x=\"safety_mentioned\", histnorm='probability')\n",
    "\n",
    "fig.update_layout(\n",
    "    title_text='Safety Mentioned in Amazon Reviews',\n",
    "    title_x=0.5,  # Center the title\n",
    "    bargap=0.1,\n",
    "    height=400,\n",
    "    width=800,\n",
    ")\n",
    "\n",
    "fig.update_xaxes(title_text='Safety Mentioned')\n",
    "\n",
    "fig.show()\n",
    "\n",
    "fig.write_image('safety_mentioned.png')\n",
    "\n",
    "# Upload to Plotly\n",
    "user_name, api_key = os.getenv(\"plotly_name\"), os.getenv(\"plotly_api\")\n",
    "chart_studio.tools.set_credentials_file(username=user_name, api_key=api_key)\n",
    "\n",
    "py.plot(fig, filename='safety_mentioned.html', auto_open=True)\n",
    "\n",
    "# Generate a dictionary of safety keyword frequencies\n",
    "safety_flags = pd.get_dummies(file.safety_keywords_in_review.explode().str.strip(), prefix='', prefix_sep='').groupby(level=0).max()\n",
    "safety_dict = dict(zip(safety_flags.columns, safety_flags.sum(axis=0)))\n",
    "\n",
    "# Save safety keyword frequency as JSON\n",
    "with open('safety_dict.json', 'w') as f:\n",
    "    json.dump(safety_dict, f, indent=4)\n",
    "\n",
    "# Convert dictionary to DataFrame for plotting\n",
    "safety_df = pd.DataFrame(index=safety_dict.keys(), data=safety_dict.values(), columns=['count']).sort_values('count', ascending=False)\n",
    "\n",
    "# Plot safety keyword frequency bar chart\n",
    "fig = px.bar(safety_df)\n",
    "\n",
    "fig.update_layout(\n",
    "    title_text='Safety Keywords Frequency in Amazon Reviews',\n",
    "    title_x=0.5,  # Center the title\n",
    "    bargap=0.1,\n",
    "    height=400,\n",
    "    width=800,\n",
    "    xaxis=dict(\n",
    "        tickangle=-45,\n",
    "        tickfont=dict(size=10)\n",
    "    )\n",
    ")\n",
    "\n",
    "fig.update_xaxes(title_text='Safety Keywords')\n",
    "fig.update_yaxes(title_text='Frequency')\n",
    "\n",
    "fig.show()\n",
    "\n",
    "# Save to Plotly\n",
    "py.plot(fig, filename='safety_frequency.html', auto_open=True)\n"
   ]
  },
  {
   "cell_type": "code",
   "execution_count": null,
   "metadata": {},
   "outputs": [],
   "source": []
  },
  {
   "cell_type": "markdown",
   "metadata": {},
   "source": [
    "### Walmart"
   ]
  },
  {
   "cell_type": "code",
   "execution_count": 1,
   "metadata": {},
   "outputs": [],
   "source": [
    "import json\n",
    "import csv\n",
    "import os\n",
    "import pandas as pd\n",
    "\n",
    "def _write_to_csv(csv_file, files):\n",
    "    headers = [\n",
    "        'product_name', 'sku', 'description', 'brand', 'ingredient','rating_value', 'review_count', 'image_url', 'product_url',\n",
    "        'customer_name', 'review_date', 'star_rating', 'review_title', 'review_text']\n",
    "\n",
    "    for f in files:\n",
    "        with open(f, 'r', encoding = 'utf-8') as file:\n",
    "            f = json.load(file)\n",
    "            with open(csv_file, mode='a', newline='', encoding='utf-8') as file:\n",
    "                writer = csv.writer(file)\n",
    "                if not os.path.exists(csv_file) or os.stat(csv_file).st_size == 0:\n",
    "                    writer.writerow(headers)\n",
    "\n",
    "                for entry in f:\n",
    "                    product_info = entry['product']\n",
    "                    product_name = product_info['name']\n",
    "                    sku = product_info['sku']\n",
    "                    description = product_info['description']\n",
    "                    brand = product_info['brand']['name']\n",
    "                    ingredient = product_info['ingredient']\n",
    "                   \n",
    "                    rating_value = product_info.get('aggregateRating', {}).get('ratingValue', '')\n",
    "                    review_count = product_info.get('aggregateRating', {}).get('reviewCount','')\n",
    "                    image_url = product_info['image']\n",
    "                    product_url = product_info['offers'][0]['url']\n",
    "\n",
    "\n",
    "                    # Add each review along with the product details\n",
    "                    for review in entry['product_reviews']:\n",
    "                        customer_name = review['customer_name']\n",
    "                        review_date = review['review_date']\n",
    "                        star_rating = review['star_rating']\n",
    "                        review_title = review['review_title']\n",
    "                        review_text = review['review_text']\n",
    "\n",
    "                        writer.writerow([product_name, sku, description, brand, ingredient, rating_value, review_count, image_url, product_url,\n",
    "                                            customer_name, review_date, star_rating, review_title, review_text])\n",
    "                    \n",
    "    print(f'Data has been successfully written to {csv_file}')\n"
   ]
  },
  {
   "cell_type": "code",
   "execution_count": 2,
   "metadata": {},
   "outputs": [
    {
     "name": "stdout",
     "output_type": "stream",
     "text": [
      "C:\\Users\\tianc\\scrapfly-scrapers\\walmart-scraper\\results\n"
     ]
    }
   ],
   "source": [
    "%cd  ~/scrapfly-scrapers/walmart-scraper/results/\n",
    "\n",
    "# csv_file = 'Walmart_reviews_california_poppy_extra.csv'\n",
    "\n",
    "# files = ['Walmart_product_and_reviews_california_poppy_tincture_extra.json',\n",
    "#          'Walmart_product_and_reviews_california_poppy_drink_extra.json',\n",
    "#          'Walmart_product_and_reviews_california_poppy_tea_extra.json',\n",
    "#          'Walmart_product_and_reviews_california_poppy_supplement_extra.json']\n",
    "# _write_to_csv(csv_file, files)"
   ]
  },
  {
   "cell_type": "code",
   "execution_count": 3,
   "metadata": {},
   "outputs": [],
   "source": [
    "usld = pd.read_csv('~/scrapfly-scrapers/iherb-scraper/results/california_poppy_usld.csv')\n",
    "\n",
    "for col in usld.columns:\n",
    "    usld[col] = usld[col].apply(lambda x: x.strip(\"[]\"))\n",
    "    usld[col] = usld[col].apply(lambda x: x.replace(\"'\", \"\"))\n",
    "\n",
    "col = ['netContents', 'claims', 'allIngredients']\n",
    "def strip_all(x):\n",
    "    return x.strip(\" {} \")\n",
    "\n",
    "def str2dict(x):\n",
    "    try:\n",
    "        sub_entries = x.strip(' {} ').split('},')\n",
    "        parsed_list = []\n",
    "        for sub in sub_entries:\n",
    "            sub_dict = {}\n",
    "            for pair in sub.split(','):\n",
    "                try:\n",
    "                    key, value = map(strip_all, pair.split(':', 1))  # only split the first colon\n",
    "                    sub_dict[key] = value\n",
    "                except ValueError:\n",
    "                    pass  \n",
    "            parsed_list.append(sub_dict)\n",
    "        return parsed_list\n",
    "    except AttributeError:\n",
    "        return []\n",
    "    \n",
    "for c in col:\n",
    "    usld[c] = usld[c].apply(str2dict)\n",
    "\n",
    "usld.to_csv('california_poppy_usld_cleaned.csv', index = False)"
   ]
  },
  {
   "cell_type": "code",
   "execution_count": 4,
   "metadata": {},
   "outputs": [
    {
     "data": {
      "text/html": [
       "<div>\n",
       "<style scoped>\n",
       "    .dataframe tbody tr th:only-of-type {\n",
       "        vertical-align: middle;\n",
       "    }\n",
       "\n",
       "    .dataframe tbody tr th {\n",
       "        vertical-align: top;\n",
       "    }\n",
       "\n",
       "    .dataframe thead th {\n",
       "        text-align: right;\n",
       "    }\n",
       "</style>\n",
       "<table border=\"1\" class=\"dataframe\">\n",
       "  <thead>\n",
       "    <tr style=\"text-align: right;\">\n",
       "      <th></th>\n",
       "      <th>product_name</th>\n",
       "      <th>sku</th>\n",
       "      <th>description</th>\n",
       "      <th>brand</th>\n",
       "      <th>ingredient</th>\n",
       "      <th>rating_value</th>\n",
       "      <th>review_count</th>\n",
       "      <th>image_url</th>\n",
       "      <th>product_url</th>\n",
       "      <th>customer_name</th>\n",
       "      <th>review_date</th>\n",
       "      <th>star_rating</th>\n",
       "      <th>review_title</th>\n",
       "      <th>review_text</th>\n",
       "      <th>neg</th>\n",
       "      <th>neu</th>\n",
       "      <th>pos</th>\n",
       "      <th>compound</th>\n",
       "      <th>sentiment</th>\n",
       "    </tr>\n",
       "  </thead>\n",
       "  <tbody>\n",
       "    <tr>\n",
       "      <th>0</th>\n",
       "      <td>Organic Wheat Grass Powder, Sourced from USA, ...</td>\n",
       "      <td>705154315</td>\n",
       "      <td>Formulated with Organic Wheat Grass Harvested ...</td>\n",
       "      <td>California Gold Nutrition</td>\n",
       "      <td>​Main</td>\n",
       "      <td>4.6</td>\n",
       "      <td>788</td>\n",
       "      <td>https://i5.walmartimages.com/seo/Organic-Wheat...</td>\n",
       "      <td>https://www.walmart.com/ip/Organic-Wheat-Grass...</td>\n",
       "      <td>iHerb Customer</td>\n",
       "      <td>Aug 2, 2024</td>\n",
       "      <td>5 out of 5 stars review</td>\n",
       "      <td>Wheat Grass Powder for Well-Being</td>\n",
       "      <td>I recently started taking this wheat grass pow...</td>\n",
       "      <td>0.000</td>\n",
       "      <td>0.760</td>\n",
       "      <td>0.240</td>\n",
       "      <td>0.9791</td>\n",
       "      <td>positive</td>\n",
       "    </tr>\n",
       "    <tr>\n",
       "      <th>1</th>\n",
       "      <td>Organic Wheat Grass Powder, Sourced from USA, ...</td>\n",
       "      <td>705154315</td>\n",
       "      <td>Formulated with Organic Wheat Grass Harvested ...</td>\n",
       "      <td>California Gold Nutrition</td>\n",
       "      <td>​Main</td>\n",
       "      <td>4.6</td>\n",
       "      <td>788</td>\n",
       "      <td>https://i5.walmartimages.com/seo/Organic-Wheat...</td>\n",
       "      <td>https://www.walmart.com/ip/Organic-Wheat-Grass...</td>\n",
       "      <td>iHerbCustomer</td>\n",
       "      <td>Jun 13, 2024</td>\n",
       "      <td>5 out of 5 stars review</td>\n",
       "      <td>A great energy booster</td>\n",
       "      <td>This is my first buy of this brand of organic ...</td>\n",
       "      <td>0.000</td>\n",
       "      <td>0.699</td>\n",
       "      <td>0.301</td>\n",
       "      <td>0.9807</td>\n",
       "      <td>positive</td>\n",
       "    </tr>\n",
       "    <tr>\n",
       "      <th>2</th>\n",
       "      <td>Organic Wheat Grass Powder, Sourced from USA, ...</td>\n",
       "      <td>705154315</td>\n",
       "      <td>Formulated with Organic Wheat Grass Harvested ...</td>\n",
       "      <td>California Gold Nutrition</td>\n",
       "      <td>​Main</td>\n",
       "      <td>4.6</td>\n",
       "      <td>788</td>\n",
       "      <td>https://i5.walmartimages.com/seo/Organic-Wheat...</td>\n",
       "      <td>https://www.walmart.com/ip/Organic-Wheat-Grass...</td>\n",
       "      <td>iHerb Customer</td>\n",
       "      <td>Jul 19, 2024</td>\n",
       "      <td>5 out of 5 stars review</td>\n",
       "      <td>Best superfood!</td>\n",
       "      <td>I been using this brand over a year now, I hav...</td>\n",
       "      <td>0.000</td>\n",
       "      <td>0.768</td>\n",
       "      <td>0.232</td>\n",
       "      <td>0.9299</td>\n",
       "      <td>positive</td>\n",
       "    </tr>\n",
       "    <tr>\n",
       "      <th>3</th>\n",
       "      <td>Organic Wheat Grass Powder, Sourced from USA, ...</td>\n",
       "      <td>705154315</td>\n",
       "      <td>Formulated with Organic Wheat Grass Harvested ...</td>\n",
       "      <td>California Gold Nutrition</td>\n",
       "      <td>​Main</td>\n",
       "      <td>4.6</td>\n",
       "      <td>788</td>\n",
       "      <td>https://i5.walmartimages.com/seo/Organic-Wheat...</td>\n",
       "      <td>https://www.walmart.com/ip/Organic-Wheat-Grass...</td>\n",
       "      <td>fie-koi</td>\n",
       "      <td>Sep 14, 2024</td>\n",
       "      <td>5 out of 5 stars review</td>\n",
       "      <td>Search the web for a wheatgrass mouthwash, tar...</td>\n",
       "      <td>I bought this wheatgrass for a DIY mouthwash (...</td>\n",
       "      <td>0.000</td>\n",
       "      <td>1.000</td>\n",
       "      <td>0.000</td>\n",
       "      <td>0.0000</td>\n",
       "      <td>neutral</td>\n",
       "    </tr>\n",
       "    <tr>\n",
       "      <th>4</th>\n",
       "      <td>Organic Wheat Grass Powder, Sourced from USA, ...</td>\n",
       "      <td>705154315</td>\n",
       "      <td>Formulated with Organic Wheat Grass Harvested ...</td>\n",
       "      <td>California Gold Nutrition</td>\n",
       "      <td>​Main</td>\n",
       "      <td>4.6</td>\n",
       "      <td>788</td>\n",
       "      <td>https://i5.walmartimages.com/seo/Organic-Wheat...</td>\n",
       "      <td>https://www.walmart.com/ip/Organic-Wheat-Grass...</td>\n",
       "      <td>iHerb customer</td>\n",
       "      <td>Sep 7, 2024</td>\n",
       "      <td>5 out of 5 stars review</td>\n",
       "      <td>sub for barley</td>\n",
       "      <td>I originally used to only use wheatgrass but s...</td>\n",
       "      <td>0.065</td>\n",
       "      <td>0.697</td>\n",
       "      <td>0.238</td>\n",
       "      <td>0.8462</td>\n",
       "      <td>positive</td>\n",
       "    </tr>\n",
       "    <tr>\n",
       "      <th>...</th>\n",
       "      <td>...</td>\n",
       "      <td>...</td>\n",
       "      <td>...</td>\n",
       "      <td>...</td>\n",
       "      <td>...</td>\n",
       "      <td>...</td>\n",
       "      <td>...</td>\n",
       "      <td>...</td>\n",
       "      <td>...</td>\n",
       "      <td>...</td>\n",
       "      <td>...</td>\n",
       "      <td>...</td>\n",
       "      <td>...</td>\n",
       "      <td>...</td>\n",
       "      <td>...</td>\n",
       "      <td>...</td>\n",
       "      <td>...</td>\n",
       "      <td>...</td>\n",
       "      <td>...</td>\n",
       "    </tr>\n",
       "    <tr>\n",
       "      <th>1405</th>\n",
       "      <td>Snap Supplements Energy &amp; Metabolism Booster -...</td>\n",
       "      <td>1264049891</td>\n",
       "      <td>Using natural plant extracts to provide micron...</td>\n",
       "      <td>Snap Supplements</td>\n",
       "      <td>Vegetable capsule (hydroxypropyl methylcellulo...</td>\n",
       "      <td>4.7</td>\n",
       "      <td>139</td>\n",
       "      <td>https://i5.walmartimages.com/seo/Snap-Suppleme...</td>\n",
       "      <td>https://www.walmart.com/ip/Snap-Supplements-En...</td>\n",
       "      <td>Kenyatta Vernon</td>\n",
       "      <td>Sep 5, 2021</td>\n",
       "      <td>5 out of 5 stars review</td>\n",
       "      <td>Awesome! Love the products.</td>\n",
       "      <td>I feel very energized when taking the suppleme...</td>\n",
       "      <td>0.000</td>\n",
       "      <td>0.661</td>\n",
       "      <td>0.339</td>\n",
       "      <td>0.5563</td>\n",
       "      <td>positive</td>\n",
       "    </tr>\n",
       "    <tr>\n",
       "      <th>1406</th>\n",
       "      <td>Snap Supplements Energy &amp; Metabolism Booster -...</td>\n",
       "      <td>1264049891</td>\n",
       "      <td>Using natural plant extracts to provide micron...</td>\n",
       "      <td>Snap Supplements</td>\n",
       "      <td>Vegetable capsule (hydroxypropyl methylcellulo...</td>\n",
       "      <td>4.7</td>\n",
       "      <td>139</td>\n",
       "      <td>https://i5.walmartimages.com/seo/Snap-Suppleme...</td>\n",
       "      <td>https://www.walmart.com/ip/Snap-Supplements-En...</td>\n",
       "      <td>Debbie Sachs</td>\n",
       "      <td>Dec 29, 2021</td>\n",
       "      <td>5 out of 5 stars review</td>\n",
       "      <td>Excellent product</td>\n",
       "      <td>I noticed and increase in energy after the 3 d...</td>\n",
       "      <td>0.000</td>\n",
       "      <td>0.714</td>\n",
       "      <td>0.286</td>\n",
       "      <td>0.5267</td>\n",
       "      <td>positive</td>\n",
       "    </tr>\n",
       "    <tr>\n",
       "      <th>1407</th>\n",
       "      <td>Snap Supplements Energy &amp; Metabolism Booster -...</td>\n",
       "      <td>1264049891</td>\n",
       "      <td>Using natural plant extracts to provide micron...</td>\n",
       "      <td>Snap Supplements</td>\n",
       "      <td>Vegetable capsule (hydroxypropyl methylcellulo...</td>\n",
       "      <td>4.7</td>\n",
       "      <td>139</td>\n",
       "      <td>https://i5.walmartimages.com/seo/Snap-Suppleme...</td>\n",
       "      <td>https://www.walmart.com/ip/Snap-Supplements-En...</td>\n",
       "      <td>Carolyn Huerta</td>\n",
       "      <td>Dec 5, 2021</td>\n",
       "      <td>5 out of 5 stars review</td>\n",
       "      <td>Energy went up</td>\n",
       "      <td>This product i recommend to anyone who wants a...</td>\n",
       "      <td>0.000</td>\n",
       "      <td>0.578</td>\n",
       "      <td>0.422</td>\n",
       "      <td>0.7430</td>\n",
       "      <td>positive</td>\n",
       "    </tr>\n",
       "    <tr>\n",
       "      <th>1408</th>\n",
       "      <td>Herbs Etc - Deep Sleep - Natural Herbal Sleep ...</td>\n",
       "      <td>145752035</td>\n",
       "      <td>Herbs etc. Herbal formula deep sleep contains ...</td>\n",
       "      <td>Herbs, Etc.</td>\n",
       "      <td>PROPRIETARY EXTRACT BLEND: 0.75 mLFresh Califo...</td>\n",
       "      <td>5.0</td>\n",
       "      <td>1</td>\n",
       "      <td>https://i5.walmartimages.com/seo/Herbs-Etc-Dee...</td>\n",
       "      <td>https://www.walmart.com/ip/Herbs-Etc-Deep-Slee...</td>\n",
       "      <td>SDJim</td>\n",
       "      <td>Oct 30, 2018</td>\n",
       "      <td>5 out of 5 stars review</td>\n",
       "      <td>Better sleep</td>\n",
       "      <td>Helps falling asleep, but only for a few hours...</td>\n",
       "      <td>0.052</td>\n",
       "      <td>0.721</td>\n",
       "      <td>0.226</td>\n",
       "      <td>0.6542</td>\n",
       "      <td>positive</td>\n",
       "    </tr>\n",
       "    <tr>\n",
       "      <th>1409</th>\n",
       "      <td>Deep Sleep - Natural Herbal Sleep Aid Suppleme...</td>\n",
       "      <td>155367404</td>\n",
       "      <td>Deep Sleep is made with sleep promoting herbs,...</td>\n",
       "      <td>Herbs, Etc.</td>\n",
       "      <td>&lt;P&gt;Fresh California Poppy plant&lt;SUP&gt;1&lt;/SUP&gt;, f...</td>\n",
       "      <td>5.0</td>\n",
       "      <td>1</td>\n",
       "      <td>https://i5.walmartimages.com/seo/Deep-Sleep-Na...</td>\n",
       "      <td>https://www.walmart.com/ip/Deep-Sleep-Natural-...</td>\n",
       "      <td>joe</td>\n",
       "      <td>Nov 4, 2024</td>\n",
       "      <td>5 out of 5 stars review</td>\n",
       "      <td>NaN</td>\n",
       "      <td>Puts me to sleep</td>\n",
       "      <td>0.000</td>\n",
       "      <td>1.000</td>\n",
       "      <td>0.000</td>\n",
       "      <td>0.0000</td>\n",
       "      <td>neutral</td>\n",
       "    </tr>\n",
       "  </tbody>\n",
       "</table>\n",
       "<p>1410 rows × 19 columns</p>\n",
       "</div>"
      ],
      "text/plain": [
       "                                           product_name         sku  \\\n",
       "0     Organic Wheat Grass Powder, Sourced from USA, ...   705154315   \n",
       "1     Organic Wheat Grass Powder, Sourced from USA, ...   705154315   \n",
       "2     Organic Wheat Grass Powder, Sourced from USA, ...   705154315   \n",
       "3     Organic Wheat Grass Powder, Sourced from USA, ...   705154315   \n",
       "4     Organic Wheat Grass Powder, Sourced from USA, ...   705154315   \n",
       "...                                                 ...         ...   \n",
       "1405  Snap Supplements Energy & Metabolism Booster -...  1264049891   \n",
       "1406  Snap Supplements Energy & Metabolism Booster -...  1264049891   \n",
       "1407  Snap Supplements Energy & Metabolism Booster -...  1264049891   \n",
       "1408  Herbs Etc - Deep Sleep - Natural Herbal Sleep ...   145752035   \n",
       "1409  Deep Sleep - Natural Herbal Sleep Aid Suppleme...   155367404   \n",
       "\n",
       "                                            description  \\\n",
       "0     Formulated with Organic Wheat Grass Harvested ...   \n",
       "1     Formulated with Organic Wheat Grass Harvested ...   \n",
       "2     Formulated with Organic Wheat Grass Harvested ...   \n",
       "3     Formulated with Organic Wheat Grass Harvested ...   \n",
       "4     Formulated with Organic Wheat Grass Harvested ...   \n",
       "...                                                 ...   \n",
       "1405  Using natural plant extracts to provide micron...   \n",
       "1406  Using natural plant extracts to provide micron...   \n",
       "1407  Using natural plant extracts to provide micron...   \n",
       "1408  Herbs etc. Herbal formula deep sleep contains ...   \n",
       "1409  Deep Sleep is made with sleep promoting herbs,...   \n",
       "\n",
       "                          brand  \\\n",
       "0     California Gold Nutrition   \n",
       "1     California Gold Nutrition   \n",
       "2     California Gold Nutrition   \n",
       "3     California Gold Nutrition   \n",
       "4     California Gold Nutrition   \n",
       "...                         ...   \n",
       "1405           Snap Supplements   \n",
       "1406           Snap Supplements   \n",
       "1407           Snap Supplements   \n",
       "1408                Herbs, Etc.   \n",
       "1409                Herbs, Etc.   \n",
       "\n",
       "                                             ingredient  rating_value  \\\n",
       "0                                                 ​Main           4.6   \n",
       "1                                                 ​Main           4.6   \n",
       "2                                                 ​Main           4.6   \n",
       "3                                                 ​Main           4.6   \n",
       "4                                                 ​Main           4.6   \n",
       "...                                                 ...           ...   \n",
       "1405  Vegetable capsule (hydroxypropyl methylcellulo...           4.7   \n",
       "1406  Vegetable capsule (hydroxypropyl methylcellulo...           4.7   \n",
       "1407  Vegetable capsule (hydroxypropyl methylcellulo...           4.7   \n",
       "1408  PROPRIETARY EXTRACT BLEND: 0.75 mLFresh Califo...           5.0   \n",
       "1409  <P>Fresh California Poppy plant<SUP>1</SUP>, f...           5.0   \n",
       "\n",
       "      review_count                                          image_url  \\\n",
       "0              788  https://i5.walmartimages.com/seo/Organic-Wheat...   \n",
       "1              788  https://i5.walmartimages.com/seo/Organic-Wheat...   \n",
       "2              788  https://i5.walmartimages.com/seo/Organic-Wheat...   \n",
       "3              788  https://i5.walmartimages.com/seo/Organic-Wheat...   \n",
       "4              788  https://i5.walmartimages.com/seo/Organic-Wheat...   \n",
       "...            ...                                                ...   \n",
       "1405           139  https://i5.walmartimages.com/seo/Snap-Suppleme...   \n",
       "1406           139  https://i5.walmartimages.com/seo/Snap-Suppleme...   \n",
       "1407           139  https://i5.walmartimages.com/seo/Snap-Suppleme...   \n",
       "1408             1  https://i5.walmartimages.com/seo/Herbs-Etc-Dee...   \n",
       "1409             1  https://i5.walmartimages.com/seo/Deep-Sleep-Na...   \n",
       "\n",
       "                                            product_url    customer_name  \\\n",
       "0     https://www.walmart.com/ip/Organic-Wheat-Grass...   iHerb Customer   \n",
       "1     https://www.walmart.com/ip/Organic-Wheat-Grass...    iHerbCustomer   \n",
       "2     https://www.walmart.com/ip/Organic-Wheat-Grass...   iHerb Customer   \n",
       "3     https://www.walmart.com/ip/Organic-Wheat-Grass...          fie-koi   \n",
       "4     https://www.walmart.com/ip/Organic-Wheat-Grass...   iHerb customer   \n",
       "...                                                 ...              ...   \n",
       "1405  https://www.walmart.com/ip/Snap-Supplements-En...  Kenyatta Vernon   \n",
       "1406  https://www.walmart.com/ip/Snap-Supplements-En...     Debbie Sachs   \n",
       "1407  https://www.walmart.com/ip/Snap-Supplements-En...   Carolyn Huerta   \n",
       "1408  https://www.walmart.com/ip/Herbs-Etc-Deep-Slee...            SDJim   \n",
       "1409  https://www.walmart.com/ip/Deep-Sleep-Natural-...              joe   \n",
       "\n",
       "       review_date              star_rating  \\\n",
       "0      Aug 2, 2024  5 out of 5 stars review   \n",
       "1     Jun 13, 2024  5 out of 5 stars review   \n",
       "2     Jul 19, 2024  5 out of 5 stars review   \n",
       "3     Sep 14, 2024  5 out of 5 stars review   \n",
       "4      Sep 7, 2024  5 out of 5 stars review   \n",
       "...            ...                      ...   \n",
       "1405   Sep 5, 2021  5 out of 5 stars review   \n",
       "1406  Dec 29, 2021  5 out of 5 stars review   \n",
       "1407   Dec 5, 2021  5 out of 5 stars review   \n",
       "1408  Oct 30, 2018  5 out of 5 stars review   \n",
       "1409   Nov 4, 2024  5 out of 5 stars review   \n",
       "\n",
       "                                           review_title  \\\n",
       "0                     Wheat Grass Powder for Well-Being   \n",
       "1                                A great energy booster   \n",
       "2                                      Best superfood!    \n",
       "3     Search the web for a wheatgrass mouthwash, tar...   \n",
       "4                                        sub for barley   \n",
       "...                                                 ...   \n",
       "1405                        Awesome! Love the products.   \n",
       "1406                                  Excellent product   \n",
       "1407                                     Energy went up   \n",
       "1408                                       Better sleep   \n",
       "1409                                                NaN   \n",
       "\n",
       "                                            review_text    neg    neu    pos  \\\n",
       "0     I recently started taking this wheat grass pow...  0.000  0.760  0.240   \n",
       "1     This is my first buy of this brand of organic ...  0.000  0.699  0.301   \n",
       "2     I been using this brand over a year now, I hav...  0.000  0.768  0.232   \n",
       "3     I bought this wheatgrass for a DIY mouthwash (...  0.000  1.000  0.000   \n",
       "4     I originally used to only use wheatgrass but s...  0.065  0.697  0.238   \n",
       "...                                                 ...    ...    ...    ...   \n",
       "1405  I feel very energized when taking the suppleme...  0.000  0.661  0.339   \n",
       "1406  I noticed and increase in energy after the 3 d...  0.000  0.714  0.286   \n",
       "1407  This product i recommend to anyone who wants a...  0.000  0.578  0.422   \n",
       "1408  Helps falling asleep, but only for a few hours...  0.052  0.721  0.226   \n",
       "1409                                   Puts me to sleep  0.000  1.000  0.000   \n",
       "\n",
       "      compound sentiment  \n",
       "0       0.9791  positive  \n",
       "1       0.9807  positive  \n",
       "2       0.9299  positive  \n",
       "3       0.0000   neutral  \n",
       "4       0.8462  positive  \n",
       "...        ...       ...  \n",
       "1405    0.5563  positive  \n",
       "1406    0.5267  positive  \n",
       "1407    0.7430  positive  \n",
       "1408    0.6542  positive  \n",
       "1409    0.0000   neutral  \n",
       "\n",
       "[1410 rows x 19 columns]"
      ]
     },
     "execution_count": 4,
     "metadata": {},
     "output_type": "execute_result"
    }
   ],
   "source": [
    "file = pd.read_csv('~/scrapfly-scrapers-large-file/Walmart_reviews_w_sentiment_extra.csv')\n",
    "file"
   ]
  },
  {
   "cell_type": "code",
   "execution_count": 30,
   "metadata": {},
   "outputs": [
    {
     "data": {
      "text/html": [
       "<div>\n",
       "<style scoped>\n",
       "    .dataframe tbody tr th:only-of-type {\n",
       "        vertical-align: middle;\n",
       "    }\n",
       "\n",
       "    .dataframe tbody tr th {\n",
       "        vertical-align: top;\n",
       "    }\n",
       "\n",
       "    .dataframe thead th {\n",
       "        text-align: right;\n",
       "    }\n",
       "</style>\n",
       "<table border=\"1\" class=\"dataframe\">\n",
       "  <thead>\n",
       "    <tr style=\"text-align: right;\">\n",
       "      <th></th>\n",
       "      <th>brand</th>\n",
       "      <th>rating_value</th>\n",
       "      <th>review_count</th>\n",
       "    </tr>\n",
       "  </thead>\n",
       "  <tbody>\n",
       "    <tr>\n",
       "      <th>0</th>\n",
       "      <td>HerbalTerra</td>\n",
       "      <td>5.00</td>\n",
       "      <td>2</td>\n",
       "    </tr>\n",
       "    <tr>\n",
       "      <th>1</th>\n",
       "      <td>Healing Herbals</td>\n",
       "      <td>5.00</td>\n",
       "      <td>1</td>\n",
       "    </tr>\n",
       "    <tr>\n",
       "      <th>2</th>\n",
       "      <td>Natural Stacks</td>\n",
       "      <td>5.00</td>\n",
       "      <td>3</td>\n",
       "    </tr>\n",
       "    <tr>\n",
       "      <th>3</th>\n",
       "      <td>Herbs, Etc.</td>\n",
       "      <td>5.00</td>\n",
       "      <td>2</td>\n",
       "    </tr>\n",
       "    <tr>\n",
       "      <th>4</th>\n",
       "      <td>BH Herbal</td>\n",
       "      <td>4.90</td>\n",
       "      <td>951</td>\n",
       "    </tr>\n",
       "    <tr>\n",
       "      <th>5</th>\n",
       "      <td>Naturealm</td>\n",
       "      <td>4.90</td>\n",
       "      <td>10</td>\n",
       "    </tr>\n",
       "    <tr>\n",
       "      <th>6</th>\n",
       "      <td>Herbamama</td>\n",
       "      <td>4.90</td>\n",
       "      <td>7</td>\n",
       "    </tr>\n",
       "    <tr>\n",
       "      <th>7</th>\n",
       "      <td>Ethnospot</td>\n",
       "      <td>4.85</td>\n",
       "      <td>24</td>\n",
       "    </tr>\n",
       "    <tr>\n",
       "      <th>8</th>\n",
       "      <td>Complete Natural Products</td>\n",
       "      <td>4.80</td>\n",
       "      <td>153</td>\n",
       "    </tr>\n",
       "    <tr>\n",
       "      <th>9</th>\n",
       "      <td>Amazing Formulas</td>\n",
       "      <td>4.80</td>\n",
       "      <td>32</td>\n",
       "    </tr>\n",
       "  </tbody>\n",
       "</table>\n",
       "</div>"
      ],
      "text/plain": [
       "                       brand  rating_value  review_count\n",
       "0                HerbalTerra          5.00             2\n",
       "1            Healing Herbals          5.00             1\n",
       "2             Natural Stacks          5.00             3\n",
       "3                Herbs, Etc.          5.00             2\n",
       "4                  BH Herbal          4.90           951\n",
       "5                  Naturealm          4.90            10\n",
       "6                  Herbamama          4.90             7\n",
       "7                  Ethnospot          4.85            24\n",
       "8  Complete Natural Products          4.80           153\n",
       "9           Amazing Formulas          4.80            32"
      ]
     },
     "execution_count": 30,
     "metadata": {},
     "output_type": "execute_result"
    }
   ],
   "source": [
    "# top10 brand based on review ratings\n",
    "temp = file.groupby('product_name').agg({'brand':'first', 'rating_value':'mean', 'review_count':'first'}).reset_index()\n",
    "temp = temp.groupby('brand').agg({'rating_value':'mean', 'review_count':'sum'}).sort_values('rating_value', ascending = False).head(10).reset_index()\n",
    "temp "
   ]
  },
  {
   "cell_type": "code",
   "execution_count": 31,
   "metadata": {},
   "outputs": [],
   "source": [
    "ratings = []\n",
    "sent = []\n",
    "for b in temp.brand:\n",
    "    ct = file[file.brand == b].groupby('product_name').agg({'rating_value': 'first'}).reset_index().rating_value.value_counts().reset_index()\n",
    "    ratings.append(ct.to_dict('records'))\n",
    "    s = file[file.brand == b].sentiment.value_counts()/file[file.brand == b].shape[0]\n",
    "    sent.append(s.reset_index().to_dict('records'))\n",
    "\n",
    "temp['ratings'] = ratings\n",
    "temp['sent_breakdown'] = sent"
   ]
  },
  {
   "cell_type": "markdown",
   "metadata": {},
   "source": [
    "#### <font color = '#8900e9'> **match USLD** </font>"
   ]
  },
  {
   "cell_type": "code",
   "execution_count": 4,
   "metadata": {},
   "outputs": [],
   "source": [
    "usld = pd.read_csv('~/scrapfly-scrapers/iherb-scraper/results/california_poppy_usld.csv')\n",
    "\n",
    "for col in usld.columns:\n",
    "    usld[col] = usld[col].apply(lambda x: x.strip(\"[]\"))\n",
    "    usld[col] = usld[col].apply(lambda x: x.replace(\"'\", \"\"))\n",
    "\n",
    "col = ['netContents', 'claims', 'allIngredients']\n",
    "def strip_all(x):\n",
    "    return x.strip(\" {} \")\n",
    "\n",
    "def str2dict(x):\n",
    "    try:\n",
    "        sub_entries = x.strip(' {} ').split('},')\n",
    "        parsed_list = []\n",
    "        for sub in sub_entries:\n",
    "            sub_dict = {}\n",
    "            for pair in sub.split(','):\n",
    "                try:\n",
    "                    key, value = map(strip_all, pair.split(':', 1))  # only split the first colon\n",
    "                    sub_dict[key] = value\n",
    "                except ValueError:\n",
    "                    pass  \n",
    "            parsed_list.append(sub_dict)\n",
    "        return parsed_list\n",
    "    except AttributeError:\n",
    "        return []\n",
    "    \n",
    "for c in col:\n",
    "    usld[c] = usld[c].apply(str2dict)\n",
    "\n",
    "usld.to_csv('california_poppy_usld_cleaned.csv', index = False)"
   ]
  },
  {
   "cell_type": "markdown",
   "metadata": {},
   "source": [
    "##### --- start of USLD Leeway ----"
   ]
  },
  {
   "cell_type": "code",
   "execution_count": 5,
   "metadata": {},
   "outputs": [],
   "source": [
    "usld['ingredients'] = usld.allIngredients.apply(lambda x: ','.join([i.get('ingredientGroup', '').strip('\"\"') for i in x]))\n",
    "\n",
    "ingredient_flags = pd.get_dummies(usld.ingredients.str.split(',').explode().str.strip('\"\"').str.lower(), prefix='', prefix_sep='').groupby(level=0).max()\n",
    "usld_w_ingredient = pd.concat([usld, ingredient_flags.iloc[:, 1:]], axis = 1).dropna()\n",
    "usld_w_ingredient = usld_w_ingredient[usld_w_ingredient['california poppy'] == True]\n",
    "\n",
    "top_ingredients = usld_w_ingredient.iloc[:, len(usld_w_ingredient.columns) - len(ingredient_flags.columns) + 1:].sum().sort_values(ascending = False)\n",
    "top_ingredients = top_ingredients.reset_index().rename(columns = {'index':'ingredient', 0:'count'})\n"
   ]
  },
  {
   "cell_type": "code",
   "execution_count": 6,
   "metadata": {},
   "outputs": [],
   "source": [
    "from collections import defaultdict\n",
    "ing2name = defaultdict(str)\n",
    "all_ing = usld_w_ingredient.allIngredients.explode()\n",
    "for x in all_ing:\n",
    "    if x.get('ingredientGroup', -1) != -1:\n",
    "        ing2name[x.get('ingredientGroup').lower()] += x.get('name', '').strip('\"\"') + ',' \n",
    "\n",
    "ing2name = pd.DataFrame.from_dict(ing2name, orient = 'index', columns=['name']).reset_index().rename(columns = {'index':'ingredient'})\n",
    "top_ingredients_w_name = top_ingredients.merge(ing2name, on = 'ingredient')\n",
    "top_ingredients_w_name['name'] = top_ingredients_w_name.name.str.rstrip(',')\n",
    "top_ingredients_w_name.to_csv('top_ingredients_w_name.csv', index = False)"
   ]
  },
  {
   "cell_type": "markdown",
   "metadata": {},
   "source": [
    "##### --- end of USLD leeway ---"
   ]
  },
  {
   "cell_type": "code",
   "execution_count": 33,
   "metadata": {},
   "outputs": [
    {
     "data": {
      "text/html": [
       "<div>\n",
       "<style scoped>\n",
       "    .dataframe tbody tr th:only-of-type {\n",
       "        vertical-align: middle;\n",
       "    }\n",
       "\n",
       "    .dataframe tbody tr th {\n",
       "        vertical-align: top;\n",
       "    }\n",
       "\n",
       "    .dataframe thead th {\n",
       "        text-align: right;\n",
       "    }\n",
       "</style>\n",
       "<table border=\"1\" class=\"dataframe\">\n",
       "  <thead>\n",
       "    <tr style=\"text-align: right;\">\n",
       "      <th></th>\n",
       "      <th>brand</th>\n",
       "      <th>rating_value</th>\n",
       "      <th>review_count</th>\n",
       "    </tr>\n",
       "  </thead>\n",
       "  <tbody>\n",
       "    <tr>\n",
       "      <th>0</th>\n",
       "      <td>Herbs, Etc.</td>\n",
       "      <td>5.000000</td>\n",
       "      <td>2</td>\n",
       "    </tr>\n",
       "    <tr>\n",
       "      <th>1</th>\n",
       "      <td>California Gold Nutrition</td>\n",
       "      <td>4.666667</td>\n",
       "      <td>13070</td>\n",
       "    </tr>\n",
       "    <tr>\n",
       "      <th>2</th>\n",
       "      <td>Herb Pharm</td>\n",
       "      <td>4.400000</td>\n",
       "      <td>86</td>\n",
       "    </tr>\n",
       "    <tr>\n",
       "      <th>3</th>\n",
       "      <td>Hawaii Pharm</td>\n",
       "      <td>4.300000</td>\n",
       "      <td>6</td>\n",
       "    </tr>\n",
       "    <tr>\n",
       "      <th>4</th>\n",
       "      <td>Eclectic Herb</td>\n",
       "      <td>4.300000</td>\n",
       "      <td>51</td>\n",
       "    </tr>\n",
       "  </tbody>\n",
       "</table>\n",
       "</div>"
      ],
      "text/plain": [
       "                       brand  rating_value  review_count\n",
       "0                Herbs, Etc.      5.000000             2\n",
       "1  California Gold Nutrition      4.666667         13070\n",
       "2                 Herb Pharm      4.400000            86\n",
       "3               Hawaii Pharm      4.300000             6\n",
       "4              Eclectic Herb      4.300000            51"
      ]
     },
     "execution_count": 33,
     "metadata": {},
     "output_type": "execute_result"
    }
   ],
   "source": [
    "brands = usld[usld.offMarket == '0'].brandName.unique()\n",
    "brands = '|'.join(brands)\n",
    "\n",
    "file_v = file[file.brand.str.contains(brands)]\n",
    "temp = file_v.groupby('product_name').agg({'brand':'first', 'rating_value':'mean', 'review_count':'first'}).reset_index()\n",
    "temp = temp.groupby('brand').agg({'rating_value':'mean', 'review_count':'sum'}).sort_values('rating_value', ascending = False).head(10).reset_index()\n",
    "temp "
   ]
  },
  {
   "cell_type": "code",
   "execution_count": 34,
   "metadata": {},
   "outputs": [
    {
     "name": "stdout",
     "output_type": "stream",
     "text": [
      "Herbs, Etc.\n",
      "[{'rating_value': 5.0, 'count': 2}]\n",
      "[{'sentiment': 'positive', 'count': 0.5}, {'sentiment': 'neutral', 'count': 0.5}]\n",
      "California Gold Nutrition\n",
      "[{'rating_value': 4.6, 'count': 3}, {'rating_value': 4.7, 'count': 2}, {'rating_value': 4.8, 'count': 1}]\n",
      "[{'sentiment': 'positive', 'count': 0.9182389937106918}, {'sentiment': 'negative', 'count': 0.05786163522012579}, {'sentiment': 'neutral', 'count': 0.02389937106918239}]\n",
      "Herb Pharm\n",
      "[{'rating_value': 4.4, 'count': 1}]\n",
      "[{'sentiment': 'positive', 'count': 0.7777777777777778}, {'sentiment': 'negative', 'count': 0.1388888888888889}, {'sentiment': 'neutral', 'count': 0.08333333333333333}]\n",
      "Hawaii Pharm\n",
      "[{'rating_value': 4.3, 'count': 2}]\n",
      "[{'sentiment': 'negative', 'count': 0.5}, {'sentiment': 'positive', 'count': 0.5}]\n",
      "Eclectic Herb\n",
      "[{'rating_value': 4.3, 'count': 1}]\n",
      "[{'sentiment': 'positive', 'count': 0.8181818181818182}, {'sentiment': 'negative', 'count': 0.18181818181818182}]\n"
     ]
    }
   ],
   "source": [
    "ratings = []\n",
    "sent = []\n",
    "for b in temp.brand:\n",
    "    ct = file[file.brand == b].groupby('product_name').agg({'rating_value': 'first'}).reset_index().rating_value.value_counts().reset_index()\n",
    "    ratings.append(ct.to_dict('records'))\n",
    "    s = file[file.brand == b].sentiment.value_counts()/file[file.brand == b].shape[0]\n",
    "    sent.append(s.reset_index().to_dict('records'))\n",
    "\n",
    "temp['ratings'] = ratings\n",
    "temp['sent_breakdown'] = sent\n",
    "\n",
    "for i in range(len(temp)):\n",
    "    print(temp.brand[i])\n",
    "    print(temp.ratings[i])\n",
    "    print(temp.sent_breakdown[i])"
   ]
  },
  {
   "cell_type": "code",
   "execution_count": 12,
   "metadata": {},
   "outputs": [
    {
     "name": "stdout",
     "output_type": "stream",
     "text": [
      "Herbs, Etc.\n"
     ]
    },
    {
     "data": {
      "text/html": [
       "<div>\n",
       "<style scoped>\n",
       "    .dataframe tbody tr th:only-of-type {\n",
       "        vertical-align: middle;\n",
       "    }\n",
       "\n",
       "    .dataframe tbody tr th {\n",
       "        vertical-align: top;\n",
       "    }\n",
       "\n",
       "    .dataframe thead th {\n",
       "        text-align: right;\n",
       "    }\n",
       "</style>\n",
       "<table border=\"1\" class=\"dataframe\">\n",
       "  <thead>\n",
       "    <tr style=\"text-align: right;\">\n",
       "      <th></th>\n",
       "      <th>_id</th>\n",
       "      <th>fullName</th>\n",
       "      <th>brandName</th>\n",
       "      <th>langualCode</th>\n",
       "      <th>langualCodeDescription</th>\n",
       "      <th>allIngredients</th>\n",
       "      <th>netContents</th>\n",
       "      <th>claims</th>\n",
       "      <th>offMarket</th>\n",
       "    </tr>\n",
       "  </thead>\n",
       "  <tbody>\n",
       "    <tr>\n",
       "      <th>239</th>\n",
       "      <td>75555</td>\n",
       "      <td>Deep Sleep</td>\n",
       "      <td>Herbs, Etc.</td>\n",
       "      <td>E0161, A1306</td>\n",
       "      <td>Softgel Capsule, Botanical</td>\n",
       "      <td>[{'ingredientGroup': 'Header', 'notes': '', 'n...</td>\n",
       "      <td>[{'unit': 'Fast-Acting Softgel(s)', 'quantity'...</td>\n",
       "      <td>[{'langualCodeDescription': 'All Other', 'lang...</td>\n",
       "      <td>0</td>\n",
       "    </tr>\n",
       "  </tbody>\n",
       "</table>\n",
       "</div>"
      ],
      "text/plain": [
       "       _id    fullName    brandName   langualCode      langualCodeDescription  \\\n",
       "239  75555  Deep Sleep  Herbs, Etc.  E0161, A1306  Softgel Capsule, Botanical   \n",
       "\n",
       "                                        allIngredients  \\\n",
       "239  [{'ingredientGroup': 'Header', 'notes': '', 'n...   \n",
       "\n",
       "                                           netContents  \\\n",
       "239  [{'unit': 'Fast-Acting Softgel(s)', 'quantity'...   \n",
       "\n",
       "                                                claims offMarket  \n",
       "239  [{'langualCodeDescription': 'All Other', 'lang...         0  "
      ]
     },
     "metadata": {},
     "output_type": "display_data"
    },
    {
     "name": "stdout",
     "output_type": "stream",
     "text": [
      "California Gold Nutrition\n"
     ]
    },
    {
     "data": {
      "text/html": [
       "<div>\n",
       "<style scoped>\n",
       "    .dataframe tbody tr th:only-of-type {\n",
       "        vertical-align: middle;\n",
       "    }\n",
       "\n",
       "    .dataframe tbody tr th {\n",
       "        vertical-align: top;\n",
       "    }\n",
       "\n",
       "    .dataframe thead th {\n",
       "        text-align: right;\n",
       "    }\n",
       "</style>\n",
       "<table border=\"1\" class=\"dataframe\">\n",
       "  <thead>\n",
       "    <tr style=\"text-align: right;\">\n",
       "      <th></th>\n",
       "      <th>_id</th>\n",
       "      <th>fullName</th>\n",
       "      <th>brandName</th>\n",
       "      <th>langualCode</th>\n",
       "      <th>langualCodeDescription</th>\n",
       "      <th>allIngredients</th>\n",
       "      <th>netContents</th>\n",
       "      <th>claims</th>\n",
       "      <th>offMarket</th>\n",
       "    </tr>\n",
       "  </thead>\n",
       "  <tbody>\n",
       "    <tr>\n",
       "      <th>273</th>\n",
       "      <td>273321</td>\n",
       "      <td>CoQ10 100 mg with PQQ</td>\n",
       "      <td>California Gold Nutrition</td>\n",
       "      <td>E0161, A1309</td>\n",
       "      <td>Softgel Capsule, Non-Nutrient/Non-Botanical</td>\n",
       "      <td>[{'ingredientGroup': 'Coenzyme Q-10', 'notes':...</td>\n",
       "      <td>[{'unit': 'Veggie Softgel(s)', 'quantity': '24...</td>\n",
       "      <td>[{'langualCodeDescription': 'All Other', 'lang...</td>\n",
       "      <td>0</td>\n",
       "    </tr>\n",
       "    <tr>\n",
       "      <th>277</th>\n",
       "      <td>273873</td>\n",
       "      <td>EpiCor Dried Yeast Fermentate 500 mg</td>\n",
       "      <td>California Gold Nutrition</td>\n",
       "      <td>E0159, A1306</td>\n",
       "      <td>Capsule, Botanical</td>\n",
       "      <td>[{'ingredientGroup': 'Saccharomyces cerevisiae...</td>\n",
       "      <td>[{'unit': 'Veggie Capsule(s)', 'quantity': '36...</td>\n",
       "      <td>[{'langualCodeDescription': 'All Other', 'lang...</td>\n",
       "      <td>0</td>\n",
       "    </tr>\n",
       "  </tbody>\n",
       "</table>\n",
       "</div>"
      ],
      "text/plain": [
       "        _id                              fullName                  brandName  \\\n",
       "273  273321                 CoQ10 100 mg with PQQ  California Gold Nutrition   \n",
       "277  273873  EpiCor Dried Yeast Fermentate 500 mg  California Gold Nutrition   \n",
       "\n",
       "      langualCode                       langualCodeDescription  \\\n",
       "273  E0161, A1309  Softgel Capsule, Non-Nutrient/Non-Botanical   \n",
       "277  E0159, A1306                           Capsule, Botanical   \n",
       "\n",
       "                                        allIngredients  \\\n",
       "273  [{'ingredientGroup': 'Coenzyme Q-10', 'notes':...   \n",
       "277  [{'ingredientGroup': 'Saccharomyces cerevisiae...   \n",
       "\n",
       "                                           netContents  \\\n",
       "273  [{'unit': 'Veggie Softgel(s)', 'quantity': '24...   \n",
       "277  [{'unit': 'Veggie Capsule(s)', 'quantity': '36...   \n",
       "\n",
       "                                                claims offMarket  \n",
       "273  [{'langualCodeDescription': 'All Other', 'lang...         0  \n",
       "277  [{'langualCodeDescription': 'All Other', 'lang...         0  "
      ]
     },
     "metadata": {},
     "output_type": "display_data"
    },
    {
     "name": "stdout",
     "output_type": "stream",
     "text": [
      "Herb Pharm\n"
     ]
    },
    {
     "data": {
      "text/html": [
       "<div>\n",
       "<style scoped>\n",
       "    .dataframe tbody tr th:only-of-type {\n",
       "        vertical-align: middle;\n",
       "    }\n",
       "\n",
       "    .dataframe tbody tr th {\n",
       "        vertical-align: top;\n",
       "    }\n",
       "\n",
       "    .dataframe thead th {\n",
       "        text-align: right;\n",
       "    }\n",
       "</style>\n",
       "<table border=\"1\" class=\"dataframe\">\n",
       "  <thead>\n",
       "    <tr style=\"text-align: right;\">\n",
       "      <th></th>\n",
       "      <th>_id</th>\n",
       "      <th>fullName</th>\n",
       "      <th>brandName</th>\n",
       "      <th>langualCode</th>\n",
       "      <th>langualCodeDescription</th>\n",
       "      <th>allIngredients</th>\n",
       "      <th>netContents</th>\n",
       "      <th>claims</th>\n",
       "      <th>offMarket</th>\n",
       "    </tr>\n",
       "  </thead>\n",
       "  <tbody>\n",
       "    <tr>\n",
       "      <th>3</th>\n",
       "      <td>203399</td>\n",
       "      <td>California Poppy</td>\n",
       "      <td>Herb Pharm</td>\n",
       "      <td>E0165, A1306</td>\n",
       "      <td>Liquid, Botanical</td>\n",
       "      <td>[{'ingredientGroup': 'California Poppy', 'note...</td>\n",
       "      <td>[{'unit': 'fl. Oz.', 'quantity': '4', 'display...</td>\n",
       "      <td>[{'langualCodeDescription': 'All Other', 'lang...</td>\n",
       "      <td>0</td>\n",
       "    </tr>\n",
       "    <tr>\n",
       "      <th>4</th>\n",
       "      <td>203940</td>\n",
       "      <td>California Poppy</td>\n",
       "      <td>Herb Pharm</td>\n",
       "      <td>E0165, A1306</td>\n",
       "      <td>Liquid, Botanical</td>\n",
       "      <td>[{'ingredientGroup': 'California Poppy', 'note...</td>\n",
       "      <td>[{'unit': 'fl. Oz.', 'quantity': '1', 'display...</td>\n",
       "      <td>[{'langualCodeDescription': 'All Other', 'lang...</td>\n",
       "      <td>0</td>\n",
       "    </tr>\n",
       "  </tbody>\n",
       "</table>\n",
       "</div>"
      ],
      "text/plain": [
       "      _id          fullName   brandName   langualCode langualCodeDescription  \\\n",
       "3  203399  California Poppy  Herb Pharm  E0165, A1306      Liquid, Botanical   \n",
       "4  203940  California Poppy  Herb Pharm  E0165, A1306      Liquid, Botanical   \n",
       "\n",
       "                                      allIngredients  \\\n",
       "3  [{'ingredientGroup': 'California Poppy', 'note...   \n",
       "4  [{'ingredientGroup': 'California Poppy', 'note...   \n",
       "\n",
       "                                         netContents  \\\n",
       "3  [{'unit': 'fl. Oz.', 'quantity': '4', 'display...   \n",
       "4  [{'unit': 'fl. Oz.', 'quantity': '1', 'display...   \n",
       "\n",
       "                                              claims offMarket  \n",
       "3  [{'langualCodeDescription': 'All Other', 'lang...         0  \n",
       "4  [{'langualCodeDescription': 'All Other', 'lang...         0  "
      ]
     },
     "metadata": {},
     "output_type": "display_data"
    },
    {
     "name": "stdout",
     "output_type": "stream",
     "text": [
      "Hawaii Pharm\n"
     ]
    },
    {
     "data": {
      "text/html": [
       "<div>\n",
       "<style scoped>\n",
       "    .dataframe tbody tr th:only-of-type {\n",
       "        vertical-align: middle;\n",
       "    }\n",
       "\n",
       "    .dataframe tbody tr th {\n",
       "        vertical-align: top;\n",
       "    }\n",
       "\n",
       "    .dataframe thead th {\n",
       "        text-align: right;\n",
       "    }\n",
       "</style>\n",
       "<table border=\"1\" class=\"dataframe\">\n",
       "  <thead>\n",
       "    <tr style=\"text-align: right;\">\n",
       "      <th></th>\n",
       "      <th>_id</th>\n",
       "      <th>fullName</th>\n",
       "      <th>brandName</th>\n",
       "      <th>langualCode</th>\n",
       "      <th>langualCodeDescription</th>\n",
       "      <th>allIngredients</th>\n",
       "      <th>netContents</th>\n",
       "      <th>claims</th>\n",
       "      <th>offMarket</th>\n",
       "    </tr>\n",
       "  </thead>\n",
       "  <tbody>\n",
       "    <tr>\n",
       "      <th>25</th>\n",
       "      <td>237306</td>\n",
       "      <td>California Poppy</td>\n",
       "      <td>Hawaii Pharm</td>\n",
       "      <td>E0165, A1306</td>\n",
       "      <td>Liquid, Botanical</td>\n",
       "      <td>[{'ingredientGroup': 'California Poppy', 'note...</td>\n",
       "      <td>[{'unit': 'Fluid Ounce(s)', 'quantity': '4', '...</td>\n",
       "      <td>[{'langualCodeDescription': 'All Other', 'lang...</td>\n",
       "      <td>0</td>\n",
       "    </tr>\n",
       "    <tr>\n",
       "      <th>35</th>\n",
       "      <td>237946</td>\n",
       "      <td>California Poppy</td>\n",
       "      <td>Hawaii Pharm</td>\n",
       "      <td>E0165, A1306</td>\n",
       "      <td>Liquid, Botanical</td>\n",
       "      <td>[{'ingredientGroup': 'California Poppy', 'note...</td>\n",
       "      <td>[{'unit': 'Fluid Ounce(s)', 'quantity': '4', '...</td>\n",
       "      <td>[{'langualCodeDescription': 'All Other', 'lang...</td>\n",
       "      <td>0</td>\n",
       "    </tr>\n",
       "  </tbody>\n",
       "</table>\n",
       "</div>"
      ],
      "text/plain": [
       "       _id          fullName     brandName   langualCode  \\\n",
       "25  237306  California Poppy  Hawaii Pharm  E0165, A1306   \n",
       "35  237946  California Poppy  Hawaii Pharm  E0165, A1306   \n",
       "\n",
       "   langualCodeDescription                                     allIngredients  \\\n",
       "25      Liquid, Botanical  [{'ingredientGroup': 'California Poppy', 'note...   \n",
       "35      Liquid, Botanical  [{'ingredientGroup': 'California Poppy', 'note...   \n",
       "\n",
       "                                          netContents  \\\n",
       "25  [{'unit': 'Fluid Ounce(s)', 'quantity': '4', '...   \n",
       "35  [{'unit': 'Fluid Ounce(s)', 'quantity': '4', '...   \n",
       "\n",
       "                                               claims offMarket  \n",
       "25  [{'langualCodeDescription': 'All Other', 'lang...         0  \n",
       "35  [{'langualCodeDescription': 'All Other', 'lang...         0  "
      ]
     },
     "metadata": {},
     "output_type": "display_data"
    },
    {
     "name": "stdout",
     "output_type": "stream",
     "text": [
      "Eclectic Herb\n"
     ]
    },
    {
     "data": {
      "text/html": [
       "<div>\n",
       "<style scoped>\n",
       "    .dataframe tbody tr th:only-of-type {\n",
       "        vertical-align: middle;\n",
       "    }\n",
       "\n",
       "    .dataframe tbody tr th {\n",
       "        vertical-align: top;\n",
       "    }\n",
       "\n",
       "    .dataframe thead th {\n",
       "        text-align: right;\n",
       "    }\n",
       "</style>\n",
       "<table border=\"1\" class=\"dataframe\">\n",
       "  <thead>\n",
       "    <tr style=\"text-align: right;\">\n",
       "      <th></th>\n",
       "      <th>_id</th>\n",
       "      <th>fullName</th>\n",
       "      <th>brandName</th>\n",
       "      <th>langualCode</th>\n",
       "      <th>langualCodeDescription</th>\n",
       "      <th>allIngredients</th>\n",
       "      <th>netContents</th>\n",
       "      <th>claims</th>\n",
       "      <th>offMarket</th>\n",
       "    </tr>\n",
       "  </thead>\n",
       "  <tbody>\n",
       "    <tr>\n",
       "      <th>23</th>\n",
       "      <td>294667</td>\n",
       "      <td>California Poppy</td>\n",
       "      <td>Eclectic Herb</td>\n",
       "      <td>E0165, A1306</td>\n",
       "      <td>Liquid, Botanical</td>\n",
       "      <td>[{'ingredientGroup': 'California Poppy', 'note...</td>\n",
       "      <td>[{'unit': 'Fluid Ounce(s)', 'quantity': '2', '...</td>\n",
       "      <td>[{'langualCodeDescription': 'All Other', 'lang...</td>\n",
       "      <td>0</td>\n",
       "    </tr>\n",
       "    <tr>\n",
       "      <th>48</th>\n",
       "      <td>316752</td>\n",
       "      <td>California Poppy</td>\n",
       "      <td>Eclectic Herb</td>\n",
       "      <td>E0165, A1306</td>\n",
       "      <td>Liquid, Botanical</td>\n",
       "      <td>[{'ingredientGroup': 'California Poppy', 'note...</td>\n",
       "      <td>[{'unit': 'Fluid Ounce(s)', 'quantity': '2', '...</td>\n",
       "      <td>[{'langualCodeDescription': 'All Other', 'lang...</td>\n",
       "      <td>0</td>\n",
       "    </tr>\n",
       "  </tbody>\n",
       "</table>\n",
       "</div>"
      ],
      "text/plain": [
       "       _id          fullName      brandName   langualCode  \\\n",
       "23  294667  California Poppy  Eclectic Herb  E0165, A1306   \n",
       "48  316752  California Poppy  Eclectic Herb  E0165, A1306   \n",
       "\n",
       "   langualCodeDescription                                     allIngredients  \\\n",
       "23      Liquid, Botanical  [{'ingredientGroup': 'California Poppy', 'note...   \n",
       "48      Liquid, Botanical  [{'ingredientGroup': 'California Poppy', 'note...   \n",
       "\n",
       "                                          netContents  \\\n",
       "23  [{'unit': 'Fluid Ounce(s)', 'quantity': '2', '...   \n",
       "48  [{'unit': 'Fluid Ounce(s)', 'quantity': '2', '...   \n",
       "\n",
       "                                               claims offMarket  \n",
       "23  [{'langualCodeDescription': 'All Other', 'lang...         0  \n",
       "48  [{'langualCodeDescription': 'All Other', 'lang...         0  "
      ]
     },
     "metadata": {},
     "output_type": "display_data"
    }
   ],
   "source": [
    "brand = temp.head(10).brand.to_list()\n",
    "for b in brand:\n",
    "    print(b)\n",
    "    display(usld[(usld.offMarket == '0') & (usld.brandName.apply(lambda x: x.strip() in b.strip()))].head(2))"
   ]
  },
  {
   "cell_type": "markdown",
   "metadata": {},
   "source": [
    "##### sent with vader"
   ]
  },
  {
   "cell_type": "code",
   "execution_count": 4,
   "metadata": {},
   "outputs": [],
   "source": [
    "from vaderSentiment.vaderSentiment import SentimentIntensityAnalyzer\n",
    "file = file.dropna(subset = 'review_text').drop_duplicates(subset= ['sku', 'review_title', 'review_text']).reset_index(drop = True)\n",
    "analyzer = SentimentIntensityAnalyzer()\n",
    "vs = [analyzer.polarity_scores(sentence) for sentence in file['review_text']]\n",
    "\n",
    "file[list(vs[0].keys())] = [[v[k] for k in vs[0].keys()] for v in vs]\n",
    "file['sentiment'] = file.compound.apply(lambda x: 'positive' if x >= 0.05 else ('negative' if x <= -0.05 else 'neutral'))\n",
    "\n",
    "file.to_csv('Walmart_reviews_w_sentiment.csv', mode='a', index=False, header=True)\n",
    "file.to_excel('Walmart_reviews_w_sentiment.xlsx', index = False)"
   ]
  },
  {
   "cell_type": "code",
   "execution_count": 5,
   "metadata": {},
   "outputs": [
    {
     "data": {
      "image/png": "[encoded data removed]",
      "text/plain": [
       "<Figure size 640x480 with 1 Axes>"
      ]
     },
     "metadata": {},
     "output_type": "display_data"
    }
   ],
   "source": [
    "import matplotlib.pyplot as plt\n",
    "fig, ax = plt.subplots()\n",
    "\n",
    "file.pred.value_counts().plot(kind='pie', autopct='%1.1f%%', ax=ax,)\n",
    "ax.set_ylabel('')\n",
    "ax.set_title('Sentiment Distribution of Walmart Reviews on California Poppy Products', size = 10)\n",
    "fig.savefig('sentiment_distribution_Walmart_transformer.png', dpi = 300)"
   ]
  },
  {
   "cell_type": "markdown",
   "metadata": {},
   "source": [
    "#### confusion matrix"
   ]
  },
  {
   "cell_type": "code",
   "execution_count": null,
   "metadata": {},
   "outputs": [],
   "source": [
    "file.head()"
   ]
  },
  {
   "cell_type": "code",
   "execution_count": 44,
   "metadata": {},
   "outputs": [
    {
     "data": {
      "image/png": "[encoded data removed]",
      "text/plain": [
       "<Figure size 3000x1500 with 12 Axes>"
      ]
     },
     "metadata": {},
     "output_type": "display_data"
    }
   ],
   "source": [
    "from sklearn.metrics import confusion_matrix\n",
    "import matplotlib.pyplot as plt\n",
    "import seaborn as sns\n",
    "\n",
    "nrow, ncol = 2, 3\n",
    "file['label'] = file.review_rating.apply(lambda x: float(x.split('(')[1].split(')')[0])) \n",
    "file['label'] = file.label.apply(lambda x: 'positive' if x >= 4 else 'negative' if x <= 2 else 'neutral')\n",
    "\n",
    "fig, ax = plt.subplots(2, 3, figsize = (30, 15))\n",
    "fig.suptitle('Confusion Matrix of Amazon Reviews Sentiment Prediction', fontsize = 20, y = 1.02)\n",
    "\n",
    "for i in range(nrow):\n",
    "    for j in range(ncol):\n",
    "        cf_mat = confusion_matrix(file.label == ['positive', 'neutral', 'negative'][j], \n",
    "                                     file[['sentiment','pred'][i]] ==['positive', 'neutral', 'negative'][j])\n",
    "        \n",
    "        texts = [[f'TN = {cf_mat[0,0]}',f'FP = {cf_mat[0,1]}'], \\\n",
    "            [f'FN = {cf_mat[1,0]}', f'TP = {cf_mat[1,1]}']]       \n",
    "        \n",
    "        sns.heatmap(cf_mat, annot=texts, fmt = '',\n",
    "                     cmap = 'Purples', alpha =0.9, ax = ax[i][j])\n",
    "\n",
    "        ax[i][j].set_title(f'{[\"vader\", \"transformer\"][i]}: {[\"positive\", \"neutral\", \"negative\"][j]}', fontsize = 15,\n",
    "                           y = 1.05)\n",
    "        ax[i][j].set_xticklabels(labels = [f'{[\"not positive\", \"not neutral\", \"not negative\"][j]}', \n",
    "                                           f'{[\"positive\", \"neutral\", \"negative\"][j]}'])\n",
    "        ax[i][j].tick_params(length = .1)\n",
    "        ax[i][j].set_yticklabels(labels = [f'{[\"not positive\", \"not neutral\", \"not negative\"][j]}', \n",
    "                                           f'{[\"positive\", \"neutral\", \"negative\"][j]}'], rotation = 0)\n",
    "        ax[i][j].set_xlabel('Predicted Label', fontsize = 12)\n",
    "        ax[i][j].set_ylabel('True Label', fontsize =12)\n",
    "\n",
    "fig.savefig('Amazon_sentiment_confusion_matrix.png', dpi = 300)\n"
   ]
  },
  {
   "cell_type": "code",
   "execution_count": 45,
   "metadata": {},
   "outputs": [
    {
     "name": "stdout",
     "output_type": "stream",
     "text": [
      "Accuracy: 0.7357\n",
      "Precision: 0.7403\n",
      "Recall: 0.7357\n",
      "F1 Score: 0.7373\n"
     ]
    },
    {
     "data": {
      "image/png": "[encoded data removed]",
      "text/plain": [
       "<Figure size 600x500 with 1 Axes>"
      ]
     },
     "metadata": {},
     "output_type": "display_data"
    },
    {
     "data": {
      "text/plain": [
       "<Figure size 640x480 with 0 Axes>"
      ]
     },
     "metadata": {},
     "output_type": "display_data"
    }
   ],
   "source": [
    "from sklearn.metrics import accuracy_score, precision_score, recall_score, f1_score, confusion_matrix, classification_report, roc_curve, auc\n",
    "import matplotlib.pyplot as plt\n",
    "\n",
    "accuracy = accuracy_score(file.label, file.sentiment)\n",
    "precision = precision_score(file.label, file.sentiment, average='weighted')\n",
    "recall = recall_score(file.label, file.sentiment, average='weighted')\n",
    "f1 = f1_score(file.label, file.sentiment, average='weighted')\n",
    "\n",
    "print(f\"Accuracy: {accuracy:.4f}\")\n",
    "print(f\"Precision: {precision:.4f}\")\n",
    "print(f\"Recall: {recall:.4f}\")\n",
    "print(f\"F1 Score: {f1:.4f}\")\n",
    "\n",
    "\n",
    "labels = file.label.apply(lambda x: 1 if x == 'positive' else 0) \n",
    "compound = file.compound\n",
    "\n",
    "\n",
    "fpr, tpr, thresholds = roc_curve(labels, compound)\n",
    "roc_auc = auc(fpr, tpr)\n",
    "\n",
    "plt.figure(figsize = (6, 5))\n",
    "plt.plot(fpr, tpr, color='#8900e6', alpha = 0.7, lw=2, label=f'ROC curve (area = {roc_auc:.2f})')\n",
    "plt.plot([0, 1], [0, 1], color='#6f6f6f', lw=2, linestyle='--')\n",
    "plt.xlabel('False Positive Rate')\n",
    "plt.ylabel('True Positive Rate')\n",
    "plt.title('ROC Curve for Positive Sentiment Classification (Amazon)')\n",
    "plt.legend(loc=\"lower right\")\n",
    "plt.text(1.1, 0.4, f\"Accuracy: {accuracy:.4f}\\n\\nPrecision: {precision:.4f}\\n\\nRecall: {recall:.4f}\\n\\nF1 Score: {f1:.4f}\",)\n",
    "plt.show()\n",
    "\n",
    "plt.savefig('Amazon_sentiment_roc.png', dpi = 300)\n"
   ]
  },
  {
   "cell_type": "markdown",
   "metadata": {},
   "source": [
    "### iherb"
   ]
  },
  {
   "cell_type": "code",
   "execution_count": 52,
   "metadata": {},
   "outputs": [
    {
     "name": "stdout",
     "output_type": "stream",
     "text": [
      "C:\\Users\\tianc\\scrapfly-scrapers\\iherb-scraper\\results\n"
     ]
    }
   ],
   "source": [
    "%cd ~/scrapfly-scrapers/iherb-scraper/results/\n",
    "import pandas as pd\n",
    "\n",
    "# files = []\n",
    "# for kw in ['tea', 'tincture', 'supplement', 'drink']:\n",
    "#     search = pd.read_json(f'search_{kw}_extra.json')\n",
    "#     product = pd.read_json(f'search_{kw}_products_w_brand_extra.json')\n",
    "#     review = pd.read_json(f'search_{kw}_reviews_extra.json')\n",
    "\n",
    "\n",
    "#     search.url = search.apply(lambda x: x.url if x.url.startswith('https://www.iherb.com') else '/pr/'.join(x.review_url.split('/r/')), axis = 1)\n",
    "\n",
    "#     file = review.merge(search, on = 'review_url').merge(product, on = 'url')\n",
    "#     file.drop(columns = ['rating_value', 'review_count'], inplace = True)\n",
    "\n",
    "#     column_order = [\n",
    "#         'brand','name', 'price', 'sku', 'description', 'direction', 'ingredients', 'warnings', \n",
    "#         'disclaimer', 'info_table', 'url', 'avg_rating', 'total_reviews', 'review_url', \n",
    "#         'title', 'rating', 'text', 'location_and_date', 'verified', 'rewarded'\n",
    "#     ]\n",
    "\n",
    "#     file = file[column_order]\n",
    "#     file.drop_duplicates(subset = ['text', 'location_and_date'],)\n",
    "#     files += [file]\n"
   ]
  },
  {
   "cell_type": "code",
   "execution_count": null,
   "metadata": {},
   "outputs": [],
   "source": [
    "comb_file = pd.concat(files)\n",
    "comb_file = comb_file.reset_index().drop(columns = 'index')\n",
    "comb_file.to_csv('iherb_reviews_extra.csv', )\n",
    "comb_file.to_excel('iherb_reviews_extra.xlsx', )\n"
   ]
  },
  {
   "cell_type": "markdown",
   "metadata": {},
   "source": [
    "#### sent with vader"
   ]
  },
  {
   "cell_type": "code",
   "execution_count": 27,
   "metadata": {},
   "outputs": [],
   "source": [
    "from vaderSentiment.vaderSentiment import SentimentIntensityAnalyzer\n",
    "# file = comb_file.dropna().drop_duplicates(subset = ['name', 'title', 'text']).reset_index(drop = True)\n",
    "\n",
    "analyzer = SentimentIntensityAnalyzer()\n",
    "vs = [analyzer.polarity_scores(sentence) for sentence in file['text']]\n",
    "\n",
    "file[list(vs[0].keys())] = [[v[k] for k in vs[0].keys()] for v in vs]\n",
    "file['sentiment'] = file.compound.apply(lambda x: 'positive' if x >= 0.05 else ('negative' if x <= -0.05 else 'neutral'))\n",
    "\n",
    "file.to_csv('~/scrapfly-scrapers-large-file/iherb_reviews_w_sentiment.csv', mode='a', index=False, header=False)\n",
    "file.to_excel('iherb_reviews_w_sentiment.xlsx', index = False)"
   ]
  },
  {
   "cell_type": "code",
   "execution_count": 99,
   "metadata": {},
   "outputs": [
    {
     "data": {
      "text/html": [
       "<div>\n",
       "<style scoped>\n",
       "    .dataframe tbody tr th:only-of-type {\n",
       "        vertical-align: middle;\n",
       "    }\n",
       "\n",
       "    .dataframe tbody tr th {\n",
       "        vertical-align: top;\n",
       "    }\n",
       "\n",
       "    .dataframe thead th {\n",
       "        text-align: right;\n",
       "    }\n",
       "</style>\n",
       "<table border=\"1\" class=\"dataframe\">\n",
       "  <thead>\n",
       "    <tr style=\"text-align: right;\">\n",
       "      <th></th>\n",
       "      <th>brand</th>\n",
       "      <th>name</th>\n",
       "      <th>price</th>\n",
       "      <th>sku</th>\n",
       "      <th>description</th>\n",
       "      <th>direction</th>\n",
       "      <th>ingredients</th>\n",
       "      <th>warnings</th>\n",
       "      <th>disclaimer</th>\n",
       "      <th>info_table</th>\n",
       "      <th>...</th>\n",
       "      <th>rating</th>\n",
       "      <th>text</th>\n",
       "      <th>location_and_date</th>\n",
       "      <th>verified</th>\n",
       "      <th>rewarded</th>\n",
       "      <th>neg</th>\n",
       "      <th>neu</th>\n",
       "      <th>pos</th>\n",
       "      <th>compound</th>\n",
       "      <th>sentiment</th>\n",
       "    </tr>\n",
       "  </thead>\n",
       "  <tbody>\n",
       "    <tr>\n",
       "      <th>0</th>\n",
       "      <td>California Gold Nutrition</td>\n",
       "      <td>California Gold Nutrition, LactoBif® 5 Probiot...</td>\n",
       "      <td>$9.75</td>\n",
       "      <td>CGN-00963</td>\n",
       "      <td>\\r\\nFeaturing 8 Active Probiotic Strains, Inc...</td>\n",
       "      <td>['Take 1 capsule daily, with or without food. ...</td>\n",
       "      <td>['Vegetable Capsule (Modified Cellulose), Micr...</td>\n",
       "      <td>['Keep out of reach of children. Consult with ...</td>\n",
       "      <td>['While iHerb strives to ensure the accuracy o...</td>\n",
       "      <td>{'nutrition_fact': [{'name': 'Probiotic Bacter...</td>\n",
       "      <td>...</td>\n",
       "      <td>5 star(s)</td>\n",
       "      <td>I have heard so many good things about probio...</td>\n",
       "      <td>May 6, 2024</td>\n",
       "      <td>True</td>\n",
       "      <td>True</td>\n",
       "      <td>0.000</td>\n",
       "      <td>0.540</td>\n",
       "      <td>0.460</td>\n",
       "      <td>0.9878</td>\n",
       "      <td>positive</td>\n",
       "    </tr>\n",
       "    <tr>\n",
       "      <th>1</th>\n",
       "      <td>California Gold Nutrition</td>\n",
       "      <td>California Gold Nutrition, LactoBif® 5 Probiot...</td>\n",
       "      <td>$9.75</td>\n",
       "      <td>CGN-00963</td>\n",
       "      <td>\\r\\nFeaturing 8 Active Probiotic Strains, Inc...</td>\n",
       "      <td>['Take 1 capsule daily, with or without food. ...</td>\n",
       "      <td>['Vegetable Capsule (Modified Cellulose), Micr...</td>\n",
       "      <td>['Keep out of reach of children. Consult with ...</td>\n",
       "      <td>['While iHerb strives to ensure the accuracy o...</td>\n",
       "      <td>{'nutrition_fact': [{'name': 'Probiotic Bacter...</td>\n",
       "      <td>...</td>\n",
       "      <td>5 star(s)</td>\n",
       "      <td>I have suffered from horrible digestive issues...</td>\n",
       "      <td>Feb 19, 2024</td>\n",
       "      <td>True</td>\n",
       "      <td>True</td>\n",
       "      <td>0.179</td>\n",
       "      <td>0.743</td>\n",
       "      <td>0.079</td>\n",
       "      <td>-0.7440</td>\n",
       "      <td>negative</td>\n",
       "    </tr>\n",
       "    <tr>\n",
       "      <th>2</th>\n",
       "      <td>California Gold Nutrition</td>\n",
       "      <td>California Gold Nutrition, LactoBif® 5 Probiot...</td>\n",
       "      <td>$9.75</td>\n",
       "      <td>CGN-00963</td>\n",
       "      <td>\\r\\nFeaturing 8 Active Probiotic Strains, Inc...</td>\n",
       "      <td>['Take 1 capsule daily, with or without food. ...</td>\n",
       "      <td>['Vegetable Capsule (Modified Cellulose), Micr...</td>\n",
       "      <td>['Keep out of reach of children. Consult with ...</td>\n",
       "      <td>['While iHerb strives to ensure the accuracy o...</td>\n",
       "      <td>{'nutrition_fact': [{'name': 'Probiotic Bacter...</td>\n",
       "      <td>...</td>\n",
       "      <td>5 star(s)</td>\n",
       "      <td>They are awesome. I only ordered the 5billion ...</td>\n",
       "      <td>Feb 9, 2024</td>\n",
       "      <td>True</td>\n",
       "      <td>True</td>\n",
       "      <td>0.000</td>\n",
       "      <td>0.703</td>\n",
       "      <td>0.297</td>\n",
       "      <td>0.9755</td>\n",
       "      <td>positive</td>\n",
       "    </tr>\n",
       "    <tr>\n",
       "      <th>3</th>\n",
       "      <td>California Gold Nutrition</td>\n",
       "      <td>California Gold Nutrition, LactoBif® 5 Probiot...</td>\n",
       "      <td>$9.75</td>\n",
       "      <td>CGN-00963</td>\n",
       "      <td>\\r\\nFeaturing 8 Active Probiotic Strains, Inc...</td>\n",
       "      <td>['Take 1 capsule daily, with or without food. ...</td>\n",
       "      <td>['Vegetable Capsule (Modified Cellulose), Micr...</td>\n",
       "      <td>['Keep out of reach of children. Consult with ...</td>\n",
       "      <td>['While iHerb strives to ensure the accuracy o...</td>\n",
       "      <td>{'nutrition_fact': [{'name': 'Probiotic Bacter...</td>\n",
       "      <td>...</td>\n",
       "      <td>5 star(s)</td>\n",
       "      <td>California Gold Nutrition LactoBif® 5 Probioti...</td>\n",
       "      <td>Nov 24, 2024</td>\n",
       "      <td>True</td>\n",
       "      <td>True</td>\n",
       "      <td>0.023</td>\n",
       "      <td>0.776</td>\n",
       "      <td>0.201</td>\n",
       "      <td>0.9432</td>\n",
       "      <td>positive</td>\n",
       "    </tr>\n",
       "    <tr>\n",
       "      <th>4</th>\n",
       "      <td>California Gold Nutrition</td>\n",
       "      <td>California Gold Nutrition, LactoBif® 5 Probiot...</td>\n",
       "      <td>$9.75</td>\n",
       "      <td>CGN-00963</td>\n",
       "      <td>\\r\\nFeaturing 8 Active Probiotic Strains, Inc...</td>\n",
       "      <td>['Take 1 capsule daily, with or without food. ...</td>\n",
       "      <td>['Vegetable Capsule (Modified Cellulose), Micr...</td>\n",
       "      <td>['Keep out of reach of children. Consult with ...</td>\n",
       "      <td>['While iHerb strives to ensure the accuracy o...</td>\n",
       "      <td>{'nutrition_fact': [{'name': 'Probiotic Bacter...</td>\n",
       "      <td>...</td>\n",
       "      <td>5 star(s)</td>\n",
       "      <td>I noticed the improvements and the benefit in ...</td>\n",
       "      <td>Nov 6, 2024</td>\n",
       "      <td>True</td>\n",
       "      <td>True</td>\n",
       "      <td>0.000</td>\n",
       "      <td>0.728</td>\n",
       "      <td>0.272</td>\n",
       "      <td>0.9565</td>\n",
       "      <td>positive</td>\n",
       "    </tr>\n",
       "  </tbody>\n",
       "</table>\n",
       "<p>5 rows × 25 columns</p>\n",
       "</div>"
      ],
      "text/plain": [
       "                       brand  \\\n",
       "0  California Gold Nutrition   \n",
       "1  California Gold Nutrition   \n",
       "2  California Gold Nutrition   \n",
       "3  California Gold Nutrition   \n",
       "4  California Gold Nutrition   \n",
       "\n",
       "                                                name  price        sku  \\\n",
       "0  California Gold Nutrition, LactoBif® 5 Probiot...  $9.75  CGN-00963   \n",
       "1  California Gold Nutrition, LactoBif® 5 Probiot...  $9.75  CGN-00963   \n",
       "2  California Gold Nutrition, LactoBif® 5 Probiot...  $9.75  CGN-00963   \n",
       "3  California Gold Nutrition, LactoBif® 5 Probiot...  $9.75  CGN-00963   \n",
       "4  California Gold Nutrition, LactoBif® 5 Probiot...  $9.75  CGN-00963   \n",
       "\n",
       "                                         description  \\\n",
       "0   \\r\\nFeaturing 8 Active Probiotic Strains, Inc...   \n",
       "1   \\r\\nFeaturing 8 Active Probiotic Strains, Inc...   \n",
       "2   \\r\\nFeaturing 8 Active Probiotic Strains, Inc...   \n",
       "3   \\r\\nFeaturing 8 Active Probiotic Strains, Inc...   \n",
       "4   \\r\\nFeaturing 8 Active Probiotic Strains, Inc...   \n",
       "\n",
       "                                           direction  \\\n",
       "0  ['Take 1 capsule daily, with or without food. ...   \n",
       "1  ['Take 1 capsule daily, with or without food. ...   \n",
       "2  ['Take 1 capsule daily, with or without food. ...   \n",
       "3  ['Take 1 capsule daily, with or without food. ...   \n",
       "4  ['Take 1 capsule daily, with or without food. ...   \n",
       "\n",
       "                                         ingredients  \\\n",
       "0  ['Vegetable Capsule (Modified Cellulose), Micr...   \n",
       "1  ['Vegetable Capsule (Modified Cellulose), Micr...   \n",
       "2  ['Vegetable Capsule (Modified Cellulose), Micr...   \n",
       "3  ['Vegetable Capsule (Modified Cellulose), Micr...   \n",
       "4  ['Vegetable Capsule (Modified Cellulose), Micr...   \n",
       "\n",
       "                                            warnings  \\\n",
       "0  ['Keep out of reach of children. Consult with ...   \n",
       "1  ['Keep out of reach of children. Consult with ...   \n",
       "2  ['Keep out of reach of children. Consult with ...   \n",
       "3  ['Keep out of reach of children. Consult with ...   \n",
       "4  ['Keep out of reach of children. Consult with ...   \n",
       "\n",
       "                                          disclaimer  \\\n",
       "0  ['While iHerb strives to ensure the accuracy o...   \n",
       "1  ['While iHerb strives to ensure the accuracy o...   \n",
       "2  ['While iHerb strives to ensure the accuracy o...   \n",
       "3  ['While iHerb strives to ensure the accuracy o...   \n",
       "4  ['While iHerb strives to ensure the accuracy o...   \n",
       "\n",
       "                                          info_table  ...     rating  \\\n",
       "0  {'nutrition_fact': [{'name': 'Probiotic Bacter...  ...  5 star(s)   \n",
       "1  {'nutrition_fact': [{'name': 'Probiotic Bacter...  ...  5 star(s)   \n",
       "2  {'nutrition_fact': [{'name': 'Probiotic Bacter...  ...  5 star(s)   \n",
       "3  {'nutrition_fact': [{'name': 'Probiotic Bacter...  ...  5 star(s)   \n",
       "4  {'nutrition_fact': [{'name': 'Probiotic Bacter...  ...  5 star(s)   \n",
       "\n",
       "                                                text  location_and_date  \\\n",
       "0   I have heard so many good things about probio...        May 6, 2024   \n",
       "1  I have suffered from horrible digestive issues...       Feb 19, 2024   \n",
       "2  They are awesome. I only ordered the 5billion ...        Feb 9, 2024   \n",
       "3  California Gold Nutrition LactoBif® 5 Probioti...       Nov 24, 2024   \n",
       "4  I noticed the improvements and the benefit in ...        Nov 6, 2024   \n",
       "\n",
       "  verified rewarded    neg    neu    pos  compound  sentiment  \n",
       "0     True     True  0.000  0.540  0.460    0.9878   positive  \n",
       "1     True     True  0.179  0.743  0.079   -0.7440   negative  \n",
       "2     True     True  0.000  0.703  0.297    0.9755   positive  \n",
       "3     True     True  0.023  0.776  0.201    0.9432   positive  \n",
       "4     True     True  0.000  0.728  0.272    0.9565   positive  \n",
       "\n",
       "[5 rows x 25 columns]"
      ]
     },
     "execution_count": 99,
     "metadata": {},
     "output_type": "execute_result"
    }
   ],
   "source": [
    "file = pd.read_csv('~/scrapfly-scrapers-large-file/iherb_reviews_w_sentiment.csv')\n",
    "file.head()\n",
    "# file = file.drop_duplicates(subset = ['name', 'title','text']).reset_index(drop = True)\n",
    "# file.to_csv('iherb_reviews_w_sentiment.csv', index = False)\n",
    "# file.to_excel('iherb_reviews_w_sentiment.xlsx', index = False)"
   ]
  },
  {
   "cell_type": "code",
   "execution_count": 100,
   "metadata": {},
   "outputs": [
    {
     "data": {
      "text/html": [
       "<div>\n",
       "<style scoped>\n",
       "    .dataframe tbody tr th:only-of-type {\n",
       "        vertical-align: middle;\n",
       "    }\n",
       "\n",
       "    .dataframe tbody tr th {\n",
       "        vertical-align: top;\n",
       "    }\n",
       "\n",
       "    .dataframe thead th {\n",
       "        text-align: right;\n",
       "    }\n",
       "</style>\n",
       "<table border=\"1\" class=\"dataframe\">\n",
       "  <thead>\n",
       "    <tr style=\"text-align: right;\">\n",
       "      <th></th>\n",
       "      <th>brand</th>\n",
       "      <th>total_reviews</th>\n",
       "      <th>avg_rating</th>\n",
       "    </tr>\n",
       "  </thead>\n",
       "  <tbody>\n",
       "    <tr>\n",
       "      <th>0</th>\n",
       "      <td>Vital Nutrients</td>\n",
       "      <td>5</td>\n",
       "      <td>5.000000</td>\n",
       "    </tr>\n",
       "    <tr>\n",
       "      <th>1</th>\n",
       "      <td>NaturesPlus</td>\n",
       "      <td>35914</td>\n",
       "      <td>5.000000</td>\n",
       "    </tr>\n",
       "    <tr>\n",
       "      <th>2</th>\n",
       "      <td>Sambucol</td>\n",
       "      <td>23706</td>\n",
       "      <td>4.875000</td>\n",
       "    </tr>\n",
       "    <tr>\n",
       "      <th>3</th>\n",
       "      <td>Garden of Life</td>\n",
       "      <td>41256</td>\n",
       "      <td>4.833333</td>\n",
       "    </tr>\n",
       "    <tr>\n",
       "      <th>4</th>\n",
       "      <td>Doctor's Best</td>\n",
       "      <td>219661</td>\n",
       "      <td>4.791667</td>\n",
       "    </tr>\n",
       "    <tr>\n",
       "      <th>5</th>\n",
       "      <td>NutriBiotic</td>\n",
       "      <td>123684</td>\n",
       "      <td>4.785714</td>\n",
       "    </tr>\n",
       "    <tr>\n",
       "      <th>6</th>\n",
       "      <td>Apex</td>\n",
       "      <td>13287</td>\n",
       "      <td>4.750000</td>\n",
       "    </tr>\n",
       "    <tr>\n",
       "      <th>7</th>\n",
       "      <td>21st Century</td>\n",
       "      <td>10823</td>\n",
       "      <td>4.750000</td>\n",
       "    </tr>\n",
       "    <tr>\n",
       "      <th>8</th>\n",
       "      <td>Eclectic Herb</td>\n",
       "      <td>847</td>\n",
       "      <td>4.750000</td>\n",
       "    </tr>\n",
       "    <tr>\n",
       "      <th>9</th>\n",
       "      <td>Earthtone Foods</td>\n",
       "      <td>5915</td>\n",
       "      <td>4.750000</td>\n",
       "    </tr>\n",
       "  </tbody>\n",
       "</table>\n",
       "</div>"
      ],
      "text/plain": [
       "             brand  total_reviews  avg_rating\n",
       "0  Vital Nutrients              5    5.000000\n",
       "1      NaturesPlus          35914    5.000000\n",
       "2         Sambucol          23706    4.875000\n",
       "3   Garden of Life          41256    4.833333\n",
       "4    Doctor's Best         219661    4.791667\n",
       "5      NutriBiotic         123684    4.785714\n",
       "6             Apex          13287    4.750000\n",
       "7     21st Century          10823    4.750000\n",
       "8    Eclectic Herb            847    4.750000\n",
       "9  Earthtone Foods           5915    4.750000"
      ]
     },
     "execution_count": 100,
     "metadata": {},
     "output_type": "execute_result"
    }
   ],
   "source": [
    "temp = file.groupby('name').agg({'brand':'first','total_reviews':'first', 'avg_rating':'first'}).reset_index()\n",
    "temp['avg_rating'] = temp.avg_rating.apply(lambda x: float(x.rstrip(',')))\n",
    "temp = temp.groupby('brand').agg({'total_reviews':'sum', 'avg_rating':'mean'}).sort_values('avg_rating', ascending = False).head(10).reset_index()\n",
    "temp"
   ]
  },
  {
   "cell_type": "code",
   "execution_count": 101,
   "metadata": {},
   "outputs": [
    {
     "data": {
      "text/html": [
       "<div>\n",
       "<style scoped>\n",
       "    .dataframe tbody tr th:only-of-type {\n",
       "        vertical-align: middle;\n",
       "    }\n",
       "\n",
       "    .dataframe tbody tr th {\n",
       "        vertical-align: top;\n",
       "    }\n",
       "\n",
       "    .dataframe thead th {\n",
       "        text-align: right;\n",
       "    }\n",
       "</style>\n",
       "<table border=\"1\" class=\"dataframe\">\n",
       "  <thead>\n",
       "    <tr style=\"text-align: right;\">\n",
       "      <th></th>\n",
       "      <th>brand</th>\n",
       "      <th>total_reviews</th>\n",
       "      <th>avg_rating</th>\n",
       "      <th>ratings</th>\n",
       "      <th>sent_breakdown</th>\n",
       "    </tr>\n",
       "  </thead>\n",
       "  <tbody>\n",
       "    <tr>\n",
       "      <th>0</th>\n",
       "      <td>Vital Nutrients</td>\n",
       "      <td>5</td>\n",
       "      <td>5.000000</td>\n",
       "      <td>[{'avg_rating': '5,', 'count': 2}]</td>\n",
       "      <td>[{'sentiment': 'positive', 'count': 1.0}]</td>\n",
       "    </tr>\n",
       "    <tr>\n",
       "      <th>1</th>\n",
       "      <td>NaturesPlus</td>\n",
       "      <td>35914</td>\n",
       "      <td>5.000000</td>\n",
       "      <td>[{'avg_rating': '5,', 'count': 2}]</td>\n",
       "      <td>[{'sentiment': 'positive', 'count': 0.97297297...</td>\n",
       "    </tr>\n",
       "    <tr>\n",
       "      <th>2</th>\n",
       "      <td>Sambucol</td>\n",
       "      <td>23706</td>\n",
       "      <td>4.875000</td>\n",
       "      <td>[{'avg_rating': '5,', 'count': 1}, {'avg_ratin...</td>\n",
       "      <td>[{'sentiment': 'positive', 'count': 0.89655172...</td>\n",
       "    </tr>\n",
       "    <tr>\n",
       "      <th>3</th>\n",
       "      <td>Garden of Life</td>\n",
       "      <td>41256</td>\n",
       "      <td>4.833333</td>\n",
       "      <td>[{'avg_rating': '4.75,', 'count': 2}, {'avg_ra...</td>\n",
       "      <td>[{'sentiment': 'positive', 'count': 0.98245614...</td>\n",
       "    </tr>\n",
       "    <tr>\n",
       "      <th>4</th>\n",
       "      <td>Doctor's Best</td>\n",
       "      <td>219661</td>\n",
       "      <td>4.791667</td>\n",
       "      <td>[{'avg_rating': '4.75,', 'count': 3}, {'avg_ra...</td>\n",
       "      <td>[{'sentiment': 'positive', 'count': 0.96638655...</td>\n",
       "    </tr>\n",
       "    <tr>\n",
       "      <th>5</th>\n",
       "      <td>NutriBiotic</td>\n",
       "      <td>123684</td>\n",
       "      <td>4.785714</td>\n",
       "      <td>[{'avg_rating': '4.75,', 'count': 4}, {'avg_ra...</td>\n",
       "      <td>[{'sentiment': 'positive', 'count': 0.89928057...</td>\n",
       "    </tr>\n",
       "    <tr>\n",
       "      <th>6</th>\n",
       "      <td>Apex</td>\n",
       "      <td>13287</td>\n",
       "      <td>4.750000</td>\n",
       "      <td>[{'avg_rating': '4.75,', 'count': 1}]</td>\n",
       "      <td>[{'sentiment': 'positive', 'count': 1.0}]</td>\n",
       "    </tr>\n",
       "    <tr>\n",
       "      <th>7</th>\n",
       "      <td>21st Century</td>\n",
       "      <td>10823</td>\n",
       "      <td>4.750000</td>\n",
       "      <td>[{'avg_rating': '4.75,', 'count': 2}]</td>\n",
       "      <td>[{'sentiment': 'positive', 'count': 0.975}, {'...</td>\n",
       "    </tr>\n",
       "    <tr>\n",
       "      <th>8</th>\n",
       "      <td>Eclectic Herb</td>\n",
       "      <td>847</td>\n",
       "      <td>4.750000</td>\n",
       "      <td>[{'avg_rating': '4.75,', 'count': 2}]</td>\n",
       "      <td>[{'sentiment': 'positive', 'count': 0.825}, {'...</td>\n",
       "    </tr>\n",
       "    <tr>\n",
       "      <th>9</th>\n",
       "      <td>Earthtone Foods</td>\n",
       "      <td>5915</td>\n",
       "      <td>4.750000</td>\n",
       "      <td>[{'avg_rating': '4.75,', 'count': 1}]</td>\n",
       "      <td>[{'sentiment': 'positive', 'count': 0.95}, {'s...</td>\n",
       "    </tr>\n",
       "  </tbody>\n",
       "</table>\n",
       "</div>"
      ],
      "text/plain": [
       "             brand  total_reviews  avg_rating  \\\n",
       "0  Vital Nutrients              5    5.000000   \n",
       "1      NaturesPlus          35914    5.000000   \n",
       "2         Sambucol          23706    4.875000   \n",
       "3   Garden of Life          41256    4.833333   \n",
       "4    Doctor's Best         219661    4.791667   \n",
       "5      NutriBiotic         123684    4.785714   \n",
       "6             Apex          13287    4.750000   \n",
       "7     21st Century          10823    4.750000   \n",
       "8    Eclectic Herb            847    4.750000   \n",
       "9  Earthtone Foods           5915    4.750000   \n",
       "\n",
       "                                             ratings  \\\n",
       "0                 [{'avg_rating': '5,', 'count': 2}]   \n",
       "1                 [{'avg_rating': '5,', 'count': 2}]   \n",
       "2  [{'avg_rating': '5,', 'count': 1}, {'avg_ratin...   \n",
       "3  [{'avg_rating': '4.75,', 'count': 2}, {'avg_ra...   \n",
       "4  [{'avg_rating': '4.75,', 'count': 3}, {'avg_ra...   \n",
       "5  [{'avg_rating': '4.75,', 'count': 4}, {'avg_ra...   \n",
       "6              [{'avg_rating': '4.75,', 'count': 1}]   \n",
       "7              [{'avg_rating': '4.75,', 'count': 2}]   \n",
       "8              [{'avg_rating': '4.75,', 'count': 2}]   \n",
       "9              [{'avg_rating': '4.75,', 'count': 1}]   \n",
       "\n",
       "                                      sent_breakdown  \n",
       "0          [{'sentiment': 'positive', 'count': 1.0}]  \n",
       "1  [{'sentiment': 'positive', 'count': 0.97297297...  \n",
       "2  [{'sentiment': 'positive', 'count': 0.89655172...  \n",
       "3  [{'sentiment': 'positive', 'count': 0.98245614...  \n",
       "4  [{'sentiment': 'positive', 'count': 0.96638655...  \n",
       "5  [{'sentiment': 'positive', 'count': 0.89928057...  \n",
       "6          [{'sentiment': 'positive', 'count': 1.0}]  \n",
       "7  [{'sentiment': 'positive', 'count': 0.975}, {'...  \n",
       "8  [{'sentiment': 'positive', 'count': 0.825}, {'...  \n",
       "9  [{'sentiment': 'positive', 'count': 0.95}, {'s...  "
      ]
     },
     "execution_count": 101,
     "metadata": {},
     "output_type": "execute_result"
    }
   ],
   "source": [
    "ratings = []\n",
    "sent = []\n",
    "for b in temp.brand:\n",
    "    ct = file[file.brand == b].groupby('name').agg({'avg_rating': 'first'}).reset_index()['avg_rating'].value_counts().reset_index()\n",
    "    ratings.append(ct.to_dict('records'))\n",
    "    s = file[file.brand == b].sentiment.value_counts()/file[file.brand == b].shape[0]\n",
    "    sent.append(s.reset_index().to_dict('records'))\n",
    "\n",
    "temp['ratings'] = ratings\n",
    "temp['sent_breakdown'] = sent\n",
    "\n",
    "temp"
   ]
  },
  {
   "cell_type": "markdown",
   "metadata": {},
   "source": [
    "#### <font color = '#8900e9'> **match USLD** </font>"
   ]
  },
  {
   "cell_type": "code",
   "execution_count": 102,
   "metadata": {},
   "outputs": [],
   "source": [
    "usld = pd.read_csv('~/scrapfly-scrapers/iherb-scraper/results/california_poppy_usld.csv')\n",
    "\n",
    "for col in usld.columns:\n",
    "    usld[col] = usld[col].apply(lambda x: x.strip(\"[]\"))\n",
    "    usld[col] = usld[col].apply(lambda x: x.replace(\"'\", \"\"))\n",
    "\n",
    "col = ['netContents', 'claims', 'allIngredients']\n",
    "def strip_all(x):\n",
    "    return x.strip(\" {} \")\n",
    "\n",
    "def str2dict(x):\n",
    "    try:\n",
    "        sub_entries = x.strip(' {} ').split('},')\n",
    "        parsed_list = []\n",
    "        for sub in sub_entries:\n",
    "            sub_dict = {}\n",
    "            for pair in sub.split(','):\n",
    "                try:\n",
    "                    key, value = map(strip_all, pair.split(':', 1))  # only split the first colon\n",
    "                    sub_dict[key] = value\n",
    "                except ValueError:\n",
    "                    pass  \n",
    "            parsed_list.append(sub_dict)\n",
    "        return parsed_list\n",
    "    except AttributeError:\n",
    "        return []\n",
    "    \n",
    "for c in col:\n",
    "    usld[c] = usld[c].apply(str2dict)\n",
    "\n",
    "usld.to_csv('california_poppy_usld_cleaned.csv', index = False)"
   ]
  },
  {
   "cell_type": "code",
   "execution_count": 103,
   "metadata": {},
   "outputs": [
    {
     "data": {
      "text/html": [
       "<div>\n",
       "<style scoped>\n",
       "    .dataframe tbody tr th:only-of-type {\n",
       "        vertical-align: middle;\n",
       "    }\n",
       "\n",
       "    .dataframe tbody tr th {\n",
       "        vertical-align: top;\n",
       "    }\n",
       "\n",
       "    .dataframe thead th {\n",
       "        text-align: right;\n",
       "    }\n",
       "</style>\n",
       "<table border=\"1\" class=\"dataframe\">\n",
       "  <thead>\n",
       "    <tr style=\"text-align: right;\">\n",
       "      <th></th>\n",
       "      <th>brand</th>\n",
       "      <th>total_reviews</th>\n",
       "      <th>avg_rating</th>\n",
       "    </tr>\n",
       "  </thead>\n",
       "  <tbody>\n",
       "    <tr>\n",
       "      <th>0</th>\n",
       "      <td>Eclectic Herb</td>\n",
       "      <td>847</td>\n",
       "      <td>4.750000</td>\n",
       "    </tr>\n",
       "    <tr>\n",
       "      <th>1</th>\n",
       "      <td>California Gold Nutrition</td>\n",
       "      <td>2733482</td>\n",
       "      <td>4.710000</td>\n",
       "    </tr>\n",
       "    <tr>\n",
       "      <th>2</th>\n",
       "      <td>Gaia Herbs</td>\n",
       "      <td>651</td>\n",
       "      <td>4.700000</td>\n",
       "    </tr>\n",
       "    <tr>\n",
       "      <th>3</th>\n",
       "      <td>Crystal Star</td>\n",
       "      <td>47</td>\n",
       "      <td>4.500000</td>\n",
       "    </tr>\n",
       "    <tr>\n",
       "      <th>4</th>\n",
       "      <td>Bio Nutrition</td>\n",
       "      <td>48</td>\n",
       "      <td>4.500000</td>\n",
       "    </tr>\n",
       "    <tr>\n",
       "      <th>5</th>\n",
       "      <td>Herb Pharm</td>\n",
       "      <td>604</td>\n",
       "      <td>4.375000</td>\n",
       "    </tr>\n",
       "    <tr>\n",
       "      <th>6</th>\n",
       "      <td>Herbs Etc.</td>\n",
       "      <td>545</td>\n",
       "      <td>4.166667</td>\n",
       "    </tr>\n",
       "  </tbody>\n",
       "</table>\n",
       "</div>"
      ],
      "text/plain": [
       "                       brand  total_reviews  avg_rating\n",
       "0              Eclectic Herb            847    4.750000\n",
       "1  California Gold Nutrition        2733482    4.710000\n",
       "2                 Gaia Herbs            651    4.700000\n",
       "3               Crystal Star             47    4.500000\n",
       "4              Bio Nutrition             48    4.500000\n",
       "5                 Herb Pharm            604    4.375000\n",
       "6                 Herbs Etc.            545    4.166667"
      ]
     },
     "execution_count": 103,
     "metadata": {},
     "output_type": "execute_result"
    }
   ],
   "source": [
    "brands = usld[usld.offMarket == '0'].brandName.unique()\n",
    "brands = '|'.join(brands)\n",
    "\n",
    "file = file.dropna(subset = ['brand'])\n",
    "file_v = file[file.brand.str.contains(brands)]\n",
    "temp = file_v.groupby('name').agg({'brand':'first','total_reviews':'first', 'avg_rating':'first'}).reset_index()\n",
    "temp['avg_rating'] = temp.avg_rating.apply(lambda x: float(x.rstrip(',')))\n",
    "temp = temp.groupby('brand').agg({'total_reviews':'sum', 'avg_rating':'mean'}).sort_values('avg_rating', ascending = False).head(10).reset_index()\n",
    "temp"
   ]
  },
  {
   "cell_type": "code",
   "execution_count": 105,
   "metadata": {},
   "outputs": [
    {
     "name": "stdout",
     "output_type": "stream",
     "text": [
      "Eclectic Herb\n",
      "[{'avg_rating': '4.75,', 'count': 2}]\n",
      "[{'sentiment': 'positive', 'count': 0.825}, {'sentiment': 'negative', 'count': 0.15}, {'sentiment': 'neutral', 'count': 0.025}]\n",
      "California Gold Nutrition\n",
      "[{'avg_rating': '4.75,', 'count': 38}, {'avg_rating': '4.5,', 'count': 10}, {'avg_rating': '5,', 'count': 2}]\n",
      "[{'sentiment': 'positive', 'count': 0.9620390455531453}, {'sentiment': 'negative', 'count': 0.03036876355748373}, {'sentiment': 'neutral', 'count': 0.007592190889370932}]\n",
      "Gaia Herbs\n",
      "[{'avg_rating': '4.75,', 'count': 2}, {'avg_rating': '4.5,', 'count': 2}, {'avg_rating': '5,', 'count': 1}]\n",
      "[{'sentiment': 'positive', 'count': 0.810126582278481}, {'sentiment': 'negative', 'count': 0.13924050632911392}, {'sentiment': 'neutral', 'count': 0.05063291139240506}]\n",
      "Crystal Star\n",
      "[{'avg_rating': '4.5,', 'count': 1}]\n",
      "[{'sentiment': 'positive', 'count': 0.7}, {'sentiment': 'neutral', 'count': 0.3}]\n",
      "Bio Nutrition\n",
      "[{'avg_rating': '4.5,', 'count': 1}]\n",
      "[{'sentiment': 'positive', 'count': 0.9}, {'sentiment': 'negative', 'count': 0.1}]\n",
      "Herb Pharm\n",
      "[{'avg_rating': '4.25,', 'count': 3}, {'avg_rating': '4.75,', 'count': 1}]\n",
      "[{'sentiment': 'positive', 'count': 0.8428571428571429}, {'sentiment': 'negative', 'count': 0.1}, {'sentiment': 'neutral', 'count': 0.05714285714285714}]\n",
      "Herbs Etc.\n",
      "[{'avg_rating': '3.5,', 'count': 1}, {'avg_rating': '4.25,', 'count': 1}, {'avg_rating': '4.75,', 'count': 1}]\n",
      "[{'sentiment': 'positive', 'count': 0.8378378378378378}, {'sentiment': 'neutral', 'count': 0.08108108108108109}, {'sentiment': 'negative', 'count': 0.08108108108108109}]\n"
     ]
    }
   ],
   "source": [
    "ratings = []\n",
    "sent = []\n",
    "for b in temp.brand:\n",
    "    ct = file[file.brand == b].groupby('name').agg({'avg_rating': 'first'}).reset_index()['avg_rating'].value_counts().reset_index()\n",
    "    ratings.append(ct.to_dict('records'))\n",
    "    s = file[file.brand == b].sentiment.value_counts()/file[file.brand == b].shape[0]\n",
    "    sent.append(s.reset_index().to_dict('records'))\n",
    "\n",
    "temp['ratings'] = ratings\n",
    "temp['sent_breakdown'] = sent\n",
    "\n",
    "for i in range(len(temp)):\n",
    "    print(temp.brand[i])\n",
    "    print(temp.ratings[i])\n",
    "    print(temp.sent_breakdown[i])"
   ]
  },
  {
   "cell_type": "code",
   "execution_count": 17,
   "metadata": {},
   "outputs": [
    {
     "name": "stdout",
     "output_type": "stream",
     "text": [
      "Eclectic Herb\n"
     ]
    },
    {
     "data": {
      "text/html": [
       "<div>\n",
       "<style scoped>\n",
       "    .dataframe tbody tr th:only-of-type {\n",
       "        vertical-align: middle;\n",
       "    }\n",
       "\n",
       "    .dataframe tbody tr th {\n",
       "        vertical-align: top;\n",
       "    }\n",
       "\n",
       "    .dataframe thead th {\n",
       "        text-align: right;\n",
       "    }\n",
       "</style>\n",
       "<table border=\"1\" class=\"dataframe\">\n",
       "  <thead>\n",
       "    <tr style=\"text-align: right;\">\n",
       "      <th></th>\n",
       "      <th>_id</th>\n",
       "      <th>fullName</th>\n",
       "      <th>brandName</th>\n",
       "      <th>langualCode</th>\n",
       "      <th>langualCodeDescription</th>\n",
       "      <th>allIngredients</th>\n",
       "      <th>netContents</th>\n",
       "      <th>claims</th>\n",
       "      <th>offMarket</th>\n",
       "    </tr>\n",
       "  </thead>\n",
       "  <tbody>\n",
       "    <tr>\n",
       "      <th>23</th>\n",
       "      <td>294667</td>\n",
       "      <td>California Poppy</td>\n",
       "      <td>Eclectic Herb</td>\n",
       "      <td>E0165, A1306</td>\n",
       "      <td>Liquid, Botanical</td>\n",
       "      <td>[{'ingredientGroup': 'California Poppy', 'note...</td>\n",
       "      <td>[{'unit': 'Fluid Ounce(s)', 'quantity': '2', '...</td>\n",
       "      <td>[{'langualCodeDescription': 'All Other', 'lang...</td>\n",
       "      <td>0</td>\n",
       "    </tr>\n",
       "    <tr>\n",
       "      <th>48</th>\n",
       "      <td>316752</td>\n",
       "      <td>California Poppy</td>\n",
       "      <td>Eclectic Herb</td>\n",
       "      <td>E0165, A1306</td>\n",
       "      <td>Liquid, Botanical</td>\n",
       "      <td>[{'ingredientGroup': 'California Poppy', 'note...</td>\n",
       "      <td>[{'unit': 'Fluid Ounce(s)', 'quantity': '2', '...</td>\n",
       "      <td>[{'langualCodeDescription': 'All Other', 'lang...</td>\n",
       "      <td>0</td>\n",
       "    </tr>\n",
       "  </tbody>\n",
       "</table>\n",
       "</div>"
      ],
      "text/plain": [
       "       _id          fullName      brandName   langualCode  \\\n",
       "23  294667  California Poppy  Eclectic Herb  E0165, A1306   \n",
       "48  316752  California Poppy  Eclectic Herb  E0165, A1306   \n",
       "\n",
       "   langualCodeDescription                                     allIngredients  \\\n",
       "23      Liquid, Botanical  [{'ingredientGroup': 'California Poppy', 'note...   \n",
       "48      Liquid, Botanical  [{'ingredientGroup': 'California Poppy', 'note...   \n",
       "\n",
       "                                          netContents  \\\n",
       "23  [{'unit': 'Fluid Ounce(s)', 'quantity': '2', '...   \n",
       "48  [{'unit': 'Fluid Ounce(s)', 'quantity': '2', '...   \n",
       "\n",
       "                                               claims offMarket  \n",
       "23  [{'langualCodeDescription': 'All Other', 'lang...         0  \n",
       "48  [{'langualCodeDescription': 'All Other', 'lang...         0  "
      ]
     },
     "metadata": {},
     "output_type": "display_data"
    },
    {
     "name": "stdout",
     "output_type": "stream",
     "text": [
      "California Gold Nutrition\n"
     ]
    },
    {
     "data": {
      "text/html": [
       "<div>\n",
       "<style scoped>\n",
       "    .dataframe tbody tr th:only-of-type {\n",
       "        vertical-align: middle;\n",
       "    }\n",
       "\n",
       "    .dataframe tbody tr th {\n",
       "        vertical-align: top;\n",
       "    }\n",
       "\n",
       "    .dataframe thead th {\n",
       "        text-align: right;\n",
       "    }\n",
       "</style>\n",
       "<table border=\"1\" class=\"dataframe\">\n",
       "  <thead>\n",
       "    <tr style=\"text-align: right;\">\n",
       "      <th></th>\n",
       "      <th>_id</th>\n",
       "      <th>fullName</th>\n",
       "      <th>brandName</th>\n",
       "      <th>langualCode</th>\n",
       "      <th>langualCodeDescription</th>\n",
       "      <th>allIngredients</th>\n",
       "      <th>netContents</th>\n",
       "      <th>claims</th>\n",
       "      <th>offMarket</th>\n",
       "    </tr>\n",
       "  </thead>\n",
       "  <tbody>\n",
       "    <tr>\n",
       "      <th>273</th>\n",
       "      <td>273321</td>\n",
       "      <td>CoQ10 100 mg with PQQ</td>\n",
       "      <td>California Gold Nutrition</td>\n",
       "      <td>E0161, A1309</td>\n",
       "      <td>Softgel Capsule, Non-Nutrient/Non-Botanical</td>\n",
       "      <td>[{'ingredientGroup': 'Coenzyme Q-10', 'notes':...</td>\n",
       "      <td>[{'unit': 'Veggie Softgel(s)', 'quantity': '24...</td>\n",
       "      <td>[{'langualCodeDescription': 'All Other', 'lang...</td>\n",
       "      <td>0</td>\n",
       "    </tr>\n",
       "    <tr>\n",
       "      <th>277</th>\n",
       "      <td>273873</td>\n",
       "      <td>EpiCor Dried Yeast Fermentate 500 mg</td>\n",
       "      <td>California Gold Nutrition</td>\n",
       "      <td>E0159, A1306</td>\n",
       "      <td>Capsule, Botanical</td>\n",
       "      <td>[{'ingredientGroup': 'Saccharomyces cerevisiae...</td>\n",
       "      <td>[{'unit': 'Veggie Capsule(s)', 'quantity': '36...</td>\n",
       "      <td>[{'langualCodeDescription': 'All Other', 'lang...</td>\n",
       "      <td>0</td>\n",
       "    </tr>\n",
       "  </tbody>\n",
       "</table>\n",
       "</div>"
      ],
      "text/plain": [
       "        _id                              fullName                  brandName  \\\n",
       "273  273321                 CoQ10 100 mg with PQQ  California Gold Nutrition   \n",
       "277  273873  EpiCor Dried Yeast Fermentate 500 mg  California Gold Nutrition   \n",
       "\n",
       "      langualCode                       langualCodeDescription  \\\n",
       "273  E0161, A1309  Softgel Capsule, Non-Nutrient/Non-Botanical   \n",
       "277  E0159, A1306                           Capsule, Botanical   \n",
       "\n",
       "                                        allIngredients  \\\n",
       "273  [{'ingredientGroup': 'Coenzyme Q-10', 'notes':...   \n",
       "277  [{'ingredientGroup': 'Saccharomyces cerevisiae...   \n",
       "\n",
       "                                           netContents  \\\n",
       "273  [{'unit': 'Veggie Softgel(s)', 'quantity': '24...   \n",
       "277  [{'unit': 'Veggie Capsule(s)', 'quantity': '36...   \n",
       "\n",
       "                                                claims offMarket  \n",
       "273  [{'langualCodeDescription': 'All Other', 'lang...         0  \n",
       "277  [{'langualCodeDescription': 'All Other', 'lang...         0  "
      ]
     },
     "metadata": {},
     "output_type": "display_data"
    },
    {
     "name": "stdout",
     "output_type": "stream",
     "text": [
      "Gaia Herbs\n"
     ]
    },
    {
     "data": {
      "text/html": [
       "<div>\n",
       "<style scoped>\n",
       "    .dataframe tbody tr th:only-of-type {\n",
       "        vertical-align: middle;\n",
       "    }\n",
       "\n",
       "    .dataframe tbody tr th {\n",
       "        vertical-align: top;\n",
       "    }\n",
       "\n",
       "    .dataframe thead th {\n",
       "        text-align: right;\n",
       "    }\n",
       "</style>\n",
       "<table border=\"1\" class=\"dataframe\">\n",
       "  <thead>\n",
       "    <tr style=\"text-align: right;\">\n",
       "      <th></th>\n",
       "      <th>_id</th>\n",
       "      <th>fullName</th>\n",
       "      <th>brandName</th>\n",
       "      <th>langualCode</th>\n",
       "      <th>langualCodeDescription</th>\n",
       "      <th>allIngredients</th>\n",
       "      <th>netContents</th>\n",
       "      <th>claims</th>\n",
       "      <th>offMarket</th>\n",
       "    </tr>\n",
       "  </thead>\n",
       "  <tbody>\n",
       "    <tr>\n",
       "      <th>15</th>\n",
       "      <td>209724</td>\n",
       "      <td>Valerian Poppy Supreme</td>\n",
       "      <td>Gaia Herbs</td>\n",
       "      <td>E0165, A1306</td>\n",
       "      <td>Liquid, Botanical</td>\n",
       "      <td>[{'ingredientGroup': 'Proprietary Blend (Herb/...</td>\n",
       "      <td>[{'unit': 'fl. Oz.', 'quantity': '1', 'display...</td>\n",
       "      <td>[{'langualCodeDescription': 'All Other', 'lang...</td>\n",
       "      <td>0</td>\n",
       "    </tr>\n",
       "    <tr>\n",
       "      <th>33</th>\n",
       "      <td>209487</td>\n",
       "      <td>California Poppy</td>\n",
       "      <td>Gaia Herbs</td>\n",
       "      <td>E0165, A1306</td>\n",
       "      <td>Liquid, Botanical</td>\n",
       "      <td>[{'ingredientGroup': 'California Poppy', 'note...</td>\n",
       "      <td>[{'unit': 'fl. Oz.', 'quantity': '4', 'display...</td>\n",
       "      <td>[{'langualCodeDescription': 'All Other', 'lang...</td>\n",
       "      <td>0</td>\n",
       "    </tr>\n",
       "  </tbody>\n",
       "</table>\n",
       "</div>"
      ],
      "text/plain": [
       "       _id                fullName   brandName   langualCode  \\\n",
       "15  209724  Valerian Poppy Supreme  Gaia Herbs  E0165, A1306   \n",
       "33  209487        California Poppy  Gaia Herbs  E0165, A1306   \n",
       "\n",
       "   langualCodeDescription                                     allIngredients  \\\n",
       "15      Liquid, Botanical  [{'ingredientGroup': 'Proprietary Blend (Herb/...   \n",
       "33      Liquid, Botanical  [{'ingredientGroup': 'California Poppy', 'note...   \n",
       "\n",
       "                                          netContents  \\\n",
       "15  [{'unit': 'fl. Oz.', 'quantity': '1', 'display...   \n",
       "33  [{'unit': 'fl. Oz.', 'quantity': '4', 'display...   \n",
       "\n",
       "                                               claims offMarket  \n",
       "15  [{'langualCodeDescription': 'All Other', 'lang...         0  \n",
       "33  [{'langualCodeDescription': 'All Other', 'lang...         0  "
      ]
     },
     "metadata": {},
     "output_type": "display_data"
    },
    {
     "name": "stdout",
     "output_type": "stream",
     "text": [
      "Crystal Star\n"
     ]
    },
    {
     "data": {
      "text/html": [
       "<div>\n",
       "<style scoped>\n",
       "    .dataframe tbody tr th:only-of-type {\n",
       "        vertical-align: middle;\n",
       "    }\n",
       "\n",
       "    .dataframe tbody tr th {\n",
       "        vertical-align: top;\n",
       "    }\n",
       "\n",
       "    .dataframe thead th {\n",
       "        text-align: right;\n",
       "    }\n",
       "</style>\n",
       "<table border=\"1\" class=\"dataframe\">\n",
       "  <thead>\n",
       "    <tr style=\"text-align: right;\">\n",
       "      <th></th>\n",
       "      <th>_id</th>\n",
       "      <th>fullName</th>\n",
       "      <th>brandName</th>\n",
       "      <th>langualCode</th>\n",
       "      <th>langualCodeDescription</th>\n",
       "      <th>allIngredients</th>\n",
       "      <th>netContents</th>\n",
       "      <th>claims</th>\n",
       "      <th>offMarket</th>\n",
       "    </tr>\n",
       "  </thead>\n",
       "  <tbody>\n",
       "    <tr>\n",
       "      <th>141</th>\n",
       "      <td>243868</td>\n",
       "      <td>Night Caps</td>\n",
       "      <td>Crystal Star</td>\n",
       "      <td>E0159, A1325</td>\n",
       "      <td>Capsule, Other Combinations</td>\n",
       "      <td>[{'ingredientGroup': 'Proprietary Blend (Combi...</td>\n",
       "      <td>[{'unit': 'Vegetarian Capsule(s)', 'quantity':...</td>\n",
       "      <td>[{'langualCodeDescription': 'All Other', 'lang...</td>\n",
       "      <td>0</td>\n",
       "    </tr>\n",
       "  </tbody>\n",
       "</table>\n",
       "</div>"
      ],
      "text/plain": [
       "        _id    fullName     brandName   langualCode  \\\n",
       "141  243868  Night Caps  Crystal Star  E0159, A1325   \n",
       "\n",
       "          langualCodeDescription  \\\n",
       "141  Capsule, Other Combinations   \n",
       "\n",
       "                                        allIngredients  \\\n",
       "141  [{'ingredientGroup': 'Proprietary Blend (Combi...   \n",
       "\n",
       "                                           netContents  \\\n",
       "141  [{'unit': 'Vegetarian Capsule(s)', 'quantity':...   \n",
       "\n",
       "                                                claims offMarket  \n",
       "141  [{'langualCodeDescription': 'All Other', 'lang...         0  "
      ]
     },
     "metadata": {},
     "output_type": "display_data"
    },
    {
     "name": "stdout",
     "output_type": "stream",
     "text": [
      "Bio Nutrition\n"
     ]
    },
    {
     "data": {
      "text/html": [
       "<div>\n",
       "<style scoped>\n",
       "    .dataframe tbody tr th:only-of-type {\n",
       "        vertical-align: middle;\n",
       "    }\n",
       "\n",
       "    .dataframe tbody tr th {\n",
       "        vertical-align: top;\n",
       "    }\n",
       "\n",
       "    .dataframe thead th {\n",
       "        text-align: right;\n",
       "    }\n",
       "</style>\n",
       "<table border=\"1\" class=\"dataframe\">\n",
       "  <thead>\n",
       "    <tr style=\"text-align: right;\">\n",
       "      <th></th>\n",
       "      <th>_id</th>\n",
       "      <th>fullName</th>\n",
       "      <th>brandName</th>\n",
       "      <th>langualCode</th>\n",
       "      <th>langualCodeDescription</th>\n",
       "      <th>allIngredients</th>\n",
       "      <th>netContents</th>\n",
       "      <th>claims</th>\n",
       "      <th>offMarket</th>\n",
       "    </tr>\n",
       "  </thead>\n",
       "  <tbody>\n",
       "    <tr>\n",
       "      <th>2</th>\n",
       "      <td>200561</td>\n",
       "      <td>California Poppy Seed</td>\n",
       "      <td>Bio Nutrition</td>\n",
       "      <td>E0159, A1306</td>\n",
       "      <td>Capsule, Botanical</td>\n",
       "      <td>[{'ingredientGroup': 'California Poppy', 'note...</td>\n",
       "      <td>[{'unit': 'Vegetarian Capsule(s)', 'quantity':...</td>\n",
       "      <td>[{'langualCodeDescription': 'All Other', 'lang...</td>\n",
       "      <td>0</td>\n",
       "    </tr>\n",
       "  </tbody>\n",
       "</table>\n",
       "</div>"
      ],
      "text/plain": [
       "      _id               fullName      brandName   langualCode  \\\n",
       "2  200561  California Poppy Seed  Bio Nutrition  E0159, A1306   \n",
       "\n",
       "  langualCodeDescription                                     allIngredients  \\\n",
       "2     Capsule, Botanical  [{'ingredientGroup': 'California Poppy', 'note...   \n",
       "\n",
       "                                         netContents  \\\n",
       "2  [{'unit': 'Vegetarian Capsule(s)', 'quantity':...   \n",
       "\n",
       "                                              claims offMarket  \n",
       "2  [{'langualCodeDescription': 'All Other', 'lang...         0  "
      ]
     },
     "metadata": {},
     "output_type": "display_data"
    },
    {
     "name": "stdout",
     "output_type": "stream",
     "text": [
      "Herb Pharm\n"
     ]
    },
    {
     "data": {
      "text/html": [
       "<div>\n",
       "<style scoped>\n",
       "    .dataframe tbody tr th:only-of-type {\n",
       "        vertical-align: middle;\n",
       "    }\n",
       "\n",
       "    .dataframe tbody tr th {\n",
       "        vertical-align: top;\n",
       "    }\n",
       "\n",
       "    .dataframe thead th {\n",
       "        text-align: right;\n",
       "    }\n",
       "</style>\n",
       "<table border=\"1\" class=\"dataframe\">\n",
       "  <thead>\n",
       "    <tr style=\"text-align: right;\">\n",
       "      <th></th>\n",
       "      <th>_id</th>\n",
       "      <th>fullName</th>\n",
       "      <th>brandName</th>\n",
       "      <th>langualCode</th>\n",
       "      <th>langualCodeDescription</th>\n",
       "      <th>allIngredients</th>\n",
       "      <th>netContents</th>\n",
       "      <th>claims</th>\n",
       "      <th>offMarket</th>\n",
       "    </tr>\n",
       "  </thead>\n",
       "  <tbody>\n",
       "    <tr>\n",
       "      <th>3</th>\n",
       "      <td>203399</td>\n",
       "      <td>California Poppy</td>\n",
       "      <td>Herb Pharm</td>\n",
       "      <td>E0165, A1306</td>\n",
       "      <td>Liquid, Botanical</td>\n",
       "      <td>[{'ingredientGroup': 'California Poppy', 'note...</td>\n",
       "      <td>[{'unit': 'fl. Oz.', 'quantity': '4', 'display...</td>\n",
       "      <td>[{'langualCodeDescription': 'All Other', 'lang...</td>\n",
       "      <td>0</td>\n",
       "    </tr>\n",
       "    <tr>\n",
       "      <th>4</th>\n",
       "      <td>203940</td>\n",
       "      <td>California Poppy</td>\n",
       "      <td>Herb Pharm</td>\n",
       "      <td>E0165, A1306</td>\n",
       "      <td>Liquid, Botanical</td>\n",
       "      <td>[{'ingredientGroup': 'California Poppy', 'note...</td>\n",
       "      <td>[{'unit': 'fl. Oz.', 'quantity': '1', 'display...</td>\n",
       "      <td>[{'langualCodeDescription': 'All Other', 'lang...</td>\n",
       "      <td>0</td>\n",
       "    </tr>\n",
       "  </tbody>\n",
       "</table>\n",
       "</div>"
      ],
      "text/plain": [
       "      _id          fullName   brandName   langualCode langualCodeDescription  \\\n",
       "3  203399  California Poppy  Herb Pharm  E0165, A1306      Liquid, Botanical   \n",
       "4  203940  California Poppy  Herb Pharm  E0165, A1306      Liquid, Botanical   \n",
       "\n",
       "                                      allIngredients  \\\n",
       "3  [{'ingredientGroup': 'California Poppy', 'note...   \n",
       "4  [{'ingredientGroup': 'California Poppy', 'note...   \n",
       "\n",
       "                                         netContents  \\\n",
       "3  [{'unit': 'fl. Oz.', 'quantity': '4', 'display...   \n",
       "4  [{'unit': 'fl. Oz.', 'quantity': '1', 'display...   \n",
       "\n",
       "                                              claims offMarket  \n",
       "3  [{'langualCodeDescription': 'All Other', 'lang...         0  \n",
       "4  [{'langualCodeDescription': 'All Other', 'lang...         0  "
      ]
     },
     "metadata": {},
     "output_type": "display_data"
    },
    {
     "name": "stdout",
     "output_type": "stream",
     "text": [
      "Herbs Etc.\n"
     ]
    },
    {
     "data": {
      "text/html": [
       "<div>\n",
       "<style scoped>\n",
       "    .dataframe tbody tr th:only-of-type {\n",
       "        vertical-align: middle;\n",
       "    }\n",
       "\n",
       "    .dataframe tbody tr th {\n",
       "        vertical-align: top;\n",
       "    }\n",
       "\n",
       "    .dataframe thead th {\n",
       "        text-align: right;\n",
       "    }\n",
       "</style>\n",
       "<table border=\"1\" class=\"dataframe\">\n",
       "  <thead>\n",
       "    <tr style=\"text-align: right;\">\n",
       "      <th></th>\n",
       "      <th>_id</th>\n",
       "      <th>fullName</th>\n",
       "      <th>brandName</th>\n",
       "      <th>langualCode</th>\n",
       "      <th>langualCodeDescription</th>\n",
       "      <th>allIngredients</th>\n",
       "      <th>netContents</th>\n",
       "      <th>claims</th>\n",
       "      <th>offMarket</th>\n",
       "    </tr>\n",
       "  </thead>\n",
       "  <tbody>\n",
       "    <tr>\n",
       "      <th>17</th>\n",
       "      <td>50195</td>\n",
       "      <td>California Poppy</td>\n",
       "      <td>Herbs Etc.</td>\n",
       "      <td>E0165, A1306</td>\n",
       "      <td>Liquid, Botanical</td>\n",
       "      <td>[{'ingredientGroup': 'California Poppy', 'note...</td>\n",
       "      <td>[{'unit': 'Fluid Ounce(s)', 'quantity': '8', '...</td>\n",
       "      <td>[{'langualCodeDescription': 'No Claim', 'langu...</td>\n",
       "      <td>0</td>\n",
       "    </tr>\n",
       "    <tr>\n",
       "      <th>235</th>\n",
       "      <td>182444</td>\n",
       "      <td>Deep Sleep</td>\n",
       "      <td>Herbs Etc.</td>\n",
       "      <td>E0161, A1306</td>\n",
       "      <td>Softgel Capsule, Botanical</td>\n",
       "      <td>[{'ingredientGroup': 'Header', 'notes': '', 'n...</td>\n",
       "      <td>[{'unit': 'Fast-Acting Softgel(s)', 'quantity'...</td>\n",
       "      <td>[{'langualCodeDescription': 'All Other', 'lang...</td>\n",
       "      <td>0</td>\n",
       "    </tr>\n",
       "  </tbody>\n",
       "</table>\n",
       "</div>"
      ],
      "text/plain": [
       "        _id          fullName   brandName   langualCode  \\\n",
       "17    50195  California Poppy  Herbs Etc.  E0165, A1306   \n",
       "235  182444        Deep Sleep  Herbs Etc.  E0161, A1306   \n",
       "\n",
       "         langualCodeDescription  \\\n",
       "17            Liquid, Botanical   \n",
       "235  Softgel Capsule, Botanical   \n",
       "\n",
       "                                        allIngredients  \\\n",
       "17   [{'ingredientGroup': 'California Poppy', 'note...   \n",
       "235  [{'ingredientGroup': 'Header', 'notes': '', 'n...   \n",
       "\n",
       "                                           netContents  \\\n",
       "17   [{'unit': 'Fluid Ounce(s)', 'quantity': '8', '...   \n",
       "235  [{'unit': 'Fast-Acting Softgel(s)', 'quantity'...   \n",
       "\n",
       "                                                claims offMarket  \n",
       "17   [{'langualCodeDescription': 'No Claim', 'langu...         0  \n",
       "235  [{'langualCodeDescription': 'All Other', 'lang...         0  "
      ]
     },
     "metadata": {},
     "output_type": "display_data"
    }
   ],
   "source": [
    "brand = temp.head(10).brand.to_list()\n",
    "for b in brand:\n",
    "    print(b)\n",
    "    display(usld[(usld.offMarket == '0') & (usld.brandName.apply(lambda x: x.strip() in b.strip()))].head(2))"
   ]
  },
  {
   "cell_type": "markdown",
   "metadata": {},
   "source": [
    "##### sent with vader"
   ]
  },
  {
   "cell_type": "code",
   "execution_count": null,
   "metadata": {},
   "outputs": [],
   "source": [
    "from vaderSentiment.vaderSentiment import SentimentIntensityAnalyzer\n",
    "file = file.dropna(subset = 'review_text').drop_duplicates(subset= ['sku', 'review_title', 'review_text']).reset_index(drop = True)\n",
    "analyzer = SentimentIntensityAnalyzer()\n",
    "vs = [analyzer.polarity_scores(sentence) for sentence in file['review_text']]\n",
    "\n",
    "file[list(vs[0].keys())] = [[v[k] for k in vs[0].keys()] for v in vs]\n",
    "file['sentiment'] = file.compound.apply(lambda x: 'positive' if x >= 0.05 else ('negative' if x <= -0.05 else 'neutral'))\n",
    "\n",
    "file.to_csv('Walmart_reviews_w_sentiment.csv', mode='a', index=False, header=True)\n",
    "file.to_excel('Walmart_reviews_w_sentiment.xlsx', index = False)"
   ]
  },
  {
   "cell_type": "code",
   "execution_count": null,
   "metadata": {},
   "outputs": [
    {
     "data": {
      "image/png": "[encoded data removed]",
      "text/plain": [
       "<Figure size 640x480 with 1 Axes>"
      ]
     },
     "metadata": {},
     "output_type": "display_data"
    }
   ],
   "source": [
    "import matplotlib.pyplot as plt\n",
    "fig, ax = plt.subplots()\n",
    "\n",
    "file.pred.value_counts().plot(kind='pie', autopct='%1.1f%%', ax=ax,)\n",
    "ax.set_ylabel('')\n",
    "ax.set_title('Sentiment Distribution of Walmart Reviews on California Poppy Products', size = 10)\n",
    "fig.savefig('sentiment_distribution_Walmart_transformer.png', dpi = 300)"
   ]
  },
  {
   "cell_type": "code",
   "execution_count": 25,
   "metadata": {},
   "outputs": [
    {
     "data": {
      "image/png": "[encoded data removed]",
      "text/plain": [
       "<Figure size 640x480 with 1 Axes>"
      ]
     },
     "metadata": {},
     "output_type": "display_data"
    }
   ],
   "source": [
    "import matplotlib.pyplot as plt\n",
    "fig, ax = plt.subplots()\n",
    "\n",
    "file.pred.value_counts().plot(kind='pie', autopct='%1.1f%%', ax=ax,)\n",
    "ax.set_ylabel('')\n",
    "ax.set_title('Sentiment Distribution of iherb Reviews on California Poppy Products', size = 10)\n",
    "fig.savefig('sentiment_distribution_iherb_transformer.png', dpi = 300)"
   ]
  },
  {
   "cell_type": "markdown",
   "metadata": {},
   "source": [
    "#### sent w/ Transformer"
   ]
  },
  {
   "cell_type": "code",
   "execution_count": null,
   "metadata": {},
   "outputs": [],
   "source": [
    "from transformers import AutoTokenizer\n",
    "from transformers import RobertaTokenizer\n",
    "from transformers import AutoModelForSequenceClassification\n",
    "from datasets import Dataset, load_dataset\n",
    "import torch\n",
    "import torch.nn as nn\n",
    "from torch.nn import functional as F\n",
    "from torch.utils.data import DataLoader\n",
    "from tqdm import tqdm\n",
    "import evaluate\n",
    "import numpy as np\n",
    "import matplotlib.pyplot as plt\n",
    "import seaborn as sns\n",
    "import os\n",
    "import text_cleaning\n",
    "import random\n",
    "import pandas as pd\n",
    "from collections import Counter\n",
    "import pickle\n",
    "import joblib\n",
    "import csv\n",
    "import json\n",
    "from copy import deepcopy\n",
    "import warnings\n",
    "import sklearn.exceptions\n",
    "warnings.filterwarnings('ignore', category=DeprecationWarning)\n",
    "warnings.filterwarnings('ignore', category=UserWarning)\n",
    "warnings.filterwarnings('ignore', category=FutureWarning)\n",
    "warnings.filterwarnings(\"ignore\", category=sklearn.exceptions.UndefinedMetricWarning)\n",
    "\n",
    "violet = '#702b9d'\n",
    "RANDOM_SEED = 3001\n",
    "batch_size = 8\n",
    "device = torch.device(\"cuda:0\" if torch.cuda.is_available() else \"cpu\")\n",
    "\n",
    "def tokenize_function(examples):\n",
    "    tok = tokenizer(examples[\"review_text\"], padding='max_length', truncation=True,\n",
    "                    max_length = 512,\n",
    "                    return_tensors=\"pt\")\n",
    "    examples['text_encoded'] = tok['input_ids']\n",
    "    return examples\n",
    "\n",
    "tokenizer = RobertaTokenizer.from_pretrained('roberta-base')\n",
    "\n",
    "# preprocess, tokenize, loader\n",
    "Walmart_reviews = Dataset.from_csv('Walmart_reviews_w_sentiment.csv')\n",
    "\n",
    "Walmart_reviews_ = Walmart_reviews.map(lambda x: text_cleaning.text_cleaning(x, map_label = False))\n",
    "Walmart_reviews_ = Walmart_reviews_.map(tokenize_function, batched = True, load_from_cache_file = False)\n",
    "Walmart_reviews_.set_format('torch')\n",
    "\n",
    "def do_infer(infer_data, output_dir):\n",
    "\n",
    "    model = AutoModelForSequenceClassification.from_pretrained(\"cardiffnlp/twitter-roberta-base-sentiment-latest\")\n",
    "    model.to(device)\n",
    "    model.eval()\n",
    "\n",
    "    headers = list(Walmart_reviews_.features)[:-1] + ['pred']\n",
    "\n",
    "    output_file = output_dir + '/preds.csv'\n",
    "    with torch.no_grad():\n",
    "        with open(output_file, mode='a', newline='', encoding='utf-8') as file:\n",
    "                writer = csv.writer(file)\n",
    "                writer.writerow(headers)\n",
    "                for i in tqdm(range(0, len(infer_data), batch_size)):\n",
    "                    batch = infer_data[i:i + batch_size]\n",
    "                    input = torch.tensor(batch[\"text_encoded\"]).to(device)\n",
    "\n",
    "                    outputs = model(input)\n",
    "                    logits = outputs.logits\n",
    "                    predictions = torch.argmax(logits, dim=-1)\n",
    "\n",
    "                    for j in range(predictions.shape[0]):\n",
    "                        row = [batch[h][j] for h in headers[:-1]] + [['negative', 'neutral', 'positive'][predictions[j].item()]]\n",
    "                        writer.writerow(row)\n",
    "    print('inference completed ...')\n",
    "    return\n",
    "\n",
    "do_infer(Walmart_reviews_, os.getcwd())"
   ]
  },
  {
   "cell_type": "markdown",
   "metadata": {},
   "source": [
    "### Glassdoor"
   ]
  },
  {
   "cell_type": "code",
   "execution_count": 1,
   "metadata": {},
   "outputs": [
    {
     "name": "stdout",
     "output_type": "stream",
     "text": [
      "C:\\Users\\tianc\\scrapfly-scrapers\\glassdoor-scraper\\results\n"
     ]
    }
   ],
   "source": [
    "%cd ~/scrapfly-scrapers/glassdoor-scraper/results/\n",
    "import csv \n",
    "import json\n",
    "import os \n",
    "\n",
    "def _write_to_csv(csv_file, files):\n",
    "    headers = ['summary', 'pros', 'cons', 'review_date', 'job_title', 'rating_overall', 'rating_work_life_balance',\n",
    "                   'rating_compensation_and_benefits', 'rating_career_opportunities', 'rating_culture_and_values',\n",
    "                   'rating_diversity_and_inclusion', 'rating_senior_leadership', 'rating_recommend_to_friend',\n",
    "                   'rating_business_outlook', 'overall_rating', 'compensation_and_benefits_rating','culture_and_values_rating',\n",
    "                   'diversity_and_inclusion_rating']\n",
    "    for f in files:\n",
    "        with open(f, 'r', encoding='utf-8') as file:\n",
    "            ff = json.load(file)\n",
    "            reviews = ff['reviews']\n",
    "            ratings = ff['ratings']\n",
    "        with open(csv_file, mode='a', newline='', encoding='utf-8') as file:\n",
    "            writer = csv.writer(file)\n",
    "                \n",
    "            # Write headers only if the file is empty\n",
    "            if not os.path.exists(csv_file) or os.stat(csv_file).st_size == 0:\n",
    "                writer.writerow(headers)\n",
    "            for review in reviews:\n",
    "                # Flatten review data\n",
    "                flattened_review = {\n",
    "                        \"summary\": review.get(\"summary\"),\n",
    "                        \"pros\": review.get(\"pros\"),\n",
    "                        \"cons\": review.get(\"cons\"),\n",
    "                        \"review_date\": review.get(\"reviewDateTime\"),\n",
    "                        \"job_title\": review.get(\"jobTitle\", {}).get(\"text\") if review.get(\"jobTitle\") else None,    \n",
    "                        \"rating_overall\": review.get(\"ratingOverall\"),\n",
    "                        \"rating_work_life_balance\": review.get(\"ratingWorkLifeBalance\"),\n",
    "                        \"rating_compensation_and_benefits\": review.get(\"ratingCompensationAndBenefits\"),\n",
    "                        \"rating_career_opportunities\": review.get(\"ratingCareerOpportunities\"),\n",
    "                        \"rating_culture_and_values\": review.get(\"ratingCultureAndValues\"),\n",
    "                        \"rating_diversity_and_inclusion\": review.get(\"ratingDiversityAndInclusion\"),\n",
    "                        \"rating_senior_leadership\": review.get(\"ratingSeniorLeadership\"),\n",
    "                        \"rating_recommend_to_friend\": review.get(\"ratingRecommendToFriend\"),\n",
    "                        \"rating_business_outlook\": review.get(\"ratingBusinessOutlook\"),\n",
    "                    }\n",
    "\n",
    "            # Add overall ratings to each row\n",
    "                flattened_review.update({\n",
    "                        \"overall_rating\": ratings.get(\"overallRating\"),\n",
    "                        \"compensation_and_benefits_rating\": ratings.get(\"compensationAndBenefitsRating\"),\n",
    "                        \"culture_and_values_rating\": ratings.get(\"cultureAndValuesRating\"),\n",
    "                        \"diversity_and_inclusion_rating\": ratings.get(\"diversityAndInclusionRating\"),})\n",
    "                writer.writerow([flattened_review[h] for h in headers])\n",
    "\n",
    "    print(f'Data has been successfully written to {csv_file}')"
   ]
  },
  {
   "cell_type": "code",
   "execution_count": 2,
   "metadata": {},
   "outputs": [
    {
     "data": {
      "text/plain": [
       "['Puzzle-Financial-Reviews-E5600492.json']"
      ]
     },
     "execution_count": 2,
     "metadata": {},
     "output_type": "execute_result"
    }
   ],
   "source": [
    "result = !ls -t | head -1\n",
    "result"
   ]
  },
  {
   "cell_type": "code",
   "execution_count": 5,
   "metadata": {},
   "outputs": [
    {
     "name": "stdout",
     "output_type": "stream",
     "text": [
      "Data has been successfully written to Puzzle-Financial-Reviews-E5600492.csv\n"
     ]
    }
   ],
   "source": [
    "import pandas as pd\n",
    "output = result[0].split('.json')[0]\n",
    "_write_to_csv(f'{output}.csv', result)\n",
    "file = pd.read_csv(f'{output}.csv', index_col=None)\n"
   ]
  },
  {
   "cell_type": "code",
   "execution_count": 6,
   "metadata": {},
   "outputs": [],
   "source": [
    "file.dropna(subset=['job_title'], inplace=True)\n",
    "file.to_json(f'{output}.json', orient = 'columns')"
   ]
  },
  {
   "cell_type": "code",
   "execution_count": null,
   "metadata": {},
   "outputs": [],
   "source": []
  }
 ],
 "metadata": {
  "kernelspec": {
   "display_name": "etsy",
   "language": "python",
   "name": "python3"
  },
  "language_info": {
   "codemirror_mode": {
    "name": "ipython",
    "version": 3
   },
   "file_extension": ".py",
   "mimetype": "text/x-python",
   "name": "python",
   "nbconvert_exporter": "python",
   "pygments_lexer": "ipython3",
   "version": "3.10.14"
  }
 },
 "nbformat": 4,
 "nbformat_minor": 4
}
