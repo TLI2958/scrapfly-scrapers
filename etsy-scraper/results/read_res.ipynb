{
 "cells": [
  {
   "cell_type": "markdown",
   "metadata": {},
   "source": [
    "### Etsy"
   ]
  },
  {
   "cell_type": "code",
   "execution_count": 21,
   "metadata": {},
   "outputs": [
    {
     "data": {
      "text/plain": [
       "'C:\\\\Users\\\\tianc\\\\scrapfly-scrapers\\\\amazon-scraper\\\\results'"
      ]
     },
     "execution_count": 21,
     "metadata": {},
     "output_type": "execute_result"
    }
   ],
   "source": [
    "from collections.abc import MutableMapping\n",
    "import json\n",
    "import csv\n",
    "import os \n",
    "import pandas as pd\n",
    "\n",
    "def _write_to_csv(csv_file, files):\n",
    "    headers = ['Name', 'URL', 'SKU', 'Description', 'Category', \n",
    "               'Brand','Rating Value', 'Review Count', 'Price', 'Price Currency', \n",
    "               'Availability', 'Material', 'Review', 'Rate', 'Reviewer', 'Review Date']\n",
    "    \n",
    "    # Write headers to the CSV file\n",
    "    for f in files:\n",
    "        with open(f, 'r', encoding = 'utf-8') as file:\n",
    "            f = json.load(file)\n",
    "            with open(csv_file, mode='a', newline='', encoding='utf-8') as file:\n",
    "                writer = csv.writer(file)\n",
    "                if not os.path.exists(csv_file) or os.stat(csv_file).st_size == 0:\n",
    "                    writer.writerow(headers)\n",
    "                for product in f:\n",
    "                    # For each product, we extract required data, handle missing values with `.get()` method\n",
    "                    url = product.get('url', '')\n",
    "                    name = product.get('name', '')\n",
    "                    sku = product.get('sku', '')\n",
    "                    description = product.get('description', '').replace('\\n', ' ')\n",
    "                    category = product.get('category', '')\n",
    "                    \n",
    "                    brand = product.get('brand', {}).get('name', '')\n",
    "                    \n",
    "                    rating_value = product.get('aggregateRating', {}).get('ratingValue', '')\n",
    "                    total_review_count = product.get('aggregateRating', {}).get('reviewCount', '')\n",
    "\n",
    "                    price = product.get('offers', {}).get('price', '')\n",
    "                    price_currency = product.get('offers', {}).get('priceCurrency', '')\n",
    "                    availability = product.get('offers', {}).get('availability', '')\n",
    "                    \n",
    "                    material = product.get('material', '')\n",
    "                    \n",
    "                    # Handling the first review data\n",
    "                    if 'review' in product and len(product['review']) > 0:\n",
    "                        for item in product['review']:\n",
    "                            review = item.get('reviewBody', '')\n",
    "                            rate = item.get('reviewRating', {}).get('ratingValue', '') \n",
    "                            reviewer = item.get('author', {}).get('name', '') \n",
    "                            review_date = item.get('datePublished', '')\n",
    "                            writer.writerow([name, url, sku, description, category, \n",
    "                            brand, rating_value, total_review_count, price, price_currency, \n",
    "                            availability, material, review, rate, reviewer, review_date])\n",
    "                    else:\n",
    "                        review = rate = reviewer = review_date = ''\n",
    "                        writer.writerow([name, url, sku, description, category, \n",
    "                        brand, rating_value, total_review_count, price, price_currency, \n",
    "                        availability, material, review, rate, reviewer, review_date])\n",
    "                    \n",
    "                    # Write the row for each product\n",
    "\n",
    "\n",
    "    print(f'Data has been successfully written to {csv_file}')\n",
    "\n",
    "%pwd"
   ]
  },
  {
   "cell_type": "code",
   "execution_count": 22,
   "metadata": {},
   "outputs": [
    {
     "name": "stdout",
     "output_type": "stream",
     "text": [
      "C:\\Users\\tianc\\scrapfly-scrapers\\etsy-scraper\\results\n"
     ]
    }
   ],
   "source": [
    "%cd ~/scrapfly-scrapers/etsy-scraper/results/\n",
    "\n",
    "# csv_file = 'etsy_reviews_.csv'\n",
    "\n",
    "# files = ['products_null.json']\n",
    "# _write_to_csv(csv_file, files)\n"
   ]
  },
  {
   "cell_type": "code",
   "execution_count": null,
   "metadata": {},
   "outputs": [],
   "source": [
    "file = pd.read_csv('etsy_reviews_.csv')\n",
    "file = file.dropna(subset = 'Review')\n",
    "# file.to_excel('etsy_r.xlsx')\n",
    "file"
   ]
  },
  {
   "cell_type": "markdown",
   "metadata": {},
   "source": [
    "##### sent with vader"
   ]
  },
  {
   "cell_type": "code",
   "execution_count": 25,
   "metadata": {},
   "outputs": [],
   "source": [
    "from vaderSentiment.vaderSentiment import SentimentIntensityAnalyzer\n",
    "file = file.dropna(subset = 'Review').drop_duplicates().reset_index(drop = True)\n",
    "\n",
    "analyzer = SentimentIntensityAnalyzer()\n",
    "vs = [analyzer.polarity_scores(sentence) for sentence in file['Review']]\n",
    "\n",
    "file[list(vs[0].keys())] = [[v[k] for k in vs[0].keys()] for v in vs]\n",
    "file['sentiment'] = file.compound.apply(lambda x: 'positive' if x >= 0.05 else ('negative' if x <= -0.05 else 'neutral'))\n",
    "\n",
    "file.to_csv('etsy_reviews_w_sentiment.csv', index = False)\n",
    "file.to_excel('etsy_reviews_w_sentiment.xlsx', index = False)"
   ]
  },
  {
   "cell_type": "code",
   "execution_count": 26,
   "metadata": {},
   "outputs": [
    {
     "data": {
      "image/png": "[encoded data removed]",
      "text/plain": [
       "<Figure size 640x480 with 1 Axes>"
      ]
     },
     "metadata": {},
     "output_type": "display_data"
    }
   ],
   "source": [
    "import matplotlib.pyplot as plt\n",
    "fig, ax = plt.subplots()\n",
    "\n",
    "file.sentiment.value_counts().plot(kind='pie', autopct='%1.1f%%', ax=ax,)\n",
    "ax.set_ylabel('')\n",
    "ax.set_title('Sentiment Distribution of Etsy Reviews on California Poppy Products', size = 10)\n",
    "fig.savefig('sentiment_distribution_etsy.png', dpi = 300)"
   ]
  },
  {
   "cell_type": "markdown",
   "metadata": {},
   "source": [
    "### TrustPilot"
   ]
  },
  {
   "cell_type": "code",
   "execution_count": 1,
   "metadata": {},
   "outputs": [],
   "source": [
    "from collections.abc import MutableMapping\n",
    "import json\n",
    "import csv\n",
    "import os \n",
    "import pandas as pd\n",
    "\n",
    "def _write_to_csv(csv_file, files):\n",
    "    headers = ['Company', 'Website', 'Id', 'Source',\n",
    "               'Trust Score (if from TrustPilot)', 'Review Count', 'Review Source','Title', 'Rate', 'Review', 'Likes', 'Reply', 'Reviewer', 'Review Date', 'Total Reviews by Reviewer', \n",
    "               'Language', 'Country Code']\n",
    "    \n",
    "    # Write headers to the CSV file\n",
    "    for i in range(0, len(files), 2):\n",
    "        company = files[i]\n",
    "        reviews = files[i+1]\n",
    "        with open(company, 'r', encoding = 'utf-8') as f1, open(reviews, 'r', encoding = 'utf-8') as f2:    \n",
    "            company = json.load(f1)[0]\n",
    "            reviews = json.load(f2)\n",
    "            with open(csv_file, mode='a', newline='', encoding='utf-8') as file:\n",
    "                writer = csv.writer(file)\n",
    "                if not os.path.exists(csv_file) or os.stat(csv_file).st_size == 0:\n",
    "                    writer.writerow(headers)\n",
    "                Company =  company.get('companyDetails', {}).get('displayName', '')\n",
    "                Website = company.get('companyDetails', {}).get('websiteUrl', '')\n",
    "                Id = company.get('companyDetails', {}).get('id', '')\n",
    "                Source = company.get('pageUrl', '')\n",
    "                Trust_Score = company.get('companyDetails', {}).get('trustScore', '')\n",
    "                Review_Count = company.get('companyDetails', {}).get('numberOfReviews', '')\n",
    "                for r in reviews:\n",
    "                    ReviewSource = r.get('labels', {}).get('verification', {}).get('reviewSourceName', '')\n",
    "                    Title = r.get('title', '')\n",
    "                    Rate = r.get('rating', '')\n",
    "                    Review = r.get('text', '')\n",
    "                    Likes = r.get('likes', '')\n",
    "                    Reply = r.get('reply', '')\n",
    "                    Reviewer = r.get('consumer', {}).get('displayName', '') or r.get('consumer', {}).get('id', '')\n",
    "                    ReviewDate = r.get('dates', {}).get('publishedDate', '')\n",
    "                    TotalReviewsbyReviewer = r.get('consumer', {}).get('numberOfReviews', '')\n",
    "                    Language = r.get('language', '')   \n",
    "                    CountryCode = r.get('consumer', {}).get('countryCode', '') \n",
    "                    writer.writerow([Company, Website, Id, Source, Trust_Score, Review_Count, ReviewSource, \n",
    "                                            Title, Rate, Review, Likes, Reply, Reviewer, ReviewDate, TotalReviewsbyReviewer, \n",
    "                                            Language, CountryCode])\n",
    "                    \n",
    "    print(f'Data has been successfully written to {csv_file}')\n"
   ]
  },
  {
   "cell_type": "code",
   "execution_count": 4,
   "metadata": {},
   "outputs": [
    {
     "name": "stdout",
     "output_type": "stream",
     "text": [
      "C:\\Users\\tianc\\scrapfly-scrapers\\trustpilot-scraper\\results\n",
      "Data has been successfully written to trustpilot_reviews.csv\n"
     ]
    }
   ],
   "source": [
    "%cd  ~/scrapfly-scrapers/trustpilot-scraper/results/\n",
    "\n",
    "csv_file = 'trustpilot_reviews.csv'\n",
    "files = ['companies.json','reviews.json',\n",
    "        'companies_0.json', 'reviews_0.json']\n",
    "\n",
    "\n",
    "_write_to_csv(csv_file, files)"
   ]
  },
  {
   "cell_type": "markdown",
   "metadata": {},
   "source": []
  },
  {
   "cell_type": "code",
   "execution_count": 5,
   "metadata": {},
   "outputs": [
    {
     "data": {
      "text/html": [
       "<div>\n",
       "<style scoped>\n",
       "    .dataframe tbody tr th:only-of-type {\n",
       "        vertical-align: middle;\n",
       "    }\n",
       "\n",
       "    .dataframe tbody tr th {\n",
       "        vertical-align: top;\n",
       "    }\n",
       "\n",
       "    .dataframe thead th {\n",
       "        text-align: right;\n",
       "    }\n",
       "</style>\n",
       "<table border=\"1\" class=\"dataframe\">\n",
       "  <thead>\n",
       "    <tr style=\"text-align: right;\">\n",
       "      <th></th>\n",
       "      <th>Company</th>\n",
       "      <th>Website</th>\n",
       "      <th>Id</th>\n",
       "      <th>Source</th>\n",
       "      <th>Trust Score (if from TrustPilot)</th>\n",
       "      <th>Review Count</th>\n",
       "      <th>Review Source</th>\n",
       "      <th>Title</th>\n",
       "      <th>Rate</th>\n",
       "      <th>Review</th>\n",
       "      <th>Likes</th>\n",
       "      <th>Reply</th>\n",
       "      <th>Reviewer</th>\n",
       "      <th>Review Date</th>\n",
       "      <th>Total Reviews by Reviewer</th>\n",
       "      <th>Language</th>\n",
       "      <th>Country Code</th>\n",
       "    </tr>\n",
       "  </thead>\n",
       "  <tbody>\n",
       "    <tr>\n",
       "      <th>0</th>\n",
       "      <td>Foster Farms</td>\n",
       "      <td>http://fosterfarms.com</td>\n",
       "      <td>64332c1c26e69b18a5e193bb</td>\n",
       "      <td>https://www.trustpilot.com/review/fosterfarms.com</td>\n",
       "      <td>3.7</td>\n",
       "      <td>2</td>\n",
       "      <td>Organic</td>\n",
       "      <td>I love your Foster Farms Jalapeno Cheese Corn ...</td>\n",
       "      <td>5</td>\n",
       "      <td>So cheesy, and so spicy! They make your mouth ...</td>\n",
       "      <td>0</td>\n",
       "      <td>NaN</td>\n",
       "      <td>Alec Heesacker</td>\n",
       "      <td>2024-04-05T23:55:51.000Z</td>\n",
       "      <td>48</td>\n",
       "      <td>en</td>\n",
       "      <td>US</td>\n",
       "    </tr>\n",
       "    <tr>\n",
       "      <th>1</th>\n",
       "      <td>Foster Farms</td>\n",
       "      <td>http://fosterfarms.com</td>\n",
       "      <td>64332c1c26e69b18a5e193bb</td>\n",
       "      <td>https://www.trustpilot.com/review/fosterfarms.com</td>\n",
       "      <td>3.7</td>\n",
       "      <td>2</td>\n",
       "      <td>Organic</td>\n",
       "      <td>Great chicken breasts</td>\n",
       "      <td>2</td>\n",
       "      <td>Great chicken breasts, great product created b...</td>\n",
       "      <td>0</td>\n",
       "      <td>NaN</td>\n",
       "      <td>Malvina</td>\n",
       "      <td>2023-04-09T23:30:04.000Z</td>\n",
       "      <td>7</td>\n",
       "      <td>en</td>\n",
       "      <td>US</td>\n",
       "    </tr>\n",
       "    <tr>\n",
       "      <th>2</th>\n",
       "      <td>Mountain Rose Herbs</td>\n",
       "      <td>http://www.mountainroseherbs.com</td>\n",
       "      <td>56e33ba20000ff00058a1440</td>\n",
       "      <td>https://www.trustpilot.com/review/www.mountain...</td>\n",
       "      <td>4.8</td>\n",
       "      <td>11085</td>\n",
       "      <td>BigCommerce</td>\n",
       "      <td>Top quality</td>\n",
       "      <td>5</td>\n",
       "      <td>Top quality, good service, accurate orders</td>\n",
       "      <td>0</td>\n",
       "      <td>NaN</td>\n",
       "      <td>customer</td>\n",
       "      <td>2024-09-26T17:11:53.000Z</td>\n",
       "      <td>4</td>\n",
       "      <td>en</td>\n",
       "      <td>US</td>\n",
       "    </tr>\n",
       "    <tr>\n",
       "      <th>3</th>\n",
       "      <td>Mountain Rose Herbs</td>\n",
       "      <td>http://www.mountainroseherbs.com</td>\n",
       "      <td>56e33ba20000ff00058a1440</td>\n",
       "      <td>https://www.trustpilot.com/review/www.mountain...</td>\n",
       "      <td>4.8</td>\n",
       "      <td>11085</td>\n",
       "      <td>BigCommerce</td>\n",
       "      <td>Great Products Everytime!</td>\n",
       "      <td>5</td>\n",
       "      <td>I'm never disappointed with what I received fr...</td>\n",
       "      <td>0</td>\n",
       "      <td>NaN</td>\n",
       "      <td>Star</td>\n",
       "      <td>2024-09-26T16:10:16.000Z</td>\n",
       "      <td>1</td>\n",
       "      <td>en</td>\n",
       "      <td>US</td>\n",
       "    </tr>\n",
       "    <tr>\n",
       "      <th>4</th>\n",
       "      <td>Mountain Rose Herbs</td>\n",
       "      <td>http://www.mountainroseherbs.com</td>\n",
       "      <td>56e33ba20000ff00058a1440</td>\n",
       "      <td>https://www.trustpilot.com/review/www.mountain...</td>\n",
       "      <td>4.8</td>\n",
       "      <td>11085</td>\n",
       "      <td>BigCommerce</td>\n",
       "      <td>It takes too long to ship my order</td>\n",
       "      <td>3</td>\n",
       "      <td>It takes too long to ship my order!  several d...</td>\n",
       "      <td>0</td>\n",
       "      <td>NaN</td>\n",
       "      <td>JILL BRASHEAR</td>\n",
       "      <td>2024-09-26T02:41:40.000Z</td>\n",
       "      <td>3</td>\n",
       "      <td>en</td>\n",
       "      <td>US</td>\n",
       "    </tr>\n",
       "  </tbody>\n",
       "</table>\n",
       "</div>"
      ],
      "text/plain": [
       "               Company                           Website  \\\n",
       "0         Foster Farms            http://fosterfarms.com   \n",
       "1         Foster Farms            http://fosterfarms.com   \n",
       "2  Mountain Rose Herbs  http://www.mountainroseherbs.com   \n",
       "3  Mountain Rose Herbs  http://www.mountainroseherbs.com   \n",
       "4  Mountain Rose Herbs  http://www.mountainroseherbs.com   \n",
       "\n",
       "                         Id  \\\n",
       "0  64332c1c26e69b18a5e193bb   \n",
       "1  64332c1c26e69b18a5e193bb   \n",
       "2  56e33ba20000ff00058a1440   \n",
       "3  56e33ba20000ff00058a1440   \n",
       "4  56e33ba20000ff00058a1440   \n",
       "\n",
       "                                              Source  \\\n",
       "0  https://www.trustpilot.com/review/fosterfarms.com   \n",
       "1  https://www.trustpilot.com/review/fosterfarms.com   \n",
       "2  https://www.trustpilot.com/review/www.mountain...   \n",
       "3  https://www.trustpilot.com/review/www.mountain...   \n",
       "4  https://www.trustpilot.com/review/www.mountain...   \n",
       "\n",
       "   Trust Score (if from TrustPilot)  Review Count Review Source  \\\n",
       "0                               3.7             2       Organic   \n",
       "1                               3.7             2       Organic   \n",
       "2                               4.8         11085   BigCommerce   \n",
       "3                               4.8         11085   BigCommerce   \n",
       "4                               4.8         11085   BigCommerce   \n",
       "\n",
       "                                               Title  Rate  \\\n",
       "0  I love your Foster Farms Jalapeno Cheese Corn ...     5   \n",
       "1                              Great chicken breasts     2   \n",
       "2                                        Top quality     5   \n",
       "3                          Great Products Everytime!     5   \n",
       "4                 It takes too long to ship my order     3   \n",
       "\n",
       "                                              Review  Likes Reply  \\\n",
       "0  So cheesy, and so spicy! They make your mouth ...      0   NaN   \n",
       "1  Great chicken breasts, great product created b...      0   NaN   \n",
       "2         Top quality, good service, accurate orders      0   NaN   \n",
       "3  I'm never disappointed with what I received fr...      0   NaN   \n",
       "4  It takes too long to ship my order!  several d...      0   NaN   \n",
       "\n",
       "         Reviewer               Review Date  Total Reviews by Reviewer  \\\n",
       "0  Alec Heesacker  2024-04-05T23:55:51.000Z                         48   \n",
       "1         Malvina  2023-04-09T23:30:04.000Z                          7   \n",
       "2        customer  2024-09-26T17:11:53.000Z                          4   \n",
       "3            Star  2024-09-26T16:10:16.000Z                          1   \n",
       "4   JILL BRASHEAR  2024-09-26T02:41:40.000Z                          3   \n",
       "\n",
       "  Language Country Code  \n",
       "0       en           US  \n",
       "1       en           US  \n",
       "2       en           US  \n",
       "3       en           US  \n",
       "4       en           US  "
      ]
     },
     "execution_count": 5,
     "metadata": {},
     "output_type": "execute_result"
    }
   ],
   "source": [
    "file = pd.read_csv('trustpilot_reviews_.csv')\n",
    "file.head()\n",
    "# file = file.dropna(subset = 'Review')\n",
    "# file.to_excel('trustpilot_reviews.xlsx')\n"
   ]
  },
  {
   "cell_type": "code",
   "execution_count": 16,
   "metadata": {},
   "outputs": [
    {
     "data": {
      "text/plain": [
       "['https://www.amazon.com/Pacific-Herbs-Menopause-Relief-Herb/product-reviews/',\n",
       " '/ref=cm_cr_dp_d_show_all_btm?ie=UTF8&reviewerType=all_reviews']"
      ]
     },
     "execution_count": 16,
     "metadata": {},
     "output_type": "execute_result"
    }
   ],
   "source": [
    "url = 'https://www.amazon.com/Pacific-Herbs-Menopause-Relief-Herb/product-reviews/B00CXXTIVE/ref=cm_cr_dp_d_show_all_btm?ie=UTF8&reviewerType=all_reviews'\n",
    "ASIN = url.split(\"/product-reviews/\")[1].split(\"/\")[0]\n",
    "url.split(f'{ASIN}')"
   ]
  },
  {
   "cell_type": "code",
   "execution_count": null,
   "metadata": {},
   "outputs": [],
   "source": [
    "total_pages = 10\n",
    "_reviews_per_page = 20\n",
    "for page in range(2, total_pages + 1):\n",
    "    url = f\"https://www.amazon.com/Pacific-Herbs-Menopause-Relief-Herb/product-reviews/{ASIN}/ref=cm_cr_getr_d_paging_btm_next_{page}?pageNumber={page}&pageSize={_reviews_per_page}\"\n",
    "    print(url)"
   ]
  },
  {
   "cell_type": "markdown",
   "metadata": {},
   "source": [
    "### Amazon"
   ]
  },
  {
   "cell_type": "code",
   "execution_count": 1,
   "metadata": {},
   "outputs": [],
   "source": [
    "from collections.abc import MutableMapping\n",
    "import json\n",
    "import csv\n",
    "import os\n",
    "import pandas as pd\n",
    "\n",
    "def _write_to_csv(csv_file, files):\n",
    "    # Updated headers to match the data order\n",
    "    headers = [\n",
    "        'asin', 'brand', 'name', 'description', 'features', 'stars', \n",
    "        'rating_count', 'review_title', 'review_rating', \n",
    "        'review_location_and_date', 'verified', 'review_body', 'images'\n",
    "    ]\n",
    "\n",
    "    # Write headers to the CSV file\n",
    "    for f in files:\n",
    "        with open(f, 'r', encoding='utf-8') as file:\n",
    "            f = json.load(file)\n",
    "            with open(csv_file, mode='a', newline='', encoding='utf-8') as file:\n",
    "                writer = csv.writer(file)\n",
    "                \n",
    "                # Write headers only if the file is empty\n",
    "                if not os.path.exists(csv_file) or os.stat(csv_file).st_size == 0:\n",
    "                    writer.writerow(headers)\n",
    "\n",
    "                for product in f:\n",
    "                    asin = product.get('asin', '')\n",
    "                    brand = product.get('brand', '')\n",
    "                    name = product.get('name', '')\n",
    "                    description = product.get('description', '')\n",
    "                    features = ' | '.join(product.get('features', []))  # Join features into a single string\n",
    "                    stars = product.get('stars', '')  # Extract stars\n",
    "                    rating_count = product.get('rating_count', '')  # Extract rating count\n",
    "                    \n",
    "                    # Handling the review information\n",
    "                    review_title = product.get('title', '')\n",
    "                    review_rating = product.get('rating', '')\n",
    "                    review_date = product.get('location_and_date', '')\n",
    "                    verified = product.get('verified', '')\n",
    "                    review_text = product.get('text', '')\n",
    "                    \n",
    "                    # Join image URLs into a single string\n",
    "                    images = ' | '.join(product.get('images', []))\n",
    "\n",
    "                    # Write row to CSV, with order matching the headers\n",
    "                    writer.writerow([asin, brand, name, description, features, stars, \n",
    "                                     rating_count, review_title, review_rating,\n",
    "                                     review_date, verified, review_text, images])\n",
    "\n",
    "    print(f'Data has been successfully written to {csv_file}')\n"
   ]
  },
  {
   "cell_type": "code",
   "execution_count": 2,
   "metadata": {},
   "outputs": [
    {
     "name": "stdout",
     "output_type": "stream",
     "text": [
      "C:\\Users\\tianc\\scrapfly-scrapers\\amazon-scraper\\results\n"
     ]
    }
   ],
   "source": [
    "%cd  ~/scrapfly-scrapers/amazon-scraper/results/\n",
    "\n",
    "# csv_file = 'Amazon_reviews_california_poppy_supplement.csv'\n",
    "\n",
    "# files = ['search_california_poppy_supplements_products_reviews.json']\n",
    "# _write_to_csv(csv_file, files)\n"
   ]
  },
  {
   "cell_type": "code",
   "execution_count": 3,
   "metadata": {},
   "outputs": [
    {
     "data": {
      "text/html": [
       "<div>\n",
       "<style scoped>\n",
       "    .dataframe tbody tr th:only-of-type {\n",
       "        vertical-align: middle;\n",
       "    }\n",
       "\n",
       "    .dataframe tbody tr th {\n",
       "        vertical-align: top;\n",
       "    }\n",
       "\n",
       "    .dataframe thead th {\n",
       "        text-align: right;\n",
       "    }\n",
       "</style>\n",
       "<table border=\"1\" class=\"dataframe\">\n",
       "  <thead>\n",
       "    <tr style=\"text-align: right;\">\n",
       "      <th></th>\n",
       "      <th>asin</th>\n",
       "      <th>brand</th>\n",
       "      <th>name</th>\n",
       "      <th>description</th>\n",
       "      <th>features</th>\n",
       "      <th>stars</th>\n",
       "      <th>rating_count</th>\n",
       "      <th>review_title</th>\n",
       "      <th>review_rating</th>\n",
       "      <th>review_location_and_date</th>\n",
       "      <th>verified</th>\n",
       "      <th>review_body</th>\n",
       "      <th>images</th>\n",
       "    </tr>\n",
       "  </thead>\n",
       "  <tbody>\n",
       "    <tr>\n",
       "      <th>0</th>\n",
       "      <td>B008668JL2</td>\n",
       "      <td>Bio Nutrition California Poppy Vegi-Caps, 60 C...</td>\n",
       "      <td>Bio Nutrition California Poppy Vegi-Caps, 60 C...</td>\n",
       "      <td>Bio Nutrition California Poppy has been used a...</td>\n",
       "      <td>Promotes relaxation | Restful sleep | Helps wi...</td>\n",
       "      <td>4.1 out of 5 stars</td>\n",
       "      <td>356 global ratings</td>\n",
       "      <td>It works!</td>\n",
       "      <td>5.0</td>\n",
       "      <td>Reviewed in the United States on July 5, 2024</td>\n",
       "      <td>True</td>\n",
       "      <td>I take one capsule an hour before I go to bed ...</td>\n",
       "      <td>https://m.media-amazon.com/images/I/51rEf3c9R5...</td>\n",
       "    </tr>\n",
       "    <tr>\n",
       "      <th>1</th>\n",
       "      <td>B008668JL2</td>\n",
       "      <td>Bio Nutrition California Poppy Vegi-Caps, 60 C...</td>\n",
       "      <td>Bio Nutrition California Poppy Vegi-Caps, 60 C...</td>\n",
       "      <td>Bio Nutrition California Poppy has been used a...</td>\n",
       "      <td>Promotes relaxation | Restful sleep | Helps wi...</td>\n",
       "      <td>4.1 out of 5 stars</td>\n",
       "      <td>356 global ratings</td>\n",
       "      <td>Pain management Godsend</td>\n",
       "      <td>5.0</td>\n",
       "      <td>Reviewed in the United States on March 29, 2023</td>\n",
       "      <td>True</td>\n",
       "      <td>These pills are a godsend they are narcotic-fr...</td>\n",
       "      <td>https://m.media-amazon.com/images/I/51rEf3c9R5...</td>\n",
       "    </tr>\n",
       "    <tr>\n",
       "      <th>2</th>\n",
       "      <td>B008668JL2</td>\n",
       "      <td>Bio Nutrition California Poppy Vegi-Caps, 60 C...</td>\n",
       "      <td>Bio Nutrition California Poppy Vegi-Caps, 60 C...</td>\n",
       "      <td>Bio Nutrition California Poppy has been used a...</td>\n",
       "      <td>Promotes relaxation | Restful sleep | Helps wi...</td>\n",
       "      <td>4.1 out of 5 stars</td>\n",
       "      <td>356 global ratings</td>\n",
       "      <td>Excellent nutrition seeds.</td>\n",
       "      <td>5.0</td>\n",
       "      <td>Reviewed in the United States on August 15, 2024</td>\n",
       "      <td>True</td>\n",
       "      <td>Highly recommend.</td>\n",
       "      <td>https://m.media-amazon.com/images/I/51rEf3c9R5...</td>\n",
       "    </tr>\n",
       "    <tr>\n",
       "      <th>3</th>\n",
       "      <td>B008668JL2</td>\n",
       "      <td>Bio Nutrition California Poppy Vegi-Caps, 60 C...</td>\n",
       "      <td>Bio Nutrition California Poppy Vegi-Caps, 60 C...</td>\n",
       "      <td>Bio Nutrition California Poppy has been used a...</td>\n",
       "      <td>Promotes relaxation | Restful sleep | Helps wi...</td>\n",
       "      <td>4.1 out of 5 stars</td>\n",
       "      <td>356 global ratings</td>\n",
       "      <td>Wired Yet Fatigued</td>\n",
       "      <td>1.0</td>\n",
       "      <td>Reviewed in the United States on May 13, 2024</td>\n",
       "      <td>True</td>\n",
       "      <td>DO NOT BUY THIS!!!! there’s several other 1sta...</td>\n",
       "      <td>https://m.media-amazon.com/images/I/51rEf3c9R5...</td>\n",
       "    </tr>\n",
       "    <tr>\n",
       "      <th>4</th>\n",
       "      <td>B008668JL2</td>\n",
       "      <td>Bio Nutrition California Poppy Vegi-Caps, 60 C...</td>\n",
       "      <td>Bio Nutrition California Poppy Vegi-Caps, 60 C...</td>\n",
       "      <td>Bio Nutrition California Poppy has been used a...</td>\n",
       "      <td>Promotes relaxation | Restful sleep | Helps wi...</td>\n",
       "      <td>4.1 out of 5 stars</td>\n",
       "      <td>356 global ratings</td>\n",
       "      <td>Box damaged</td>\n",
       "      <td>3.0</td>\n",
       "      <td>Reviewed in the United States on June 27, 2023</td>\n",
       "      <td>True</td>\n",
       "      <td>Product was sealed but box was open and bottle...</td>\n",
       "      <td>https://m.media-amazon.com/images/I/51rEf3c9R5...</td>\n",
       "    </tr>\n",
       "    <tr>\n",
       "      <th>...</th>\n",
       "      <td>...</td>\n",
       "      <td>...</td>\n",
       "      <td>...</td>\n",
       "      <td>...</td>\n",
       "      <td>...</td>\n",
       "      <td>...</td>\n",
       "      <td>...</td>\n",
       "      <td>...</td>\n",
       "      <td>...</td>\n",
       "      <td>...</td>\n",
       "      <td>...</td>\n",
       "      <td>...</td>\n",
       "      <td>...</td>\n",
       "    </tr>\n",
       "    <tr>\n",
       "      <th>1063</th>\n",
       "      <td>B00F1J75HG</td>\n",
       "      <td>Gaia Herbs, Black Elderberry, Organic Sambucus...</td>\n",
       "      <td>Gaia Herbs, Black Elderberry, Organic Sambucus...</td>\n",
       "      <td>NEW AND IMPROVED FORMULA. Black Elderberry hel...</td>\n",
       "      <td>PLANT BASED SUPPLEMENT: A Black Elderberry pla...</td>\n",
       "      <td>4.7 out of 5 stars</td>\n",
       "      <td>1,213 global ratings</td>\n",
       "      <td>I don't feel any better. Nor worse. I haven't ...</td>\n",
       "      <td>4.0</td>\n",
       "      <td>Reviewed in the United States on July 15, 2021</td>\n",
       "      <td>True</td>\n",
       "      <td>I've been taking these for quite some time. I ...</td>\n",
       "      <td>https://m.media-amazon.com/images/I/51JnOtzGHp...</td>\n",
       "    </tr>\n",
       "    <tr>\n",
       "      <th>1064</th>\n",
       "      <td>B00F1J75HG</td>\n",
       "      <td>Gaia Herbs, Black Elderberry, Organic Sambucus...</td>\n",
       "      <td>Gaia Herbs, Black Elderberry, Organic Sambucus...</td>\n",
       "      <td>NEW AND IMPROVED FORMULA. Black Elderberry hel...</td>\n",
       "      <td>PLANT BASED SUPPLEMENT: A Black Elderberry pla...</td>\n",
       "      <td>4.7 out of 5 stars</td>\n",
       "      <td>1,213 global ratings</td>\n",
       "      <td>Who knew the benefits of black elderberry....</td>\n",
       "      <td>5.0</td>\n",
       "      <td>Reviewed in the United States on April 25, 2017</td>\n",
       "      <td>True</td>\n",
       "      <td>I have an autoimmune disease called Sarcoidosi...</td>\n",
       "      <td>https://m.media-amazon.com/images/I/51JnOtzGHp...</td>\n",
       "    </tr>\n",
       "    <tr>\n",
       "      <th>1065</th>\n",
       "      <td>B086F8CM5K</td>\n",
       "      <td>BareOrganics Sweet Dreams Liquid Drops, Herbal...</td>\n",
       "      <td>BareOrganics Sweet Dreams Liquid Drops, Herbal...</td>\n",
       "      <td>Sweet Dreams Liquid Drops blend organic ingred...</td>\n",
       "      <td>Sweet Dreams Drops: Sweet Dreams Liquid Drops ...</td>\n",
       "      <td>4 out of 5 stars</td>\n",
       "      <td>11 global ratings</td>\n",
       "      <td>Didn't work for me.</td>\n",
       "      <td>2.0</td>\n",
       "      <td>Reviewed in the United States on February 2, 2024</td>\n",
       "      <td>True</td>\n",
       "      <td>Didn't do anything for me. The dropper never w...</td>\n",
       "      <td>https://m.media-amazon.com/images/I/31Xq-RKqmI...</td>\n",
       "    </tr>\n",
       "    <tr>\n",
       "      <th>1066</th>\n",
       "      <td>B06WLLJ9FR</td>\n",
       "      <td>Secrets of the Tribe Brahmi Tincture Alcohol-F...</td>\n",
       "      <td>Secrets of the Tribe Brahmi Tincture Alcohol-F...</td>\n",
       "      <td>NaN</td>\n",
       "      <td>USDA Organic Certification: Our products have ...</td>\n",
       "      <td>4.6 out of 5 stars</td>\n",
       "      <td>11 global ratings</td>\n",
       "      <td>Alcohol-free Brahmi tincture</td>\n",
       "      <td>5.0</td>\n",
       "      <td>Reviewed in the United States on June 17, 2018</td>\n",
       "      <td>True</td>\n",
       "      <td>Love that you have Alcohol -Free liquid extracts</td>\n",
       "      <td>https://m.media-amazon.com/images/I/31sbW5dbVo...</td>\n",
       "    </tr>\n",
       "    <tr>\n",
       "      <th>1067</th>\n",
       "      <td>B06WLLJ9FR</td>\n",
       "      <td>Secrets of the Tribe Brahmi Tincture Alcohol-F...</td>\n",
       "      <td>Secrets of the Tribe Brahmi Tincture Alcohol-F...</td>\n",
       "      <td>NaN</td>\n",
       "      <td>USDA Organic Certification: Our products have ...</td>\n",
       "      <td>4.6 out of 5 stars</td>\n",
       "      <td>11 global ratings</td>\n",
       "      <td>Helps with Attention</td>\n",
       "      <td>4.0</td>\n",
       "      <td>Reviewed in the United States on September 7, ...</td>\n",
       "      <td>True</td>\n",
       "      <td>My little boy has inattentive-type ADHD and st...</td>\n",
       "      <td>https://m.media-amazon.com/images/I/31sbW5dbVo...</td>\n",
       "    </tr>\n",
       "  </tbody>\n",
       "</table>\n",
       "<p>1068 rows × 13 columns</p>\n",
       "</div>"
      ],
      "text/plain": [
       "            asin                                              brand  \\\n",
       "0     B008668JL2  Bio Nutrition California Poppy Vegi-Caps, 60 C...   \n",
       "1     B008668JL2  Bio Nutrition California Poppy Vegi-Caps, 60 C...   \n",
       "2     B008668JL2  Bio Nutrition California Poppy Vegi-Caps, 60 C...   \n",
       "3     B008668JL2  Bio Nutrition California Poppy Vegi-Caps, 60 C...   \n",
       "4     B008668JL2  Bio Nutrition California Poppy Vegi-Caps, 60 C...   \n",
       "...          ...                                                ...   \n",
       "1063  B00F1J75HG  Gaia Herbs, Black Elderberry, Organic Sambucus...   \n",
       "1064  B00F1J75HG  Gaia Herbs, Black Elderberry, Organic Sambucus...   \n",
       "1065  B086F8CM5K  BareOrganics Sweet Dreams Liquid Drops, Herbal...   \n",
       "1066  B06WLLJ9FR  Secrets of the Tribe Brahmi Tincture Alcohol-F...   \n",
       "1067  B06WLLJ9FR  Secrets of the Tribe Brahmi Tincture Alcohol-F...   \n",
       "\n",
       "                                                   name  \\\n",
       "0     Bio Nutrition California Poppy Vegi-Caps, 60 C...   \n",
       "1     Bio Nutrition California Poppy Vegi-Caps, 60 C...   \n",
       "2     Bio Nutrition California Poppy Vegi-Caps, 60 C...   \n",
       "3     Bio Nutrition California Poppy Vegi-Caps, 60 C...   \n",
       "4     Bio Nutrition California Poppy Vegi-Caps, 60 C...   \n",
       "...                                                 ...   \n",
       "1063  Gaia Herbs, Black Elderberry, Organic Sambucus...   \n",
       "1064  Gaia Herbs, Black Elderberry, Organic Sambucus...   \n",
       "1065  BareOrganics Sweet Dreams Liquid Drops, Herbal...   \n",
       "1066  Secrets of the Tribe Brahmi Tincture Alcohol-F...   \n",
       "1067  Secrets of the Tribe Brahmi Tincture Alcohol-F...   \n",
       "\n",
       "                                            description  \\\n",
       "0     Bio Nutrition California Poppy has been used a...   \n",
       "1     Bio Nutrition California Poppy has been used a...   \n",
       "2     Bio Nutrition California Poppy has been used a...   \n",
       "3     Bio Nutrition California Poppy has been used a...   \n",
       "4     Bio Nutrition California Poppy has been used a...   \n",
       "...                                                 ...   \n",
       "1063  NEW AND IMPROVED FORMULA. Black Elderberry hel...   \n",
       "1064  NEW AND IMPROVED FORMULA. Black Elderberry hel...   \n",
       "1065  Sweet Dreams Liquid Drops blend organic ingred...   \n",
       "1066                                                NaN   \n",
       "1067                                                NaN   \n",
       "\n",
       "                                               features               stars  \\\n",
       "0     Promotes relaxation | Restful sleep | Helps wi...  4.1 out of 5 stars   \n",
       "1     Promotes relaxation | Restful sleep | Helps wi...  4.1 out of 5 stars   \n",
       "2     Promotes relaxation | Restful sleep | Helps wi...  4.1 out of 5 stars   \n",
       "3     Promotes relaxation | Restful sleep | Helps wi...  4.1 out of 5 stars   \n",
       "4     Promotes relaxation | Restful sleep | Helps wi...  4.1 out of 5 stars   \n",
       "...                                                 ...                 ...   \n",
       "1063  PLANT BASED SUPPLEMENT: A Black Elderberry pla...  4.7 out of 5 stars   \n",
       "1064  PLANT BASED SUPPLEMENT: A Black Elderberry pla...  4.7 out of 5 stars   \n",
       "1065  Sweet Dreams Drops: Sweet Dreams Liquid Drops ...    4 out of 5 stars   \n",
       "1066  USDA Organic Certification: Our products have ...  4.6 out of 5 stars   \n",
       "1067  USDA Organic Certification: Our products have ...  4.6 out of 5 stars   \n",
       "\n",
       "              rating_count                                       review_title  \\\n",
       "0       356 global ratings                                          It works!   \n",
       "1       356 global ratings                            Pain management Godsend   \n",
       "2       356 global ratings                         Excellent nutrition seeds.   \n",
       "3       356 global ratings                                 Wired Yet Fatigued   \n",
       "4       356 global ratings                                        Box damaged   \n",
       "...                    ...                                                ...   \n",
       "1063  1,213 global ratings  I don't feel any better. Nor worse. I haven't ...   \n",
       "1064  1,213 global ratings      Who knew the benefits of black elderberry....   \n",
       "1065     11 global ratings                                Didn't work for me.   \n",
       "1066     11 global ratings                       Alcohol-free Brahmi tincture   \n",
       "1067     11 global ratings                               Helps with Attention   \n",
       "\n",
       "      review_rating                           review_location_and_date  \\\n",
       "0               5.0      Reviewed in the United States on July 5, 2024   \n",
       "1               5.0    Reviewed in the United States on March 29, 2023   \n",
       "2               5.0   Reviewed in the United States on August 15, 2024   \n",
       "3               1.0      Reviewed in the United States on May 13, 2024   \n",
       "4               3.0     Reviewed in the United States on June 27, 2023   \n",
       "...             ...                                                ...   \n",
       "1063            4.0     Reviewed in the United States on July 15, 2021   \n",
       "1064            5.0    Reviewed in the United States on April 25, 2017   \n",
       "1065            2.0  Reviewed in the United States on February 2, 2024   \n",
       "1066            5.0     Reviewed in the United States on June 17, 2018   \n",
       "1067            4.0  Reviewed in the United States on September 7, ...   \n",
       "\n",
       "      verified                                        review_body  \\\n",
       "0         True  I take one capsule an hour before I go to bed ...   \n",
       "1         True  These pills are a godsend they are narcotic-fr...   \n",
       "2         True                                  Highly recommend.   \n",
       "3         True  DO NOT BUY THIS!!!! there’s several other 1sta...   \n",
       "4         True  Product was sealed but box was open and bottle...   \n",
       "...        ...                                                ...   \n",
       "1063      True  I've been taking these for quite some time. I ...   \n",
       "1064      True  I have an autoimmune disease called Sarcoidosi...   \n",
       "1065      True  Didn't do anything for me. The dropper never w...   \n",
       "1066      True   Love that you have Alcohol -Free liquid extracts   \n",
       "1067      True  My little boy has inattentive-type ADHD and st...   \n",
       "\n",
       "                                                 images  \n",
       "0     https://m.media-amazon.com/images/I/51rEf3c9R5...  \n",
       "1     https://m.media-amazon.com/images/I/51rEf3c9R5...  \n",
       "2     https://m.media-amazon.com/images/I/51rEf3c9R5...  \n",
       "3     https://m.media-amazon.com/images/I/51rEf3c9R5...  \n",
       "4     https://m.media-amazon.com/images/I/51rEf3c9R5...  \n",
       "...                                                 ...  \n",
       "1063  https://m.media-amazon.com/images/I/51JnOtzGHp...  \n",
       "1064  https://m.media-amazon.com/images/I/51JnOtzGHp...  \n",
       "1065  https://m.media-amazon.com/images/I/31Xq-RKqmI...  \n",
       "1066  https://m.media-amazon.com/images/I/31sbW5dbVo...  \n",
       "1067  https://m.media-amazon.com/images/I/31sbW5dbVo...  \n",
       "\n",
       "[1068 rows x 13 columns]"
      ]
     },
     "execution_count": 3,
     "metadata": {},
     "output_type": "execute_result"
    }
   ],
   "source": [
    "file = pd.read_csv('Amazon_reviews_California_poppy_supplement.csv')\n",
    "file\n",
    "# file = file[file.brand == 'Pacific Herbs']\n",
    "# file.to_excel('Amazon_reviews.xlsx', index_label='asin')\n",
    "\n"
   ]
  },
  {
   "cell_type": "markdown",
   "metadata": {},
   "source": [
    "##### sent with vader"
   ]
  },
  {
   "cell_type": "code",
   "execution_count": 5,
   "metadata": {},
   "outputs": [],
   "source": [
    "from vaderSentiment.vaderSentiment import SentimentIntensityAnalyzer\n",
    "file = file.dropna(subset = 'review_body').drop_duplicates().reset_index(drop = True)\n",
    "\n",
    "analyzer = SentimentIntensityAnalyzer()\n",
    "vs = [analyzer.polarity_scores(sentence) for sentence in file['review_body']]\n",
    "\n",
    "file[list(vs[0].keys())] = [[v[k] for k in vs[0].keys()] for v in vs]\n",
    "file['sentiment'] = file.compound.apply(lambda x: 'positive' if x >= 0.05 else ('negative' if x <= -0.05 else 'neutral'))\n",
    "\n",
    "file.to_csv('Amazon_reviews_w_sentiment.csv', mode='a', index=False, header=False)\n",
    "# file.to_excel('Amazon_reviews_w_sentiment.xlsx', index = False)"
   ]
  },
  {
   "cell_type": "code",
   "execution_count": 3,
   "metadata": {},
   "outputs": [],
   "source": [
    "file = pd.read_csv('Amazon_reviews_w_sentiment.csv')\n",
    "file = file.drop_duplicates().reset_index(drop = True)\n",
    "file.to_csv('Amazon_reviews_w_sentiment.csv', index = False)\n",
    "file.to_excel('Amazon_reviews_w_sentiment.xlsx', index = False)"
   ]
  },
  {
   "cell_type": "code",
   "execution_count": 20,
   "metadata": {},
   "outputs": [
    {
     "data": {
      "image/png": "[encoded data removed]",
      "text/plain": [
       "<Figure size 640x480 with 1 Axes>"
      ]
     },
     "metadata": {},
     "output_type": "display_data"
    }
   ],
   "source": [
    "import matplotlib.pyplot as plt\n",
    "fig, ax = plt.subplots()\n",
    "\n",
    "file.sentiment.value_counts().plot(kind='pie', autopct='%1.1f%%', ax=ax,)\n",
    "ax.set_ylabel('')\n",
    "ax.set_title('Sentiment Distribution of Amazon Reviews on California Poppy Products', size = 10)\n",
    "fig.savefig('sentiment_distribution.png', dpi = 300)"
   ]
  },
  {
   "cell_type": "markdown",
   "metadata": {},
   "source": [
    "##### effective within 24 hrs"
   ]
  },
  {
   "cell_type": "code",
   "execution_count": 4,
   "metadata": {},
   "outputs": [],
   "source": [
    "import re\n",
    "effectiveness_pattern = r'\\b(?:immediat\\w*|fast\\w*|\\b\\w*hour\\w*\\b|same day|instant\\w*|overnight|rapid\\w*|quick\\w*|prompt\\w*|within\\w*\\s+\\d+\\s*hour\\w*|same\\s+night|one\\s+day|short\\w*\\s+time|quick\\s+relief|in\\s+no\\s+time|in\\s+a\\s+few\\s+hours|next\\s+day|first\\s+use|immediat\\w+\\s+result\\w*|effective\\s+right\\s+away|almost\\s+instantly)\\b'\n",
    "\n",
    "def extract_effectiveness_keywords(text):\n",
    "    if pd.isna(text):\n",
    "        return []\n",
    "    return re.findall(effectiveness_pattern, text, flags=re.IGNORECASE)\n",
    "\n",
    "\n",
    "file['effectiveness_keywords_in_review'] = (file.review_title.apply(extract_effectiveness_keywords) +\n",
    "                                             file.review_body.apply(extract_effectiveness_keywords))\n",
    "file['effectiveness_mentioned'] = file.effectiveness_keywords_in_review.apply(lambda x: len(x) > 0)"
   ]
  },
  {
   "cell_type": "code",
   "execution_count": null,
   "metadata": {},
   "outputs": [
    {
     "data": {
      "application/vnd.plotly.v1+json": {
       "config": {
        "plotlyServerURL": "https://plot.ly"
       },
       "data": [
        {
         "alignmentgroup": "True",
         "bingroup": "x",
         "histnorm": "probability",
         "hovertemplate": "effectiveness_mentioned=%{x}<br>probability=%{y}<extra></extra>",
         "legendgroup": "",
         "marker": {
          "color": "#636efa",
          "pattern": {
           "shape": ""
          }
         },
         "name": "",
         "offsetgroup": "",
         "orientation": "v",
         "showlegend": false,
         "type": "histogram",
         "x": [
          0,
          0.2,
          0.2,
          0,
          0.4,
          0.1,
          0,
          0.2,
          0.1,
          0.3,
          0.1,
          0.3,
          0.2,
          0.3,
          0.1,
          0.6666666666666666,
          0.1,
          0.2,
          0,
          0.4,
          0,
          0.2,
          0.2,
          0.1,
          0.1,
          0,
          0.1,
          0.2,
          0.2,
          0.3,
          0.2,
          0.4,
          0.3,
          0.2,
          0,
          0.3,
          0,
          0.1,
          0.375,
          0.1,
          0.2,
          0.1,
          0.2,
          0,
          0.2,
          0,
          0.3,
          0.1,
          0.2,
          0,
          0.1,
          0,
          0,
          0,
          0,
          0,
          0,
          0.25,
          0.1,
          0.1111111111111111,
          0,
          0.2,
          0,
          0,
          0,
          0,
          0.1,
          0.2,
          0.1,
          0.1,
          0,
          0.42857142857142855,
          0,
          0.5,
          0,
          0,
          0.1,
          0,
          0,
          0,
          0.1,
          0,
          0,
          0.1,
          0,
          0.1,
          0,
          0.1,
          0.1,
          0,
          1,
          0,
          0,
          0,
          0.2,
          0.1,
          0.1,
          0.1,
          0.1111111111111111,
          0.2,
          0,
          1,
          0.2,
          0,
          0.3,
          0.3333333333333333,
          0,
          0,
          0.2,
          0.2,
          0.2,
          0.2,
          0,
          0,
          0,
          0,
          0.2,
          0.2,
          0.1,
          0.3,
          0.6,
          0.1,
          0.2,
          0,
          0.1,
          0.1,
          0,
          0,
          0,
          0.1111111111111111,
          0,
          0,
          0,
          0.25,
          0.1,
          0,
          0,
          0,
          0.2,
          0.2,
          0,
          0.2,
          0,
          0.1,
          0.3,
          0.3,
          0,
          0.1,
          0,
          0.2,
          0,
          0.16666666666666666,
          0.1,
          0.5555555555555556,
          0.2,
          0.2,
          0.1,
          0.1,
          0.1,
          0.1,
          0,
          0,
          0.1,
          0.2,
          0.3,
          0.1,
          0,
          0.1,
          0.1,
          0,
          0.1,
          0,
          0.125,
          0.1,
          0,
          0,
          0,
          0.1,
          0,
          0.1,
          0,
          0,
          0,
          0,
          0,
          0.1,
          0.1,
          0.1,
          0,
          0.3,
          0,
          0.3,
          0.6,
          0.3,
          0.1,
          0.1,
          0.2,
          0.1,
          0.1,
          0.1,
          0,
          0.2,
          0,
          0.1,
          0.5,
          0,
          0.2,
          0
         ],
         "xaxis": "x",
         "yaxis": "y"
        }
       ],
       "layout": {
        "bargap": 0.1,
        "barmode": "relative",
        "height": 400,
        "legend": {
         "tracegroupgap": 0
        },
        "margin": {
         "t": 60
        },
        "template": {
         "data": {
          "bar": [
           {
            "error_x": {
             "color": "#2a3f5f"
            },
            "error_y": {
             "color": "#2a3f5f"
            },
            "marker": {
             "line": {
              "color": "#E5ECF6",
              "width": 0.5
             },
             "pattern": {
              "fillmode": "overlay",
              "size": 10,
              "solidity": 0.2
             }
            },
            "type": "bar"
           }
          ],
          "barpolar": [
           {
            "marker": {
             "line": {
              "color": "#E5ECF6",
              "width": 0.5
             },
             "pattern": {
              "fillmode": "overlay",
              "size": 10,
              "solidity": 0.2
             }
            },
            "type": "barpolar"
           }
          ],
          "carpet": [
           {
            "aaxis": {
             "endlinecolor": "#2a3f5f",
             "gridcolor": "white",
             "linecolor": "white",
             "minorgridcolor": "white",
             "startlinecolor": "#2a3f5f"
            },
            "baxis": {
             "endlinecolor": "#2a3f5f",
             "gridcolor": "white",
             "linecolor": "white",
             "minorgridcolor": "white",
             "startlinecolor": "#2a3f5f"
            },
            "type": "carpet"
           }
          ],
          "choropleth": [
           {
            "colorbar": {
             "outlinewidth": 0,
             "ticks": ""
            },
            "type": "choropleth"
           }
          ],
          "contour": [
           {
            "colorbar": {
             "outlinewidth": 0,
             "ticks": ""
            },
            "colorscale": [
             [
              0,
              "#0d0887"
             ],
             [
              0.1111111111111111,
              "#46039f"
             ],
             [
              0.2222222222222222,
              "#7201a8"
             ],
             [
              0.3333333333333333,
              "#9c179e"
             ],
             [
              0.4444444444444444,
              "#bd3786"
             ],
             [
              0.5555555555555556,
              "#d8576b"
             ],
             [
              0.6666666666666666,
              "#ed7953"
             ],
             [
              0.7777777777777778,
              "#fb9f3a"
             ],
             [
              0.8888888888888888,
              "#fdca26"
             ],
             [
              1,
              "#f0f921"
             ]
            ],
            "type": "contour"
           }
          ],
          "contourcarpet": [
           {
            "colorbar": {
             "outlinewidth": 0,
             "ticks": ""
            },
            "type": "contourcarpet"
           }
          ],
          "heatmap": [
           {
            "colorbar": {
             "outlinewidth": 0,
             "ticks": ""
            },
            "colorscale": [
             [
              0,
              "#0d0887"
             ],
             [
              0.1111111111111111,
              "#46039f"
             ],
             [
              0.2222222222222222,
              "#7201a8"
             ],
             [
              0.3333333333333333,
              "#9c179e"
             ],
             [
              0.4444444444444444,
              "#bd3786"
             ],
             [
              0.5555555555555556,
              "#d8576b"
             ],
             [
              0.6666666666666666,
              "#ed7953"
             ],
             [
              0.7777777777777778,
              "#fb9f3a"
             ],
             [
              0.8888888888888888,
              "#fdca26"
             ],
             [
              1,
              "#f0f921"
             ]
            ],
            "type": "heatmap"
           }
          ],
          "heatmapgl": [
           {
            "colorbar": {
             "outlinewidth": 0,
             "ticks": ""
            },
            "colorscale": [
             [
              0,
              "#0d0887"
             ],
             [
              0.1111111111111111,
              "#46039f"
             ],
             [
              0.2222222222222222,
              "#7201a8"
             ],
             [
              0.3333333333333333,
              "#9c179e"
             ],
             [
              0.4444444444444444,
              "#bd3786"
             ],
             [
              0.5555555555555556,
              "#d8576b"
             ],
             [
              0.6666666666666666,
              "#ed7953"
             ],
             [
              0.7777777777777778,
              "#fb9f3a"
             ],
             [
              0.8888888888888888,
              "#fdca26"
             ],
             [
              1,
              "#f0f921"
             ]
            ],
            "type": "heatmapgl"
           }
          ],
          "histogram": [
           {
            "marker": {
             "pattern": {
              "fillmode": "overlay",
              "size": 10,
              "solidity": 0.2
             }
            },
            "type": "histogram"
           }
          ],
          "histogram2d": [
           {
            "colorbar": {
             "outlinewidth": 0,
             "ticks": ""
            },
            "colorscale": [
             [
              0,
              "#0d0887"
             ],
             [
              0.1111111111111111,
              "#46039f"
             ],
             [
              0.2222222222222222,
              "#7201a8"
             ],
             [
              0.3333333333333333,
              "#9c179e"
             ],
             [
              0.4444444444444444,
              "#bd3786"
             ],
             [
              0.5555555555555556,
              "#d8576b"
             ],
             [
              0.6666666666666666,
              "#ed7953"
             ],
             [
              0.7777777777777778,
              "#fb9f3a"
             ],
             [
              0.8888888888888888,
              "#fdca26"
             ],
             [
              1,
              "#f0f921"
             ]
            ],
            "type": "histogram2d"
           }
          ],
          "histogram2dcontour": [
           {
            "colorbar": {
             "outlinewidth": 0,
             "ticks": ""
            },
            "colorscale": [
             [
              0,
              "#0d0887"
             ],
             [
              0.1111111111111111,
              "#46039f"
             ],
             [
              0.2222222222222222,
              "#7201a8"
             ],
             [
              0.3333333333333333,
              "#9c179e"
             ],
             [
              0.4444444444444444,
              "#bd3786"
             ],
             [
              0.5555555555555556,
              "#d8576b"
             ],
             [
              0.6666666666666666,
              "#ed7953"
             ],
             [
              0.7777777777777778,
              "#fb9f3a"
             ],
             [
              0.8888888888888888,
              "#fdca26"
             ],
             [
              1,
              "#f0f921"
             ]
            ],
            "type": "histogram2dcontour"
           }
          ],
          "mesh3d": [
           {
            "colorbar": {
             "outlinewidth": 0,
             "ticks": ""
            },
            "type": "mesh3d"
           }
          ],
          "parcoords": [
           {
            "line": {
             "colorbar": {
              "outlinewidth": 0,
              "ticks": ""
             }
            },
            "type": "parcoords"
           }
          ],
          "pie": [
           {
            "automargin": true,
            "type": "pie"
           }
          ],
          "scatter": [
           {
            "fillpattern": {
             "fillmode": "overlay",
             "size": 10,
             "solidity": 0.2
            },
            "type": "scatter"
           }
          ],
          "scatter3d": [
           {
            "line": {
             "colorbar": {
              "outlinewidth": 0,
              "ticks": ""
             }
            },
            "marker": {
             "colorbar": {
              "outlinewidth": 0,
              "ticks": ""
             }
            },
            "type": "scatter3d"
           }
          ],
          "scattercarpet": [
           {
            "marker": {
             "colorbar": {
              "outlinewidth": 0,
              "ticks": ""
             }
            },
            "type": "scattercarpet"
           }
          ],
          "scattergeo": [
           {
            "marker": {
             "colorbar": {
              "outlinewidth": 0,
              "ticks": ""
             }
            },
            "type": "scattergeo"
           }
          ],
          "scattergl": [
           {
            "marker": {
             "colorbar": {
              "outlinewidth": 0,
              "ticks": ""
             }
            },
            "type": "scattergl"
           }
          ],
          "scattermapbox": [
           {
            "marker": {
             "colorbar": {
              "outlinewidth": 0,
              "ticks": ""
             }
            },
            "type": "scattermapbox"
           }
          ],
          "scatterpolar": [
           {
            "marker": {
             "colorbar": {
              "outlinewidth": 0,
              "ticks": ""
             }
            },
            "type": "scatterpolar"
           }
          ],
          "scatterpolargl": [
           {
            "marker": {
             "colorbar": {
              "outlinewidth": 0,
              "ticks": ""
             }
            },
            "type": "scatterpolargl"
           }
          ],
          "scatterternary": [
           {
            "marker": {
             "colorbar": {
              "outlinewidth": 0,
              "ticks": ""
             }
            },
            "type": "scatterternary"
           }
          ],
          "surface": [
           {
            "colorbar": {
             "outlinewidth": 0,
             "ticks": ""
            },
            "colorscale": [
             [
              0,
              "#0d0887"
             ],
             [
              0.1111111111111111,
              "#46039f"
             ],
             [
              0.2222222222222222,
              "#7201a8"
             ],
             [
              0.3333333333333333,
              "#9c179e"
             ],
             [
              0.4444444444444444,
              "#bd3786"
             ],
             [
              0.5555555555555556,
              "#d8576b"
             ],
             [
              0.6666666666666666,
              "#ed7953"
             ],
             [
              0.7777777777777778,
              "#fb9f3a"
             ],
             [
              0.8888888888888888,
              "#fdca26"
             ],
             [
              1,
              "#f0f921"
             ]
            ],
            "type": "surface"
           }
          ],
          "table": [
           {
            "cells": {
             "fill": {
              "color": "#EBF0F8"
             },
             "line": {
              "color": "white"
             }
            },
            "header": {
             "fill": {
              "color": "#C8D4E3"
             },
             "line": {
              "color": "white"
             }
            },
            "type": "table"
           }
          ]
         },
         "layout": {
          "annotationdefaults": {
           "arrowcolor": "#2a3f5f",
           "arrowhead": 0,
           "arrowwidth": 1
          },
          "autotypenumbers": "strict",
          "coloraxis": {
           "colorbar": {
            "outlinewidth": 0,
            "ticks": ""
           }
          },
          "colorscale": {
           "diverging": [
            [
             0,
             "#8e0152"
            ],
            [
             0.1,
             "#c51b7d"
            ],
            [
             0.2,
             "#de77ae"
            ],
            [
             0.3,
             "#f1b6da"
            ],
            [
             0.4,
             "#fde0ef"
            ],
            [
             0.5,
             "#f7f7f7"
            ],
            [
             0.6,
             "#e6f5d0"
            ],
            [
             0.7,
             "#b8e186"
            ],
            [
             0.8,
             "#7fbc41"
            ],
            [
             0.9,
             "#4d9221"
            ],
            [
             1,
             "#276419"
            ]
           ],
           "sequential": [
            [
             0,
             "#0d0887"
            ],
            [
             0.1111111111111111,
             "#46039f"
            ],
            [
             0.2222222222222222,
             "#7201a8"
            ],
            [
             0.3333333333333333,
             "#9c179e"
            ],
            [
             0.4444444444444444,
             "#bd3786"
            ],
            [
             0.5555555555555556,
             "#d8576b"
            ],
            [
             0.6666666666666666,
             "#ed7953"
            ],
            [
             0.7777777777777778,
             "#fb9f3a"
            ],
            [
             0.8888888888888888,
             "#fdca26"
            ],
            [
             1,
             "#f0f921"
            ]
           ],
           "sequentialminus": [
            [
             0,
             "#0d0887"
            ],
            [
             0.1111111111111111,
             "#46039f"
            ],
            [
             0.2222222222222222,
             "#7201a8"
            ],
            [
             0.3333333333333333,
             "#9c179e"
            ],
            [
             0.4444444444444444,
             "#bd3786"
            ],
            [
             0.5555555555555556,
             "#d8576b"
            ],
            [
             0.6666666666666666,
             "#ed7953"
            ],
            [
             0.7777777777777778,
             "#fb9f3a"
            ],
            [
             0.8888888888888888,
             "#fdca26"
            ],
            [
             1,
             "#f0f921"
            ]
           ]
          },
          "colorway": [
           "#636efa",
           "#EF553B",
           "#00cc96",
           "#ab63fa",
           "#FFA15A",
           "#19d3f3",
           "#FF6692",
           "#B6E880",
           "#FF97FF",
           "#FECB52"
          ],
          "font": {
           "color": "#2a3f5f"
          },
          "geo": {
           "bgcolor": "white",
           "lakecolor": "white",
           "landcolor": "#E5ECF6",
           "showlakes": true,
           "showland": true,
           "subunitcolor": "white"
          },
          "hoverlabel": {
           "align": "left"
          },
          "hovermode": "closest",
          "mapbox": {
           "style": "light"
          },
          "paper_bgcolor": "white",
          "plot_bgcolor": "#E5ECF6",
          "polar": {
           "angularaxis": {
            "gridcolor": "white",
            "linecolor": "white",
            "ticks": ""
           },
           "bgcolor": "#E5ECF6",
           "radialaxis": {
            "gridcolor": "white",
            "linecolor": "white",
            "ticks": ""
           }
          },
          "scene": {
           "xaxis": {
            "backgroundcolor": "#E5ECF6",
            "gridcolor": "white",
            "gridwidth": 2,
            "linecolor": "white",
            "showbackground": true,
            "ticks": "",
            "zerolinecolor": "white"
           },
           "yaxis": {
            "backgroundcolor": "#E5ECF6",
            "gridcolor": "white",
            "gridwidth": 2,
            "linecolor": "white",
            "showbackground": true,
            "ticks": "",
            "zerolinecolor": "white"
           },
           "zaxis": {
            "backgroundcolor": "#E5ECF6",
            "gridcolor": "white",
            "gridwidth": 2,
            "linecolor": "white",
            "showbackground": true,
            "ticks": "",
            "zerolinecolor": "white"
           }
          },
          "shapedefaults": {
           "line": {
            "color": "#2a3f5f"
           }
          },
          "ternary": {
           "aaxis": {
            "gridcolor": "white",
            "linecolor": "white",
            "ticks": ""
           },
           "baxis": {
            "gridcolor": "white",
            "linecolor": "white",
            "ticks": ""
           },
           "bgcolor": "#E5ECF6",
           "caxis": {
            "gridcolor": "white",
            "linecolor": "white",
            "ticks": ""
           }
          },
          "title": {
           "x": 0.05
          },
          "xaxis": {
           "automargin": true,
           "gridcolor": "white",
           "linecolor": "white",
           "ticks": "",
           "title": {
            "standoff": 15
           },
           "zerolinecolor": "white",
           "zerolinewidth": 2
          },
          "yaxis": {
           "automargin": true,
           "gridcolor": "white",
           "linecolor": "white",
           "ticks": "",
           "title": {
            "standoff": 15
           },
           "zerolinecolor": "white",
           "zerolinewidth": 2
          }
         }
        },
        "title": {
         "text": "Effectiveness Mentioned in Amazon Reviews",
         "x": 0.5
        },
        "width": 800,
        "xaxis": {
         "anchor": "y",
         "domain": [
          0,
          1
         ],
         "title": {
          "text": "Effectiveness Mentioned"
         }
        },
        "yaxis": {
         "anchor": "x",
         "domain": [
          0,
          1
         ],
         "title": {
          "text": "probability"
         }
        }
       }
      }
     },
     "metadata": {},
     "output_type": "display_data"
    }
   ],
   "source": [
    "import plotly.express as px\n",
    "\n",
    "file_w_effect = file.groupby('asin').agg({'review_body':len, 'effectiveness_mentioned': 'mean'}).reset_index()\n",
    "\n",
    "fig = px.histogram(file_w_effect, x=\"effectiveness_mentioned\", \n",
    "                   histnorm='probability',)\n",
    "\n",
    "fig.update_layout(\n",
    "    title_text='Effectiveness Mentioned in Amazon Reviews',\n",
    "    title_x=0.5,  # Center the title\n",
    "    bargap=0.1,\n",
    "    height=400,\n",
    "    width=800,\n",
    "\n",
    ")\n",
    "\n",
    "fig.update_xaxes(title_text='Effectiveness Mentioned',)\n",
    "\n",
    "fig.show()\n",
    "\n",
    "fig.write_html('effectiveness_mentioned.html',)"
   ]
  },
  {
   "cell_type": "code",
   "execution_count": null,
   "metadata": {},
   "outputs": [],
   "source": []
  }
 ],
 "metadata": {
  "kernelspec": {
   "display_name": "etsy",
   "language": "python",
   "name": "python3"
  },
  "language_info": {
   "codemirror_mode": {
    "name": "ipython",
    "version": 3
   },
   "file_extension": ".py",
   "mimetype": "text/x-python",
   "name": "python",
   "nbconvert_exporter": "python",
   "pygments_lexer": "ipython3",
   "version": "3.10.14"
  }
 },
 "nbformat": 4,
 "nbformat_minor": 2
}
